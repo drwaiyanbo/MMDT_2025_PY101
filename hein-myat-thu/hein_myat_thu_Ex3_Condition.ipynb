{
  "nbformat": 4,
  "nbformat_minor": 0,
  "metadata": {
    "colab": {
      "name": "Ex3_ConditionEx.ipynb",
      "provenance": []
    },
    "kernelspec": {
      "name": "python3",
      "display_name": "Python 3"
    },
    "language_info": {
      "name": "python"
    }
  },
  "cells": [
    {
      "cell_type": "markdown",
      "source": [
        "Write a program that asks the user to enter a length in centimeters. If the user enters a negative length, the program should tell the user that the entry is invalid. Otherwise, the program should convert the length to inches and print out the result. There are 2.54 centimeters in an inch.\n"
      ],
      "metadata": {
        "id": "r9njLbxcvG0w"
      }
    },
    {
      "cell_type": "code",
      "source": [
        "# centimeter (cm) to inch(in) converter\n",
        "\n",
        "# the first way\n",
        "# In this way of solution, I'm gonna only use if....esle cuz this exercise focuses it.\n",
        "\n",
        "is_centi = True\n",
        "\n",
        "while is_centi:\n",
        "  print(\"-----------------------------\")\n",
        "  centi = input(\"Enter the length in cm: \") # here! the input is string\n",
        "  print(\"-----------------------------\")\n",
        "\n",
        "  if centi.isnumeric(): # this checks whether all the characters in a string are numeric digits\n",
        "    \"\"\"\n",
        "    i used .isnumeric() which returns True if all characters in the string are numeric and\n",
        "    there is at least one character, otherwise returns False.\n",
        "    It makes sure that there is no alphabets, no special char, and a mix of them in the input.\n",
        "    At first, I was trying to prevent that kind of input with .isalpha(); but it allows a mix of alphabets and numbers.\n",
        "    That's why .isnumeric() is more preferable here.\n",
        "    \"\"\"\n",
        "    centi = float(centi) # if so, change that string to float so that calculation and condition check can continue\n",
        "    # here, nestling another if...else inside the if...else\n",
        "    if centi <= 0:\n",
        "      print(\"'cm' can't be negative or zero!\")\n",
        "      print(\"Enter a valid number!\")\n",
        "\n",
        "    else:\n",
        "      inch = centi / 2.54\n",
        "      print(f\"{centi:.2f}cm is equal to {inch:.2f}in.\")\n",
        "      is_centi = False\n",
        "      print(\"-----------------------------\")\n",
        "\n",
        "  else: # if .isnumeric() condition is not met, this else condition will work\n",
        "    print(\"Enter a valid number!\")\n",
        "    print(\"Letters are not allowed! Only numbers are allowed!\")\n",
        "\n",
        "\n",
        "\n",
        "\"\"\"\n",
        "Now, this is alternative solution which is more effective in my opinion.\n",
        "Don't need to use .isnumeric() or .isalpha() to run away from weird input.\n",
        "I'm gonna use try...except instead by nestling if...else inside the try....except\n",
        "which makes sure the program can't crash even if the user enters a non-numeric value.\n",
        "I personally perfer this way cuz I feel like it's robust\n",
        "\"\"\"\n",
        "\n",
        "is_centimeter = True\n",
        "\n",
        "while is_centimeter:\n",
        "  print(\"-----------------------------\")\n",
        "  centimeter = input(\"Enter the length in cm: \") # likewise, the input is just string here!\n",
        "  print(\"-----------------------------\")\n",
        "\n",
        "  try:\n",
        "    centimeter = float(centimeter)  # to continue calculation, have to change string to float\n",
        "\n",
        "    if centimeter <= 0:\n",
        "      print(\"'cm' can't be negative or zero!\")\n",
        "      print(\"Enter a valid number!\")\n",
        "\n",
        "    else:\n",
        "      inch = centimeter / 2.54\n",
        "      print(f\"{centimeter:.2f}cm is equal to {inch:.2f}in.\")\n",
        "      is_centimeter = False\n",
        "      print(\"-----------------------------\")\n",
        "\n",
        "  except:\n",
        "    print(\"Enter a valid number!\")\n",
        "    print(\"Letters are not allowed! Only numbers are allowed!\")\n",
        "\n",
        "# In both solutions, it is clear that I used while loop cuz i just want them to keep prompting until valid input is given.\n",
        ""
      ],
      "metadata": {
        "id": "76EFWr1AvMy4",
        "outputId": "d583fe4f-884a-4cf7-be44-8dee641c43cc",
        "colab": {
          "base_uri": "https://localhost:8080/",
          "height": 188
        }
      },
      "execution_count": 12,
      "outputs": [
        {
          "output_type": "stream",
          "name": "stdout",
          "text": [
            "-----------------------------\n",
            "Enter the length in cm: 60\n",
            "-----------------------------\n",
            "60.00cm is equal to 23.62in.\n",
            "-----------------------------\n"
          ]
        },
        {
          "output_type": "execute_result",
          "data": {
            "text/plain": [
              "'\\nis_centimeter = True\\n\\nwhile is_centimeter:\\n  print(\"-----------------------------\")\\n  centimeter = input(\"Enter the length in cm: \")\\n  print(\"-----------------------------\")\\n  \\n  try: # \\n    centimeter = float(centimeter) \\n\\n    if centimeter <= 0:\\n      print(\"\\'cm\\' can\\'t be negative or zero!\")\\n      print(\"Enter a valid number!\")\\n     \\n    else:\\n      inch = centimeter / 2.54\\n      print(f\"{centimeter:.2f}cm is equal to {inch:.2f}in.\")\\n      is_centimeter = False\\n      print(\"-----------------------------\")\\n\\n  except:\\n    print(\"Enter a valid number!\")\\n    print(\"Letters are not allowed! Only numbers are allowed!\")\\n\\nNestling if...else inside the try....except makes sure that \\nthe program can\\'t crash even if the user enters a non-numeric value.\\n'"
            ],
            "application/vnd.google.colaboratory.intrinsic+json": {
              "type": "string"
            }
          },
          "metadata": {},
          "execution_count": 12
        }
      ]
    },
    {
      "cell_type": "markdown",
      "source": [
        "Ask the user to enter a temperature in Celsius. The program should print a message based on the temperature:\n",
        "\n",
        "*   If the temperature is less than -273.15, print that the temperature is invalid because it is below absolute zero.\n",
        "*   If it is exactly -273.15, print that the temperature is absolute 0.\n",
        "*   If the temperature is between -273.15 and 0, print that the temperature is below freezing.\n",
        "*   If it is 0, print that the temperature is at the freezing point.\n",
        "*   If it is between 0 and 100, print that the temperature is in the normal range.\n",
        "*   If it is 100, print that the temperature is at the boiling point.\n",
        "*   If it is above 100, print that the temperature is above the boiling point."
      ],
      "metadata": {
        "id": "zvaDTmuhvNWJ"
      }
    },
    {
      "cell_type": "code",
      "source": [
        "is_temp = True\n",
        "\n",
        "while is_temp:\n",
        "  print(\"-----------------------------\")\n",
        "  temp = input(\"Enter the temperature in Celsius: \")\n",
        "  print(\"-----------------------------\")\n",
        "\n",
        "  try:\n",
        "    temp = float(temp)\n",
        "    if temp < -273.15:\n",
        "      print(\"The temperature is invalid because it is below absolute zero.\")\n",
        "    elif temp == -273.15:\n",
        "      print(\"The temperature is absolute 0.\")\n",
        "    elif -273.15 < temp < 0:\n",
        "      print(\"The temperature is below freezing.\")\n",
        "    elif temp == 0:\n",
        "      print(\"The temperature is at the freezing point.\")\n",
        "    elif 0 < temp < 100:\n",
        "      print(\"The temperature is in the normal range.\")\n",
        "    elif temp == 100:\n",
        "      print(\"The temperature is at the boiling point.\")\n",
        "    else:\n",
        "      print(\"The temperature is above the boiling point.\")\n",
        "    is_temp = False\n",
        "    print(\"-----------------------------\")\n",
        "\n",
        "  except:\n",
        "    print(\"Enter a valid number!\")\n",
        "    print(\"Letters are not allowed! Only numbers are allowed!\")\n",
        "\n",
        "\n",
        "\n",
        "\n"
      ],
      "metadata": {
        "id": "AVKt-ROtSwch",
        "outputId": "ddae41ed-688a-4835-a67c-ae1a4586e33d",
        "colab": {
          "base_uri": "https://localhost:8080/"
        }
      },
      "execution_count": 5,
      "outputs": [
        {
          "output_type": "stream",
          "name": "stdout",
          "text": [
            "-----------------------------\n",
            "Enter the temperature in Celsius: 100\n",
            "-----------------------------\n",
            "The temperature is at the boiling point.\n",
            "-----------------------------\n"
          ]
        }
      ]
    },
    {
      "cell_type": "markdown",
      "source": [
        "Write a program that asks the user how many credits they have taken. If they have taken 23 or less, print that the student is a freshman. If they have taken between 24 and 53, print that they are a sophomore. The range for juniors is 54 to 83, and for seniors it is 84 and over."
      ],
      "metadata": {
        "id": "hoczytNLvrnd"
      }
    },
    {
      "cell_type": "code",
      "source": [
        "is_credit = True\n",
        "\n",
        "while is_credit:\n",
        "  print(\"-----------------------------\")\n",
        "  credits = input(\"How many credits have you taken: \")\n",
        "  print(\"-----------------------------\")\n",
        "\n",
        "  try:\n",
        "    credits = int(credits)\n",
        "\n",
        "    if credits <= 23:\n",
        "      print(\"You are a freshman!\")\n",
        "    elif 24 <= credits <= 53:\n",
        "      print(\"You are a sophomore!\")\n",
        "    elif 54 <= credits <= 83:\n",
        "      print(\"You are a junior!\")\n",
        "    else:\n",
        "      print(\"You are a senior!\")\n",
        "    is_credit = False\n",
        "    print(\"-----------------------------\")\n",
        "\n",
        "  except:\n",
        "    print(\"Enter a valid number!\")\n",
        "    print(\"Letters are not allowed! Only integers are allowed!\")\n",
        "\n"
      ],
      "metadata": {
        "id": "r8_O-_zLvurf",
        "outputId": "7ea3107b-e984-4891-8bb6-ac859755fc3b",
        "colab": {
          "base_uri": "https://localhost:8080/"
        }
      },
      "execution_count": 10,
      "outputs": [
        {
          "output_type": "stream",
          "name": "stdout",
          "text": [
            "-----------------------------\n",
            "How many credits have you taken: 100\n",
            "-----------------------------\n",
            "You are a senior!\n",
            "-----------------------------\n"
          ]
        }
      ]
    }
  ]
}