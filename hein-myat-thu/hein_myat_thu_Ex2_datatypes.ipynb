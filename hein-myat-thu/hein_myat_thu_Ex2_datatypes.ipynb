{
  "cells": [
    {
      "cell_type": "markdown",
      "metadata": {
        "id": "view-in-github"
      },
      "source": [
        "<a href=\"https://colab.research.google.com/github/myothida/PythonProgramming/blob/main/Ex_2_datatypes.ipynb\" target=\"_parent\"><img src=\"https://colab.research.google.com/assets/colab-badge.svg\" alt=\"Open In Colab\"/></a>"
      ]
    },
    {
      "cell_type": "markdown",
      "metadata": {
        "id": "X_Unw3z9u2-7"
      },
      "source": [
        "Ex 1 : Check the lenght of the string \"My name is python\""
      ]
    },
    {
      "cell_type": "code",
      "execution_count": 10,
      "metadata": {
        "colab": {
          "base_uri": "https://localhost:8080/"
        },
        "id": "pJ3NYM1JeDsP",
        "outputId": "11152b1b-e692-4634-f49e-abd5654d2a7b"
      },
      "outputs": [
        {
          "output_type": "stream",
          "name": "stdout",
          "text": [
            "17\n",
            "14\n"
          ]
        }
      ],
      "source": [
        "name = \"My name is python\"\n",
        "print(len(name))\n",
        "\n",
        "# what if i want counting without spaces\n",
        "# i think spaces must be replaced first and then count it\n",
        "# Is there any built-in function ? so that we can count without changing the orginal string\n",
        "\n",
        "Name = \"My name is python\"\n",
        "new_name = Name.replace(\" \", \"\")\n",
        "print(len(new_name))"
      ]
    },
    {
      "cell_type": "markdown",
      "metadata": {
        "id": "vnBNNvVseDsQ"
      },
      "source": [
        "Ex 2: Check the number of times \"python\" (regardless of cases: PYTHON, python, Python\" appears in the paragraph : \"Floating-point values in Python are always done in double precision; hence, Python float types correspond to doubles in a C-like language.\""
      ]
    },
    {
      "cell_type": "code",
      "execution_count": 12,
      "metadata": {
        "colab": {
          "base_uri": "https://localhost:8080/"
        },
        "id": "-mdc2zhPeDsQ",
        "outputId": "4357ce03-559c-498e-dd29-412cc06e025c"
      },
      "outputs": [
        {
          "output_type": "stream",
          "name": "stdout",
          "text": [
            "The number of 'python' that appeared in the string is: 2\n"
          ]
        }
      ],
      "source": [
        "s = \"Floating-point values in Python are always done in double precision; hence, Python float types correspond to doubles in a C-like language.\"\n",
        "python_count = s.lower().count(\"python\")\n",
        "print(f\"The number of 'python' that appeared in the string is: {python_count}\")"
      ]
    },
    {
      "cell_type": "markdown",
      "metadata": {
        "id": "2IVBdScCeDsR"
      },
      "source": [
        "Ex 3: Combine two lists : ls1 = [\"apple\", \"banana\", \"cherry\"] and ls2 = [\"apple\", \"banana\", \"cherry\", \"apple\", \"cherry\"]. Print the number of elements in new list."
      ]
    },
    {
      "cell_type": "code",
      "execution_count": 16,
      "metadata": {
        "colab": {
          "base_uri": "https://localhost:8080/"
        },
        "id": "MOAm2ftPeDsR",
        "outputId": "0e84c28c-f6a4-4a8c-938b-579cd5c5ce91"
      },
      "outputs": [
        {
          "output_type": "stream",
          "name": "stdout",
          "text": [
            "The number of elements contined in the new list is: 8\n"
          ]
        }
      ],
      "source": [
        "ls1 = [\"apple\", \"banana\", \"cherry\"]\n",
        "ls2 = [\"apple\", \"banana\", \"cherry\", \"apple\", \"cherry\"]\n",
        "combined_list = ls1 + ls2\n",
        "print(f\"The number of elements contined in the new list is: {len(combined_list)}\")\n"
      ]
    },
    {
      "cell_type": "markdown",
      "metadata": {
        "id": "7fkELbfeeDsR"
      },
      "source": [
        "Ex 4: Create a dictionary for the following table:"
      ]
    },
    {
      "cell_type": "markdown",
      "metadata": {
        "id": "whSEx3PreDsR"
      },
      "source": [
        "| Name | Age |\n",
        "| --- | --- |\n",
        "| Myo | 32 |\n",
        "| Thida | 64 |"
      ]
    },
    {
      "cell_type": "code",
      "execution_count": 17,
      "metadata": {
        "colab": {
          "base_uri": "https://localhost:8080/"
        },
        "id": "BA_qkpyseDsS",
        "outputId": "3d4e2d06-ebdf-48db-c52e-a8e81b2fc652"
      },
      "outputs": [
        {
          "output_type": "stream",
          "name": "stdout",
          "text": [
            "{'Name': ['Myo', 'Thida'], 'Age': [32, 64]}\n"
          ]
        }
      ],
      "source": [
        "table = {\"Name\": [\"Myo\", \"Thida\"], \"Age\": [32, 64]}\n",
        "print(table)"
      ]
    },
    {
      "cell_type": "markdown",
      "metadata": {
        "id": "qydgbODseDsS"
      },
      "source": [
        "Ex 5: Combine two sets and print the combined set and its length.\n",
        "set1 = {\"Name\", \"age\", \"Height\"}\n",
        "set2 = {\"Name\", \"status\", \"Education\"}"
      ]
    },
    {
      "cell_type": "code",
      "execution_count": 24,
      "metadata": {
        "colab": {
          "base_uri": "https://localhost:8080/"
        },
        "id": "QRtN0DM8eDsS",
        "outputId": "fc609fbc-bbf2-4be3-92ea-838babb59f09"
      },
      "outputs": [
        {
          "output_type": "stream",
          "name": "stdout",
          "text": [
            "The combined set is: {'status', 'Name', 'Education', 'age', 'Height'}\n",
            "The length of the combined set is: 5\n"
          ]
        }
      ],
      "source": [
        "set1 = {\"Name\", \"age\", \"Height\"}\n",
        "set2 = {\"Name\", \"status\", \"Education\"}\n",
        "combined_set = set1.union(set2)\n",
        "print(f\"The combined set is: {combined_set}\")\n",
        "print(f\"The length of the combined set is: {len(combined_set)}\")"
      ]
    },
    {
      "cell_type": "markdown",
      "metadata": {
        "id": "O6FPBApaeDsS"
      },
      "source": [
        "Ex 6: Write a program that asks the user to enter a string. The program should create a new string called new_string from the user's string such that the second character is changed to an asterisk and three exclamation points are attached to the end of the string. Finally, print new_string."
      ]
    },
    {
      "cell_type": "code",
      "execution_count": 44,
      "metadata": {
        "colab": {
          "base_uri": "https://localhost:8080/"
        },
        "id": "E7rpTGqNeDsS",
        "outputId": "ca347b2d-442e-4cf0-91e5-8e563e9af0b7"
      },
      "outputs": [
        {
          "output_type": "stream",
          "name": "stdout",
          "text": [
            "Enter whatever you want to say: he\n",
            "h*!!!\n",
            "Enter whatever you want to say: h\n",
            "Please enter at least two words!\n",
            "Enter whatever you want to say: henrick\n",
            "h*nrick!!!\n",
            "Enter whatever you want to say: h\n",
            "h*!!!\n"
          ]
        }
      ],
      "source": [
        "customer_input = input(\"Enter whatever you want to say: \")\n",
        "new_string = customer_input.replace(customer_input[1], \"*\")+\"!!!\"\n",
        "print(new_string)\n",
        "#i found that the above method crushed by the time the input was only one word\n",
        "\n",
        "# to prevent causing error if customer types only one word\n",
        "while True:\n",
        "  customer_input = input(\"Enter whatever you want to say: \")\n",
        "  if len(customer_input) >= 2:\n",
        "    new_string = customer_input.replace(customer_input[1], \"*\") + \"!!!\"\n",
        "    print(new_string)\n",
        "    break\n",
        "  else:\n",
        "    print(\"Please enter at least two words!\")\n",
        "# this method won't allow only one chr input, making sure that it has to be at least two word.\n",
        "\n",
        "\n",
        "# alternative way\n",
        "customer_input = input(\"Enter whatever you want to say: \")\n",
        "new_string = customer_input[0] + \"*\" + customer_input[2:] + \"!!!\"\n",
        "print(new_string)\n",
        "# this one is more efficient cuz even if only one chr, it works properly."
      ]
    },
    {
      "cell_type": "markdown",
      "metadata": {
        "id": "nJXAUZRYeDsS"
      },
      "source": [
        "Ex 7: Write a program that converts the given string 's' to lowercase, removes all Punctuation marks such as period, hyphen, and commas from 's', and prints the resulting string."
      ]
    },
    {
      "cell_type": "code",
      "execution_count": 45,
      "metadata": {
        "colab": {
          "base_uri": "https://localhost:8080/"
        },
        "id": "k_pb3pJPeDsT",
        "outputId": "fa59ce8d-a598-431f-8f30-0e11134970e9"
      },
      "outputs": [
        {
          "output_type": "stream",
          "name": "stdout",
          "text": [
            "floatingpoint values in python are always done in double precision hence python float types correspond to doubles in a clike language\n"
          ]
        }
      ],
      "source": [
        "s = \"Floating-point values in Python are always done in double precision; hence, Python float types correspond to doubles in a C-like language.\"\n",
        "result = s.lower().replace(\"-\", \"\").replace(\";\", \"\").replace(\",\", \"\").replace(\".\", \"\")\n",
        "print(result)\n",
        "# how we handle if we want to remove all punctuations from unpredictable users' input?\n",
        "# is there any built-in function or sth?"
      ]
    },
    {
      "cell_type": "markdown",
      "metadata": {
        "id": "EONU2UNpeDsT"
      },
      "source": [
        "Ex 8: L1 and L2 should be identical. Write a program that finds the missing number in L2."
      ]
    },
    {
      "cell_type": "code",
      "execution_count": 175,
      "metadata": {
        "colab": {
          "base_uri": "https://localhost:8080/"
        },
        "id": "N0HqTm1LeDsT",
        "outputId": "2a3bf638-46c5-4716-d51e-c34634c38676"
      },
      "outputs": [
        {
          "output_type": "stream",
          "name": "stdout",
          "text": [
            "The missing number is: 56\n",
            "{48}\n"
          ]
        }
      ],
      "source": [
        "from random import randint\n",
        "L1 = list(range(1,101))\n",
        "L2 = L1.copy()\n",
        "L2.remove(randint(1,100)) # here, should be 1 to 100 cuz L1 is from 1 to 100 and 101 is not included, due to range().\n",
        "print(f\"The missing number is: {sum(L1) - sum(L2)}\")\n",
        "\n",
        "\n",
        "\"\"\"\n",
        "this is from solution file, so if randint(1, 101) gives 101, we’ll get an error\n",
        "cuz 101 is not included in L1 due to range(), L1 is from 1 to 100\n",
        "that's why L1 and L2 will be identical if randint() gives 101, leading to an error\n",
        "\"\"\"\n",
        "from random import randint\n",
        "L1 = list(range(1,101))\n",
        "L2 = L1.copy()\n",
        "L2.remove(randint(1,101))\n",
        "print(set(L1).difference(set(L2)))\n",
        "\n",
        "\n",
        "\n",
        "\n"
      ]
    },
    {
      "cell_type": "markdown",
      "metadata": {
        "id": "Yj1-Dp1HeDsT"
      },
      "source": [
        "Ex 9: Write a program to copy the ls1 = [\"apple\", \"banana\", \"cherry\"] to a new list. Add the element \"blueberry\" to the new list, but keep the original list the same."
      ]
    },
    {
      "cell_type": "code",
      "execution_count": 179,
      "metadata": {
        "colab": {
          "base_uri": "https://localhost:8080/"
        },
        "id": "iQowqmLjeDsU",
        "outputId": "a68a3746-9f0c-436e-8ca4-266db90ee061"
      },
      "outputs": [
        {
          "output_type": "stream",
          "name": "stdout",
          "text": [
            "['apple', 'banana', 'cherry', 'blueberry']\n",
            "['apple', 'banana', 'cherry']\n"
          ]
        }
      ],
      "source": [
        "ls1 = [\"apple\", \"banana\", \"cherry\"]\n",
        "new_list = ls1.copy()\n",
        "new_list.append(\"blueberry\")\n",
        "print(new_list)\n",
        "print(ls1)\n"
      ]
    }
  ],
  "metadata": {
    "colab": {
      "provenance": []
    },
    "kernelspec": {
      "display_name": "Python 3",
      "language": "python",
      "name": "python3"
    },
    "language_info": {
      "codemirror_mode": {
        "name": "ipython",
        "version": 3
      },
      "file_extension": ".py",
      "mimetype": "text/x-python",
      "name": "python",
      "nbconvert_exporter": "python",
      "pygments_lexer": "ipython3",
      "version": "3.12.1"
    }
  },
  "nbformat": 4,
  "nbformat_minor": 0
}