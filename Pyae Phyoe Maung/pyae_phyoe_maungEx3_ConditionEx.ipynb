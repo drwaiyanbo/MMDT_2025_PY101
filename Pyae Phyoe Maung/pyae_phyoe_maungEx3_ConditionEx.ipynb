{
  "cells": [
    {
      "cell_type": "markdown",
      "metadata": {
        "colab_type": "text",
        "id": "view-in-github"
      },
      "source": [
        "<a href=\"https://colab.research.google.com/github/myothida/PythonProgramming/blob/main/Ex3_ConditionEx.ipynb\" target=\"_parent\"><img src=\"https://colab.research.google.com/assets/colab-badge.svg\" alt=\"Open In Colab\"/></a>"
      ]
    },
    {
      "cell_type": "markdown",
      "metadata": {
        "id": "r9njLbxcvG0w"
      },
      "source": [
        "Write a program that asks the user to enter a length in centimeters. If the user enters a negative length, the program should tell the user that the entry is invalid. Otherwise, the program should convert the length to inches and print out the result. There are 2.54 centimeters in an inch.\n"
      ]
    },
    {
      "cell_type": "code",
      "execution_count": 3,
      "metadata": {
        "id": "76EFWr1AvMy4"
      },
      "outputs": [
        {
          "name": "stdout",
          "output_type": "stream",
          "text": [
            "The Entry is INVALID.\n"
          ]
        }
      ],
      "source": [
        "length = input(\"Enter a length in cm : \")\n",
        "cm = float(length)\n",
        "\n",
        "if cm < 0:\n",
        "    print(\"The Entry is INVALID.\")\n",
        "\n",
        "else:\n",
        "    inches = cm / 2.54\n",
        "    print(\"{} cm is equal to {}.\".format(cm,inches))"
      ]
    },
    {
      "cell_type": "markdown",
      "metadata": {
        "id": "zvaDTmuhvNWJ"
      },
      "source": [
        "Ask the user to enter a temperature in Celsius. The program should print a message based on the temperature:\n",
        "\n",
        "*   If the temperature is less than -273.15, print that the temperature is invalid because it is below absolute zero.\n",
        "*   If it is exactly -273.15, print that the temperature is absolute 0.\n",
        "*   If the temperature is between -273.15 and 0, print that the temperature is below freezing.\n",
        "*   If it is 0, print that the temperature is at the freezing point.\n",
        "*   If it is between 0 and 100, print that the temperature is in the normal range.\n",
        "*   If it is 100, print that the temperature is at the boiling point.\n",
        "*   If it is above 100, print that the temperature is above the boiling point."
      ]
    },
    {
      "cell_type": "code",
      "execution_count": 4,
      "metadata": {
        "id": "UiCbUIcwvqxO"
      },
      "outputs": [
        {
          "name": "stdout",
          "output_type": "stream",
          "text": [
            "The temperature is at the freezing point..\n"
          ]
        }
      ],
      "source": [
        "\n",
        "temperature = float(input(\"Enter a temperature: \"))\n",
        "\n",
        "if temperature < -273.15:\n",
        "    print(\"The temperature is invalid because it is below absolute zero.\")\n",
        "elif temperature == -273.15:\n",
        "    print(\"the temperature is absolute 0.\")\n",
        "elif 0 > temperature > -273.15:\n",
        "    print(\"The temperature is below freezing.\")\n",
        "elif temperature == 0:\n",
        "    print(\"The temperature is at the freezing point..\")\n",
        "elif 0 < temperature < 100:\n",
        "    print(\"The temperature is in the normal range.\")\n",
        "elif temperature == 100:\n",
        "    print(\"The temperature is at the boiling point.\")\n",
        "else:\n",
        "    print(\"The temperature is above the boiling point.\")"
      ]
    },
    {
      "cell_type": "markdown",
      "metadata": {
        "id": "hoczytNLvrnd"
      },
      "source": [
        "Write a program that asks the user how many credits they have taken. If they have taken 23 or less, print that the student is a freshman. If they have taken between 24 and 53, print that they are a sophomore. The range for juniors is 54 to 83, and for seniors it is 84 and over."
      ]
    },
    {
      "cell_type": "code",
      "execution_count": 5,
      "metadata": {
        "id": "r8_O-_zLvurf"
      },
      "outputs": [
        {
          "name": "stdout",
          "output_type": "stream",
          "text": [
            "You are a Junior.\n"
          ]
        }
      ],
      "source": [
        "credits = int(input(\"Credits : \"))\n",
        "\n",
        "if credits <= 23:\n",
        "    print(\"You are a freshman.\")\n",
        "elif 24 <= credits <= 53:\n",
        "    print(\"You are a sophomore.\")\n",
        "elif 54 <= credits <= 83:\n",
        "    print(\"You are a Junior.\")\n",
        "else:\n",
        "    print(\"You are a Senior.\")"
      ]
    }
  ],
  "metadata": {
    "colab": {
      "authorship_tag": "ABX9TyOI5kOvNmVfHX5Yp+951U6H",
      "include_colab_link": true,
      "name": "Ex3_ConditionEx.ipynb",
      "provenance": []
    },
    "kernelspec": {
      "display_name": "Python 3",
      "name": "python3"
    },
    "language_info": {
      "codemirror_mode": {
        "name": "ipython",
        "version": 3
      },
      "file_extension": ".py",
      "mimetype": "text/x-python",
      "name": "python",
      "nbconvert_exporter": "python",
      "pygments_lexer": "ipython3",
      "version": "3.13.2"
    }
  },
  "nbformat": 4,
  "nbformat_minor": 0
}
