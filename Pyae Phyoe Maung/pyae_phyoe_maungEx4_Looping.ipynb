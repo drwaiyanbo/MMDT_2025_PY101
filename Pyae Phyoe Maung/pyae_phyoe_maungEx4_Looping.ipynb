{
  "cells": [
    {
      "cell_type": "markdown",
      "metadata": {
        "colab_type": "text",
        "id": "view-in-github"
      },
      "source": [
        "<a href=\"https://colab.research.google.com/github/myothida/PythonProgramming/blob/main/Ex4_Looping.ipynb\" target=\"_parent\"><img src=\"https://colab.research.google.com/assets/colab-badge.svg\" alt=\"Open In Colab\"/></a>"
      ]
    },
    {
      "cell_type": "markdown",
      "metadata": {
        "id": "YeTHwB3EASGn"
      },
      "source": [
        "The exercises are extracted from A_Practical_Introduction_to_Python_Programming_Heinold.pdf"
      ]
    },
    {
      "cell_type": "markdown",
      "metadata": {
        "id": "wVOW5QDgAZ_R"
      },
      "source": [
        "Ex 1: Write a program that uses a while loop (not a for loop) to read through a string and print\n",
        "the characters of the string one-by-one on separate lines."
      ]
    },
    {
      "cell_type": "code",
      "execution_count": 1,
      "metadata": {
        "id": "77KGqP-sJJNh"
      },
      "outputs": [
        {
          "name": "stdout",
          "output_type": "stream",
          "text": [
            "H\n",
            "e\n",
            "l\n",
            "l\n",
            "o\n",
            ",\n",
            " \n",
            "w\n",
            "o\n",
            "r\n",
            "l\n",
            "d\n",
            "!\n"
          ]
        }
      ],
      "source": [
        "text = \"Hello, world!\"\n",
        "index = 0\n",
        "\n",
        "while index < len(text):\n",
        "    print(text[index])\n",
        "    index += 1"
      ]
    },
    {
      "cell_type": "markdown",
      "metadata": {
        "id": "5B-LyYV0AkCK"
      },
      "source": [
        "Ex 2: A good program will make sure that the data its users enter is valid. Write a program that\n",
        "asks the user for a weight and converts it from kilograms to pounds. Whenever the user\n",
        "enters a weight below 0, the program should tell them that their entry is invalid and then ask\n",
        "them again to enter a weight. [Hint: Use a while loop, not an if statement]."
      ]
    },
    {
      "cell_type": "code",
      "execution_count": 3,
      "metadata": {
        "id": "gpRZnsXjArkF"
      },
      "outputs": [
        {
          "name": "stdout",
          "output_type": "stream",
          "text": [
            "Invalid entry! Weight cannot be negative. Please try again.\n",
            "Weight in pounds: 22.05\n"
          ]
        }
      ],
      "source": [
        "while True:\n",
        "    weight_kg = float(input(\"Enter weight in kilograms: \"))\n",
        "    \n",
        "    if weight_kg < 0:\n",
        "        print(\"Invalid entry! Weight cannot be negative. Please try again.\")\n",
        "    else:\n",
        "        weight_lb = weight_kg * 2.20462\n",
        "        print(f\"Weight in pounds: {weight_lb:.2f}\")\n",
        "        break\n"
      ]
    },
    {
      "cell_type": "markdown",
      "metadata": {
        "id": "zQT0pCjRAsIK"
      },
      "source": [
        "Ex 3: Write a program that allows the user to enter any number of test scores. The user indicates\n",
        "they are done by entering in a negative number. Print how many of the scores are A’s (90 or\n",
        "above). Also print out the average"
      ]
    },
    {
      "cell_type": "code",
      "execution_count": 3,
      "metadata": {
        "id": "Gya-rvYUAviK"
      },
      "outputs": [
        {
          "name": "stdout",
          "output_type": "stream",
          "text": [
            "\n",
            "Number of A's (90 or above): 1\n",
            "Average score: 66.67\n"
          ]
        }
      ],
      "source": [
        "count = 0\n",
        "total = 0\n",
        "a_count = 0\n",
        "\n",
        "while True:\n",
        "    score = float(input(\"Enter a test score (negative number to stop): \"))\n",
        "    \n",
        "    if score < 0:\n",
        "        break\n",
        "\n",
        "    total += score\n",
        "    count += 1\n",
        "\n",
        "    if score >= 90:\n",
        "        a_count += 1\n",
        "\n",
        "if count > 0:\n",
        "    average = total / count\n",
        "    print(f\"\\nNumber of A's (90 or above): {a_count}\")\n",
        "    print(f\"Average score: {average:.2f}\")\n",
        "else:\n",
        "    print(\"No scores were entered.\")"
      ]
    },
    {
      "cell_type": "markdown",
      "metadata": {
        "id": "IHIWc5jHAwxY"
      },
      "source": [
        "Ex 4: Write a program that asks the user for a string and a letter. Using a for loop, the\n",
        "program should print the index of the first occurrence of that letter and a message if the\n",
        "string does not contain the letter."
      ]
    },
    {
      "cell_type": "code",
      "execution_count": 7,
      "metadata": {
        "id": "xSe0mtQ8A68M"
      },
      "outputs": [
        {
          "name": "stdout",
          "output_type": "stream",
          "text": [
            "The first occurrence of 'h' is at index 0.\n"
          ]
        }
      ],
      "source": [
        "text = input(\"Enter a string: \")\n",
        "letter = input(\"Enter a letter to search for: \")\n",
        "\n",
        "found = False\n",
        "\n",
        "for index in range(len(text)):\n",
        "    if text[index] == letter:\n",
        "        print(f\"The first occurrence of '{letter}' is at index {index}.\")\n",
        "        found = True\n",
        "        break\n",
        "\n",
        "if not found:\n",
        "    print(f\"The letter '{letter}' is not in the string.\")"
      ]
    },
    {
      "cell_type": "markdown",
      "metadata": {
        "id": "PfyUq4CnA8vk"
      },
      "source": [
        "Ex 5: Write a program in which you have a list that contains seven integers that can be 0 or 1. Find the first zero entry in the list and change it to a 1. If there are no zero entries, print a message saying so."
      ]
    },
    {
      "cell_type": "code",
      "execution_count": 8,
      "metadata": {},
      "outputs": [
        {
          "name": "stdout",
          "output_type": "stream",
          "text": [
            "Changed first 0 to 1 at index 2\n",
            "Updated list: [1, 1, 1, 1, 1, 0, 1]\n"
          ]
        }
      ],
      "source": [
        "binary_list = [1, 1, 0, 1, 1, 0, 1]\n",
        "\n",
        "found_zero = False\n",
        "\n",
        "for i in range(len(binary_list)):\n",
        "    if binary_list[i] == 0:\n",
        "        binary_list[i] = 1\n",
        "        found_zero = True\n",
        "        print(f\"Changed first 0 to 1 at index {i}\")\n",
        "        break\n",
        "\n",
        "if not found_zero:\n",
        "    print(\"No zero entries found in the list.\")\n",
        "\n",
        "print(\"Updated list:\", binary_list)"
      ]
    }
  ],
  "metadata": {
    "colab": {
      "authorship_tag": "ABX9TyOm3U7ihfZeEceAaZW842Wb",
      "include_colab_link": true,
      "name": "Ex4_Looping.ipynb",
      "provenance": []
    },
    "kernelspec": {
      "display_name": "Python 3",
      "name": "python3"
    },
    "language_info": {
      "codemirror_mode": {
        "name": "ipython",
        "version": 3
      },
      "file_extension": ".py",
      "mimetype": "text/x-python",
      "name": "python",
      "nbconvert_exporter": "python",
      "pygments_lexer": "ipython3",
      "version": "3.13.2"
    }
  },
  "nbformat": 4,
  "nbformat_minor": 0
}
