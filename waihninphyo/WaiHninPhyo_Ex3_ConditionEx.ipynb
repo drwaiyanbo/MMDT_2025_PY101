{
 "cells": [
  {
   "cell_type": "markdown",
   "metadata": {
    "colab_type": "text",
    "id": "view-in-github"
   },
   "source": [
    "<a href=\"https://colab.research.google.com/github/myothida/PythonProgramming/blob/main/Ex3_ConditionEx.ipynb\" target=\"_parent\"><img src=\"https://colab.research.google.com/assets/colab-badge.svg\" alt=\"Open In Colab\"/></a>"
   ]
  },
  {
   "cell_type": "markdown",
   "metadata": {
    "id": "r9njLbxcvG0w"
   },
   "source": [
    "Write a program that asks the user to enter a length in centimeters. If the user enters a negative length, the program should tell the user that the entry is invalid. Otherwise, the program should convert the length to inches and print out the result. There are 2.54 centimeters in an inch.\n"
   ]
  },
  {
   "cell_type": "code",
   "execution_count": 19,
   "metadata": {
    "id": "76EFWr1AvMy4"
   },
   "outputs": [
    {
     "name": "stdin",
     "output_type": "stream",
     "text": [
      "Enter the length in cm: 120\n"
     ]
    },
    {
     "name": "stdout",
     "output_type": "stream",
     "text": [
      "length in inch : 47.24 \n"
     ]
    }
   ],
   "source": [
    "length = float(input('Enter the length in cm:'))\n",
    "if length < 0:\n",
    "    print('The entry length in cm is invalid')\n",
    "else:\n",
    "    length_inch  = length / 2.54\n",
    "    print(f'length in inch : {length_inch:.2f} ')"
   ]
  },
  {
   "cell_type": "markdown",
   "metadata": {
    "id": "zvaDTmuhvNWJ"
   },
   "source": [
    "Ask the user to enter a temperature in Celsius. The program should print a message based on the temperature:\n",
    "\n",
    "*   If the temperature is less than -273.15, print that the temperature is invalid because it is below absolute zero.\n",
    "*   If it is exactly -273.15, print that the temperature is absolute 0.\n",
    "*   If the temperature is between -273.15 and 0, print that the temperature is below freezing.\n",
    "*   If it is 0, print that the temperature is at the freezing point.\n",
    "*   If it is between 0 and 100, print that the temperature is in the normal range.\n",
    "*   If it is 100, print that the temperature is at the boiling point.\n",
    "*   If it is above 100, print that the temperature is above the boiling point."
   ]
  },
  {
   "cell_type": "code",
   "execution_count": 36,
   "metadata": {
    "id": "UiCbUIcwvqxO"
   },
   "outputs": [
    {
     "name": "stdin",
     "output_type": "stream",
     "text": [
      "Enter a temperature in Celsius: 120\n"
     ]
    },
    {
     "name": "stdout",
     "output_type": "stream",
     "text": [
      "The temperature is above the boiling point.\n"
     ]
    }
   ],
   "source": [
    "temperature = float(input('Enter a temperature in Celsius:'))\n",
    "if temperature < -273.15:\n",
    "   print('The temperature is invalid because it is below absolute zero.')\n",
    "elif temperature == -273.15:\n",
    "    print('The temperature is absolute 0.')\n",
    "elif -273.15 < temperature < 0 :\n",
    "    print('The temperature is below freezing.')\n",
    "elif temperature == 0 :\n",
    "    print('The temperature is at the freezing point.')\n",
    "elif 0 < temperature < 100 :\n",
    "    print('The temperature is in the normal range.')\n",
    "elif temperature == 100 :\n",
    "    print('The temperature is at the boiling point.')\n",
    "else:\n",
    "    print('The temperature is above the boiling point.')"
   ]
  },
  {
   "cell_type": "markdown",
   "metadata": {
    "id": "hoczytNLvrnd"
   },
   "source": [
    "Write a program that asks the user how many credits they have taken. If they have taken 23 or less, print that the student is a freshman. If they have taken between 24 and 53, print that they are a sophomore. The range for juniors is 54 to 83, and for seniors it is 84 and over."
   ]
  },
  {
   "cell_type": "code",
   "execution_count": 52,
   "metadata": {
    "id": "r8_O-_zLvurf"
   },
   "outputs": [
    {
     "name": "stdin",
     "output_type": "stream",
     "text": [
      "Enter that how many credits you have taken: 86\n"
     ]
    },
    {
     "name": "stdout",
     "output_type": "stream",
     "text": [
      "You are seniors.\n"
     ]
    }
   ],
   "source": [
    "credits = int(input('Enter that how many credits you have taken:'))\n",
    "if credits <= 23:\n",
    "    print('You are a freshman.')\n",
    "elif 24 <= credits <= 53:\n",
    "    print('You are a sophomore.')\n",
    "elif 54 <= credits <= 83:\n",
    "    print('You are juniors.')\n",
    "else: \n",
    "    print('You are seniors.')"
   ]
  },
  {
   "cell_type": "code",
   "execution_count": null,
   "metadata": {},
   "outputs": [],
   "source": []
  }
 ],
 "metadata": {
  "colab": {
   "authorship_tag": "ABX9TyOI5kOvNmVfHX5Yp+951U6H",
   "include_colab_link": true,
   "name": "Ex3_ConditionEx.ipynb",
   "provenance": []
  },
  "kernelspec": {
   "display_name": "Python 3 (ipykernel)",
   "language": "python",
   "name": "python3"
  },
  "language_info": {
   "codemirror_mode": {
    "name": "ipython",
    "version": 3
   },
   "file_extension": ".py",
   "mimetype": "text/x-python",
   "name": "python",
   "nbconvert_exporter": "python",
   "pygments_lexer": "ipython3",
   "version": "3.12.4"
  }
 },
 "nbformat": 4,
 "nbformat_minor": 4
}
