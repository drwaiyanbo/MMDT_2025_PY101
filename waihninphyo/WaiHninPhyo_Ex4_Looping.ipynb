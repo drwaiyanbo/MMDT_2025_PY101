{
 "cells": [
  {
   "cell_type": "markdown",
   "metadata": {
    "colab_type": "text",
    "id": "view-in-github"
   },
   "source": [
    "<a href=\"https://colab.research.google.com/github/myothida/PythonProgramming/blob/main/Ex4_Looping.ipynb\" target=\"_parent\"><img src=\"https://colab.research.google.com/assets/colab-badge.svg\" alt=\"Open In Colab\"/></a>"
   ]
  },
  {
   "cell_type": "markdown",
   "metadata": {
    "id": "YeTHwB3EASGn"
   },
   "source": [
    "The exercises are extracted from A_Practical_Introduction_to_Python_Programming_Heinold.pdf"
   ]
  },
  {
   "cell_type": "markdown",
   "metadata": {
    "id": "wVOW5QDgAZ_R"
   },
   "source": [
    "Ex 1: Write a program that uses a while loop (not a for loop) to read through a string and print\n",
    "the characters of the string one-by-one on separate lines."
   ]
  },
  {
   "cell_type": "code",
   "execution_count": 20,
   "metadata": {
    "id": "77KGqP-sJJNh"
   },
   "outputs": [
    {
     "name": "stdout",
     "output_type": "stream",
     "text": [
      "I\n",
      " \n",
      "l\n",
      "o\n",
      "v\n",
      "e\n",
      " \n",
      "P\n",
      "y\n",
      "t\n",
      "h\n",
      "o\n",
      "n\n"
     ]
    }
   ],
   "source": [
    "string= 'I love Python'\n",
    "index = 0\n",
    "while index < len(string):\n",
    "     print(string[index])\n",
    "     index += 1\n",
    "    "
   ]
  },
  {
   "cell_type": "markdown",
   "metadata": {
    "id": "5B-LyYV0AkCK"
   },
   "source": [
    "Ex 2: A good program will make sure that the data its users enter is valid. Write a program that\n",
    "asks the user for a weight and converts it from kilograms to pounds. Whenever the user\n",
    "enters a weight below 0, the program should tell them that their entry is invalid and then ask\n",
    "them again to enter a weight. [Hint: Use a while loop, not an if statement]."
   ]
  },
  {
   "cell_type": "code",
   "execution_count": 7,
   "metadata": {
    "id": "gpRZnsXjArkF"
   },
   "outputs": [
    {
     "name": "stdin",
     "output_type": "stream",
     "text": [
      "Enter the weight in kg: -3\n"
     ]
    },
    {
     "name": "stdout",
     "output_type": "stream",
     "text": [
      "Your entry is invalid and try again to enter the weight.\n"
     ]
    },
    {
     "name": "stdin",
     "output_type": "stream",
     "text": [
      "Enter the weight in kg again: 69\n"
     ]
    },
    {
     "name": "stdout",
     "output_type": "stream",
     "text": [
      "Weight in lbs: 152.12\n"
     ]
    }
   ],
   "source": [
    "weight_in_kg = float(input('Enter the weight in kg:'))\n",
    "\n",
    "\n",
    "while weight_in_kg < 0:\n",
    "      print('Your entry is invalid and try again to enter the weight.')\n",
    "      weight_in_kg = float(input('Enter the weight in kg again:'))\n",
    "    \n",
    "\n",
    "weight_in_lb =  weight_in_kg  * 2.20462\n",
    "print(f'Weight in lbs: {weight_in_lb:.2f}')\n",
    "\n",
    "    \n",
    "      \n",
    "    "
   ]
  },
  {
   "cell_type": "markdown",
   "metadata": {
    "id": "zQT0pCjRAsIK"
   },
   "source": [
    "Ex 3: Write a program that allows the user to enter any number of test scores. The user indicates\n",
    "they are done by entering in a negative number. Print how many of the scores are A’s (90 or\n",
    "above). Also print out the average"
   ]
  },
  {
   "cell_type": "code",
   "execution_count": 29,
   "metadata": {
    "id": "Gya-rvYUAviK"
   },
   "outputs": [
    {
     "name": "stdin",
     "output_type": "stream",
     "text": [
      "Enter a test score (negative to stop):  98\n",
      "Enter a test score (negative to stop):  87\n",
      "Enter a test score (negative to stop):  54\n",
      "Enter a test score (negative to stop):  21\n",
      "Enter a test score (negative to stop):  74\n",
      "Enter a test score (negative to stop):  95\n",
      "Enter a test score (negative to stop):  96\n",
      "Enter a test score (negative to stop):  93\n",
      "Enter a test score (negative to stop):  91\n",
      "Enter a test score (negative to stop):  -8\n"
     ]
    },
    {
     "name": "stdout",
     "output_type": "stream",
     "text": [
      "Number of A's: 5\n",
      "Average score: 78.78\n"
     ]
    }
   ],
   "source": [
    "total = 0\n",
    "count = 0\n",
    "a_count = 0\n",
    "\n",
    "score = float(input(\"Enter a test score (negative to stop): \"))\n",
    "\n",
    "while score >= 0:\n",
    "    total += score\n",
    "    count += 1\n",
    "\n",
    "    if score >= 90:\n",
    "        a_count += 1\n",
    "\n",
    "    score = float(input(\"Enter a test score (negative to stop): \"))\n",
    "\n",
    "if count > 0:\n",
    "    print(\"Number of A's:\", a_count)\n",
    "    print(f'Average score: {total / count:.2f}')\n",
    "else:\n",
    "    print(\"No scores entered.\")\n",
    "       "
   ]
  },
  {
   "cell_type": "markdown",
   "metadata": {
    "id": "IHIWc5jHAwxY"
   },
   "source": [
    "Ex 4: Write a program that asks the user for a string and a letter. Using a for loop, the\n",
    "program should print the index of the first occurrence of that letter and a message if the\n",
    "string does not contain the letter."
   ]
  },
  {
   "cell_type": "code",
   "execution_count": 33,
   "metadata": {
    "id": "xSe0mtQ8A68M"
   },
   "outputs": [
    {
     "name": "stdin",
     "output_type": "stream",
     "text": [
      "Enter a string:  Good Morning\n",
      "Enter a letter:  M\n"
     ]
    },
    {
     "name": "stdout",
     "output_type": "stream",
     "text": [
      "First occurrence at index: 5\n"
     ]
    }
   ],
   "source": [
    "text = input(\"Enter a string: \")\n",
    "letter = input(\"Enter a letter: \")\n",
    "\n",
    "found = False\n",
    "\n",
    "for i in range(len(text)):\n",
    "    if text[i] == letter:\n",
    "        print(\"First occurrence at index:\", i)\n",
    "        found = True\n",
    "        break\n",
    "\n",
    "if not found:\n",
    "    print(\"Letter not found in the string.\")"
   ]
  },
  {
   "cell_type": "markdown",
   "metadata": {
    "id": "PfyUq4CnA8vk"
   },
   "source": [
    "Ex 5: Write a program in which you have a list that contains seven integers that can be 0 or 1. Find the first zero entry in the list and change it to a 1. If there are no zero entries, print a message saying so."
   ]
  },
  {
   "cell_type": "code",
   "execution_count": 39,
   "metadata": {},
   "outputs": [
    {
     "name": "stdout",
     "output_type": "stream",
     "text": [
      "Updated list: [1, 1, 1, 1, 0, 1, 1]\n"
     ]
    }
   ],
   "source": [
    "binary_list = [1, 1, 0, 1, 0, 1, 1]\n",
    "\n",
    "found = False\n",
    "\n",
    "for i in range(len(binary_list)):\n",
    "    if binary_list[i] == 0:\n",
    "        binary_list[i] = 1\n",
    "        found = True\n",
    "        break\n",
    "\n",
    "if found:\n",
    "    print(\"Updated list:\", binary_list)\n",
    "else:\n",
    "    print(\"No zero found in the list.\")"
   ]
  },
  {
   "cell_type": "code",
   "execution_count": null,
   "metadata": {},
   "outputs": [],
   "source": []
  }
 ],
 "metadata": {
  "colab": {
   "authorship_tag": "ABX9TyOm3U7ihfZeEceAaZW842Wb",
   "include_colab_link": true,
   "name": "Ex4_Looping.ipynb",
   "provenance": []
  },
  "kernelspec": {
   "display_name": "Python 3 (ipykernel)",
   "language": "python",
   "name": "python3"
  },
  "language_info": {
   "codemirror_mode": {
    "name": "ipython",
    "version": 3
   },
   "file_extension": ".py",
   "mimetype": "text/x-python",
   "name": "python",
   "nbconvert_exporter": "python",
   "pygments_lexer": "ipython3",
   "version": "3.12.4"
  }
 },
 "nbformat": 4,
 "nbformat_minor": 4
}
