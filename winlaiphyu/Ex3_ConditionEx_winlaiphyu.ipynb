{
  "nbformat": 4,
  "nbformat_minor": 0,
  "metadata": {
    "colab": {
      "name": "Ex3_ConditionEx.ipynb",
      "provenance": [],
      "include_colab_link": true
    },
    "kernelspec": {
      "name": "python3",
      "display_name": "Python 3"
    },
    "language_info": {
      "name": "python"
    }
  },
  "cells": [
    {
      "cell_type": "markdown",
      "metadata": {
        "id": "view-in-github",
        "colab_type": "text"
      },
      "source": [
        "<a href=\"https://colab.research.google.com/github/Winlai16/MMDT_2025_PY101/blob/winlaiphyu/Ex3_ConditionEx_winlaiphyu.ipynb\" target=\"_parent\"><img src=\"https://colab.research.google.com/assets/colab-badge.svg\" alt=\"Open In Colab\"/></a>"
      ]
    },
    {
      "cell_type": "markdown",
      "source": [
        "Write a program that asks the user to enter a length in centimeters. If the user enters a negative length, the program should tell the user that the entry is invalid. Otherwise, the program should convert the length to inches and print out the result. There are 2.54 centimeters in an inch.\n"
      ],
      "metadata": {
        "id": "r9njLbxcvG0w"
      }
    },
    {
      "cell_type": "code",
      "source": [
        "length = float(input('Enter a lenght in centimeters: '))\n",
        "if(length<0):\n",
        "  print('The entry is invalid')\n",
        "else:\n",
        "  print(F'The final result shown inches: {round(length/2.54)} inch')"
      ],
      "metadata": {
        "id": "76EFWr1AvMy4",
        "outputId": "6ddfb7d5-2e40-4e48-ac7b-09ff4b23c04f",
        "colab": {
          "base_uri": "https://localhost:8080/"
        }
      },
      "execution_count": 8,
      "outputs": [
        {
          "output_type": "stream",
          "name": "stdout",
          "text": [
            "Enter a lenght in centimeters: 30.56\n",
            "The final result shown inches: 12 inch\n"
          ]
        }
      ]
    },
    {
      "cell_type": "markdown",
      "source": [
        "Ask the user to enter a temperature in Celsius. The program should print a message based on the temperature:\n",
        "\n",
        "*   If the temperature is less than -273.15, print that the temperature is invalid because it is below absolute zero.\n",
        "*   If it is exactly -273.15, print that the temperature is absolute 0.\n",
        "*   If the temperature is between -273.15 and 0, print that the temperature is below freezing.\n",
        "*   If it is 0, print that the temperature is at the freezing point.\n",
        "*   If it is between 0 and 100, print that the temperature is in the normal range.\n",
        "*   If it is 100, print that the temperature is at the boiling point.\n",
        "*   If it is above 100, print that the temperature is above the boiling point."
      ],
      "metadata": {
        "id": "zvaDTmuhvNWJ"
      }
    },
    {
      "cell_type": "code",
      "source": [
        "Temperature_C = float(input('Enter a temperature in Celsius: '))\n",
        "if(Temperature_C < -273.15):\n",
        "  print('temperature is invalid because it is below absolute zero')\n",
        "elif(Temperature_C == -273.15):\n",
        "  print('Temperature is absolute 0')\n",
        "elif(-273.15 < Temperature_C < 0):\n",
        "  print('Temperature is below freezing')\n",
        "elif(Temperature_C == 0):\n",
        "  print('temperature is at the freezing point')\n",
        "elif(0 < Temperature_C < 100 ):\n",
        "  print('temperature is in the normal range')\n",
        "elif(Temperature_C == 100):\n",
        "  print('Temperature is at the boiling point.')\n",
        "elif(Temperature_C >100):\n",
        "  print('temperature is above the boiling point')"
      ],
      "metadata": {
        "id": "UiCbUIcwvqxO",
        "outputId": "4ff9fe3f-baa0-4e0f-9938-98363c2c1a92",
        "colab": {
          "base_uri": "https://localhost:8080/"
        }
      },
      "execution_count": 19,
      "outputs": [
        {
          "output_type": "stream",
          "name": "stdout",
          "text": [
            "Enter a temperature in Celsius: -190.45\n",
            "Temperature is below freezing\n"
          ]
        }
      ]
    },
    {
      "cell_type": "markdown",
      "source": [
        "Write a program that asks the user how many credits they have taken. If they have taken 23 or less, print that the student is a freshman. If they have taken between 24 and 53, print that they are a sophomore. The range for juniors is 54 to 83, and for seniors it is 84 and over."
      ],
      "metadata": {
        "id": "hoczytNLvrnd"
      }
    },
    {
      "cell_type": "code",
      "source": [
        "credit_score = int(input(\"Enter how many credits they have taken: \"))\n",
        "if(credit_score <= 23):\n",
        "  print('The student is a freshman')\n",
        "elif(24<= credit_score <= 53 ):\n",
        "  print('The student is a sophomore')\n",
        "elif(54 <= credit_score <=83):\n",
        "  print('The student is a juniors')\n",
        "elif(credit_score >= 84):\n",
        "  print('The student is a senior')"
      ],
      "metadata": {
        "id": "r8_O-_zLvurf",
        "outputId": "ef1e90ce-f41a-4191-e319-8b0fd45cb29e",
        "colab": {
          "base_uri": "https://localhost:8080/"
        }
      },
      "execution_count": 22,
      "outputs": [
        {
          "output_type": "stream",
          "name": "stdout",
          "text": [
            "Enter how many credits they have taken: 87\n",
            "The student is a senior\n"
          ]
        }
      ]
    }
  ]
}