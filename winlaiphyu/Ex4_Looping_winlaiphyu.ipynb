{
  "cells": [
    {
      "cell_type": "markdown",
      "metadata": {
        "id": "view-in-github",
        "colab_type": "text"
      },
      "source": [
        "<a href=\"https://colab.research.google.com/github/Winlai16/MMDT_2025_PY101/blob/winlaiphyu/winlaiphyu/Ex4_Looping_winlaiphyu.ipynb\" target=\"_parent\"><img src=\"https://colab.research.google.com/assets/colab-badge.svg\" alt=\"Open In Colab\"/></a>"
      ]
    },
    {
      "cell_type": "markdown",
      "metadata": {
        "id": "YeTHwB3EASGn"
      },
      "source": [
        "The exercises are extracted from A_Practical_Introduction_to_Python_Programming_Heinold.pdf"
      ]
    },
    {
      "cell_type": "markdown",
      "metadata": {
        "id": "wVOW5QDgAZ_R"
      },
      "source": [
        "Ex 1: Write a program that uses a while loop (not a for loop) to read through a string and print\n",
        "the characters of the string one-by-one on separate lines."
      ]
    },
    {
      "cell_type": "code",
      "execution_count": 1,
      "metadata": {
        "id": "77KGqP-sJJNh",
        "outputId": "4a21527b-4e94-4d69-ce40-41388016fb3b",
        "colab": {
          "base_uri": "https://localhost:8080/"
        }
      },
      "outputs": [
        {
          "output_type": "stream",
          "name": "stdout",
          "text": [
            "Enter a string: Hello World\n",
            "H\n",
            "e\n",
            "l\n",
            "l\n",
            "o\n",
            " \n",
            "W\n",
            "o\n",
            "r\n",
            "l\n",
            "d\n"
          ]
        }
      ],
      "source": [
        "string = input(\"Enter a string: \")\n",
        "\n",
        "index = 0\n",
        "while index < len(string):\n",
        "    print(string[index])\n",
        "    index += 1"
      ]
    },
    {
      "cell_type": "markdown",
      "metadata": {
        "id": "5B-LyYV0AkCK"
      },
      "source": [
        "Ex 2: A good program will make sure that the data its users enter is valid. Write a program that\n",
        "asks the user for a weight and converts it from kilograms to pounds. Whenever the user\n",
        "enters a weight below 0, the program should tell them that their entry is invalid and then ask\n",
        "them again to enter a weight. [Hint: Use a while loop, not an if statement]."
      ]
    },
    {
      "cell_type": "code",
      "execution_count": 2,
      "metadata": {
        "id": "gpRZnsXjArkF",
        "outputId": "a6cb62dc-adb1-4a21-f321-1d64af39540d",
        "colab": {
          "base_uri": "https://localhost:8080/"
        }
      },
      "outputs": [
        {
          "output_type": "stream",
          "name": "stdout",
          "text": [
            "Enter weight in kilograms: -100\n",
            "Invalid input. Weight cannot be negative. Please try again.\n",
            "Enter your weight in kilograms: 78\n",
            "Your weight: 78.0 kg in pounds is: 172.0 lb \n"
          ]
        }
      ],
      "source": [
        "weight_kg = float(input(\"Enter weight in kilograms: \"))\n",
        "\n",
        "while weight_kg < 0:\n",
        "    print(\"Invalid input. Weight cannot be negative. Please try again.\")\n",
        "    weight_kg = float(input(\"Enter your weight in kilograms: \"))\n",
        "\n",
        "weight_lb = round(weight_kg * 2.20462,1)\n",
        "print(\"Your weight: {} kg in pounds is: {} lb \".format(weight_kg,weight_lb))"
      ]
    },
    {
      "cell_type": "markdown",
      "metadata": {
        "id": "zQT0pCjRAsIK"
      },
      "source": [
        "Ex 3: Write a program that allows the user to enter any number of test scores. The user indicates\n",
        "they are done by entering in a negative number. Print how many of the scores are A’s (90 or\n",
        "above). Also print out the average"
      ]
    },
    {
      "cell_type": "code",
      "execution_count": 3,
      "metadata": {
        "id": "Gya-rvYUAviK",
        "outputId": "d70ce543-0a9a-43ca-b203-22ff02fe304c",
        "colab": {
          "base_uri": "https://localhost:8080/"
        }
      },
      "outputs": [
        {
          "output_type": "stream",
          "name": "stdout",
          "text": [
            "Enter a test score (negative to stop): 90\n",
            "Enter a test score (negative to stop): 60\n",
            "Enter a test score (negative to stop): 70\n",
            "Enter a test score (negative to stop): -1\n",
            "Number of A's (90 or above): 1\n",
            "Average score: 73.33333333333333\n"
          ]
        }
      ],
      "source": [
        "total = 0\n",
        "count = 0\n",
        "count_A = 0\n",
        "\n",
        "score = int(input(\"Enter a test score (negative to stop): \"))\n",
        "\n",
        "while score >= 0:\n",
        "    total += score\n",
        "    count += 1\n",
        "    if score >= 90:\n",
        "        count_A += 1\n",
        "    score = int(input(\"Enter a test score (negative to stop): \"))\n",
        "\n",
        "if count > 0:\n",
        "    average = total / count\n",
        "    print(\"Number of A's (90 or above):\", count_A)\n",
        "    print(\"Average score:\", average)\n",
        "else:\n",
        "    print(\"No scores entered.\")"
      ]
    },
    {
      "cell_type": "markdown",
      "metadata": {
        "id": "IHIWc5jHAwxY"
      },
      "source": [
        "Ex 4: Write a program that asks the user for a string and a letter. Using a for loop, the\n",
        "program should print the index of the first occurrence of that letter and a message if the\n",
        "string does not contain the letter."
      ]
    },
    {
      "cell_type": "code",
      "execution_count": 4,
      "metadata": {
        "id": "xSe0mtQ8A68M",
        "outputId": "f24bd0b4-41eb-43c5-aa0d-9e7afb5a1042",
        "colab": {
          "base_uri": "https://localhost:8080/"
        }
      },
      "outputs": [
        {
          "output_type": "stream",
          "name": "stdout",
          "text": [
            "Enter a string: Happy Pill\n",
            "Enter a letter to search in your input text: P\n",
            "The first occurrence of P is at index 6.\n"
          ]
        }
      ],
      "source": [
        "text = input(\"Enter a string: \")\n",
        "letter = input(\"Enter a letter to search in your input text: \")\n",
        "##I use AI for this occurrence letter\n",
        "found = False\n",
        "for i in range(len(text)):\n",
        "    if text[i] == letter:\n",
        "        print(\"The first occurrence of {} is at index {}.\".format(letter,i))\n",
        "        found = True\n",
        "        break\n",
        "\n",
        "if not found:\n",
        "    print(\"The letter {} was not found in the string.\".format(letter))"
      ]
    },
    {
      "cell_type": "markdown",
      "metadata": {
        "id": "PfyUq4CnA8vk"
      },
      "source": [
        "Ex 5: Write a program in which you have a list that contains seven integers that can be 0 or 1. Find the first zero entry in the list and change it to a 1. If there are no zero entries, print a message saying so."
      ]
    },
    {
      "cell_type": "code",
      "execution_count": 5,
      "metadata": {
        "id": "rQitEX-Esbiz",
        "outputId": "e6806408-4f13-428d-a50b-2fb2bfb973d9",
        "colab": {
          "base_uri": "https://localhost:8080/"
        }
      },
      "outputs": [
        {
          "output_type": "stream",
          "name": "stdout",
          "text": [
            "First 0 found at index 2 and changed to 1.\n",
            "Updated list: [1, 1, 1, 1, 0, 1, 1]\n"
          ]
        }
      ],
      "source": [
        "list = [1, 1, 0, 1, 0, 1, 1]\n",
        "\n",
        "found = False\n",
        "\n",
        "for i in range(len(list)):\n",
        "    if list[i] == 0:\n",
        "        list[i] = 1\n",
        "        found = True\n",
        "        print(\"First 0 found at index {} and changed to 1.\".format(i))\n",
        "        break\n",
        "\n",
        "if not found:\n",
        "    print(\"No zero found in the list.\")\n",
        "\n",
        "print(\"Updated list:\", list)"
      ]
    },
    {
      "cell_type": "code",
      "source": [],
      "metadata": {
        "id": "-H-silHutEkD"
      },
      "execution_count": null,
      "outputs": []
    }
  ],
  "metadata": {
    "colab": {
      "name": "Ex4_Looping.ipynb",
      "provenance": [],
      "include_colab_link": true
    },
    "kernelspec": {
      "display_name": "Python 3",
      "name": "python3"
    },
    "language_info": {
      "codemirror_mode": {
        "name": "ipython",
        "version": 3
      },
      "file_extension": ".py",
      "mimetype": "text/x-python",
      "name": "python",
      "nbconvert_exporter": "python",
      "pygments_lexer": "ipython3",
      "version": "3.12.1"
    }
  },
  "nbformat": 4,
  "nbformat_minor": 0
}