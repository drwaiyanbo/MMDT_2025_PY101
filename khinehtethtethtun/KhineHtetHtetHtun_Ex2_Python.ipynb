{
  "cells": [
    {
      "cell_type": "markdown",
      "metadata": {
        "id": "view-in-github"
      },
      "source": [
        "<a href=\"https://colab.research.google.com/github/myothida/PythonProgramming/blob/main/Ex_2_datatypes.ipynb\" target=\"_parent\"><img src=\"https://colab.research.google.com/assets/colab-badge.svg\" alt=\"Open In Colab\"/></a>"
      ]
    },
    {
      "cell_type": "markdown",
      "metadata": {
        "id": "X_Unw3z9u2-7"
      },
      "source": [
        "Ex 1 : Check the lenght of the string \"My name is python\""
      ]
    },
    {
      "cell_type": "code",
      "execution_count": 3,
      "metadata": {
        "colab": {
          "base_uri": "https://localhost:8080/"
        },
        "id": "628z_4V3t1gF",
        "outputId": "7d3039c8-b4d0-4f7a-abbf-514e67f28d82"
      },
      "outputs": [
        {
          "output_type": "execute_result",
          "data": {
            "text/plain": [
              "17"
            ]
          },
          "metadata": {},
          "execution_count": 3
        }
      ],
      "source": [
        "len(\"My name is python\")"
      ]
    },
    {
      "cell_type": "markdown",
      "metadata": {
        "id": "EJJWoW1_t1gG"
      },
      "source": [
        "Ex 2: Check the number of times \"python\" (regardless of cases: PYTHON, python, Python\" appears in the paragraph : \"Floating-point values in Python are always done in double precision; hence, Python float types correspond to doubles in a C-like language.\""
      ]
    },
    {
      "cell_type": "code",
      "execution_count": 6,
      "metadata": {
        "colab": {
          "base_uri": "https://localhost:8080/"
        },
        "id": "vybdPSHct1gG",
        "outputId": "c414e897-0c2e-4d40-d66f-3fc61cbdf32f"
      },
      "outputs": [
        {
          "output_type": "stream",
          "name": "stdout",
          "text": [
            "2\n"
          ]
        }
      ],
      "source": [
        "s = \"Floating-point values in Python are always done in double precision; hence, Python float types correspond to doubles in a C-like language.\"\n",
        "python_count = s.count(\"Python\")\n",
        "print(python_count)\n"
      ]
    },
    {
      "cell_type": "markdown",
      "metadata": {
        "id": "jinCjZ5rt1gI"
      },
      "source": [
        "Ex 3: Combine two lists : ls1 = [\"apple\", \"banana\", \"cherry\"] and ls2 = [\"apple\", \"banana\", \"cherry\", \"apple\", \"cherry\"]. Print the number of elements in new list."
      ]
    },
    {
      "cell_type": "code",
      "execution_count": 9,
      "metadata": {
        "colab": {
          "base_uri": "https://localhost:8080/"
        },
        "id": "Q89xXOfot1gJ",
        "outputId": "7581f6d9-bd75-4a3f-dbc5-c11202a02ae1"
      },
      "outputs": [
        {
          "output_type": "stream",
          "name": "stdout",
          "text": [
            "8\n"
          ]
        }
      ],
      "source": [
        "ls1 = [\"apple\",\"banana\",\"cherry\"]\n",
        "ls2 = [\"apple\", \"banana\", \"cherry\", \"apple\", \"cherry\"]\n",
        "new_list = ls1 + ls2\n",
        "print(len(new_list))"
      ]
    },
    {
      "cell_type": "markdown",
      "metadata": {
        "id": "gxGyaltit1gJ"
      },
      "source": [
        "Ex 4: Create a dictionary for the following table:"
      ]
    },
    {
      "cell_type": "markdown",
      "metadata": {
        "id": "wToZAcUZt1gK"
      },
      "source": [
        "| Name | Age |\n",
        "| --- | --- |\n",
        "| Myo | 32 |\n",
        "| Thida | 64 |"
      ]
    },
    {
      "cell_type": "code",
      "execution_count": 17,
      "metadata": {
        "colab": {
          "base_uri": "https://localhost:8080/"
        },
        "id": "sS5thh3Xt1gL",
        "outputId": "0ddd3871-da86-4ac3-f67c-0ea6ca01f625"
      },
      "outputs": [
        {
          "output_type": "stream",
          "name": "stdout",
          "text": [
            "{'Name': ['Myo', 'Thida'], 'Age': [32, 64]}\n"
          ]
        }
      ],
      "source": [
        "my_dict = {\"Name\": [\"Myo\", \"Thida\"],\"Age\": [32, 64]}\n",
        "print(my_dict)\n"
      ]
    },
    {
      "cell_type": "markdown",
      "metadata": {
        "id": "8tWve3MGt1gM"
      },
      "source": [
        "Ex 5: Combine two sets and print the combined set and its length.\n",
        "set1 = {\"Name\", \"age\", \"Height\"}\n",
        "set2 = {\"Name\", \"status\", \"Education\"}"
      ]
    },
    {
      "cell_type": "code",
      "execution_count": 22,
      "metadata": {
        "colab": {
          "base_uri": "https://localhost:8080/"
        },
        "id": "zdv4Gnaat1gM",
        "outputId": "26e677d1-c41e-47c2-a5f8-ff3b89e99382"
      },
      "outputs": [
        {
          "output_type": "stream",
          "name": "stdout",
          "text": [
            "{'age', 'Height', 'Education', 'Name', 'status'}\n",
            "5\n"
          ]
        }
      ],
      "source": [
        "set1 = {\"Name\", \"age\", \"Height\"}\n",
        "set2 = {\"Name\", \"status\", \"Education\"}\n",
        "combined_set = set1.union(set2)\n",
        "print(combined_set)\n",
        "print(len(combined_set))"
      ]
    },
    {
      "cell_type": "markdown",
      "metadata": {
        "id": "czzgzX1dt1gN"
      },
      "source": [
        "Ex 6: Write a program that asks the user to enter a string. The program should create a new string called new_string from the user's string such that the second character is changed to an asterisk and three exclamation points are attached to the end of the string. Finally, print new_string."
      ]
    },
    {
      "cell_type": "code",
      "execution_count": 23,
      "metadata": {
        "colab": {
          "base_uri": "https://localhost:8080/"
        },
        "id": "QWNub2Cpt1gN",
        "outputId": "95ebd599-7fe4-4f60-9b31-2104a72418d9"
      },
      "outputs": [
        {
          "output_type": "stream",
          "name": "stdout",
          "text": [
            "Pleaase enter a string : Ling\n",
            "L*ng!!!\n"
          ]
        }
      ],
      "source": [
        "input_string = input (\"Pleaase enter a string : \")\n",
        "new_string = input_string.replace(input_string[1], \"*\") + \"!!!\"\n",
        "print(new_string)"
      ]
    },
    {
      "cell_type": "markdown",
      "metadata": {
        "id": "vJ0uqLZjt1gO"
      },
      "source": [
        "Ex 7: Write a program that converts the given string 's' to lowercase, removes all Punctuation marks such as period, hyphen, and commas from 's', and prints the resulting string."
      ]
    },
    {
      "cell_type": "code",
      "execution_count": 32,
      "metadata": {
        "colab": {
          "base_uri": "https://localhost:8080/"
        },
        "id": "zVzxX0-it1gO",
        "outputId": "892944e7-02a9-4afa-8725-980848b1f10f"
      },
      "outputs": [
        {
          "output_type": "stream",
          "name": "stdout",
          "text": [
            "Floating-point values in Python are always done in double precision; hence  Python float types correspond to doubles in a C-like language.\n"
          ]
        }
      ],
      "source": [
        "s = \"Floating-point values in Python are always done in double precision; hence, Python float types correspond to doubles in a C-like language.\"\n",
        "new_s = s.lower()\n",
        "new_s = s.replace(\";\",\" \")\n",
        "new_s = s.replace(\"-\",\" \")\n",
        "new_s = s.replace(\",\",\" \")\n",
        "print(new_s)"
      ]
    },
    {
      "cell_type": "markdown",
      "metadata": {
        "id": "O9242CRqt1gO"
      },
      "source": [
        "Ex 8: L1 and L2 should be identical. Write a program that finds the missing number in L2."
      ]
    },
    {
      "cell_type": "code",
      "execution_count": 44,
      "metadata": {
        "colab": {
          "base_uri": "https://localhost:8080/"
        },
        "id": "kq2O3qsYt1gP",
        "outputId": "975cf314-ad6d-4071-8d9e-489957e91e1d"
      },
      "outputs": [
        {
          "output_type": "stream",
          "name": "stdout",
          "text": [
            "{18}\n"
          ]
        }
      ],
      "source": [
        "from random import randint\n",
        "L1 = list(range(1,25))\n",
        "L2 = L1.copy()\n",
        "L2.remove(randint(1,25))\n",
        "missing_number = set(L1).difference(set(L2))\n",
        "print(missing_number)\n",
        "\n"
      ]
    },
    {
      "cell_type": "markdown",
      "metadata": {
        "id": "JtAVNojct1gP"
      },
      "source": [
        "Ex 9: Write a program to copy the ls1 = [\"apple\", \"banana\", \"cherry\"] to a new list. Add the element \"blueberry\" to the new list, but keep the original list the same."
      ]
    },
    {
      "cell_type": "code",
      "execution_count": 47,
      "metadata": {
        "colab": {
          "base_uri": "https://localhost:8080/"
        },
        "id": "7Fwahaoat1gP",
        "outputId": "d6c4560a-8db5-4479-9f51-871c23fc0e43"
      },
      "outputs": [
        {
          "output_type": "stream",
          "name": "stdout",
          "text": [
            "['apple', 'banana', 'cherry', 'blueberry']\n",
            "['apple', 'banana', 'cherry']\n"
          ]
        }
      ],
      "source": [
        "ls1 = [\"apple\", \"banana\", \"cherry\"]\n",
        "new_list = ls1.copy()\n",
        "new_list.append(\"blueberry\")\n",
        "print(new_list)\n",
        "print(ls1)"
      ]
    }
  ],
  "metadata": {
    "colab": {
      "provenance": []
    },
    "kernelspec": {
      "display_name": "Python 3",
      "language": "python",
      "name": "python3"
    },
    "language_info": {
      "codemirror_mode": {
        "name": "ipython",
        "version": 3
      },
      "file_extension": ".py",
      "mimetype": "text/x-python",
      "name": "python",
      "nbconvert_exporter": "python",
      "pygments_lexer": "ipython3",
      "version": "3.12.1"
    }
  },
  "nbformat": 4,
  "nbformat_minor": 0
}