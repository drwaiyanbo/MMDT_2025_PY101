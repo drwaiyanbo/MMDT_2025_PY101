{
  "nbformat": 4,
  "nbformat_minor": 0,
  "metadata": {
    "colab": {
      "provenance": []
    },
    "kernelspec": {
      "name": "python3",
      "display_name": "Python 3"
    },
    "language_info": {
      "name": "python"
    }
  },
  "cells": [
    {
      "cell_type": "markdown",
      "source": [
        "Write a program that asks the user to enter a length in centimeters. If the user enters a negative length, the program should tell the user that the entry is invalid. Otherwise, the program should convert the length to inches and print out the result. There are 2.54 centimeters in an inch.\n"
      ],
      "metadata": {
        "id": "r9njLbxcvG0w"
      }
    },
    {
      "cell_type": "code",
      "source": [
        "len_cm = float (input (\"Enter your length in centimeters : \"))\n",
        "cvt_inch = len_cm / 2.54\n",
        "if len_cm < 0 :\n",
        "  print (\"The entry is invalid\")\n",
        "else:\n",
        "  print (\"Length in inches: \", cvt_inch)"
      ],
      "metadata": {
        "id": "76EFWr1AvMy4"
      },
      "execution_count": null,
      "outputs": []
    },
    {
      "cell_type": "markdown",
      "source": [
        "Ask the user to enter a temperature in Celsius. The program should print a message based on the temperature:\n",
        "\n",
        "*   If the temperature is less than -273.15, print that the temperature is invalid because it is below absolute zero.\n",
        "*   If it is exactly -273.15, print that the temperature is absolute 0.\n",
        "*   If the temperature is between -273.15 and 0, print that the temperature is below freezing.\n",
        "*   If it is 0, print that the temperature is at the freezing point.\n",
        "*   If it is between 0 and 100, print that the temperature is in the normal range.\n",
        "*   If it is 100, print that the temperature is at the boiling point.\n",
        "*   If it is above 100, print that the temperature is above the boiling point."
      ],
      "metadata": {
        "id": "zvaDTmuhvNWJ"
      }
    },
    {
      "cell_type": "code",
      "source": [
        "temp_c = float (input (\"Enter a temperature in Celsius\"))\n",
        "if temp_c < -273.15:\n",
        "  print(\"The temperature is invalid because it is below absolute zero\")\n",
        "elif temp_c == -273.15:\n",
        "  print(\"The temperature is absolute 0\")\n",
        "elif 0 > temp_c < -273.15:\n",
        "  print(\"The temperature is below freezing\")\n",
        "elif temp_c == 0:\n",
        "  print(\"The temperature is at the freezing point\")\n",
        "elif 0 < temp_c < 100:\n",
        "  print(\"The temperature is in the normal range\")\n",
        "elif temp_c == 100:\n",
        "  print(\"The temperature is at the boiling point\")\n",
        "elif temp_c > 100:\n",
        "  print(\"The temperature is above the boiling point\")"
      ],
      "metadata": {
        "id": "UiCbUIcwvqxO"
      },
      "execution_count": null,
      "outputs": []
    },
    {
      "cell_type": "markdown",
      "source": [
        "Write a program that asks the user how many credits they have taken. If they have taken 23 or less, print that the student is a freshman. If they have taken between 24 and 53, print that they are a sophomore. The range for juniors is 54 to 83, and for seniors it is 84 and over."
      ],
      "metadata": {
        "id": "hoczytNLvrnd"
      }
    },
    {
      "cell_type": "code",
      "source": [
        "crds = float (input(\"Please enter your credits: \"))\n",
        "if crds <= 23:\n",
        "  print(\"The student is a freshman\")\n",
        "elif crds > 24 and crds < 53:\n",
        "  print(\"They are a sophomore\")\n",
        "elif 54 <= crds <= 83:\n",
        "  print(\"The range for juniors\")\n",
        "elif crds >=84:\n",
        "  print(\"The rangew for seniors\")"
      ],
      "metadata": {
        "id": "r8_O-_zLvurf"
      },
      "execution_count": null,
      "outputs": []
    }
  ]
}