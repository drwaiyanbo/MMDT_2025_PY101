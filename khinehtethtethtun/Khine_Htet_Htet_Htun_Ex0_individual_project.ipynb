{
  "cells": [
    {
      "cell_type": "markdown",
      "metadata": {
        "id": "IF_5oIm6wipP"
      },
      "source": [
        "1) Write a Python program in the below cell to create a dictionary that count the frequency of words in the string given in Q1.txt. Find the most frequent occured word.\n",
        "\n",
        "Don't remove the comment lines provided."
      ]
    },
    {
      "cell_type": "code",
      "execution_count": 9,
      "metadata": {
        "colab": {
          "base_uri": "https://localhost:8080/"
        },
        "id": "JkiJMvM3wipW",
        "outputId": "ef189c44-75ba-4bd7-e0a8-f0976271f3c9"
      },
      "outputs": [
        {
          "output_type": "stream",
          "name": "stdout",
          "text": [
            "Drive already mounted at /content/drive; to attempt to forcibly remount, call drive.mount(\"/content/drive\", force_remount=True).\n",
            "I love this movie! It is sweet, but with satirical humor. The dialogs are great and the adventure scenes are fun. It manages to be romantic and whimsical while laughingat the conventions of the fairy tale genre. I would recommend it to just about anyone. I have seen it several times and I am always happy to see it again and again. \n",
            "The most frequent occured word:  it\n"
          ]
        }
      ],
      "source": [
        "#step 1: read content from Q1.txt\n",
        "#with open('./data/Q1.txt', 'r') as file1:\n",
        "    #word_string = file1.read()\n",
        "#print(word_string)\n",
        "\n",
        "#temp access to google drive\n",
        "from google.colab import drive\n",
        "drive.mount('/content/drive') #mounted\n",
        "\n",
        "#drive path\n",
        "file_path ='/content/drive/MyDrive/Colab Notebooks/MMDT Python Track/Exs/Q1.txt'\n",
        "\n",
        "with open(file_path, 'r') as file1:\n",
        "    word_string = file1.read()\n",
        "print(word_string)\n",
        "\n",
        "#step 2.1 - change the case to upper or lower.\n",
        "word_string = word_string.lower()\n",
        "\n",
        "#step 2.2 - remove pun : use replace\n",
        "word_string = word_string.replace('pun :', \" \")\n",
        "\n",
        "#step 2.3 - split using space\n",
        "word_string =  word_string.split()\n",
        "\n",
        "#Step 3: create a dictionary\n",
        "word_counts = {}\n",
        "for word in word_string:\n",
        "  if word in word_counts:\n",
        "    word_counts[word] +=1\n",
        "  else:\n",
        "    word_counts[word] = 1\n",
        "#print(word_counts)\n",
        "\n",
        "#Step 4: find the most frequent occured one\n",
        "most_frequent = max(word_counts, key = word_counts.get)\n",
        "print(\"The most frequent occured word: \" , most_frequent)\n",
        "\n",
        "\n",
        "\n"
      ]
    },
    {
      "cell_type": "markdown",
      "metadata": {
        "id": "BM1ZacXDwipa"
      },
      "source": [
        "2) Write a Python program to read the name from Q2.txt and create email using domain 'simons-rock.edu' and save the results as dictionary : {'name': 'name@simons-rock.edu'}.\n",
        "Please take note that your email should not include space or any special characters and all charcters should be in lowercase."
      ]
    },
    {
      "cell_type": "code",
      "execution_count": 14,
      "metadata": {
        "id": "nqJC977awipb",
        "colab": {
          "base_uri": "https://localhost:8080/"
        },
        "outputId": "b7979a6b-8ebc-4354-fd30-c8a88f4db423"
      },
      "outputs": [
        {
          "output_type": "stream",
          "name": "stdout",
          "text": [
            "Drive already mounted at /content/drive; to attempt to forcibly remount, call drive.mount(\"/content/drive\", force_remount=True).\n",
            "dechendorji : dechendorji@simons-rock.edu\n",
            "dekitshomo : dekitshomo@simons-rock.edu\n",
            "dorjitshering : dorjitshering@simons-rock.edu\n",
            "dorjiwangmo : dorjiwangmo@simons-rock.edu\n",
            "gemtsheringlepcha : gemtsheringlepcha@simons-rock.edu\n",
            "jigmedorji : jigmedorji@simons-rock.edu\n",
            "kinleycheki : kinleycheki@simons-rock.edu\n",
            "kinleywangmo : kinleywangmo@simons-rock.edu\n",
            "ngawangdemakarpo : ngawangdemakarpo@simons-rock.edu\n",
            "roshanchhetri : roshanchhetri@simons-rock.edu\n",
            "sonamtenzin : sonamtenzin@simons-rock.edu\n",
            "sonamtobgay : sonamtobgay@simons-rock.edu\n",
            "sonamyangden : sonamyangden@simons-rock.edu\n",
            "tandinom : tandinom@simons-rock.edu\n",
            "tandinwangchuk : tandinwangchuk@simons-rock.edu\n",
            "tashiom : tashiom@simons-rock.edu\n",
            "tendayzangmo : tendayzangmo@simons-rock.edu\n",
            "tsheringpem : tsheringpem@simons-rock.edu\n",
            "ugyenphurpa : ugyenphurpa@simons-rock.edu\n",
            "marmitt : marmitt@simons-rock.edu\n"
          ]
        }
      ],
      "source": [
        "#step 1: read Q2. txt into the list\n",
        "#with open ('./data/Q2.txt', 'r') as names:\n",
        "    #header = names.readline()\n",
        "    #namelist = names.readlines()\n",
        "\n",
        "#temp access to google drive\n",
        "from google.colab import drive\n",
        "drive.mount('/content/drive') #mounted\n",
        "\n",
        "#drive path\n",
        "file_path ='/content/drive/MyDrive/Colab Notebooks/MMDT Python Track/Exs/Q2.txt'\n",
        "\n",
        "with open(file_path, 'r') as names: #open the file with read mode\n",
        "    header = names.readline()  # read the first line\n",
        "    namelist = names.readlines() #read the rest of the lines\n",
        "    #print(namelist)\n",
        "\n",
        "\n",
        "#step 2: create email for each name in the list and save them in the dictionary\n",
        "# You need to do the necessary data cleaning\n",
        "# For example, removing the space and special characters if there is any, converting them to lower case\n",
        "#data cleaning\n",
        "mail_dict = {}\n",
        "for name in namelist:\n",
        "  cleaned_name = name.lower().strip() #strip is to remove \\n\n",
        "  cleaned_name = cleaned_name.replace(\" \",\"\").replace(\"#\",\"\").replace(\"!\",\"\")\n",
        "  email = cleaned_name + \"@simons-rock.edu\"\n",
        "  mail_dict[cleaned_name] = email\n",
        "  print(f\"{cleaned_name} : {email}\")\n"
      ]
    },
    {
      "cell_type": "markdown",
      "metadata": {
        "id": "W3YaqoHGwipc"
      },
      "source": [
        "3) Write a Python program for \"Guessing Game: Guess the Number Challenge\"\n",
        "\n",
        "Step 1: Use a random function to generate a number.\n",
        "\n",
        "##### Game starts.......\n",
        "\n",
        "Step 2: Prompt the user to guess an integer number. Provide a range if needed to give the user context for their guess.\n",
        "\n",
        "Step 3: Check the condition of the guessed number compared to the generated number and provide feedback accordingly. For example, if the guess is too high or too low, inform the user.\n",
        "\n",
        "Step 4.1: If the guess is incorrect, allow the user to guess again. Repeat this process for a maximum of 10 guesses.\n",
        "\n",
        "Step 4.2: If the user guesses the number correctly, inform them that they have won. Also, indicate how many guesses were needed before guessing correctly.\n",
        "\n",
        "Step 4.3: If the user exhausts all 10 guesses without guessing the correct number, say \"goodbye.\"\n",
        "\n",
        "##### Game ends ...\n",
        "\n",
        "Step 5: Regardless of winning or losing, ask the user if they want to play again. This ensures the program's continuity and gives the user the option to continue playing if they wish."
      ]
    },
    {
      "cell_type": "code",
      "execution_count": 20,
      "metadata": {
        "colab": {
          "base_uri": "https://localhost:8080/"
        },
        "id": "AJN-0CNFwipd",
        "outputId": "6c428147-dfea-4e99-8763-61e010d13469"
      },
      "outputs": [
        {
          "name": "stdout",
          "output_type": "stream",
          "text": [
            "Guessing Game: Guess the Number Challenge\n",
            "Game starts.......\n",
            "Guess any number in your mind (1 to 15)1\n",
            "Guess number is too low.\n",
            "Guess any number in your mind (1 to 15)1\n",
            "Guess number is too low.\n",
            "Guess any number in your mind (1 to 15)1\n",
            "Guess number is too low.\n",
            "Guess any number in your mind (1 to 15)1\n",
            "Guess number is too low.\n",
            "Guess any number in your mind (1 to 15)1\n",
            "Guess number is too low.\n",
            "Guess any number in your mind (1 to 15)1\n",
            "Guess number is too low.\n",
            "Guess any number in your mind (1 to 15)1\n",
            "Guess number is too low.\n",
            "Guess any number in your mind (1 to 15)1\n",
            "Guess number is too low.\n",
            "Guess any number in your mind (1 to 15)1\n",
            "Guess number is too low.\n",
            "Guess any number in your mind (1 to 15)1\n",
            "Guess number is too low.\n",
            "Incorrect all 10 guesses. You used all attempts.\n",
            "Goodbye.....\n",
            "PLAY AGAIN (yes/no)yes\n",
            "Guessing Game: Guess the Number Challenge\n",
            "Game starts.......\n",
            "Guess any number in your mind (1 to 15)1\n",
            "Guess number is too low.\n",
            "Guess any number in your mind (1 to 15)7\n",
            "Guess number is too low.\n",
            "Guess any number in your mind (1 to 15)11\n",
            "Guess number is too low.\n",
            "Guess any number in your mind (1 to 15)14\n",
            "Guess number is too high.\n",
            "Guess any number in your mind (1 to 15)13\n",
            "Guess number is too high.\n",
            "Guess any number in your mind (1 to 15)12\n",
            "Congratulations, Your guess is correct\n",
            "PLAY AGAIN (yes/no)no\n"
          ]
        }
      ],
      "source": [
        "\n",
        "\n",
        "import random\n",
        "\n",
        "play_again = \"yes\" #for yes/no loop\n",
        "while play_again == \"yes\":\n",
        "  Game = \"Guessing Game: Guess the Number Challenge\"\n",
        "  print(Game)\n",
        "  print(\"Game starts.......\")\n",
        "\n",
        "  secret_num = random.randint(1,15)\n",
        "  guess_count = 0\n",
        "\n",
        "  while guess_count < 10: # guess count loop\n",
        "    guess_int = int(input(\"Guess any number in your mind (1 to 15)\"))\n",
        "    guess_count += 1\n",
        "\n",
        "    if guess_int < secret_num: #input\n",
        "          print(\"Guess number is too low.\")\n",
        "    elif guess_int > secret_num:\n",
        "          print(\"Guess number is too high.\")\n",
        "    else:\n",
        "          print(\"Congratulations, Your guess is correct\")\n",
        "          break\n",
        "\n",
        "  if guess_int != secret_num:\n",
        "    print(\"Incorrect all 10 guesses. You used all attempts.\")\n",
        "    print(\"Goodbye.....\")\n",
        "\n",
        "  play_again = str(input(\"PLAY AGAIN (yes/no)\"))\n",
        "\n"
      ]
    }
  ],
  "metadata": {
    "kernelspec": {
      "display_name": ".venv",
      "language": "python",
      "name": "python3"
    },
    "language_info": {
      "codemirror_mode": {
        "name": "ipython",
        "version": 3
      },
      "file_extension": ".py",
      "mimetype": "text/x-python",
      "name": "python",
      "nbconvert_exporter": "python",
      "pygments_lexer": "ipython3",
      "version": "3.12.2"
    },
    "colab": {
      "provenance": []
    }
  },
  "nbformat": 4,
  "nbformat_minor": 0
}