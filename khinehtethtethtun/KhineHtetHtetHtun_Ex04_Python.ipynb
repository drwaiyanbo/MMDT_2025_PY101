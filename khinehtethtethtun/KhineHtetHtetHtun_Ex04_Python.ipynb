{
  "cells": [
    {
      "cell_type": "markdown",
      "metadata": {
        "id": "YeTHwB3EASGn"
      },
      "source": [
        "The exercises are extracted from A_Practical_Introduction_to_Python_Programming_Heinold.pdf"
      ]
    },
    {
      "cell_type": "markdown",
      "metadata": {
        "id": "wVOW5QDgAZ_R"
      },
      "source": [
        "Ex 1: Write a program that uses a while loop (not a for loop) to read through a string and print\n",
        "the characters of the string one-by-one on separate lines."
      ]
    },
    {
      "cell_type": "code",
      "execution_count": null,
      "metadata": {
        "id": "77KGqP-sJJNh",
        "colab": {
          "base_uri": "https://localhost:8080/"
        },
        "outputId": "30c9e3c4-38b4-478a-af5f-dfa6d314ffd3"
      },
      "outputs": [
        {
          "output_type": "stream",
          "name": "stdout",
          "text": [
            "c\n",
            "h\n",
            "a\n",
            "r\n",
            "a\n",
            "c\n",
            "t\n",
            "e\n",
            "r\n",
            "s\n"
          ]
        }
      ],
      "source": [
        "string = \"characters\"\n",
        "idx = 0\n",
        "while len(string)>idx:\n",
        "  print(string[idx])\n",
        "  idx = idx+1"
      ]
    },
    {
      "cell_type": "markdown",
      "metadata": {
        "id": "5B-LyYV0AkCK"
      },
      "source": [
        "Ex 2: A good program will make sure that the data its users enter is valid. Write a program that\n",
        "asks the user for a weight and converts it from kilograms to pounds. Whenever the user\n",
        "enters a weight below 0, the program should tell them that their entry is invalid and then ask\n",
        "them again to enter a weight. [Hint: Use a while loop, not an if statement]."
      ]
    },
    {
      "cell_type": "code",
      "execution_count": null,
      "metadata": {
        "id": "gpRZnsXjArkF",
        "colab": {
          "base_uri": "https://localhost:8080/"
        },
        "outputId": "722beab6-d023-43f0-869f-d7aea6fec1e1"
      },
      "outputs": [
        {
          "output_type": "stream",
          "name": "stdout",
          "text": [
            "Please enter your weight (kg) : -1\n",
            "Your entry is invalid. Please enter your actual weight.\n",
            "Please enter your weight (kg) : 9\n",
            "Your weight in pounds :  19.845\n"
          ]
        }
      ],
      "source": [
        "weight = int(input(\"Please enter your weight (kg) : \"))\n",
        "while weight < 0:\n",
        "  print(\"Your entry is invalid. Please enter your actual weight.\")\n",
        "  weight = int(input(\"Please enter your weight (kg) : \"))\n",
        "\n",
        "w_p = weight * 2.205\n",
        "print(\"Your weight in pounds : \", w_p)"
      ]
    },
    {
      "cell_type": "markdown",
      "metadata": {
        "id": "zQT0pCjRAsIK"
      },
      "source": [
        "Ex 3: Write a program that allows the user to enter any number of test scores. The user indicates\n",
        "they are done by entering in a negative number. Print how many of the scores are A’s (90 or\n",
        "above). Also print out the average"
      ]
    },
    {
      "cell_type": "code",
      "execution_count": null,
      "metadata": {
        "id": "Gya-rvYUAviK",
        "colab": {
          "base_uri": "https://localhost:8080/"
        },
        "outputId": "7bb15b59-a622-48ef-8f56-86bfa5ace883"
      },
      "outputs": [
        {
          "output_type": "stream",
          "name": "stdout",
          "text": [
            "Please enter any number of test scores: -1\n",
            "You are entering a negative number and it doesn't work.\n"
          ]
        }
      ],
      "source": [
        "count = 0\n",
        "total = 0\n",
        "Count_A = 0\n",
        "\n",
        "test_scores = int(input(\"Please enter any number of test scores: \"))\n",
        "\n",
        "while test_scores >= 0:\n",
        "    if test_scores >= 90:\n",
        "      Count_A += 1\n",
        "      print(\"Score A's Count\" , Count_A)\n",
        "\n",
        "    count += 1\n",
        "\n",
        "    total += test_scores\n",
        "    avg = total/count\n",
        "    print(\"Average Score : \", avg)\n",
        "\n",
        "    break\n",
        "else:\n",
        "  print(\"You are entering a negative number and it doesn't work.\")\n"
      ]
    },
    {
      "cell_type": "markdown",
      "metadata": {
        "id": "IHIWc5jHAwxY"
      },
      "source": [
        "Ex 4: Write a program that asks the user for a string and a letter. Using a for loop, the\n",
        "program should print the index of the first occurrence of that letter and a message if the\n",
        "string does not contain the letter."
      ]
    },
    {
      "cell_type": "code",
      "execution_count": null,
      "metadata": {
        "id": "xSe0mtQ8A68M",
        "colab": {
          "base_uri": "https://localhost:8080/"
        },
        "outputId": "0d72ce06-79d8-42b8-aec1-60ef4cdae014"
      },
      "outputs": [
        {
          "output_type": "stream",
          "name": "stdout",
          "text": [
            "Please enter a string : orange\n",
            "please enter a letter : o\n",
            "The index of the first occurrence of that letter :  0\n"
          ]
        }
      ],
      "source": [
        "string = input(\"Please enter a string : \")\n",
        "letter = input(\"please enter a letter : \")\n",
        "\n",
        "for i in range(len(string)):\n",
        "  if string[i] == letter:\n",
        "    print(\"The index of the first occurrence of that letter : \", i)\n",
        "    break\n",
        "else:\n",
        "    print (\"The string does not contain the letter.\")"
      ]
    },
    {
      "cell_type": "markdown",
      "source": [],
      "metadata": {
        "id": "6_JlBh6mku05"
      }
    },
    {
      "cell_type": "markdown",
      "metadata": {
        "id": "PfyUq4CnA8vk"
      },
      "source": [
        "Ex 5: Write a program in which you have a list that contains seven integers that can be 0 or 1. Find the first zero entry in the list and change it to a 1. If there are no zero entries, print a message saying so."
      ]
    },
    {
      "cell_type": "code",
      "execution_count": 1,
      "metadata": {
        "id": "_ZyDbwEwiYw9",
        "colab": {
          "base_uri": "https://localhost:8080/"
        },
        "outputId": "db180f42-c6aa-4246-f23d-48aa982d0730"
      },
      "outputs": [
        {
          "output_type": "stream",
          "name": "stdout",
          "text": [
            "1\n"
          ]
        }
      ],
      "source": [
        "list_int = [1,0,0,0,1,1,0]\n",
        "for i in range(len(list_int)):\n",
        "  if list_int[i] == 0:\n",
        "    list_int[i] = 1\n",
        "    print(i)\n",
        "    break\n",
        "else:\n",
        "  print(\"There are no zero entries\")\n"
      ]
    }
  ],
  "metadata": {
    "colab": {
      "provenance": []
    },
    "kernelspec": {
      "display_name": "Python 3",
      "name": "python3"
    },
    "language_info": {
      "codemirror_mode": {
        "name": "ipython",
        "version": 3
      },
      "file_extension": ".py",
      "mimetype": "text/x-python",
      "name": "python",
      "nbconvert_exporter": "python",
      "pygments_lexer": "ipython3",
      "version": "3.12.1"
    }
  },
  "nbformat": 4,
  "nbformat_minor": 0
}