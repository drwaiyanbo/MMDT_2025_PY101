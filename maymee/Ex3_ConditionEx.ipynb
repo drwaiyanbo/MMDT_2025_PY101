{
  "nbformat": 4,
  "nbformat_minor": 0,
  "metadata": {
    "colab": {
      "name": "Ex3_ConditionEx.ipynb",
      "provenance": [],
      "include_colab_link": true
    },
    "kernelspec": {
      "name": "python3",
      "display_name": "Python 3"
    },
    "language_info": {
      "name": "python"
    }
  },
  "cells": [
    {
      "cell_type": "markdown",
      "metadata": {
        "id": "view-in-github",
        "colab_type": "text"
      },
      "source": [
        "<a href=\"https://colab.research.google.com/github/Maymee614/MMDT_2025_PY101/blob/main/maymee/Ex3_ConditionEx.ipynb\" target=\"_parent\"><img src=\"https://colab.research.google.com/assets/colab-badge.svg\" alt=\"Open In Colab\"/></a>"
      ]
    },
    {
      "cell_type": "markdown",
      "source": [
        "Write a program that asks the user to enter a length in centimeters. If the user enters a negative length, the program should tell the user that the entry is invalid. Otherwise, the program should convert the length to inches and print out the result. There are 2.54 centimeters in an inch.\n"
      ],
      "metadata": {
        "id": "r9njLbxcvG0w"
      }
    },
    {
      "cell_type": "code",
      "source": [
        "cm = float(input(\"Enter a length in centimeters: \"))\n",
        "\n",
        "if cm < 0:\n",
        "    print(\"Invalid entry: Length cannot be negative.\")\n",
        "else:\n",
        "    inches = cm / 2.54\n"
      ],
      "metadata": {
        "colab": {
          "base_uri": "https://localhost:8080/"
        },
        "id": "NRgfUtNs57r8",
        "outputId": "b0a05c28-674a-40bb-c7c9-54841db061ba"
      },
      "execution_count": 46,
      "outputs": [
        {
          "output_type": "stream",
          "name": "stdout",
          "text": [
            "Enter a length in centimeters: 44\n",
            "44.0 cm is equal to 17.32 inches.\n"
          ]
        }
      ]
    },
    {
      "cell_type": "markdown",
      "source": [
        "Ask the user to enter a temperature in Celsius. The program should print a message based on the temperature:\n",
        "\n",
        "*   If the temperature is less than -273.15, print that the temperature is invalid because it is below absolute zero.\n",
        "*   If it is exactly -273.15, print that the temperature is absolute 0.\n",
        "*   If the temperature is between -273.15 and 0, print that the temperature is below freezing.\n",
        "*   If it is 0, print that the temperature is at the freezing point.\n",
        "*   If it is between 0 and 100, print that the temperature is in the normal range.\n",
        "*   If it is 100, print that the temperature is at the boiling point.\n",
        "*   If it is above 100, print that the temperature is above the boiling point."
      ],
      "metadata": {
        "id": "zvaDTmuhvNWJ"
      }
    },
    {
      "cell_type": "code",
      "source": [
        "temperature = float(input(\"Enter a temperature in Celsius: \"))\n",
        "\n",
        "if temperature < -273.15:\n",
        "    print(\"Invalid temperature: Below absolute zero!\")\n",
        "elif temperature == -273.15:\n",
        "    print(\"Absolute zero!\")\n",
        "elif temperature < 0:\n",
        "    print(\"Below freezing!\")\n",
        "elif temperature == 0:\n",
        "    print(\"At the freezing point!\")\n",
        "elif temperature < 100:\n",
        "    print(\"In the normal range!\")\n",
        "elif temperature == 100:\n",
        "    print(\"At the boiling point!\")\n",
        "else:\n",
        "    print(\"Above the boiling point!\")"
      ],
      "metadata": {
        "colab": {
          "base_uri": "https://localhost:8080/"
        },
        "id": "3Cg7yT-d4yac",
        "outputId": "ac01d8c0-46ac-4605-8377-e2863342511f"
      },
      "execution_count": 45,
      "outputs": [
        {
          "output_type": "stream",
          "name": "stdout",
          "text": [
            "Enter a temperature in Celsius: 150\n",
            "Above the boiling point!\n"
          ]
        }
      ]
    },
    {
      "cell_type": "markdown",
      "source": [
        "Write a program that asks the user how many credits they have taken. If they have taken 23 or less, print that the student is a freshman. If they have taken between 24 and 53, print that they are a sophomore. The range for juniors is 54 to 83, and for seniors it is 84 and over."
      ],
      "metadata": {
        "id": "hoczytNLvrnd"
      }
    },
    {
      "cell_type": "code",
      "source": [
        "credits = int(input(\"The number of credits you have taken: \"))\n",
        "if credits <= 23:\n",
        "    print(\"You are a freshman.\")\n",
        "elif credits <= 53:\n",
        "    print(\"You are a sophomore.\")\n",
        "elif credits <= 83:\n",
        "    print(\"You are a junior.\")\n",
        "else:\n",
        "    print(\"You are a senior.\")\n",
        "\n"
      ],
      "metadata": {
        "id": "r8_O-_zLvurf",
        "colab": {
          "base_uri": "https://localhost:8080/"
        },
        "outputId": "3856c4d1-5e53-4392-bac3-20998f7dbe86"
      },
      "execution_count": 44,
      "outputs": [
        {
          "output_type": "stream",
          "name": "stdout",
          "text": [
            "The number of credits you have taken: 55\n",
            "You are a junior.\n"
          ]
        }
      ]
    }
  ]
}