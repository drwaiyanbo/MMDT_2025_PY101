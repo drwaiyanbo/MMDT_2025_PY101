{
  "cells": [
    {
      "cell_type": "markdown",
      "metadata": {
        "id": "view-in-github",
        "colab_type": "text"
      },
      "source": [
        "<a href=\"https://colab.research.google.com/github/Maymee614/MMDT_2025_PY101/blob/main/maymee/Ex4_Looping.ipynb\" target=\"_parent\"><img src=\"https://colab.research.google.com/assets/colab-badge.svg\" alt=\"Open In Colab\"/></a>"
      ]
    },
    {
      "cell_type": "markdown",
      "metadata": {
        "id": "YeTHwB3EASGn"
      },
      "source": [
        "The exercises are extracted from A_Practical_Introduction_to_Python_Programming_Heinold.pdf"
      ]
    },
    {
      "cell_type": "markdown",
      "metadata": {
        "id": "wVOW5QDgAZ_R"
      },
      "source": [
        "Ex 1: Write a program that uses a while loop (not a for loop) to read through a string and print\n",
        "the characters of the string one-by-one on separate lines."
      ]
    },
    {
      "cell_type": "code",
      "execution_count": null,
      "metadata": {
        "id": "77KGqP-sJJNh"
      },
      "outputs": [],
      "source": [
        " text = \"may\"\n",
        " i = 0\n",
        " while i < len(text):\n",
        "  print(text[i])\n",
        "  i += 1"
      ]
    },
    {
      "cell_type": "markdown",
      "metadata": {
        "id": "5B-LyYV0AkCK"
      },
      "source": [
        "Ex 2: A good program will make sure that the data its users enter is valid. Write a program that\n",
        "asks the user for a weight and converts it from kilograms to pounds. Whenever the user\n",
        "enters a weight below 0, the program should tell them that their entry is invalid and then ask\n",
        "them again to enter a weight. [Hint: Use a while loop, not an if statement]."
      ]
    },
    {
      "cell_type": "code",
      "execution_count": 1,
      "metadata": {
        "id": "gpRZnsXjArkF",
        "colab": {
          "base_uri": "https://localhost:8080/"
        },
        "outputId": "3ec98764-090d-4330-da69-dd0f3e059558"
      },
      "outputs": [
        {
          "output_type": "stream",
          "name": "stdout",
          "text": [
            "enter weight in kilograms: 45\n",
            "weight in puntds:  99.208\n"
          ]
        }
      ],
      "source": [
        "weight_kg=-1\n",
        "while weight_kg < 0:\n",
        "  weight_kg = float(input(\"enter weight in kilograms: \"))\n",
        "  if weight_kg<0:\n",
        "    print(\"Invalid Input: please Try again\")\n",
        "  else:\n",
        "    weight_lb = weight_kg * 2.20462\n",
        "print(f\"weight in puntds: {weight_lb: .3f}\")\n"
      ]
    },
    {
      "cell_type": "markdown",
      "metadata": {
        "id": "zQT0pCjRAsIK"
      },
      "source": [
        "Ex 3: Write a program that allows the user to enter any number of test scores. The user indicates\n",
        "they are done by entering in a negative number. Print how many of the scores are A’s (90 or\n",
        "above). Also print out the average"
      ]
    },
    {
      "cell_type": "code",
      "execution_count": 2,
      "metadata": {
        "id": "Gya-rvYUAviK",
        "colab": {
          "base_uri": "https://localhost:8080/"
        },
        "outputId": "ede2eb7d-bdc7-4063-dae0-884256e50e67"
      },
      "outputs": [
        {
          "output_type": "stream",
          "name": "stdout",
          "text": [
            "Please enter a number :91\n",
            "Please enter a number :-45\n",
            "the number of score that get A plus :  1\n",
            "the average score :  23.0\n"
          ]
        }
      ],
      "source": [
        "score=1\n",
        "Aplus_count=0\n",
        "total_score=0\n",
        "count_score=0\n",
        "while score>0 :\n",
        "  score=int(input(\"Please enter a number :\"))\n",
        "  if score>=90:\n",
        "    Aplus_count=Aplus_count+1\n",
        "  total_score=total_score+score\n",
        "  count_score=count_score+1\n",
        "print(\"the number of score that get A plus : \", Aplus_count)\n",
        "print(\"the average score : \", total_score/count_score)"
      ]
    },
    {
      "cell_type": "markdown",
      "metadata": {
        "id": "IHIWc5jHAwxY"
      },
      "source": [
        "Ex 4: Write a program that asks the user for a string and a letter. Using a for loop, the\n",
        "program should print the index of the first occurrence of that letter and a message if the\n",
        "string does not contain the letter."
      ]
    },
    {
      "cell_type": "code",
      "execution_count": 3,
      "metadata": {
        "id": "xSe0mtQ8A68M",
        "colab": {
          "base_uri": "https://localhost:8080/"
        },
        "outputId": "3d8e7257-53f7-41ab-be0e-9ab87f1fdcbd"
      },
      "outputs": [
        {
          "output_type": "stream",
          "name": "stdout",
          "text": [
            "Please enter an string of text: hello\n",
            "A letter to search the first occurance for: e\n",
            "letter found at index1\n"
          ]
        }
      ],
      "source": [
        "text = input(\"Please enter an string of text: \")\n",
        "letter = input(\"A letter to search the first occurance for: \")\n",
        "found_index=-1\n",
        "for index,char in enumerate(text):\n",
        "    if char == letter:\n",
        "       found_index=index\n",
        "       break\n",
        "if found_index == -1:\n",
        "  print(\"letter not found\")\n",
        "else:\n",
        "  print(f\"letter found at index{index}\")"
      ]
    },
    {
      "cell_type": "markdown",
      "metadata": {
        "id": "PfyUq4CnA8vk"
      },
      "source": [
        "Ex 5: Write a program in which you have a list that contains seven integers that can be 0 or 1. Find the first zero entry in the list and change it to a 1. If there are no zero entries, print a message saying so."
      ]
    },
    {
      "cell_type": "code",
      "execution_count": 4,
      "metadata": {
        "colab": {
          "base_uri": "https://localhost:8080/"
        },
        "id": "9JuJNAwB2RXT",
        "outputId": "c85b5e45-808a-4418-c259-17291298c0a3"
      },
      "outputs": [
        {
          "output_type": "stream",
          "name": "stdout",
          "text": [
            "Updated list:  [1, 1, 1, 1, 1, 1, 0]\n"
          ]
        }
      ],
      "source": [
        "binary_list = [1,0,1,1,1,1,0]\n",
        "i = 0\n",
        "found = False\n",
        "while i < len(binary_list):\n",
        "  if binary_list[i] == 0:\n",
        "    binary_list[i] = 1\n",
        "\n",
        "    found = True\n",
        "    break\n",
        "  i += 1\n",
        "print(\"Updated list: \", binary_list)"
      ]
    }
  ],
  "metadata": {
    "colab": {
      "name": "Ex4_Looping.ipynb",
      "provenance": [],
      "include_colab_link": true
    },
    "kernelspec": {
      "display_name": "Python 3",
      "name": "python3"
    },
    "language_info": {
      "codemirror_mode": {
        "name": "ipython",
        "version": 3
      },
      "file_extension": ".py",
      "mimetype": "text/x-python",
      "name": "python",
      "nbconvert_exporter": "python",
      "pygments_lexer": "ipython3",
      "version": "3.12.1"
    }
  },
  "nbformat": 4,
  "nbformat_minor": 0
}