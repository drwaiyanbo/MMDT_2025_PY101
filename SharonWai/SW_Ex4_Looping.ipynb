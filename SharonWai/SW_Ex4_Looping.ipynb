{
  "cells": [
    {
      "cell_type": "markdown",
      "metadata": {
        "id": "view-in-github",
        "colab_type": "text"
      },
      "source": [
        "<a href=\"https://colab.research.google.com/github/SharonWai/MMDT_2025_PY101/blob/SharonWai1/SharonWai/SW_Ex4_Looping.ipynb\" target=\"_parent\"><img src=\"https://colab.research.google.com/assets/colab-badge.svg\" alt=\"Open In Colab\"/></a>"
      ]
    },
    {
      "cell_type": "markdown",
      "metadata": {
        "id": "YeTHwB3EASGn"
      },
      "source": [
        "The exercises are extracted from A_Practical_Introduction_to_Python_Programming_Heinold.pdf"
      ]
    },
    {
      "cell_type": "markdown",
      "metadata": {
        "id": "wVOW5QDgAZ_R"
      },
      "source": [
        "Ex 1: Write a program that uses a while loop (not a for loop) to read through a string and print\n",
        "the characters of the string one-by-one on separate lines."
      ]
    },
    {
      "cell_type": "code",
      "execution_count": 4,
      "metadata": {
        "id": "77KGqP-sJJNh",
        "colab": {
          "base_uri": "https://localhost:8080/"
        },
        "outputId": "434560cc-6660-4524-e1d0-cac338f66a13"
      },
      "outputs": [
        {
          "output_type": "stream",
          "name": "stdout",
          "text": [
            "I\n",
            " \n",
            "L\n",
            "o\n",
            "v\n",
            "e\n",
            " \n",
            "P\n",
            "y\n",
            "t\n",
            "h\n",
            "o\n",
            "n\n"
          ]
        }
      ],
      "source": [
        " text = \"I Love Python\"\n",
        " index = 0\n",
        " while index < len(text):\n",
        "  print(text[index])\n",
        "  index += 1"
      ]
    },
    {
      "cell_type": "markdown",
      "metadata": {
        "id": "5B-LyYV0AkCK"
      },
      "source": [
        "\n",
        "\n",
        "\n",
        "Ex 2: A good program will make sure that the data its users enter is valid. Write a program that\n",
        "asks the user for a weight and converts it from kilograms to pounds. Whenever the user\n",
        "enters a weight below 0, the program should tell them that their entry is invalid and then ask\n",
        "them again to enter a weight. [Hint: Use a while loop, not an if statement]."
      ]
    },
    {
      "cell_type": "code",
      "source": [
        "weight_kg = 0\n",
        "while weight_kg <=0:\n",
        "  weight_kg = float(input(\"Enter a weight in Kg:\"))\n",
        "  if weight_kg<=0:\n",
        "    print(\"Invalid entry. Please enter a valid number again.\")\n",
        "\n",
        "  weight_lbs = weight_kg * 2.20462\n",
        "  print(\"{} Kilograms is equal to {} pounds\".format(weight_kg,weight_lbs))\n"
      ],
      "metadata": {
        "colab": {
          "base_uri": "https://localhost:8080/"
        },
        "id": "1XpARTMcUcpZ",
        "outputId": "54dc9610-823a-40e7-d7e6-11ef6c111bc0"
      },
      "execution_count": 17,
      "outputs": [
        {
          "output_type": "stream",
          "name": "stdout",
          "text": [
            "Enter a weight in Kg:70\n",
            "70.0 Kilograms is equal to 154.3234 pounds\n"
          ]
        }
      ]
    },
    {
      "cell_type": "markdown",
      "metadata": {
        "id": "zQT0pCjRAsIK"
      },
      "source": [
        "Ex 3: Write a program that allows the user to enter any number of test scores. The user indicates\n",
        "they are done by entering in a negative number. Print how many of the scores are A’s (90 or\n",
        "above). Also print out the average"
      ]
    },
    {
      "cell_type": "code",
      "source": [
        "scores = []\n",
        "count_A = 0\n",
        "while True:\n",
        "  scores_input = int(input(\"Enter a test score (enter a negative nubmer to stop): \"))\n",
        "  if scores_input < 0:\n",
        "    break\n",
        "\n",
        "    scores.append(scores_input)\n",
        "\n",
        "    if scores_input >=90:\n",
        "      count_A += 1\n",
        "\n",
        "if scores:\n",
        "  avg = sum(scores)/len(scores)\n",
        "  print(\"Number of A grade (90 scores or above): {}\".format(count_A))\n",
        "  print(\"Average scores: {}\".format(avg))\n",
        "else:\n",
        "  print(\"No valid scores entered.\")"
      ],
      "metadata": {
        "colab": {
          "base_uri": "https://localhost:8080/"
        },
        "id": "RCi9sWiYipJq",
        "outputId": "1dd17616-2770-4e0b-a230-ad71a1ac6ef1"
      },
      "execution_count": 30,
      "outputs": [
        {
          "output_type": "stream",
          "name": "stdout",
          "text": [
            "Enter a test score (enter a negative nubmer to stop): 95\n",
            "Enter a test score (enter a negative nubmer to stop): 86\n",
            "Enter a test score (enter a negative nubmer to stop): 0\n",
            "Enter a test score (enter a negative nubmer to stop): -3\n",
            "No valid scores entered.\n"
          ]
        }
      ]
    },
    {
      "cell_type": "markdown",
      "metadata": {
        "id": "IHIWc5jHAwxY"
      },
      "source": [
        "Ex 4: Write a program that asks the user for a string and a letter. Using a for loop, the\n",
        "program should print the index of the first occurrence of that letter and a message if the\n",
        "string does not contain the letter."
      ]
    },
    {
      "cell_type": "code",
      "execution_count": 21,
      "metadata": {
        "id": "xSe0mtQ8A68M",
        "colab": {
          "base_uri": "https://localhost:8080/"
        },
        "outputId": "2b48cf56-a074-4562-922e-7ca52102a49c"
      },
      "outputs": [
        {
          "output_type": "stream",
          "name": "stdout",
          "text": [
            "Enter a string: python\n",
            "Enter a letter: o\n",
            "The letter o first appears at index 4\n"
          ]
        }
      ],
      "source": [
        "string = input(\"Enter a string: \")\n",
        "letter = input(\"Enter a letter: \")\n",
        "\n",
        "found = False\n",
        "for i in range(len(string)):\n",
        "  if string[i] == letter:\n",
        "    print(\"The letter {} first appears at index {}\".format(letter,i))\n",
        "    found = True\n",
        "    break\n",
        "\n",
        "if not found:\n",
        "  print(\"The letter {} was not found in the string\".format(letter))\n",
        ""
      ]
    },
    {
      "cell_type": "markdown",
      "source": [],
      "metadata": {
        "id": "nYGpWsOYd0zv"
      }
    },
    {
      "cell_type": "markdown",
      "metadata": {
        "id": "PfyUq4CnA8vk"
      },
      "source": [
        "Ex 5: Write a program in which you have a list that contains seven integers that can be 0 or 1. Find the first zero entry in the list and change it to a 1. If there are no zero entries, print a message saying so."
      ]
    },
    {
      "cell_type": "code",
      "execution_count": 25,
      "metadata": {
        "colab": {
          "base_uri": "https://localhost:8080/"
        },
        "id": "XnzDForJOP-0",
        "outputId": "90901d48-509a-4d39-f24e-b338fe1af5b6"
      },
      "outputs": [
        {
          "output_type": "stream",
          "name": "stdout",
          "text": [
            "No zero entries found in the list.\n",
            "First zero found at index 1. It has been changed to 1. Updated list: [1, 1, 1, 1, 0, 1, 1]\n"
          ]
        }
      ],
      "source": [
        "numbers = [1, 0, 1, 1, 0, 1, 1]\n",
        "found_zero = False\n",
        "for index, value in enumerate(numbers):\n",
        "  if value == 0:\n",
        "    numbers[index] = 1\n",
        "    found_zero = True\n",
        "    print(\"First zero found at index {}. It has been changed to 1. Updated list: {}\".format(index,numbers))\n",
        "    break\n",
        "\n",
        "  if not found_zero:\n",
        "    print(\"No zero entries found in the list.\")\n",
        "\n"
      ]
    },
    {
      "cell_type": "code",
      "source": [],
      "metadata": {
        "id": "Go5xcbhehR3K"
      },
      "execution_count": null,
      "outputs": []
    }
  ],
  "metadata": {
    "colab": {
      "name": "Ex4_Looping.ipynb",
      "provenance": [],
      "include_colab_link": true
    },
    "kernelspec": {
      "display_name": "Python 3",
      "name": "python3"
    },
    "language_info": {
      "codemirror_mode": {
        "name": "ipython",
        "version": 3
      },
      "file_extension": ".py",
      "mimetype": "text/x-python",
      "name": "python",
      "nbconvert_exporter": "python",
      "pygments_lexer": "ipython3",
      "version": "3.12.1"
    }
  },
  "nbformat": 4,
  "nbformat_minor": 0
}