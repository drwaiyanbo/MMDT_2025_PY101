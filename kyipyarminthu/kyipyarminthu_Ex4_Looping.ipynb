{
  "cells": [
    {
      "cell_type": "markdown",
      "metadata": {
        "colab_type": "text",
        "id": "view-in-github"
      },
      "source": [
        "<a href=\"https://colab.research.google.com/github/myothida/PythonProgramming/blob/main/Ex4_Looping.ipynb\" target=\"_parent\"><img src=\"https://colab.research.google.com/assets/colab-badge.svg\" alt=\"Open In Colab\"/></a>"
      ]
    },
    {
      "cell_type": "markdown",
      "metadata": {
        "id": "YeTHwB3EASGn"
      },
      "source": [
        "The exercises are extracted from A_Practical_Introduction_to_Python_Programming_Heinold.pdf"
      ]
    },
    {
      "cell_type": "markdown",
      "metadata": {
        "id": "wVOW5QDgAZ_R"
      },
      "source": [
        "Ex 1: Write a program that uses a while loop (not a for loop) to read through a string and print\n",
        "the characters of the string one-by-one on separate lines."
      ]
    },
    {
      "cell_type": "code",
      "execution_count": 3,
      "metadata": {
        "id": "77KGqP-sJJNh"
      },
      "outputs": [
        {
          "name": "stdout",
          "output_type": "stream",
          "text": [
            "K\n",
            "y\n",
            "i\n",
            " \n",
            "P\n",
            "y\n",
            "a\n",
            "r\n"
          ]
        }
      ],
      "source": [
        "text = \"Kyi Pyar\"\n",
        "i=0\n",
        "while i < len (text):\n",
        "    print (text[i])\n",
        "    i +=1\n"
      ]
    },
    {
      "cell_type": "markdown",
      "metadata": {
        "id": "5B-LyYV0AkCK"
      },
      "source": [
        "Ex 2: A good program will make sure that the data its users enter is valid. Write a program that\n",
        "asks the user for a weight and converts it from kilograms to pounds. Whenever the user\n",
        "enters a weight below 0, the program should tell them that their entry is invalid and then ask\n",
        "them again to enter a weight. [Hint: Use a while loop, not an if statement]."
      ]
    },
    {
      "cell_type": "code",
      "execution_count": 11,
      "metadata": {
        "id": "gpRZnsXjArkF"
      },
      "outputs": [
        {
          "name": "stdout",
          "output_type": "stream",
          "text": [
            "entry is invalid\n",
            "your pound is: 99.00000000000001\n"
          ]
        }
      ],
      "source": [
        "\n",
        "while True:\n",
        "    kilo =float(input(\"Enter your weight in Kilo:\"))\n",
        "    if kilo < 0:\n",
        "        print (\"entry is invalid\")\n",
        "    else :\n",
        "        kilo =kilo*2.2\n",
        "        print (\"your pound is:\",kilo)\n",
        "        break "
      ]
    },
    {
      "cell_type": "markdown",
      "metadata": {
        "id": "zQT0pCjRAsIK"
      },
      "source": [
        "Ex 3: Write a program that allows the user to enter any number of test scores. The user indicates\n",
        "they are done by entering in a negative number. Print how many of the scores are A’s (90 or\n",
        "above). Also print out the average"
      ]
    },
    {
      "cell_type": "code",
      "execution_count": 2,
      "metadata": {
        "id": "Gya-rvYUAviK"
      },
      "outputs": [
        {
          "name": "stdout",
          "output_type": "stream",
          "text": [
            "Grade A subj: 2\n",
            "Average score: 90.0\n"
          ]
        }
      ],
      "source": [
        "count = 0\n",
        "total_score = 0\n",
        "a_count = 0\n",
        "while True:\n",
        "    score = float(input(\"Enter your score(stop in negative number):\"))\n",
        "    if score <0:\n",
        "        break\n",
        "    count+=1\n",
        "    total_score+=score\n",
        "    if score >=90:\n",
        "        a_count+=1\n",
        "        \n",
        "if count > 0:\n",
        "    avg = total_score/count\n",
        "    print (\"Grade A subj:\",a_count)\n",
        "    print (\"Average score:\",avg)\n",
        "\n",
        "\n",
        "\n",
        "\n",
        "    "
      ]
    },
    {
      "cell_type": "markdown",
      "metadata": {
        "id": "IHIWc5jHAwxY"
      },
      "source": [
        "Ex 4: Write a program that asks the user for a string and a letter. Using a for loop, the\n",
        "program should print the index of the first occurrence of that letter and a message if the\n",
        "string does not contain the letter."
      ]
    },
    {
      "cell_type": "code",
      "execution_count": 4,
      "metadata": {
        "id": "xSe0mtQ8A68M"
      },
      "outputs": [
        {
          "name": "stdout",
          "output_type": "stream",
          "text": [
            "Letter not found kyipyar\n"
          ]
        }
      ],
      "source": [
        "s = input(\"Enter a string:\")\n",
        "l = input(\"Enter a letter:\")\n",
        "for i in range (len(s)):\n",
        "    if s[i]==l:\n",
        "        print (\"first found index\",i)\n",
        "        break\n",
        "else: \n",
        "    print (\"Letter not found\",l)\n",
        "    \n"
      ]
    },
    {
      "cell_type": "markdown",
      "metadata": {
        "id": "PfyUq4CnA8vk"
      },
      "source": [
        "Ex 5: Write a program in which you have a list that contains seven integers that can be 0 or 1. Find the first zero entry in the list and change it to a 1. If there are no zero entries, print a message saying so."
      ]
    },
    {
      "cell_type": "code",
      "execution_count": 6,
      "metadata": {},
      "outputs": [
        {
          "name": "stdout",
          "output_type": "stream",
          "text": [
            "[1, 1, 1, 0, 1, 1, 1]\n"
          ]
        }
      ],
      "source": [
        "lst = [1, 0, 1, 0, 1, 1, 1]\n",
        "\n",
        "for i in range(len(lst)):\n",
        "    if lst[i] == 0:\n",
        "        lst[i] = 1\n",
        "        break\n",
        "else:\n",
        "    print(\"No zero found\")\n",
        "\n",
        "print(lst)\n"
      ]
    }
  ],
  "metadata": {
    "colab": {
      "authorship_tag": "ABX9TyOm3U7ihfZeEceAaZW842Wb",
      "include_colab_link": true,
      "name": "Ex4_Looping.ipynb",
      "provenance": []
    },
    "kernelspec": {
      "display_name": "Python 3",
      "language": "python",
      "name": "python3"
    },
    "language_info": {
      "codemirror_mode": {
        "name": "ipython",
        "version": 3
      },
      "file_extension": ".py",
      "mimetype": "text/x-python",
      "name": "python",
      "nbconvert_exporter": "python",
      "pygments_lexer": "ipython3",
      "version": "3.13.3"
    }
  },
  "nbformat": 4,
  "nbformat_minor": 0
}
