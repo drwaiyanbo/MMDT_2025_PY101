{
 "cells": [
  {
   "cell_type": "markdown",
   "id": "e512f557",
   "metadata": {},
   "source": [
    "Write a program that asks the user to enter a length in centimeters. If the user enters a negative length, the program should tell the user that the entry is invalid. Otherwise, the program should convert the length to inches and print out the result. There are 2.54 centimeters in an inch."
   ]
  },
  {
   "cell_type": "code",
   "execution_count": 15,
   "id": "42e17825",
   "metadata": {},
   "outputs": [
    {
     "name": "stdout",
     "output_type": "stream",
     "text": [
      "20.333 centimeters is equal to 8.01 inches.\n"
     ]
    }
   ],
   "source": [
    "# Ask the user to enter a length in centimeters\n",
    "try :\n",
    "    cm = float(input(\"Enter a length in centimeters: \"))\n",
    "    # Check if the input value is negative\n",
    "    if (cm < 0 ):\n",
    "        print(\"Invalid entry: length cannot be negative.\")\n",
    "    else:\n",
    "        # Convert centimeters to inches\n",
    "        inches = cm/2.54\n",
    "        print(f\"{cm} centimeters is equal to {inches:.2f} inches.\")\n",
    "except ValueError:\n",
    "    print(\"Please enter a number!\")"
   ]
  },
  {
   "cell_type": "markdown",
   "id": "5666f2be",
   "metadata": {},
   "source": [
    "Ask the user to enter a temperature in Celsius. The program should print a message based on the temperature:\n",
    "\n",
    "If the temperature is less than -273.15, print that the temperature is invalid because it is below absolute zero.\n",
    "If it is exactly -273.15, print that the temperature is absolute 0.\n",
    "If the temperature is between -273.15 and 0, print that the temperature is below freezing.\n",
    "If it is 0, print that the temperature is at the freezing point.\n",
    "If it is between 0 and 100, print that the temperature is in the normal range.\n",
    "If it is 100, print that the temperature is at the boiling point.\n",
    "If it is above 100, print that the temperature is above the boiling point."
   ]
  },
  {
   "cell_type": "code",
   "execution_count": 12,
   "id": "9de39aac",
   "metadata": {},
   "outputs": [
    {
     "name": "stdout",
     "output_type": "stream",
     "text": [
      "Please enter a number!\n"
     ]
    }
   ],
   "source": [
    "# Ask the user to enter a temperature in celsius\n",
    "try :\n",
    "    celsius = float(input(\"Enter a temperature in Celsius: \"))\n",
    "    # Check if temperature is below absolute zero\n",
    "    if (celsius < -273.15) :\n",
    "        print(\"Invalid temperature! It is below absolute zero.\")\n",
    "    # Check if temperature is exactly at -273.15\n",
    "    elif (celsius == -273.15) :\n",
    "        print(\"The temperature is absolute 0.\")\n",
    "    # Check if temperature is between -273.15 and 0\n",
    "    elif (-273.15 < celsius < 0 ) :\n",
    "        print(\"The temperature is below freezing.\")\n",
    "    # Check if temperature is at 0\n",
    "    elif (celsius == 0) :\n",
    "        print(\"The temperature is at the freezing point.\")\n",
    "    # Check if temperature is between 0 and 100\n",
    "    elif (0 < celsius < 100) :\n",
    "        print(\"The temperature is in the normal range.\")\n",
    "        # Check if temperature is at 100\n",
    "    elif (celsius == 100) :\n",
    "        print(\"The temperature is at the boiling point.\")\n",
    "    # Check if temperature is above 100\n",
    "    else :\n",
    "        print(\"The temperature is above the boiling point.\")\n",
    "except ValueError:\n",
    "    print(\"Please enter a number!\")"
   ]
  },
  {
   "cell_type": "markdown",
   "id": "d17cfe34",
   "metadata": {},
   "source": [
    "Write a program that asks the user how many credits they have taken. If they have taken 23 or less, print that the student is a freshman. If they have taken between 24 and 53, print that they are a sophomore. The range for juniors is 54 to 83, and for seniors it is 84 and over."
   ]
  },
  {
   "cell_type": "code",
   "execution_count": 14,
   "id": "2bdc60eb",
   "metadata": {},
   "outputs": [
    {
     "name": "stdout",
     "output_type": "stream",
     "text": [
      "You're a junior.\n"
     ]
    }
   ],
   "source": [
    "# Ask the user how many credit s taken\n",
    "try :\n",
    "    credits = int(input(\"How many credits have you taken? \"))\n",
    "    # Check if you have taken 23 or less\n",
    "    if (credits <= 23) :\n",
    "        print(\"You're a freshman.\")\n",
    "    # Check if you have taken between 24 and 53\n",
    "    elif (24 <= credits <= 53) :\n",
    "        print(\"You're a sophomore\")\n",
    "        # Check if you have taken between 54 and 83\n",
    "    elif (54 <= credits <= 83) :\n",
    "        print(\"You're a junior.\")\n",
    "    # Check if you have taken 84 and over\n",
    "    else :\n",
    "        print(\"You're a senior.\")\n",
    "except ValueError:\n",
    "    print(\"Please enter a number!\")"
   ]
  }
 ],
 "metadata": {
  "kernelspec": {
   "display_name": "Python 3",
   "language": "python",
   "name": "python3"
  },
  "language_info": {
   "codemirror_mode": {
    "name": "ipython",
    "version": 3
   },
   "file_extension": ".py",
   "mimetype": "text/x-python",
   "name": "python",
   "nbconvert_exporter": "python",
   "pygments_lexer": "ipython3",
   "version": "3.13.1"
  }
 },
 "nbformat": 4,
 "nbformat_minor": 5
}
