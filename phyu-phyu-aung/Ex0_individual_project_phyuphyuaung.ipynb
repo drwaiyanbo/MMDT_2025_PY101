{
 "cells": [
  {
   "cell_type": "markdown",
   "metadata": {},
   "source": [
    "1) Write a Python program in the below cell to create a dictionary that count the frequency of words in the string given in Q1.txt. Find the most frequent occured word.\n",
    "\n",
    "Don't remove the comment lines provided. "
   ]
  },
  {
   "cell_type": "code",
   "execution_count": 15,
   "metadata": {},
   "outputs": [
    {
     "name": "stdout",
     "output_type": "stream",
     "text": [
      "Most frequent word: it\n",
      "Frequency: 5\n"
     ]
    },
    {
     "name": "stderr",
     "output_type": "stream",
     "text": [
      "<>:2: SyntaxWarning: invalid escape sequence '\\d'\n",
      "<>:2: SyntaxWarning: invalid escape sequence '\\d'\n",
      "C:\\Users\\Dell\\AppData\\Local\\Temp\\ipykernel_6164\\2624780108.py:2: SyntaxWarning: invalid escape sequence '\\d'\n",
      "  with open('.\\data\\Q1.txt', 'r') as file1:\n"
     ]
    }
   ],
   "source": [
    "#step 1: read content from Q1.txt \n",
    "with open('.\\data\\Q1.txt', 'r') as file1:\n",
    "    word_string = file1.read()\n",
    "    \n",
    "#step 2.1 - change the case to upper or lower.\n",
    "word_string = word_string.lower()\n",
    "\n",
    "#step 2.2 - remove pun : use replace\n",
    "punctuation = '''.,!?:;'''\n",
    "for char in word_string :\n",
    "    if char in punctuation :\n",
    "        word_string = word_string.replace(char, '')\n",
    "#step 2.3 - split using space\n",
    "word_string =word_string.split()\n",
    "\n",
    "#Step 3: create a dictionary \n",
    "word_count = {}\n",
    "for word in word_string:\n",
    "    if word in word_count:\n",
    "        word_count[word] += 1\n",
    "    else:\n",
    "        word_count[word] =1\n",
    "\n",
    "#Step 4: find the most frequent occured one\n",
    "most_frequent_word = max(word_count, key=word_count.get)\n",
    "max_count = word_count[most_frequent_word]\n",
    "\n",
    "print(\"Most frequent word:\", most_frequent_word)\n",
    "print(\"Frequency:\", max_count)\n",
    "\n",
    "    "
   ]
  },
  {
   "cell_type": "markdown",
   "metadata": {},
   "source": [
    "2) Write a Python program to read the name from Q2.txt and create email using domain 'simons-rock.edu' and save the results as dictionary : {'name': 'name@simons-rock.edu'}.\n",
    "Please take note that your email should not include space or any special characters and all charcters should be in lowercase."
   ]
  },
  {
   "cell_type": "code",
   "execution_count": 22,
   "metadata": {},
   "outputs": [
    {
     "name": "stdout",
     "output_type": "stream",
     "text": [
      "Dechen Dorji: dechendorji@simons-rock.edu\n",
      "Deki Tshomo: dekitshomo@simons-rock.edu\n",
      "Dorji Tshering: dorjitshering@simons-rock.edu\n",
      "Dorji Wangmo: dorjiwangmo@simons-rock.edu\n",
      "Gem Tshering Lepcha: gemtsheringlepcha@simons-rock.edu\n",
      "Jigme Dorji: jigmedorji@simons-rock.edu\n",
      "Kinley Cheki: kinleycheki@simons-rock.edu\n",
      "Kinley Wangmo: kinleywangmo@simons-rock.edu\n",
      "Ngawang Dema Karpo: ngawangdemakarpo@simons-rock.edu\n",
      "Roshan Chhetri: roshanchhetri@simons-rock.edu\n",
      "Sonam Tenzin: sonamtenzin@simons-rock.edu\n",
      "Sonam Tobgay: sonamtobgay@simons-rock.edu\n",
      "Sonam Yangden: sonamyangden@simons-rock.edu\n",
      "Tandin Om: tandinom@simons-rock.edu\n",
      "Tandin Wangchuk: tandinwangchuk@simons-rock.edu\n",
      "Tashi Om: tashiom@simons-rock.edu\n",
      "Tenday Zangmo: tendayzangmo@simons-rock.edu\n",
      "Tshering Pem: tsheringpem@simons-rock.edu\n",
      "Ugyen Phurpa: ugyenphurpa@simons-rock.edu\n",
      "Marmitt: marmitt@simons-rock.edu\n"
     ]
    },
    {
     "name": "stderr",
     "output_type": "stream",
     "text": [
      "<>:2: SyntaxWarning: invalid escape sequence '\\d'\n",
      "<>:2: SyntaxWarning: invalid escape sequence '\\d'\n",
      "C:\\Users\\Dell\\AppData\\Local\\Temp\\ipykernel_6164\\2699014082.py:2: SyntaxWarning: invalid escape sequence '\\d'\n",
      "  with open ('.\\data\\Q2.txt', 'r') as names:\n"
     ]
    }
   ],
   "source": [
    "#step 1: read Q2. txt into the list\n",
    "with open ('.\\data\\Q2.txt', 'r') as names:\n",
    "    header = names.readline()\n",
    "    namelist = names.readlines()\n",
    "    \n",
    "#step 2: create email for each name in the list and save them in the dictionary\n",
    "email_dict = {}\n",
    "# You need to do the necessary data cleaning \n",
    "# For example, removing the space and special characters if there is any, converting them to lower case\n",
    "for name in namelist:\n",
    "    name = name.strip()\n",
    "    clean_name = name.lower().replace(\" \",\"\").replace(\"-\", \"\")\n",
    "    email = f\"{clean_name}@simons-rock.edu\"\n",
    "    email_dict[name] = email\n",
    "\n",
    "    print(f\"{name}: {email}\")"
   ]
  },
  {
   "cell_type": "markdown",
   "metadata": {},
   "source": [
    "3) Write a Python program for \"Guessing Game: Guess the Number Challenge\"\n",
    "\n",
    "Step 1: Use a random function to generate a number.\n",
    "\n",
    "##### Game starts.......\n",
    "\n",
    "Step 2: Prompt the user to guess an integer number. Provide a range if needed to give the user context for their guess.\n",
    "\n",
    "Step 3: Check the condition of the guessed number compared to the generated number and provide feedback accordingly. For example, if the guess is too high or too low, inform the user.\n",
    "\n",
    "Step 4.1: If the guess is incorrect, allow the user to guess again. Repeat this process for a maximum of 10 guesses.\n",
    "\n",
    "Step 4.2: If the user guesses the number correctly, inform them that they have won. Also, indicate how many guesses were needed before guessing correctly.\n",
    "\n",
    "Step 4.3: If the user exhausts all 10 guesses without guessing the correct number, say \"goodbye.\"\n",
    "\n",
    "##### Game ends ... \n",
    "\n",
    "Step 5: Regardless of winning or losing, ask the user if they want to play again. This ensures the program's continuity and gives the user the option to continue playing if they wish."
   ]
  },
  {
   "cell_type": "code",
   "execution_count": 13,
   "metadata": {},
   "outputs": [
    {
     "name": "stdout",
     "output_type": "stream",
     "text": [
      "\n",
      "Game starts........\n",
      "\n",
      "I'm thinking of a number between 1 and 100.\n",
      "Can you guess it in 10 tries?\n",
      "\n",
      "Please enter a valid integer.\n",
      " Too low! You have 9 guesses remainding. \n",
      " Too low! You have 8 guesses remainding. \n",
      " Too low! You have 7 guesses remainding. \n",
      "Please enter a valid integer.\n",
      " Too low! You have 6 guesses remainding. \n",
      "Please enter a valid integer.\n",
      " Too high! You have 5 guesses remainding. \n",
      "Please enter a valid integer.\n",
      " Too low! You have 4 guesses remainding. \n",
      "\n",
      "Congratulations! You guessed the number in 7 attempt!\n",
      "Game end........\n",
      "\n",
      "Game starts........\n",
      "\n",
      "I'm thinking of a number between 1 and 100.\n",
      "Can you guess it in 10 tries?\n",
      "\n",
      " Too high! You have 9 guesses remainding. \n",
      "Please enter a valid integer.\n",
      " Too low! You have 8 guesses remainding. \n",
      "Please enter a valid integer.\n",
      " Too low! You have 7 guesses remainding. \n",
      "Please enter a valid integer.\n",
      " Too low! You have 6 guesses remainding. \n",
      "\n",
      "Congratulations! You guessed the number in 5 attempt!\n",
      "Game end........\n",
      "\n",
      "Game starts........\n",
      "\n",
      "I'm thinking of a number between 1 and 100.\n",
      "Can you guess it in 10 tries?\n",
      "\n",
      " Too high! You have 9 guesses remainding. \n",
      "Please enter a valid integer.\n",
      " Too low! You have 8 guesses remainding. \n",
      " Too high! You have 7 guesses remainding. \n",
      " Too high! You have 6 guesses remainding. \n",
      " Too high! You have 5 guesses remainding. \n",
      "Please enter a valid integer.\n",
      " Too high! You have 4 guesses remainding. \n",
      "Please enter a valid integer.\n",
      " Too high! You have 3 guesses remainding. \n",
      "Please enter a valid integer.\n",
      "\n",
      "Congratulations! You guessed the number in 8 attempt!\n",
      "Game end........\n",
      "thank for playing! \n"
     ]
    }
   ],
   "source": [
    "import random\n",
    "\n",
    "def play_game():\n",
    "    # generate a random number 1 to 100\n",
    "    guess_number = random.randint(1,100)\n",
    "    guess_used = 0\n",
    "    max_guess = 10\n",
    "\n",
    "    print(\"\\nGame starts........\")\n",
    "    print(f\"\\nI'm thinking of a number between 1 and 100.\")\n",
    "    print(f\"Can you guess it in {max_guess} tries?\\n\")\n",
    "\n",
    "    while guess_used < max_guess:\n",
    "        try:\n",
    "            # get user's guess\n",
    "            guess = int(input(f\"\\nAttempt {guess_used + 1}: Enter your guess: \"))\n",
    "            guess_used += 1\n",
    "\n",
    "            # check the guess\n",
    "            if guess < guess_number:\n",
    "                #print(\"Too low! Try again.\")\n",
    "                print(f\" Too low! You have {max_guess - guess_used} guesses remainding. \")\n",
    "            elif guess > guess_number:\n",
    "                #print(\"Too hight! Try again.\")\n",
    "                print(f\" Too high! You have {max_guess - guess_used} guesses remainding. \")\n",
    "            else:\n",
    "                # the user guesses the number correctly\n",
    "                print(f\"\\nCongratulations! You guessed the number in {guess_used} attempt!\")\n",
    "                break\n",
    "        except ValueError:\n",
    "            print(\"Please enter a valid integer.\")\n",
    "    else:\n",
    "        print(f\"\\n Sorry! You'ved all {max_guess} attempts. The number was {guess_number}.Good luck for next time!\")\n",
    "\n",
    "    print(\"Game end........\")\n",
    "\n",
    "# main game\n",
    "def main():\n",
    "    while True:\n",
    "        play_game()\n",
    "        # if ask user want to play again\n",
    "        play_again = input(\"\\nDo you want to play again? (yes/no): \").strip().lower()\n",
    "        if play_again not in('yes', 'y'):\n",
    "            print(\"thank for playing! \")\n",
    "            break\n",
    "\n",
    "if __name__ == \"__main__\":\n",
    " main()\n",
    "  \n",
    "    \n"
   ]
  }
 ],
 "metadata": {
  "kernelspec": {
   "display_name": "Python 3",
   "language": "python",
   "name": "python3"
  },
  "language_info": {
   "codemirror_mode": {
    "name": "ipython",
    "version": 3
   },
   "file_extension": ".py",
   "mimetype": "text/x-python",
   "name": "python",
   "nbconvert_exporter": "python",
   "pygments_lexer": "ipython3",
   "version": "3.13.1"
  }
 },
 "nbformat": 4,
 "nbformat_minor": 2
}
