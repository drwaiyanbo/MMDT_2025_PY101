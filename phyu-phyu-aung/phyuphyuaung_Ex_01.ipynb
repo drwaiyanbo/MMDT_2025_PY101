{
  "cells": [
    {
      "cell_type": "markdown",
      "metadata": {
        "colab_type": "text",
        "id": "view-in-github"
      },
      "source": [
        "<a href=\"https://colab.research.google.com/github/APhyu94/PythonProgramming/blob/main/Ex1_Python.ipynb\" target=\"_parent\"><img src=\"https://colab.research.google.com/assets/colab-badge.svg\" alt=\"Open In Colab\"/></a>"
      ]
    },
    {
      "cell_type": "code",
      "execution_count": null,
      "metadata": {},
      "outputs": [],
      "source": []
    },
    {
      "cell_type": "markdown",
      "metadata": {
        "id": "thgO68_HZ0Aa"
      },
      "source": [
        "# Introduction"
      ]
    },
    {
      "cell_type": "markdown",
      "metadata": {
        "id": "PIh3i0c_Z_yP"
      },
      "source": [
        "This section introduces the Python Programming uisng Colab. Follow the instructions and complete the exercises."
      ]
    },
    {
      "cell_type": "markdown",
      "metadata": {
        "id": "gCw6SfeFZ78l"
      },
      "source": [
        "# Ex 1 : Check Version"
      ]
    },
    {
      "cell_type": "markdown",
      "metadata": {
        "id": "6Vm-27iLabjm"
      },
      "source": []
    },
    {
      "cell_type": "markdown",
      "metadata": {},
      "source": [
        "Using the below cell, Import the required library and check the version of the python in your environment."
      ]
    },
    {
      "cell_type": "code",
      "execution_count": 1,
      "metadata": {
        "id": "PJDYHB4AXVdc"
      },
      "outputs": [
        {
          "data": {
            "text/plain": [
              "'3.13.1 (tags/v3.13.1:0671451, Dec  3 2024, 19:06:28) [MSC v.1942 64 bit (AMD64)]'"
            ]
          },
          "execution_count": 1,
          "metadata": {},
          "output_type": "execute_result"
        }
      ],
      "source": [
        "import sys\n",
        "sys.version"
      ]
    },
    {
      "cell_type": "markdown",
      "metadata": {
        "id": "5qTEiwGlawf5"
      },
      "source": [
        "# Ex2 : Convert Currency."
      ]
    },
    {
      "cell_type": "markdown",
      "metadata": {
        "id": "XH8K1p0ypVCg"
      },
      "source": [
        "Write a program that asks the user for the amount in usd and converts it to British pounds. The exchange rate is from usd to BP is given as 0.82"
      ]
    },
    {
      "cell_type": "code",
      "execution_count": 1,
      "metadata": {
        "id": "x9xQXOnRa0MS"
      },
      "outputs": [
        {
          "name": "stdout",
          "output_type": "stream",
          "text": [
            "50 usd is equivalent to 41.0 british pound\n"
          ]
        }
      ],
      "source": [
        "usd_amount = input (\"Enter the amount in USD: \")\n",
        "bp_amount = int(usd_amount) * 0.82\n",
        "print(\"{} usd is equivalent to {} british pound\".format(usd_amount, bp_amount))"
      ]
    },
    {
      "cell_type": "markdown",
      "metadata": {
        "id": "ePfECwUIpli4"
      },
      "source": [
        "# Ex 3: Temperature Converter"
      ]
    },
    {
      "cell_type": "markdown",
      "metadata": {
        "id": "Y60hUWDsp3pK"
      },
      "source": [
        "Write a program that convert temperature in Feranhite to celsius."
      ]
    },
    {
      "cell_type": "code",
      "execution_count": 42,
      "metadata": {
        "id": "G9PbO6qPoUfn"
      },
      "outputs": [
        {
          "name": "stdout",
          "output_type": "stream",
          "text": [
            "39.0 Feranhite is equivalent to 3.888888888888889 Celsius\n"
          ]
        }
      ],
      "source": [
        "temp = float(input (\"Enter the temperature you like to convert: \"))\n",
        "temp_celsius = (temp - 32) * 5 / 9\n",
        "print(\"{} Feranhite is equivalent to {} Celsius\".format(temp, temp_celsius))"
      ]
    },
    {
      "cell_type": "markdown",
      "metadata": {
        "id": "a2kNRO9Vp7Qz"
      },
      "source": [
        "# Ex 4: Daily Maths"
      ]
    },
    {
      "cell_type": "markdown",
      "metadata": {
        "id": "lItKon9qqEUn"
      },
      "source": [
        "You are working in a retail shop. Write a program that computes the total cost for a customer that bought 3 differnt types of fruits : apple, orange, mango. Ask the user to enter the quantity and price for each type."
      ]
    },
    {
      "cell_type": "code",
      "execution_count": 43,
      "metadata": {
        "id": "mIQFjH6wqDma"
      },
      "outputs": [
        {
          "name": "stdout",
          "output_type": "stream",
          "text": [
            "   FRESH FRUIT    \n",
            "Tel: 01234567891\n",
            "Apple:  1000.0 Kyats\n",
            "Qty:  3\n",
            "Orange:  300.0 Kyats\n",
            "Qty:  10\n",
            "Mangoe:  500.0 Kyats\n",
            "Qty:  5\n",
            "Total Amount :  8500.0 Kyats\n",
            "...................................\n",
            "     THANK YOU!    \n"
          ]
        }
      ],
      "source": [
        "# user input for apple\n",
        "apple_price = float(input(\"Enter the price of apple: \"))\n",
        "apple_quantity = int(input(\"Enter the quantity of apple: \"))\n",
        "\n",
        "# user input for orange\n",
        "orange_price = float(input(\"Enter the price of orange: \"))\n",
        "orange_quantity = int(input(\"Enter the quantity of apple: \"))\n",
        "\n",
        "# user input for mango\n",
        "mango_price = float(input(\"Enter the price of mango: \"))\n",
        "mango_quantity = int(input(\"Enter the quantity of mango: \"))\n",
        "\n",
        "# total cost\n",
        "total_cost = (apple_price * apple_quantity) + (orange_price * orange_quantity) + (mango_price * mango_quantity)\n",
        "\n",
        "\n",
        "print(\"   FRESH FRUIT    \")\n",
        "print(\"Tel: 01234567891\")\n",
        "print(\"Apple: \",apple_price, \"Kyats\")\n",
        "print(\"Qty: \",apple_quantity)\n",
        "print(\"Orange: \",orange_price, \"Kyats\")\n",
        "print(\"Qty: \",orange_quantity)\n",
        "print(\"Mangoe: \",mango_price, \"Kyats\")\n",
        "print(\"Qty: \",mango_quantity)\n",
        "print(\"Total Amount : \", total_cost , \"Kyats\" )\n",
        "print(\"...................................\")\n",
        "print(\"     THANK YOU!    \")\n",
        "\n"
      ]
    },
    {
      "cell_type": "markdown",
      "metadata": {
        "id": "31fXlmEQqgvW"
      },
      "source": [
        "# Ex 5 : Greeting"
      ]
    },
    {
      "cell_type": "markdown",
      "metadata": {
        "id": "zvnmj8MGrJIw"
      },
      "source": [
        "Write a program to greet the customer who provides the user name. Your program should ask the name of the customer and print \"Hello + customer name\""
      ]
    },
    {
      "cell_type": "code",
      "execution_count": 28,
      "metadata": {
        "id": "Z6ynxZMarIXh"
      },
      "outputs": [
        {
          "name": "stdout",
          "output_type": "stream",
          "text": [
            "~~~~ WELCOME TO FRESH FRUIT ONLINE SERVICE ~~~~~ \n",
            "Hello, Wendy ... Welcome to FRESH FRUIT ^^ !\n"
          ]
        }
      ],
      "source": [
        "print(\"~~~~ WELCOME TO FRESH FRUIT ONLINE SERVICE ~~~~~ \")\n",
        "\n",
        "customer_name = input(\"Enter your name: \")\n",
        "print(\"Hello,\", customer_name,\"... Welcome to FRESH FRUIT ^^ !\" )"
      ]
    },
    {
      "cell_type": "markdown",
      "metadata": {
        "id": "Zwc-5nNGPEbT"
      },
      "source": [
        "# Ex 6: Random Number\n",
        "Write a program that generates a random number, x, between 1 and 50, a random number y between 2 and 5, and computes x^y."
      ]
    },
    {
      "cell_type": "code",
      "execution_count": 29,
      "metadata": {
        "id": "6D9VahFUPEbU"
      },
      "outputs": [
        {
          "name": "stdout",
          "output_type": "stream",
          "text": [
            "A random number between 1 and 10:  3\n"
          ]
        }
      ],
      "source": [
        "from random import randint\n",
        "x = randint(1,10)\n",
        "print('A random number between 1 and 10: ', x)"
      ]
    },
    {
      "cell_type": "markdown",
      "metadata": {
        "id": "tOO_pSLdPEbU"
      },
      "source": [
        "# Ex 7: Greet many times.\n",
        "Write a program that generates a random number between 1 and 10 and prints your name that many times."
      ]
    },
    {
      "cell_type": "code",
      "execution_count": 33,
      "metadata": {
        "id": "DY5XI8Y3PEbV"
      },
      "outputs": [
        {
          "name": "stdout",
          "output_type": "stream",
          "text": [
            "Phyu Phyu Aung\n",
            "Phyu Phyu Aung\n",
            "Phyu Phyu Aung\n",
            "Phyu Phyu Aung\n",
            "Phyu Phyu Aung\n",
            "Phyu Phyu Aung\n",
            "\n"
          ]
        }
      ],
      "source": [
        "from random import randint\n",
        "x = randint(1,10)\n",
        "name = input(\"What's your name?\")\n",
        "print(x * (name + '\\n'))"
      ]
    },
    {
      "cell_type": "markdown",
      "metadata": {
        "id": "w64rmajgPEbV"
      },
      "source": [
        "# Ex 8: Computing.\n",
        "Write a program that asks the user to enter two numbers, x and y, and computes |x-y|/(x+y)."
      ]
    },
    {
      "cell_type": "code",
      "execution_count": 39,
      "metadata": {
        "id": "-KrNfg3rPEbV"
      },
      "outputs": [
        {
          "name": "stdout",
          "output_type": "stream",
          "text": [
            "0.6\n"
          ]
        }
      ],
      "source": [
        "x = int(input(\"Enter a 1st number\"))\n",
        "y = int(input(\"Enter a 2nd number\"))\n",
        "print(abs(x-y)/(x+y))"
      ]
    },
    {
      "cell_type": "markdown",
      "metadata": {
        "id": "l8kv5P1GPEbW"
      },
      "source": [
        "# Ex 9: Computing\n",
        "\n",
        "Write a program that asks the user for a number of seconds and prints out how many minutes and seconds that is. For instance, 200 seconds is 3 minutes and 20 seconds."
      ]
    },
    {
      "cell_type": "code",
      "execution_count": 40,
      "metadata": {
        "id": "3xSYr_0cPEbW"
      },
      "outputs": [
        {
          "name": "stdout",
          "output_type": "stream",
          "text": [
            "200 seconds is 3 minutes 20 seconds\n"
          ]
        }
      ],
      "source": [
        "total_sec = int(input(\"Enter number of seconds: \"))\n",
        "minutes = total_sec // 60\n",
        "seconds = total_sec % 60\n",
        "print(\"{} seconds is {} minutes {} seconds\".format(total_sec, minutes, seconds))"
      ]
    },
    {
      "cell_type": "markdown",
      "metadata": {
        "id": "Uf8DMD37PEbW"
      },
      "source": [
        "# Ex 10: Using Math Module\n",
        "\n",
        "Write a program that asks the user for a number and then prints out the sine, cosine, and tangent of that number."
      ]
    },
    {
      "cell_type": "code",
      "execution_count": 41,
      "metadata": {
        "id": "EKCC1iZ6PEbW"
      },
      "outputs": [
        {
          "name": "stdout",
          "output_type": "stream",
          "text": [
            "-0.3048106211022167\n"
          ]
        }
      ],
      "source": [
        "import math\n",
        "num = float(input(\"Enter a number:\"))\n",
        "sine_value = math.sin(num)\n",
        "print(sine_value)\n"
      ]
    }
  ],
  "metadata": {
    "colab": {
      "include_colab_link": true,
      "name": "Ex1_Python.ipynb",
      "provenance": []
    },
    "kernelspec": {
      "display_name": "Python 3",
      "language": "python",
      "name": "python3"
    },
    "language_info": {
      "codemirror_mode": {
        "name": "ipython",
        "version": 3
      },
      "file_extension": ".py",
      "mimetype": "text/x-python",
      "name": "python",
      "nbconvert_exporter": "python",
      "pygments_lexer": "ipython3",
      "version": "3.13.1"
    }
  },
  "nbformat": 4,
  "nbformat_minor": 0
}
