{
 "cells": [
  {
   "cell_type": "markdown",
   "id": "109fba3b",
   "metadata": {},
   "source": [
    "Ex 1: Write a program that uses a while loop (not a for loop) to read through a string and print the characters of the string one-by-one on separate lines."
   ]
  },
  {
   "cell_type": "code",
   "execution_count": 3,
   "id": "9d33b14d",
   "metadata": {},
   "outputs": [
    {
     "name": "stdout",
     "output_type": "stream",
     "text": [
      "P\n",
      "h\n",
      "y\n",
      "u\n",
      " \n",
      "P\n",
      "h\n",
      "y\n",
      "u\n",
      " \n",
      "A\n",
      "u\n",
      "n\n",
      "g\n"
     ]
    }
   ],
   "source": [
    "# Input string\n",
    "string = input(\"Enter a string: \")\n",
    "\n",
    "# Initialize index\n",
    "index = 0\n",
    "\n",
    "# Use while loop to go through each character\n",
    "while index < len(string):\n",
    "    print(string[index])\n",
    "    index += 1"
   ]
  },
  {
   "cell_type": "markdown",
   "id": "070628f4",
   "metadata": {},
   "source": [
    "Ex 2: A good program will make sure that the data its users enter is valid. Write a program that asks the user for a weight and converts it from kilograms to pounds. Whenever the user enters a weight below 0, the program should tell them that their entry is invalid and then ask them again to enter a weight. [Hint: Use a while loop, not an if statement]."
   ]
  },
  {
   "cell_type": "code",
   "execution_count": 3,
   "id": "38af76f5",
   "metadata": {},
   "outputs": [
    {
     "name": "stdout",
     "output_type": "stream",
     "text": [
      "Your weight in pound is 105.82 lbs\n"
     ]
    }
   ],
   "source": [
    "# Ask the user for a valid weight in kiligrams\n",
    "weight_kg = float(input(\"Enter your weight in kilograms: \"))\n",
    "\n",
    "# Loop until valid input\n",
    "while weight_kg < 0 :\n",
    "    print(\"Invalid weight! Weight cannot be negative. Please try again. \")\n",
    "    weight_kg = float(input(\"Enter your weight in kilograms: \"))\n",
    "\n",
    "# Convertion kg to lb\n",
    "weight_lb = weight_kg * 2.20462\n",
    "print(f\"Your weight in pound is {weight_lb:.2f} lbs\")\n",
    "\n"
   ]
  },
  {
   "cell_type": "markdown",
   "id": "67b19d05",
   "metadata": {},
   "source": [
    "Ex 3: Write a program that allows the user to enter any number of test scores. The user indicates they are done by entering in a negative number. Print how many of the scores are A’s (90 or above). Also print out the average."
   ]
  },
  {
   "cell_type": "code",
   "execution_count": 6,
   "id": "c051303e",
   "metadata": {},
   "outputs": [
    {
     "name": "stdout",
     "output_type": "stream",
     "text": [
      "\n",
      "Number of A : 4.\n",
      "The average score is : 81.11\n"
     ]
    }
   ],
   "source": [
    "# Initialize variables\n",
    "total_scores = 0\n",
    "sum_scores = 0\n",
    "count_A = 0\n",
    "\n",
    "# Ask for scores\n",
    "score = float(input(\"Enter test score(Enter a negative number to finish.): \"))\n",
    "\n",
    "while score >= 0:\n",
    "    total_scores += 1\n",
    "    sum_scores += score\n",
    "\n",
    "    if score >= 90:\n",
    "        count_A +=1\n",
    "    \n",
    "    score = float(input(\"Enter test score(Enter a negative number to finish.): \"))\n",
    "\n",
    "# Print results\n",
    "if total_scores > 0:\n",
    "    average = sum_scores/total_scores\n",
    "    print(f\"\\nNumber of A : {count_A}.\")\n",
    "    print(f\"The average score is : {average:.2f}\")\n",
    "else :\n",
    "    print(\"No valid scores entered.\")\n",
    "    \n",
    "\n",
    "\n"
   ]
  },
  {
   "cell_type": "markdown",
   "id": "4ac11449",
   "metadata": {},
   "source": [
    "Ex 4: Write a program that asks the user for a string and a letter. Using a for loop, the program should print the index of the first occurrence of that letter and a message if the string does not contain the letter."
   ]
  },
  {
   "cell_type": "code",
   "execution_count": null,
   "id": "720884a6",
   "metadata": {},
   "outputs": [
    {
     "name": "stdout",
     "output_type": "stream",
     "text": [
      "The letter 'g' was not found in the string.\n",
      "The letter 'g' was not found in the string.\n",
      "The letter 'g' was not found in the string.\n",
      "The letter 'g' first occurance at index3.\n"
     ]
    }
   ],
   "source": [
    "# Ask user for a string and a letter\n",
    "string = input(\"Enter a string: \")\n",
    "letter = input(\"Enter a letter to search for: \")\n",
    "\n",
    "# To check if the letter is found\n",
    "found = False\n",
    "\n",
    "# Use for loop to go through the string\n",
    "for index in range(len(string)):\n",
    "    if string[index] == letter:\n",
    "        print(f\"The letter '{letter}' first occurance at index{index}.\")\n",
    "        found = True\n",
    "        break # Exit loop after first occurance\n",
    "\n",
    "# If letter was not found\n",
    "    if not found:\n",
    "        print(f\"The letter '{letter}' was not found in the string.\")\n"
   ]
  },
  {
   "cell_type": "markdown",
   "id": "dcd01586",
   "metadata": {},
   "source": [
    "Ex 5: Write a program in which you have a list that contains seven integers that can be 0 or 1. Find the first zero entry in the list and change it to a 1. If there are no zero entries, print a message saying so."
   ]
  },
  {
   "cell_type": "code",
   "execution_count": null,
   "id": "a5f1bfb0",
   "metadata": {},
   "outputs": [
    {
     "name": "stdout",
     "output_type": "stream",
     "text": [
      "First 0 found at index 3. It has been change to 1.\n",
      "Updated list: [1, 1, 1, 1, 1, 1, 0]\n"
     ]
    }
   ],
   "source": [
    "# A list\n",
    "list = [1,1,1,0,1,1,0]\n",
    "\n",
    "# To check if found a 0\n",
    "found = False\n",
    "\n",
    "# Loop through the list\n",
    "for i in range(len(list)):\n",
    "    if list[i] == 0:\n",
    "        list[i] = 1 # Change the first 0 to 1\n",
    "        found = True\n",
    "        print(f\"First 0 found at index {i}. It has been change to 1.\")\n",
    "        break # Exit loop after the first change\n",
    "\n",
    "# If no 0 was found\n",
    "if not found:\n",
    "    print(\"No zero entries found in the list.\")\n",
    "\n",
    "#Update list\n",
    "print(\"Updated list:\", list)\n"
   ]
  }
 ],
 "metadata": {
  "kernelspec": {
   "display_name": "Python 3",
   "language": "python",
   "name": "python3"
  },
  "language_info": {
   "codemirror_mode": {
    "name": "ipython",
    "version": 3
   },
   "file_extension": ".py",
   "mimetype": "text/x-python",
   "name": "python",
   "nbconvert_exporter": "python",
   "pygments_lexer": "ipython3",
   "version": "3.13.1"
  }
 },
 "nbformat": 4,
 "nbformat_minor": 5
}
