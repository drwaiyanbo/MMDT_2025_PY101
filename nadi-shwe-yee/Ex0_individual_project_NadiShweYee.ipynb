{
 "cells": [
  {
   "cell_type": "markdown",
   "metadata": {},
   "source": [
    "1) Write a Python program in the below cell to create a dictionary that count the frequency of words in the string given in Q1.txt. Find the most frequent occured word.\n",
    "\n",
    "Don't remove the comment lines provided. "
   ]
  },
  {
   "cell_type": "code",
   "execution_count": 36,
   "metadata": {},
   "outputs": [
    {
     "name": "stdout",
     "output_type": "stream",
     "text": [
      "The most frequent occured word is 'it'.\n"
     ]
    }
   ],
   "source": [
    "#step 1: read content from Q1.txt \n",
    "with open('./data/Q1.txt', 'r') as file1:\n",
    "    word_string = file1.read()\n",
    "   \n",
    "#step 2.1 - change the case to upper or lower. \n",
    "lower_case = word_string.lower()\n",
    "#print (lower_case)\n",
    "\n",
    "#step 2.2 - remove pun : use replace\n",
    "clear_txt = lower_case.replace(\".\",\"\").replace(\",\",\"\").replace(\"!\",\"\")\n",
    "#print(clear_txt)\n",
    "\n",
    "#step 2.3 - split using space\n",
    "split_txt_list = clear_txt.split()\n",
    "#print(split_txt_list)\n",
    "#print(type(split_txt_list))\n",
    "\n",
    "#Step 3: create a dictionary \n",
    "word_counts = {}\n",
    "\n",
    "for word in split_txt_list:\n",
    "    if word in word_counts:\n",
    "        word_counts[word] += 1\n",
    "    else:\n",
    "        word_counts[word] = 1\n",
    "\n",
    "#print(word_counts)\n",
    "\n",
    "#Step 4: find the most frequent occured one\n",
    "\n",
    "most_frequent_word = max(word_counts, key=word_counts.get)\n",
    "print(f\"The most frequent occured word is '{most_frequent_word}'.\")\n",
    "    "
   ]
  },
  {
   "cell_type": "markdown",
   "metadata": {},
   "source": [
    "2) Write a Python program to read the name from Q2.txt and create email using domain 'simons-rock.edu' and save the results as dictionary : {'name': 'name@simons-rock.edu'}.\n",
    "Please take note that your email should not include space or any special characters and all charcters should be in lowercase."
   ]
  },
  {
   "cell_type": "code",
   "execution_count": 76,
   "metadata": {},
   "outputs": [
    {
     "name": "stdout",
     "output_type": "stream",
     "text": [
      "{'Dechen Dorji': 'dechendorji@simons-rock.edu', 'Deki Tshomo': 'dekitshomo@simons-rock.edu', 'Dorji Tshering': 'dorjitshering@simons-rock.edu', 'Dorji Wangmo': 'dorjiwangmo@simons-rock.edu', 'Gem Tshering Lepcha': 'gemtsheringlepcha@simons-rock.edu', 'Jigme Dorji': 'jigmedorji@simons-rock.edu', 'Kinley Cheki': 'kinleycheki@simons-rock.edu', 'Kinley Wangmo': 'kinleywangmo@simons-rock.edu', 'Ngawang Dema Karpo': 'ngawangdemakarpo@simons-rock.edu', 'Roshan Chhetri': 'roshanchhetri@simons-rock.edu', 'Sonam Tenzin': 'sonamtenzin@simons-rock.edu', 'Sonam Tobgay': 'sonamtobgay@simons-rock.edu', 'Sonam Yangden': 'sonamyangden@simons-rock.edu', 'Tandin Om': 'tandinom@simons-rock.edu', 'Tandin Wangchuk': 'tandinwangchuk@simons-rock.edu', 'Tashi Om': 'tashiom@simons-rock.edu', 'Tenday Zangmo': 'tendayzangmo@simons-rock.edu', 'Tshering Pem': 'tsheringpem@simons-rock.edu', 'Ugyen Phurpa': 'ugyenphurpa@simons-rock.edu', 'Marmitt': 'marmitt@simons-rock.edu'}\n"
     ]
    }
   ],
   "source": [
    "#step 1: read Q2. txt into the list\n",
    "with open ('./data/Q2.txt', 'r') as names:\n",
    "    header = names.readline()\n",
    "    namelist = names.readlines()\n",
    "\n",
    "#print(header)\n",
    "#print(namelist)\n",
    "\n",
    "#step 2: create email for each name in the list and save them in the dictionary\n",
    "# You need to do the necessary data cleaning \n",
    "# For example, removing the space and special characters if there is any, converting them to lower case\n",
    "\n",
    "cleaned_name_key = []\n",
    "\n",
    "for name in namelist:\n",
    "    name = name.replace(\"\\n\",\"\")\n",
    "    cleaned_name_key.append(name)\n",
    "\n",
    "#print(clean_name_key)\n",
    "\n",
    "email_value = []\n",
    "\n",
    "for name in cleaned_name_key:\n",
    "    name = name.replace(\" \",\"\").lower()\n",
    "    email = name + '@simons-rock.edu'\n",
    "    email_value.append(email)\n",
    "\n",
    "#print(email_value)\n",
    "\n",
    "email_dict = dict(zip(cleaned_name_key, email_value))\n",
    "print(email_dict)\n",
    "    "
   ]
  },
  {
   "cell_type": "markdown",
   "metadata": {},
   "source": [
    "3) Write a Python program for \"Guessing Game: Guess the Number Challenge\"\n",
    "\n",
    "Step 1: Use a random function to generate a number.\n",
    "\n",
    "##### Game starts.......\n",
    "\n",
    "Step 2: Prompt the user to guess an integer number. Provide a range if needed to give the user context for their guess.\n",
    "\n",
    "Step 3: Check the condition of the guessed number compared to the generated number and provide feedback accordingly. For example, if the guess is too high or too low, inform the user.\n",
    "\n",
    "Step 4.1: If the guess is incorrect, allow the user to guess again. Repeat this process for a maximum of 10 guesses.\n",
    "\n",
    "Step 4.2: If the user guesses the number correctly, inform them that they have won. Also, indicate how many guesses were needed before guessing correctly.\n",
    "\n",
    "Step 4.3: If the user exhausts all 10 guesses without guessing the correct number, say \"goodbye.\"\n",
    "\n",
    "##### Game ends ... \n",
    "\n",
    "Step 5: Regardless of winning or losing, ask the user if they want to play again. This ensures the program's continuity and gives the user the option to continue playing if they wish."
   ]
  },
  {
   "cell_type": "code",
   "execution_count": 117,
   "metadata": {},
   "outputs": [
    {
     "name": "stdout",
     "output_type": "stream",
     "text": [
      "Hi! Let's play a small game. Please guess the number between 1 to 100.\n",
      "I will give you 10 chances to guess. Are you ready?\n"
     ]
    },
    {
     "name": "stdin",
     "output_type": "stream",
     "text": [
      "Please enter your guess:  20\n"
     ]
    },
    {
     "name": "stdout",
     "output_type": "stream",
     "text": [
      "Too low!\n"
     ]
    },
    {
     "name": "stdin",
     "output_type": "stream",
     "text": [
      "Please enter your guess:  50\n"
     ]
    },
    {
     "name": "stdout",
     "output_type": "stream",
     "text": [
      "Too high!\n"
     ]
    },
    {
     "name": "stdin",
     "output_type": "stream",
     "text": [
      "Please enter your guess:  30\n"
     ]
    },
    {
     "name": "stdout",
     "output_type": "stream",
     "text": [
      "Too low!\n"
     ]
    },
    {
     "name": "stdin",
     "output_type": "stream",
     "text": [
      "Please enter your guess:  40\n"
     ]
    },
    {
     "name": "stdout",
     "output_type": "stream",
     "text": [
      "Too low!\n"
     ]
    },
    {
     "name": "stdin",
     "output_type": "stream",
     "text": [
      "Please enter your guess:  45\n"
     ]
    },
    {
     "name": "stdout",
     "output_type": "stream",
     "text": [
      "Too high!\n"
     ]
    },
    {
     "name": "stdin",
     "output_type": "stream",
     "text": [
      "Please enter your guess:  43\n"
     ]
    },
    {
     "name": "stdout",
     "output_type": "stream",
     "text": [
      "Too high!\n"
     ]
    },
    {
     "name": "stdin",
     "output_type": "stream",
     "text": [
      "Please enter your guess:  42\n"
     ]
    },
    {
     "name": "stdout",
     "output_type": "stream",
     "text": [
      "Too high!\n"
     ]
    },
    {
     "name": "stdin",
     "output_type": "stream",
     "text": [
      "Please enter your guess:  41\n"
     ]
    },
    {
     "name": "stdout",
     "output_type": "stream",
     "text": [
      "Bravo! You are Correct! Your total Guess count is 8!\n"
     ]
    },
    {
     "name": "stdin",
     "output_type": "stream",
     "text": [
      "\n",
      "Do you want to play again? (yes/no):  yes\n"
     ]
    },
    {
     "name": "stdout",
     "output_type": "stream",
     "text": [
      "Hi! Let's play a small game. Please guess the number between 1 to 100.\n",
      "I will give you 10 chances to guess. Are you ready?\n"
     ]
    },
    {
     "name": "stdin",
     "output_type": "stream",
     "text": [
      "Please enter your guess:  50\n"
     ]
    },
    {
     "name": "stdout",
     "output_type": "stream",
     "text": [
      "Too low!\n"
     ]
    },
    {
     "name": "stdin",
     "output_type": "stream",
     "text": [
      "Please enter your guess:  75\n"
     ]
    },
    {
     "name": "stdout",
     "output_type": "stream",
     "text": [
      "Too low!\n"
     ]
    },
    {
     "name": "stdin",
     "output_type": "stream",
     "text": [
      "Please enter your guess:  88\n"
     ]
    },
    {
     "name": "stdout",
     "output_type": "stream",
     "text": [
      "Too low!\n"
     ]
    },
    {
     "name": "stdin",
     "output_type": "stream",
     "text": [
      "Please enter your guess:  92\n"
     ]
    },
    {
     "name": "stdout",
     "output_type": "stream",
     "text": [
      "Too low!\n"
     ]
    },
    {
     "name": "stdin",
     "output_type": "stream",
     "text": [
      "Please enter your guess:  95\n"
     ]
    },
    {
     "name": "stdout",
     "output_type": "stream",
     "text": [
      "Too low!\n"
     ]
    },
    {
     "name": "stdin",
     "output_type": "stream",
     "text": [
      "Please enter your guess:  97\n"
     ]
    },
    {
     "name": "stdout",
     "output_type": "stream",
     "text": [
      "Bravo! You are Correct! Your total Guess count is 6!\n"
     ]
    },
    {
     "name": "stdin",
     "output_type": "stream",
     "text": [
      "\n",
      "Do you want to play again? (yes/no):  no\n"
     ]
    },
    {
     "name": "stdout",
     "output_type": "stream",
     "text": [
      "Thanks for playing! Goodbye.\n"
     ]
    }
   ],
   "source": [
    "import random\n",
    "\n",
    "play_again = \"yes\"\n",
    "\n",
    "while play_again.lower() == \"yes\":\n",
    "    # Step 1: Generate a random number between 1 and 100\n",
    "    rand_num = random.randint(1, 100)\n",
    "\n",
    "    print(\"Hi! Let's play a small game. Please guess the number between 1 to 100.\")\n",
    "    print(\"I will give you 10 chances to guess. Are you ready?\")\n",
    "    \n",
    "    guessing_count = 1\n",
    "\n",
    "    while guessing_count < 11:\n",
    "        guess = int(input(\"Please enter your guess: \"))\n",
    "\n",
    "        if guess == rand_num:\n",
    "            print(f\"Bravo! You are Correct! Your total Guess count is {guessing_count}!\")\n",
    "            break\n",
    "        elif guess < rand_num:\n",
    "            print(\"Too low!\")\n",
    "        else:\n",
    "            print(\"Too high!\")\n",
    "\n",
    "        guessing_count += 1\n",
    "\n",
    "    else:\n",
    "        print(\"Game Over! You used all 10 guesses.\")\n",
    "        print(\"The correct number was:\", rand_num)\n",
    "\n",
    "    play_again = (input(\"\\nDo you want to play again? (yes/no): \")).lower()\n",
    "\n",
    "print(\"Thanks for playing! Goodbye.\")\n"
   ]
  },
  {
   "cell_type": "code",
   "execution_count": null,
   "metadata": {},
   "outputs": [],
   "source": []
  },
  {
   "cell_type": "code",
   "execution_count": null,
   "metadata": {},
   "outputs": [],
   "source": []
  }
 ],
 "metadata": {
  "kernelspec": {
   "display_name": "Python [conda env:base] *",
   "language": "python",
   "name": "conda-base-py"
  },
  "language_info": {
   "codemirror_mode": {
    "name": "ipython",
    "version": 3
   },
   "file_extension": ".py",
   "mimetype": "text/x-python",
   "name": "python",
   "nbconvert_exporter": "python",
   "pygments_lexer": "ipython3",
   "version": "3.12.7"
  }
 },
 "nbformat": 4,
 "nbformat_minor": 4
}
