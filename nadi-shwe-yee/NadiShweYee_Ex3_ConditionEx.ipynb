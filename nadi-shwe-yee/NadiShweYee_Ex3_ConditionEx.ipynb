{
 "cells": [
  {
   "cell_type": "markdown",
   "metadata": {
    "colab_type": "text",
    "id": "view-in-github"
   },
   "source": [
    "<a href=\"https://colab.research.google.com/github/myothida/PythonProgramming/blob/main/Ex3_ConditionEx.ipynb\" target=\"_parent\"><img src=\"https://colab.research.google.com/assets/colab-badge.svg\" alt=\"Open In Colab\"/></a>"
   ]
  },
  {
   "cell_type": "markdown",
   "metadata": {
    "id": "r9njLbxcvG0w"
   },
   "source": [
    "Write a program that asks the user to enter a length in centimeters. If the user enters a negative length, the program should tell the user that the entry is invalid. Otherwise, the program should convert the length to inches and print out the result. There are 2.54 centimeters in an inch.\n"
   ]
  },
  {
   "cell_type": "code",
   "execution_count": 59,
   "metadata": {
    "id": "76EFWr1AvMy4",
    "scrolled": true
   },
   "outputs": [
    {
     "name": "stdin",
     "output_type": "stream",
     "text": [
      "Please Enter the length in centimeters(cm):  32\n"
     ]
    },
    {
     "name": "stdout",
     "output_type": "stream",
     "text": [
      "The 32.0 cm in inch is: 12.598 inches\n"
     ]
    }
   ],
   "source": [
    "user_length = float(input(\"Please Enter the length in centimeters(cm): \"))\n",
    "\n",
    "if user_length < 0:\n",
    "    print(\"Invalid Entry! Length must be a positive number.\")\n",
    "else:\n",
    "    length_in_inch = user_length/2.54\n",
    "    length_in_inch = round(length_in_inch, 3)\n",
    "    print(f\"The {user_length} cm in inch is: {length_in_inch} inches\")"
   ]
  },
  {
   "cell_type": "markdown",
   "metadata": {
    "id": "zvaDTmuhvNWJ"
   },
   "source": [
    "Ask the user to enter a temperature in Celsius. The program should print a message based on the temperature:\n",
    "\n",
    "*   If the temperature is less than -273.15, print that the temperature is invalid because it is below absolute zero.\n",
    "*   If it is exactly -273.15, print that the temperature is absolute 0.\n",
    "*   If the temperature is between -273.15 and 0, print that the temperature is below freezing.\n",
    "*   If it is 0, print that the temperature is at the freezing point.\n",
    "*   If it is between 0 and 100, print that the temperature is in the normal range.\n",
    "*   If it is 100, print that the temperature is at the boiling point.\n",
    "*   If it is above 100, print that the temperature is above the boiling point."
   ]
  },
  {
   "cell_type": "code",
   "execution_count": 34,
   "metadata": {
    "id": "UiCbUIcwvqxO"
   },
   "outputs": [
    {
     "name": "stdin",
     "output_type": "stream",
     "text": [
      "Please enter the temperature in degree Celsius:  100\n"
     ]
    },
    {
     "name": "stdout",
     "output_type": "stream",
     "text": [
      "The temperature is at the boiling point.\n"
     ]
    }
   ],
   "source": [
    "user_temp = float(input(\"Please enter the temperature in degree Celsius: \"))\n",
    "if user_temp < -273.15:\n",
    "    print(\"The temperature is invalid because it is below absolute zero.\")\n",
    "elif user_temp == -273.15:\n",
    "    print (\"The temperature is absolute 0.\")\n",
    "elif -273.15 < user_temp < 0:\n",
    "    print (\"The temperature is below freezing.\")\n",
    "elif user_temp == 0:\n",
    "    print (\"The temperature is at the freezing point.\")\n",
    "elif 0 < user_temp < 100:\n",
    "    print (\"The temperature is in the normal range.\")\n",
    "elif user_temp == 100:\n",
    "    print (\"The temperature is at the boiling point.\")\n",
    "else:\n",
    "    print (\"The temperature is above the boiling point.\")"
   ]
  },
  {
   "cell_type": "markdown",
   "metadata": {
    "id": "hoczytNLvrnd"
   },
   "source": [
    "Write a program that asks the user how many credits they have taken. If they have taken 23 or less, print that the student is a freshman. If they have taken between 24 and 53, print that they are a sophomore. The range for juniors is 54 to 83, and for seniors it is 84 and over."
   ]
  },
  {
   "cell_type": "code",
   "execution_count": 55,
   "metadata": {
    "id": "r8_O-_zLvurf"
   },
   "outputs": [
    {
     "name": "stdin",
     "output_type": "stream",
     "text": [
      "Please enter the number of credits you have taken:  34\n"
     ]
    },
    {
     "name": "stdout",
     "output_type": "stream",
     "text": [
      "This student is a sopohmore.\n"
     ]
    }
   ],
   "source": [
    "user_credits = int(input(\"Please enter the number of credits you have taken: \"))\n",
    "if user_credits <= 23:\n",
    "    print (\"This student is a freshman.\")\n",
    "elif 24 <= user_credits <= 53:\n",
    "    print (\"This student is a sopohmore.\")\n",
    "elif 54 <= user_credits <= 83:\n",
    "    print (\"This student is a junior.\")\n",
    "else:\n",
    "    print (\"This student is a senior.\")"
   ]
  },
  {
   "cell_type": "code",
   "execution_count": null,
   "metadata": {},
   "outputs": [],
   "source": []
  }
 ],
 "metadata": {
  "colab": {
   "authorship_tag": "ABX9TyOI5kOvNmVfHX5Yp+951U6H",
   "include_colab_link": true,
   "name": "Ex3_ConditionEx.ipynb",
   "provenance": []
  },
  "kernelspec": {
   "display_name": "Python [conda env:base] *",
   "language": "python",
   "name": "conda-base-py"
  },
  "language_info": {
   "codemirror_mode": {
    "name": "ipython",
    "version": 3
   },
   "file_extension": ".py",
   "mimetype": "text/x-python",
   "name": "python",
   "nbconvert_exporter": "python",
   "pygments_lexer": "ipython3",
   "version": "3.12.7"
  }
 },
 "nbformat": 4,
 "nbformat_minor": 4
}
