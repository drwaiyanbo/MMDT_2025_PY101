{
 "cells": [
  {
   "cell_type": "markdown",
   "metadata": {
    "colab_type": "text",
    "id": "view-in-github"
   },
   "source": [
    "<a href=\"https://colab.research.google.com/github/myothida/PythonProgramming/blob/main/Ex4_Looping.ipynb\" target=\"_parent\"><img src=\"https://colab.research.google.com/assets/colab-badge.svg\" alt=\"Open In Colab\"/></a>"
   ]
  },
  {
   "cell_type": "markdown",
   "metadata": {
    "id": "YeTHwB3EASGn"
   },
   "source": [
    "The exercises are extracted from A_Practical_Introduction_to_Python_Programming_Heinold.pdf"
   ]
  },
  {
   "cell_type": "markdown",
   "metadata": {
    "id": "wVOW5QDgAZ_R"
   },
   "source": [
    "Ex 1: Write a program that uses a while loop (not a for loop) to read through a string and print\n",
    "the characters of the string one-by-one on separate lines."
   ]
  },
  {
   "cell_type": "code",
   "execution_count": 27,
   "metadata": {
    "id": "77KGqP-sJJNh"
   },
   "outputs": [
    {
     "name": "stdout",
     "output_type": "stream",
     "text": [
      "O\n",
      "n\n",
      "e\n",
      " \n",
      "P\n",
      "i\n",
      "e\n",
      "c\n",
      "e\n",
      "!\n"
     ]
    }
   ],
   "source": [
    "Str = \"One Piece!\"\n",
    "idx = 0\n",
    "while idx < len(Str):\n",
    "    print(Str[idx])\n",
    "    idx += 1"
   ]
  },
  {
   "cell_type": "markdown",
   "metadata": {
    "id": "5B-LyYV0AkCK"
   },
   "source": [
    "Ex 2: A good program will make sure that the data its users enter is valid. Write a program that\n",
    "asks the user for a weight and converts it from kilograms to pounds. Whenever the user\n",
    "enters a weight below 0, the program should tell them that their entry is invalid and then ask\n",
    "them again to enter a weight. [Hint: Use a while loop, not an if statement]."
   ]
  },
  {
   "cell_type": "code",
   "execution_count": 29,
   "metadata": {
    "id": "gpRZnsXjArkF"
   },
   "outputs": [
    {
     "name": "stdin",
     "output_type": "stream",
     "text": [
      "Please enter your weight in kg:  -09\n"
     ]
    },
    {
     "name": "stdout",
     "output_type": "stream",
     "text": [
      "Your weight must be a positive number!\n"
     ]
    },
    {
     "name": "stdin",
     "output_type": "stream",
     "text": [
      "Please enter your weight in kg:  60\n"
     ]
    },
    {
     "name": "stdout",
     "output_type": "stream",
     "text": [
      "Your weight in pounds is 132.0 lb.\n"
     ]
    }
   ],
   "source": [
    "weight_in_kg = float(input(\"Please enter your weight in kg: \"))\n",
    "\n",
    "while weight_in_kg < 0:\n",
    "    print (\"Your weight must be a positive number!\")\n",
    "    weight_in_kg = float(input(\"Please enter your weight in kg: \"))\n",
    "\n",
    "weight_in_pound = weight_in_kg * 2.2\n",
    "print(f\"Your weight in pounds is {weight_in_pound} lb.\")\n",
    "    "
   ]
  },
  {
   "cell_type": "markdown",
   "metadata": {
    "id": "zQT0pCjRAsIK"
   },
   "source": [
    "Ex 3: Write a program that allows the user to enter any number of test scores. The user indicates\n",
    "they are done by entering in a negative number. Print how many of the scores are A’s (90 or\n",
    "above). Also print out the average"
   ]
  },
  {
   "cell_type": "code",
   "execution_count": 25,
   "metadata": {
    "id": "Gya-rvYUAviK"
   },
   "outputs": [
    {
     "name": "stdout",
     "output_type": "stream",
     "text": [
      "This program will accept your test scores until you enter a negative number.\n"
     ]
    },
    {
     "name": "stdin",
     "output_type": "stream",
     "text": [
      "Please enter a score:  100\n",
      "Please enter a score:  99\n",
      "Please enter a score:  34\n",
      "Please enter a score:  65\n",
      "Please enter a score:  76\n",
      "Please enter a score:  89\n",
      "Please enter a score:  32\n",
      "Please enter a score:  95\n",
      "Please enter a score:  87\n",
      "Please enter a score:  -1\n"
     ]
    },
    {
     "name": "stdout",
     "output_type": "stream",
     "text": [
      "There are 3 numbers of A's.\n",
      "The average is 75.222!\n"
     ]
    }
   ],
   "source": [
    "print(\"This program will accept your test scores until you enter a negative number.\")\n",
    "\n",
    "test_scores = []\n",
    "\n",
    "input_score = float(input(\"Please enter a score: \"))\n",
    "\n",
    "while input_score >= 0:\n",
    "    test_scores.append(input_score)\n",
    "    input_score = float(input(\"Please enter a score: \"))\n",
    "\n",
    "count_A = 0\n",
    "for score in test_scores:\n",
    "    if score >= 90:\n",
    "        count_A += 1\n",
    "\n",
    "print(\"There are {} numbers of A's.\".format(count_A))\n",
    "\n",
    "if len(test_scores) > 0:\n",
    "    total_sum = sum(test_scores)\n",
    "    num_of_scores = len(test_scores)\n",
    "    average = round(total_sum / num_of_scores,3)\n",
    "    print(f\"The average is {average}!\")\n",
    "else:\n",
    "    print(\"No valid scores were entered.\")"
   ]
  },
  {
   "cell_type": "markdown",
   "metadata": {
    "id": "IHIWc5jHAwxY"
   },
   "source": [
    "Ex 4: Write a program that asks the user for a string and a letter. Using a for loop, the\n",
    "program should print the index of the first occurrence of that letter and a message if the\n",
    "string does not contain the letter."
   ]
  },
  {
   "cell_type": "code",
   "execution_count": 22,
   "metadata": {
    "id": "xSe0mtQ8A68M"
   },
   "outputs": [
    {
     "name": "stdin",
     "output_type": "stream",
     "text": [
      "Please enter a string:  applw\n",
      "Please enter a letter:  e\n"
     ]
    },
    {
     "name": "stdout",
     "output_type": "stream",
     "text": [
      "The string does not contain the letter.\n"
     ]
    }
   ],
   "source": [
    "strings = str(input(\"Please enter a string: \"))\n",
    "letter = str(input(\"Please enter a letter: \"))\n",
    "found = False\n",
    "\n",
    "for i in range(len(strings)):\n",
    "    if strings[i] == letter:\n",
    "        print(f\"The index of first occurence is {i}.\")\n",
    "        found = True\n",
    "        break\n",
    "    \n",
    "if found == False:\n",
    "    print(\"The string does not contain the letter.\")\n"
   ]
  },
  {
   "cell_type": "markdown",
   "metadata": {
    "id": "PfyUq4CnA8vk"
   },
   "source": [
    "Ex 5: Write a program in which you have a list that contains seven integers that can be 0 or 1. Find the first zero entry in the list and change it to a 1. If there are no zero entries, print a message saying so."
   ]
  },
  {
   "cell_type": "code",
   "execution_count": 36,
   "metadata": {},
   "outputs": [
    {
     "name": "stdout",
     "output_type": "stream",
     "text": [
      "There are no zero entries.\n"
     ]
    }
   ],
   "source": [
    "my_list = [1,1,1,1,1,1,1]\n",
    "index = 0\n",
    "change = False\n",
    "\n",
    "for list in my_list:\n",
    "    if list == 0:\n",
    "        my_list[index] = 1\n",
    "        print(\"The updated list:\", my_list)\n",
    "        change = True\n",
    "        break\n",
    "    index +=1\n",
    "\n",
    "if change == False:\n",
    "    print (\"There are no zero entries.\")"
   ]
  },
  {
   "cell_type": "code",
   "execution_count": null,
   "metadata": {},
   "outputs": [],
   "source": []
  }
 ],
 "metadata": {
  "colab": {
   "authorship_tag": "ABX9TyOm3U7ihfZeEceAaZW842Wb",
   "include_colab_link": true,
   "name": "Ex4_Looping.ipynb",
   "provenance": []
  },
  "kernelspec": {
   "display_name": "Python [conda env:base] *",
   "language": "python",
   "name": "conda-base-py"
  },
  "language_info": {
   "codemirror_mode": {
    "name": "ipython",
    "version": 3
   },
   "file_extension": ".py",
   "mimetype": "text/x-python",
   "name": "python",
   "nbconvert_exporter": "python",
   "pygments_lexer": "ipython3",
   "version": "3.12.7"
  }
 },
 "nbformat": 4,
 "nbformat_minor": 4
}
