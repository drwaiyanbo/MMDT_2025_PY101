{
  "cells": [
    {
      "cell_type": "markdown",
      "metadata": {
        "id": "YeTHwB3EASGn"
      },
      "source": [
        "The exercises are extracted from A_Practical_Introduction_to_Python_Programming_Heinold.pdf"
      ]
    },
    {
      "cell_type": "markdown",
      "metadata": {
        "id": "wVOW5QDgAZ_R"
      },
      "source": [
        "Ex 1: Write a program that uses a while loop (not a for loop) to read through a string and print\n",
        "the characters of the string one-by-one on separate lines."
      ]
    },
    {
      "cell_type": "code",
      "execution_count": 7,
      "metadata": {
        "id": "77KGqP-sJJNh",
        "outputId": "16047628-d263-4f51-db5a-338c864974fa",
        "colab": {
          "base_uri": "https://localhost:8080/"
        }
      },
      "outputs": [
        {
          "output_type": "stream",
          "name": "stdout",
          "text": [
            "Please type a stringaungyekyaw\n",
            "a\n",
            "u\n",
            "n\n",
            "g\n",
            "y\n",
            "e\n",
            "k\n",
            "y\n",
            "a\n",
            "w\n"
          ]
        }
      ],
      "source": [
        " words = input(\"Please type a string\")\n",
        " i=0\n",
        " while (len(words) >i):\n",
        "  print(words[i])\n",
        "  i +=1"
      ]
    },
    {
      "cell_type": "markdown",
      "metadata": {
        "id": "5B-LyYV0AkCK"
      },
      "source": [
        "Ex 2: A good program will make sure that the data its users enter is valid. Write a program that\n",
        "asks the user for a weight and converts it from kilograms to pounds. Whenever the user\n",
        "enters a weight below 0, the program should tell them that their entry is invalid and then ask\n",
        "them again to enter a weight. [Hint: Use a while loop, not an if statement]."
      ]
    },
    {
      "cell_type": "code",
      "execution_count": 13,
      "metadata": {
        "id": "gpRZnsXjArkF",
        "outputId": "e2deb5c1-7bc4-4831-96ac-7de01f1e96f5",
        "colab": {
          "base_uri": "https://localhost:8080/"
        }
      },
      "outputs": [
        {
          "output_type": "stream",
          "name": "stdout",
          "text": [
            "Please type your weight-1\n",
            "Your entry is invalid\n",
            "Please type your weight 0\n",
            "Your entry is invalid\n",
            "Please type your weight 3\n",
            "6.6000000000000005\n"
          ]
        }
      ],
      "source": [
        "weightInKilo =  int(input(\"Please type your weight\"))\n",
        "#loop when user type under zero & equal to zero\n",
        "while(weightInKilo <=0):\n",
        "  print(\"Your entry is invalid\")\n",
        "  weightInKilo =  int(input(\"Please type your weight \"))\n",
        "weightInpound = weightInKilo * 2.2\n",
        "print(weightInpound)\n",
        "\n"
      ]
    },
    {
      "cell_type": "markdown",
      "metadata": {
        "id": "zQT0pCjRAsIK"
      },
      "source": [
        "Ex 3: Write a program that allows the user to enter any number of test scores. The user indicates\n",
        "they are done by entering in a negative number. Print how many of the scores are A’s (90 or\n",
        "above). Also print out the average"
      ]
    },
    {
      "cell_type": "code",
      "execution_count": 16,
      "metadata": {
        "id": "Gya-rvYUAviK",
        "outputId": "04011683-d4c0-4207-a3b1-f3054d5a2c90",
        "colab": {
          "base_uri": "https://localhost:8080/"
        }
      },
      "outputs": [
        {
          "output_type": "stream",
          "name": "stdout",
          "text": [
            "Please type your scores90\n",
            "Please type your scores91\n",
            "Please type your scores80\n",
            "Please type your scores-1\n",
            "The number of students who gets A is 2\n",
            "87.0\n"
          ]
        }
      ],
      "source": [
        "scores = int(input(\"Please type your scores\"))\n",
        "\n",
        "scroesBoard= []\n",
        "# adding to list if the score is over zero and above\n",
        "while(scores >= 0):\n",
        "  scroesBoard.append(scores)\n",
        "  scores = int(input(\"Please type your scores\"))\n",
        "  #when the score is less than zero\n",
        "  if(scores<0):\n",
        "    countA = 0;\n",
        "    #finding the scroe equal to 90 or above\n",
        "    for score in scroesBoard:\n",
        "      if (score >= 90):\n",
        "        countA +=1\n",
        "    print(\"The number of students who gets A is {}\".format(countA))\n",
        "    print(sum(scroesBoard)/len(scroesBoard))\n",
        "\n"
      ]
    },
    {
      "cell_type": "markdown",
      "source": [],
      "metadata": {
        "id": "nB5UHIeciz8h"
      }
    },
    {
      "cell_type": "markdown",
      "metadata": {
        "id": "IHIWc5jHAwxY"
      },
      "source": [
        "Ex 4: Write a program that asks the user for a string and a letter. Using a for loop, the\n",
        "program should print the index of the first occurrence of that letter and a message if the\n",
        "string does not contain the letter."
      ]
    },
    {
      "cell_type": "code",
      "execution_count": 24,
      "metadata": {
        "id": "xSe0mtQ8A68M",
        "outputId": "40bc2b10-69b6-4610-d789-3b039b3148c7",
        "colab": {
          "base_uri": "https://localhost:8080/"
        }
      },
      "outputs": [
        {
          "output_type": "stream",
          "name": "stdout",
          "text": [
            "Please enter a word or sentence: aung\n",
            "Please enter a letter e\n",
            "The string does not contain the letter\n"
          ]
        }
      ],
      "source": [
        "userString = input(\"Please enter a word or sentence: \")\n",
        "userLetter = input (\"Please enter a letter \")\n",
        "#search each words and taking out the index position\n",
        "for word in userString :\n",
        "  if (word == userLetter):\n",
        "    print(userString.index(word))\n",
        "  else:\n",
        "    print(\"The string does not contain the letter\")\n",
        "    #stop the loop if there is no match words\n",
        "    break\n",
        "\n",
        "\n"
      ]
    },
    {
      "cell_type": "markdown",
      "metadata": {
        "id": "PfyUq4CnA8vk"
      },
      "source": [
        "Ex 5: Write a program in which you have a list that contains seven integers that can be 0 or 1. Find the first zero entry in the list and change it to a 1. If there are no zero entries, print a message saying so."
      ]
    },
    {
      "cell_type": "code",
      "execution_count": 33,
      "metadata": {
        "id": "Ne7uHuDVdfbn",
        "outputId": "4bbaec1a-738e-40b0-fb80-f1a844a88636",
        "colab": {
          "base_uri": "https://localhost:8080/"
        }
      },
      "outputs": [
        {
          "output_type": "stream",
          "name": "stdout",
          "text": [
            "[1, 1, 1, 1, 1, 1, 1]\n"
          ]
        }
      ],
      "source": [
        "listNum = [1,0,1,0,1,1,1]\n",
        "\n",
        "for num in listNum:\n",
        "\n",
        "  if listNum[num] == 0:\n",
        "    listNum[num] = 1\n",
        "    print(listNum)\n",
        "    break\n",
        "\n",
        "  else:\n",
        "    print(\"There are no zero entries\")\n",
        "    break\n"
      ]
    }
  ],
  "metadata": {
    "colab": {
      "name": "Ex4_Looping.ipynb",
      "provenance": []
    },
    "kernelspec": {
      "display_name": "Python 3",
      "name": "python3"
    },
    "language_info": {
      "codemirror_mode": {
        "name": "ipython",
        "version": 3
      },
      "file_extension": ".py",
      "mimetype": "text/x-python",
      "name": "python",
      "nbconvert_exporter": "python",
      "pygments_lexer": "ipython3",
      "version": "3.12.1"
    }
  },
  "nbformat": 4,
  "nbformat_minor": 0
}