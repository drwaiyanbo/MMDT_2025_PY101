{
  "nbformat": 4,
  "nbformat_minor": 0,
  "metadata": {
    "colab": {
      "provenance": []
    },
    "kernelspec": {
      "name": "python3",
      "display_name": "Python 3"
    },
    "language_info": {
      "name": "python"
    }
  },
  "cells": [
    {
      "cell_type": "markdown",
      "source": [
        "Write a program that asks the user to enter a length in centimeters. If the user enters a negative length, the program should tell the user that the entry is invalid. Otherwise, the program should convert the length to inches and print out the result. There are 2.54 centimeters in an inch.\n"
      ],
      "metadata": {
        "id": "r9njLbxcvG0w"
      }
    },
    {
      "cell_type": "code",
      "source": [
        "length_in_cm = float(input(\"Enter centimeters\"))\n",
        "if length_in_cm <0 :\n",
        "  print(\"Entry is invalid, please enter a positive number\")\n",
        "else :\n",
        "  length_in_inches = length_in_cm / 2.54\n",
        "  print(\"The {} cm is equal to {} inches\".format(length_in_cm,length_in_inches))"
      ],
      "metadata": {
        "id": "76EFWr1AvMy4",
        "colab": {
          "base_uri": "https://localhost:8080/"
        },
        "outputId": "b665b830-3c8c-47d1-fa18-5e08fa2a3f3d"
      },
      "execution_count": null,
      "outputs": [
        {
          "output_type": "stream",
          "name": "stdout",
          "text": [
            "Enter centimeters5\n",
            "The 5.0 cm is equal to 1.968503937007874 inches\n"
          ]
        }
      ]
    },
    {
      "cell_type": "markdown",
      "source": [
        "Ask the user to enter a temperature in Celsius. The program should print a message based on the temperature:\n",
        "\n",
        "*   If the temperature is less than -273.15, print that the temperature is invalid because it is below absolute zero.\n",
        "*   If it is exactly -273.15, print that the temperature is absolute 0.\n",
        "*   If the temperature is between -273.15 and 0, print that the temperature is below freezing.\n",
        "*   If it is 0, print that the temperature is at the freezing point.\n",
        "*   If it is between 0 and 100, print that the temperature is in the normal range.\n",
        "*   If it is 100, print that the temperature is at the boiling point.\n",
        "*   If it is above 100, print that the temperature is above the boiling point."
      ],
      "metadata": {
        "id": "zvaDTmuhvNWJ"
      }
    },
    {
      "cell_type": "code",
      "source": [
        "celsius = float(input(\"Enter temperature in celsius\"))\n",
        "if celsius <-273.15 :\n",
        "  print(\"The temperature is invalid because it is below absolute zero\")\n",
        "elif celsius == -273.15 :\n",
        "  print(\"The temperature is absolute 0\")\n",
        "elif celsius < 0 :\n",
        "  print(\"The temperature is below freezing\")\n",
        "elif celsius == 0 :\n",
        "  print(\"The temperature is at the freezing point\")\n",
        "elif celsius <100 :\n",
        "  print(\"The temperature is in the normal range\")\n",
        "elif celsius == 100 :\n",
        "  print(\"The temperature is at the boiling point\")\n",
        "else :\n",
        "  print(\"The temperature is above the boiling point\")"
      ],
      "metadata": {
        "id": "UiCbUIcwvqxO",
        "colab": {
          "base_uri": "https://localhost:8080/"
        },
        "outputId": "7f97db9b-577b-4d9b-8255-d8a118955fd2"
      },
      "execution_count": null,
      "outputs": [
        {
          "output_type": "stream",
          "name": "stdout",
          "text": [
            "Enter temperature in celsius150\n",
            "The temperature is above the boiling point\n"
          ]
        }
      ]
    },
    {
      "cell_type": "markdown",
      "source": [
        "Write a program that asks the user how many credits they have taken. If they have taken 23 or less, print that the student is a freshman. If they have taken between 24 and 53, print that they are a sophomore. The range for juniors is 54 to 83, and for seniors it is 84 and over."
      ],
      "metadata": {
        "id": "hoczytNLvrnd"
      }
    },
    {
      "cell_type": "code",
      "source": [
        "credit_amount = int(input(\"Enter your credit amount\"))\n",
        "if credit_amount <=23 :\n",
        "  print(\"You are freshman\")\n",
        "elif credit_amount <=53 :\n",
        "  print(\"You are sophomore\")\n",
        "elif credit_amount <=83 :\n",
        "  print(\"You are Juniors\")\n",
        "else :\n",
        "  print(\"You are ASeniors\")"
      ],
      "metadata": {
        "id": "r8_O-_zLvurf"
      },
      "execution_count": null,
      "outputs": []
    }
  ]
}