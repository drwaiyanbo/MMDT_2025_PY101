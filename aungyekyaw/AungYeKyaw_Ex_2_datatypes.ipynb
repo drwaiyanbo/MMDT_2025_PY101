{
  "cells": [
    {
      "cell_type": "markdown",
      "metadata": {
        "id": "X_Unw3z9u2-7"
      },
      "source": [
        "Ex 1 : Check the lenght of the string \"My name is python\""
      ]
    },
    {
      "cell_type": "code",
      "execution_count": null,
      "metadata": {
        "colab": {
          "base_uri": "https://localhost:8080/"
        },
        "id": "gN6khYR8oZV8",
        "outputId": "d883d236-3526-460a-ee9c-b45422e5b460"
      },
      "outputs": [
        {
          "output_type": "stream",
          "name": "stdout",
          "text": [
            "17\n"
          ]
        }
      ],
      "source": [
        "name = \"My name is python\"\n",
        "print(len(name))"
      ]
    },
    {
      "cell_type": "markdown",
      "metadata": {
        "id": "BuJsT-exoZV9"
      },
      "source": [
        "Ex 2: Check the number of times \"python\" (regardless of cases: PYTHON, python, Python\" appears in the paragraph : \"Floating-point values in Python are always done in double precision; hence, Python float types correspond to doubles in a C-like language.\""
      ]
    },
    {
      "cell_type": "code",
      "execution_count": null,
      "metadata": {
        "id": "cLqeovYnoZV9",
        "colab": {
          "base_uri": "https://localhost:8080/"
        },
        "outputId": "2a54d43e-6365-4d58-bc8d-ec26103b3ce7"
      },
      "outputs": [
        {
          "output_type": "stream",
          "name": "stdout",
          "text": [
            "2\n"
          ]
        }
      ],
      "source": [
        "s = \"Floating-point values in Python are always done in double precision; hence, Python float types correspond to doubles in a C-like language.\"\n",
        "s = s.lower()\n",
        "print(s.count(\"python\"))"
      ]
    },
    {
      "cell_type": "markdown",
      "metadata": {
        "id": "pk3W0G-uoZV-"
      },
      "source": [
        "Ex 3: Combine two lists : ls1 = [\"apple\", \"banana\", \"cherry\"] and ls2 = [\"apple\", \"banana\", \"cherry\", \"apple\", \"cherry\"]. Print the number of elements in new list."
      ]
    },
    {
      "cell_type": "code",
      "execution_count": null,
      "metadata": {
        "id": "4xrZ9VyqoZV-",
        "colab": {
          "base_uri": "https://localhost:8080/"
        },
        "outputId": "d38e7232-29d6-408d-eff3-bad7fd4d9914"
      },
      "outputs": [
        {
          "output_type": "stream",
          "name": "stdout",
          "text": [
            "8\n"
          ]
        }
      ],
      "source": [
        "ls1=[\"apple\",\"banana\",\"cherry\"]\n",
        "ls2 = [\"apple\",\"banana\",\"cherry\",\"apple\",\"cherry\"]\n",
        "ls3 = ls1+ls2\n",
        "print(len(ls3))"
      ]
    },
    {
      "cell_type": "markdown",
      "metadata": {
        "id": "qLpJSaFEoZV-"
      },
      "source": [
        "Ex 4: Create a dictionary for the following table:"
      ]
    },
    {
      "cell_type": "markdown",
      "metadata": {
        "id": "owY3swBioZV-"
      },
      "source": [
        "| Name | Age |\n",
        "| --- | --- |\n",
        "| Myo | 32 |\n",
        "| Thida | 64 |"
      ]
    },
    {
      "cell_type": "code",
      "execution_count": null,
      "metadata": {
        "id": "fthC1Pl6oZV_",
        "colab": {
          "base_uri": "https://localhost:8080/"
        },
        "outputId": "fc031ce6-6b4b-4131-f905-a3135dfde8d0"
      },
      "outputs": [
        {
          "output_type": "stream",
          "name": "stdout",
          "text": [
            "{'Name': ['Myo', 'Thida'], 'Age': [32, 64]}\n"
          ]
        }
      ],
      "source": [
        "dict = {\"Name\":[\"Myo\",\"Thida\"],\"Age\":[32,64]}\n",
        "print(dict)"
      ]
    },
    {
      "cell_type": "markdown",
      "metadata": {
        "id": "YUCDXsKHoZV_"
      },
      "source": [
        "Ex 5: Combine two sets and print the combined set and its length.\n",
        "set1 = {\"Name\", \"age\", \"Height\"}\n",
        "set2 = {\"Name\", \"status\", \"Education\"}"
      ]
    },
    {
      "cell_type": "code",
      "execution_count": null,
      "metadata": {
        "id": "DQchZRKgoZV_",
        "colab": {
          "base_uri": "https://localhost:8080/"
        },
        "outputId": "e869cba5-9829-493e-dff8-85e2087b92ed"
      },
      "outputs": [
        {
          "output_type": "stream",
          "name": "stdout",
          "text": [
            "{'status', 'Name', 'age', 'Height', 'Education'}\n",
            "5\n"
          ]
        }
      ],
      "source": [
        "set1 = {\"Name\", \"age\", \"Height\"}\n",
        "set2 = {\"Name\", \"status\", \"Education\"}\n",
        "combine = set1.union(set2)\n",
        "print(combine)\n",
        "print(len(combine))"
      ]
    },
    {
      "cell_type": "markdown",
      "metadata": {
        "id": "RDb9UAqcoZV_"
      },
      "source": [
        "Ex 6: Write a program that asks the user to enter a string. The program should create a new string called new_string from the user's string such that the second character is changed to an asterisk and three exclamation points are attached to the end of the string. Finally, print new_string."
      ]
    },
    {
      "cell_type": "code",
      "source": [
        "value = input(\"Enter a string: \")\n",
        "new_string = value.replace(value[1],\"*\")\n",
        "new_string = new_string+\"!!!\"\n",
        "\n",
        "print(new_string)"
      ],
      "metadata": {
        "colab": {
          "base_uri": "https://localhost:8080/"
        },
        "id": "BMI2lzYzeLVu",
        "outputId": "83045645-510a-4e82-ca92-365649529d17"
      },
      "execution_count": 2,
      "outputs": [
        {
          "output_type": "stream",
          "name": "stdout",
          "text": [
            "Enter a string: aungyekyaw\n",
            "a*ngyekyaw!!!\n"
          ]
        }
      ]
    },
    {
      "cell_type": "markdown",
      "metadata": {
        "id": "lx1p8tY9oZWA"
      },
      "source": [
        "Ex 7: Write a program that converts the given string 's' to lowercase, removes all Punctuation marks such as period, hyphen, and commas from 's', and prints the resulting string."
      ]
    },
    {
      "cell_type": "code",
      "execution_count": null,
      "metadata": {
        "id": "TT5haXhnoZWA",
        "colab": {
          "base_uri": "https://localhost:8080/"
        },
        "outputId": "4a1377c4-6d25-46a6-a101-b09782e18f21"
      },
      "outputs": [
        {
          "output_type": "stream",
          "name": "stdout",
          "text": [
            "floating point values in python are always done in double precision hence python float types correspond to doubles in a c like language.\n"
          ]
        }
      ],
      "source": [
        "s = \"Floating-point values in Python are always done in double precision; hence, Python float types correspond to doubles in a C-like language.\"\n",
        "s=s.lower()\n",
        "s = s.replace(\"-\",\" \")\n",
        "s = s.replace(\";\",\"\")\n",
        "s=s.replace (\",\",\"\")\n",
        "\n",
        "print(s)\n"
      ]
    },
    {
      "cell_type": "markdown",
      "metadata": {
        "id": "MRgjy-f6oZWA"
      },
      "source": [
        "Ex 8: L1 and L2 should be identical. Write a program that finds the missing number in L2."
      ]
    },
    {
      "cell_type": "code",
      "execution_count": 7,
      "metadata": {
        "id": "rKFeS9E8oZWA",
        "colab": {
          "base_uri": "https://localhost:8080/"
        },
        "outputId": "71462a7f-8fb2-424c-ad98-94f13afa5540"
      },
      "outputs": [
        {
          "output_type": "stream",
          "name": "stdout",
          "text": [
            "{58}\n"
          ]
        }
      ],
      "source": [
        "from random import randint\n",
        "L1 = list(range(1,101))\n",
        "L2 = L1.copy()\n",
        "L2.remove(randint(1,100))\n",
        "\n",
        "new_L1 = set(L1)\n",
        "new_l2 = set(L2)\n",
        "remove_value = new_L1.difference(new_l2)\n",
        "\n",
        "print (remove_value)\n",
        "\n",
        "\n",
        "\n",
        "\n",
        "\n"
      ]
    },
    {
      "cell_type": "markdown",
      "metadata": {
        "id": "e7qJ06DRoZWA"
      },
      "source": [
        "Ex 9: Write a program to copy the ls1 = [\"apple\", \"banana\", \"cherry\"] to a new list. Add the element \"blueberry\" to the new list, but keep the original list the same."
      ]
    },
    {
      "cell_type": "code",
      "execution_count": null,
      "metadata": {
        "id": "QEe91Ed7oZWB",
        "colab": {
          "base_uri": "https://localhost:8080/"
        },
        "outputId": "970628de-ac46-43dc-927d-69f6a6a3e295"
      },
      "outputs": [
        {
          "output_type": "stream",
          "name": "stdout",
          "text": [
            "['apple', 'banana', 'cherry']\n",
            "['apple', 'banana', 'cherry', 'blueberry']\n"
          ]
        }
      ],
      "source": [
        "ls1 =[\"apple\",\"banana\",\"cherry\"]\n",
        "ls2 = ls1.copy()\n",
        "ls2.append(\"blueberry\")\n",
        "print(ls1)\n",
        "print(ls2)"
      ]
    }
  ],
  "metadata": {
    "colab": {
      "provenance": []
    },
    "kernelspec": {
      "display_name": "Python 3",
      "language": "python",
      "name": "python3"
    },
    "language_info": {
      "codemirror_mode": {
        "name": "ipython",
        "version": 3
      },
      "file_extension": ".py",
      "mimetype": "text/x-python",
      "name": "python",
      "nbconvert_exporter": "python",
      "pygments_lexer": "ipython3",
      "version": "3.12.1"
    }
  },
  "nbformat": 4,
  "nbformat_minor": 0
}