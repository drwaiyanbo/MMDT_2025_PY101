{
  "cells": [
    {
      "cell_type": "markdown",
      "metadata": {
        "id": "WmA9m1swiePR"
      },
      "source": [
        "1) Write a Python program in the below cell to create a dictionary that count the frequency of words in the string given in Q1.txt. Find the most frequent occured word.\n",
        "\n",
        "Don't remove the comment lines provided."
      ]
    },
    {
      "cell_type": "code",
      "execution_count": 10,
      "metadata": {
        "colab": {
          "base_uri": "https://localhost:8080/"
        },
        "id": "kZ6Nv__ZiePU",
        "outputId": "a689937c-6dc8-4d97-f91e-1624e10c6d78"
      },
      "outputs": [
        {
          "output_type": "stream",
          "name": "stdout",
          "text": [
            "i love this movie! it is sweet, but with satirical humor. the dialogs are great and the adventure scenes are fun. it manages to be romantic and whimsical while laughingat the conventions of the fairy tale genre. i would recommend it to just about anyone. i have seen it several times and i am always happy to see it again and again. \n",
            "i love this movie it is sweet but with satirical humor the dialogs are great and the adventure scenes are fun it manages to be romantic and whimsical while laughingat the conventions of the fairy tale genre i would recommend it to just about anyone i have seen it several times and i am always happy to see it again and again \n",
            "['i', 'love', 'this', 'movie', 'it', 'is', 'sweet', 'but', 'with', 'satirical', 'humor', 'the', 'dialogs', 'are', 'great', 'and', 'the', 'adventure', 'scenes', 'are', 'fun', 'it', 'manages', 'to', 'be', 'romantic', 'and', 'whimsical', 'while', 'laughingat', 'the', 'conventions', 'of', 'the', 'fairy', 'tale', 'genre', 'i', 'would', 'recommend', 'it', 'to', 'just', 'about', 'anyone', 'i', 'have', 'seen', 'it', 'several', 'times', 'and', 'i', 'am', 'always', 'happy', 'to', 'see', 'it', 'again', 'and', 'again', '']\n",
            "{'i': 4, 'love': 1, 'this': 1, 'movie': 1, 'it': 5, 'is': 1, 'sweet': 1, 'but': 1, 'with': 1, 'satirical': 1, 'humor': 1, 'the': 4, 'dialogs': 1, 'are': 2, 'great': 1, 'and': 4, 'adventure': 1, 'scenes': 1, 'fun': 1, 'manages': 1, 'to': 3, 'be': 1, 'romantic': 1, 'whimsical': 1, 'while': 1, 'laughingat': 1, 'conventions': 1, 'of': 1, 'fairy': 1, 'tale': 1, 'genre': 1, 'would': 1, 'recommend': 1, 'just': 1, 'about': 1, 'anyone': 1, 'have': 1, 'seen': 1, 'several': 1, 'times': 1, 'am': 1, 'always': 1, 'happy': 1, 'see': 1, 'again': 2, '': 1}\n",
            "Most frequent word is : it: 5 times\n"
          ]
        }
      ],
      "source": [
        "#step 1: read content from Q1.txt\n",
        "with open('/Q1.txt', 'r') as file1:\n",
        "    word_string = file1.read()\n",
        "\n",
        "\n",
        "#step 2.1 - change the case to upper or lower.\n",
        "word_stringLower = word_string.lower()\n",
        "print(word_stringLower)\n",
        "#step 2.2 - remove pun : use replace\n",
        "word_sting_no_pun = word_stringLower.replace('!','').replace(',','').replace('.','')\n",
        "print(word_sting_no_pun)\n",
        "#step 2.3 - split using space\n",
        "word_list = word_sting_no_pun.split(' ')\n",
        "print (word_list)\n",
        "\n",
        "\n",
        "#Step 3: create a dictionary\n",
        "word_dict = {}\n",
        "\n",
        "#Step 4: find the most frequent occured one\n",
        "for word in word_list:\n",
        "    if word in word_dict:\n",
        "        word_dict[word] += 1\n",
        "    else:\n",
        "        word_dict[word] = 1\n",
        "\n",
        "print(word_dict)\n",
        "\n",
        "\n",
        "most_frequent_word = \"\"\n",
        "max_count = 0\n",
        "\n",
        "for word, count in word_dict.items():\n",
        "    if count > max_count:\n",
        "        max_count = count\n",
        "        most_frequent_word = word\n",
        "\n",
        "print(\"Most frequent word is : {}: {} times\".format( most_frequent_word,max_count))\n",
        "\n",
        "\n",
        "\n"
      ]
    },
    {
      "cell_type": "code",
      "source": [
        "from google.colab import drive\n",
        "drive.mount('/content/drive')"
      ],
      "metadata": {
        "id": "Ofy-ap7ljzHP"
      },
      "execution_count": null,
      "outputs": []
    },
    {
      "cell_type": "markdown",
      "metadata": {
        "id": "KDuiGjWkiePV"
      },
      "source": [
        "2) Write a Python program to read the name from Q2.txt and create email using domain 'simons-rock.edu' and save the results as dictionary : {'name': 'name@simons-rock.edu'}.\n",
        "Please take note that your email should not include space or any special characters and all charcters should be in lowercase."
      ]
    },
    {
      "cell_type": "code",
      "execution_count": 22,
      "metadata": {
        "id": "cM94dQJWiePV",
        "colab": {
          "base_uri": "https://localhost:8080/"
        },
        "outputId": "86bca799-8190-41b8-be43-cc6b2e058ffb"
      },
      "outputs": [
        {
          "output_type": "stream",
          "name": "stdout",
          "text": [
            "{'dechendorji': 'dechendorji@simons-rock.edu', 'dekitshomo': 'dekitshomo@simons-rock.edu', 'dorjitshering': 'dorjitshering@simons-rock.edu', 'dorjiwangmo': 'dorjiwangmo@simons-rock.edu', 'gemtsheringlepcha': 'gemtsheringlepcha@simons-rock.edu', 'jigmedorji': 'jigmedorji@simons-rock.edu', 'kinleycheki': 'kinleycheki@simons-rock.edu', 'kinleywangmo': 'kinleywangmo@simons-rock.edu', 'ngawangdemakarpo': 'ngawangdemakarpo@simons-rock.edu', 'roshanchhetri': 'roshanchhetri@simons-rock.edu', 'sonamtenzin': 'sonamtenzin@simons-rock.edu', 'sonamtobgay': 'sonamtobgay@simons-rock.edu', 'sonamyangden': 'sonamyangden@simons-rock.edu', 'tandinom': 'tandinom@simons-rock.edu', 'tandinwangchuk': 'tandinwangchuk@simons-rock.edu', 'tashiom': 'tashiom@simons-rock.edu', 'tendayzangmo': 'tendayzangmo@simons-rock.edu', 'tsheringpem': 'tsheringpem@simons-rock.edu', 'ugyenphurpa': 'ugyenphurpa@simons-rock.edu', 'marmitt': 'marmitt@simons-rock.edu'}\n"
          ]
        }
      ],
      "source": [
        "#step 1: read Q2. txt into the list\n",
        "with open ('/Q2.txt', 'r') as names:\n",
        "    header = names.readline()\n",
        "    namelist = names.readlines()\n",
        "\n",
        "#step 2: create email for each name in the list and save them in the dictionary\n",
        "email_dict = {}\n",
        "# You need to do the necessary data cleaning\n",
        "for name in namelist:\n",
        "    name = name.strip()\n",
        "    name = name.lower()\n",
        "    name = name.replace(' ', '')\n",
        "    email = name + '@simons-rock.edu'\n",
        "    email_dict[name] = email\n",
        "\n",
        "print(email_dict)\n",
        "\n",
        "# For example, removing the space and special characters if there is any, converting them to lower case\n",
        "\n"
      ]
    },
    {
      "cell_type": "markdown",
      "metadata": {
        "id": "ERrasdbMiePW"
      },
      "source": [
        "3) Write a Python program for \"Guessing Game: Guess the Number Challenge\"\n",
        "\n",
        "Step 1: Use a random function to generate a number.\n",
        "\n",
        "##### Game starts.......\n",
        "\n",
        "Step 2: Prompt the user to guess an integer number. Provide a range if needed to give the user context for their guess.\n",
        "\n",
        "Step 3: Check the condition of the guessed number compared to the generated number and provide feedback accordingly. For example, if the guess is too high or too low, inform the user.\n",
        "\n",
        "Step 4.1: If the guess is incorrect, allow the user to guess again. Repeat this process for a maximum of 10 guesses.\n",
        "\n",
        "Step 4.2: If the user guesses the number correctly, inform them that they have won. Also, indicate how many guesses were needed before guessing correctly.\n",
        "\n",
        "Step 4.3: If the user exhausts all 10 guesses without guessing the correct number, say \"goodbye.\"\n",
        "\n",
        "##### Game ends ...\n",
        "\n",
        "Step 5: Regardless of winning or losing, ask the user if they want to play again. This ensures the program's continuity and gives the user the option to continue playing if they wish."
      ]
    },
    {
      "cell_type": "code",
      "execution_count": 15,
      "metadata": {
        "id": "Dvo7UxaFiePW",
        "colab": {
          "base_uri": "https://localhost:8080/"
        },
        "outputId": "837ca562-867f-4b92-8e3f-6bc25c0e9322"
      },
      "outputs": [
        {
          "output_type": "stream",
          "name": "stdout",
          "text": [
            "Game starts.......\n",
            "You have 10 attempts to guess it.\n",
            "Enter your guess: 60\n",
            "Too low!\n",
            "Enter your guess: 70\n",
            "Too high!\n",
            "Enter your guess: 65\n",
            "Too high!\n",
            "Enter your guess: 64\n",
            "Too high!\n",
            "Enter your guess: 63\n",
            "Too high!\n",
            "Enter your guess: 62\n",
            "Too high!\n",
            "Enter your guess: 61\n",
            "Congratulations! You guessed it in 7 tries.\n",
            "Sorry, you've used all 10 attempts. The number was 61.\n",
            "Goodbye!\n",
            "Game ends...\n"
          ]
        }
      ],
      "source": [
        "import random\n",
        "\n",
        "\n",
        "number_to_guess = random.randint(1, 100)\n",
        "attempts = 0\n",
        "max_attempts = 10\n",
        "\n",
        "print(\"Game starts.......\")\n",
        "print(\"You have 10 attempts to guess it.\")\n",
        "\n",
        "while attempts < max_attempts:\n",
        "  user_guess = int(input(\"Enter your guess: \"))\n",
        "  if (user_guess < 1 or user_guess > 100):\n",
        "    print(\"Please enter a number between 1 and 100.\")\n",
        "  attempts += 1\n",
        "  if user_guess < number_to_guess:\n",
        "   print(\"Too low!\")\n",
        "  elif user_guess > number_to_guess:\n",
        "   print(\"Too high!\")\n",
        "  elif user_guess == number_to_guess:\n",
        "   print(\"Congratulations! You guessed it in {} tries.\".format(attempts))\n",
        "\n",
        "print(\"Sorry, you've used all 10 attempts. The number was {}.\".format(number_to_guess))\n",
        "print(\"Goodbye!\")\n",
        "print(\"Game ends...\")\n",
        "\n",
        "\n",
        "\n"
      ]
    }
  ],
  "metadata": {
    "kernelspec": {
      "display_name": "Python 3",
      "language": "python",
      "name": "python3"
    },
    "language_info": {
      "codemirror_mode": {
        "name": "ipython",
        "version": 3
      },
      "file_extension": ".py",
      "mimetype": "text/x-python",
      "name": "python",
      "nbconvert_exporter": "python",
      "pygments_lexer": "ipython3",
      "version": "3.12.1"
    },
    "colab": {
      "provenance": []
    }
  },
  "nbformat": 4,
  "nbformat_minor": 0
}