{
  "nbformat": 4,
  "nbformat_minor": 0,
  "metadata": {
    "colab": {
      "name": "Ex3_ConditionEx.ipynb",
      "provenance": []
    },
    "kernelspec": {
      "name": "python3",
      "display_name": "Python 3"
    },
    "language_info": {
      "name": "python"
    }
  },
  "cells": [
    {
      "cell_type": "markdown",
      "source": [
        "Write a program that asks the user to enter a length in centimeters. If the user enters a negative length, the program should tell the user that the entry is invalid. Otherwise, the program should convert the length to inches and print out the result. There are 2.54 centimeters in an inch.\n"
      ],
      "metadata": {
        "id": "r9njLbxcvG0w"
      }
    },
    {
      "cell_type": "code",
      "source": [
        "length = input (\"Enter a length in centimeters:\")\n",
        "length = float (length)\n",
        "if (length < 0):\n",
        "  print (\"The entry is invalid\")\n",
        "else:\n",
        "    inches= float (length/2.54)\n",
        "    print (f\"The length in centimeters {length} is equal to {inches}\")\n",
        "\n"
      ],
      "metadata": {
        "id": "76EFWr1AvMy4",
        "outputId": "f1aff850-1ab6-4cf4-84d5-63ca6e0496ff",
        "colab": {
          "base_uri": "https://localhost:8080/"
        }
      },
      "execution_count": 9,
      "outputs": [
        {
          "output_type": "stream",
          "name": "stdout",
          "text": [
            "Enter a length in centimeters:300\n",
            "The length in centimeters 300.0 is equal to 118.11023622047244\n"
          ]
        }
      ]
    },
    {
      "cell_type": "markdown",
      "source": [
        "Ask the user to enter a temperature in Celsius. The program should print a message based on the temperature:\n",
        "\n",
        "*   If the temperature is less than -273.15, print that the temperature is invalid because it is below absolute zero.\n",
        "*   If it is exactly -273.15, print that the temperature is absolute 0.\n",
        "*   If the temperature is between -273.15 and 0, print that the temperature is below freezing.\n",
        "*   If it is 0, print that the temperature is at the freezing point.\n",
        "*   If it is between 0 and 100, print that the temperature is in the normal range.\n",
        "*   If it is 100, print that the temperature is at the boiling point.\n",
        "*   If it is above 100, print that the temperature is above the boiling point."
      ],
      "metadata": {
        "id": "zvaDTmuhvNWJ"
      }
    },
    {
      "cell_type": "code",
      "source": [
        "temp = input (\"Enter a temperature in Celsius\")\n",
        "temp = float (temp)\n",
        "if temp < -273.15:\n",
        "  print (\"The temperature is invalid because it is below absolute zero.\")\n",
        "elif temp == -273.15:\n",
        "  print (\" The temperature is absolute 0.\")\n",
        "elif -273.15 < temp < 0:\n",
        "  print (\"The temperature is below freezing.\")\n",
        "elif temp == 0:\n",
        "  print (\"The temperatue is at the freezing point.\")\n",
        "elif 0 < temp < 100:\n",
        "  print (\"The temperature is in the normal range.\")\n",
        "elif temp == 100:\n",
        "  print (\"The temperature is at the boiling point.\")\n",
        "else:\n",
        "  print (\"The temperature is above the boiling point.\")"
      ],
      "metadata": {
        "id": "UiCbUIcwvqxO",
        "outputId": "e9bf820e-d780-45cc-8728-9c249034e94a",
        "colab": {
          "base_uri": "https://localhost:8080/"
        }
      },
      "execution_count": 12,
      "outputs": [
        {
          "output_type": "stream",
          "name": "stdout",
          "text": [
            "Enter a temperature in Celsius 95\n",
            "The temperature is in the normal range.\n"
          ]
        }
      ]
    },
    {
      "cell_type": "markdown",
      "source": [
        "Write a program that asks the user how many credits they have taken. If they have taken 23 or less, print that the student is a freshman. If they have taken between 24 and 53, print that they are a sophomore. The range for juniors is 54 to 83, and for seniors it is 84 and over."
      ],
      "metadata": {
        "id": "hoczytNLvrnd"
      }
    },
    {
      "cell_type": "code",
      "source": [
        "credits = input (\"Enter the number of credits the student has taken:\")\n",
        "credits = int (credits)\n",
        "if credits <= 23:\n",
        "  print (\"The student is a freshman.\")\n",
        "elif 24 <= credits <=53:\n",
        "  print (\" The student is sophomore.\")\n",
        "elif 54<= credits <= 83:\n",
        "  print (\"The student is junior.\")\n",
        "else:\n",
        "  print (\"The student is senior.\")"
      ],
      "metadata": {
        "id": "r8_O-_zLvurf",
        "outputId": "f2b57c17-c5d6-4563-e2ad-56029127881b",
        "colab": {
          "base_uri": "https://localhost:8080/"
        }
      },
      "execution_count": 13,
      "outputs": [
        {
          "output_type": "stream",
          "name": "stdout",
          "text": [
            "Enter the number of credits the student has taken:75\n",
            "The student is junior.\n"
          ]
        }
      ]
    },
    {
      "cell_type": "code",
      "source": [],
      "metadata": {
        "id": "BX5T8rwxgYiF"
      },
      "execution_count": null,
      "outputs": []
    }
  ]
}