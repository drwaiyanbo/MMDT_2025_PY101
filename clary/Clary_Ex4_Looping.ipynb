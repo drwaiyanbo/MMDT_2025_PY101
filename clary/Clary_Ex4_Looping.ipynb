{
  "cells": [
    {
      "cell_type": "markdown",
      "metadata": {
        "id": "YeTHwB3EASGn"
      },
      "source": [
        "The exercises are extracted from A_Practical_Introduction_to_Python_Programming_Heinold.pdf"
      ]
    },
    {
      "cell_type": "markdown",
      "metadata": {
        "id": "wVOW5QDgAZ_R"
      },
      "source": [
        "Ex 1: Write a program that uses a while loop (not a for loop) to read through a string and print\n",
        "the characters of the string one-by-one on separate lines."
      ]
    },
    {
      "cell_type": "code",
      "execution_count": 6,
      "metadata": {
        "id": "77KGqP-sJJNh",
        "colab": {
          "base_uri": "https://localhost:8080/"
        },
        "outputId": "0ad19f50-b00a-4867-82ed-328d8a3bc379"
      },
      "outputs": [
        {
          "output_type": "stream",
          "name": "stdout",
          "text": [
            "I\n",
            " \n",
            "l\n",
            "o\n",
            "v\n",
            "e\n",
            " \n",
            "P\n",
            "y\n",
            "t\n",
            "h\n",
            "o\n",
            "n\n",
            ".\n"
          ]
        }
      ],
      "source": [
        " text = \"I love Python.\"\n",
        " index = 0\n",
        " while index < len (text):\n",
        "    print(text[index])\n",
        "    index += 1"
      ]
    },
    {
      "cell_type": "markdown",
      "metadata": {
        "id": "5B-LyYV0AkCK"
      },
      "source": [
        "Ex 2: A good program will make sure that the data its users enter is valid. Write a program that\n",
        "asks the user for a weight and converts it from kilograms to pounds. Whenever the user\n",
        "enters a weight below 0, the program should tell them that their entry is invalid and then ask\n",
        "them again to enter a weight. [Hint: Use a while loop, not an if statement]."
      ]
    },
    {
      "cell_type": "code",
      "execution_count": 20,
      "metadata": {
        "id": "gpRZnsXjArkF",
        "colab": {
          "base_uri": "https://localhost:8080/"
        },
        "outputId": "2ea388f6-4e03-4eb1-c4ae-ec0636a1ec72"
      },
      "outputs": [
        {
          "output_type": "stream",
          "name": "stdout",
          "text": [
            "Enter your weight in kilograms: 45\n",
            "45.0 kilograms is equal to 99.21 pounds.\n"
          ]
        }
      ],
      "source": [
        "KG_TO_LBS = 2.20462\n",
        "weight_kg = float(input(\"Enter your weight in kilograms: \"))\n",
        "while weight_kg < 0:\n",
        "    print(\"Invalid entry.\")\n",
        "    weight_kg = float(input(\"Please enter a valid weight in kilograms: \"))\n",
        "weight_lbs = weight_kg * KG_TO_LBS\n",
        "print(f\"{weight_kg} kilograms is equal to {weight_lbs:.2f} pounds.\")"
      ]
    },
    {
      "cell_type": "markdown",
      "source": [
        "Ex 3: Write a program that allows the user to enter any number of test scores. The user indicates they are done by entering in a negative number. Print how many of the scores are A’s (90 or above). Also print out the average"
      ],
      "metadata": {
        "id": "E4_PKssBQcEY"
      }
    },
    {
      "cell_type": "code",
      "execution_count": 32,
      "metadata": {
        "id": "Gya-rvYUAviK",
        "colab": {
          "base_uri": "https://localhost:8080/"
        },
        "outputId": "e2b82a6c-c54a-464b-8e1d-04abd54b53d2"
      },
      "outputs": [
        {
          "output_type": "stream",
          "name": "stdout",
          "text": [
            "Enter a test score (negative number to finish): -5\n",
            "No valid scores were entered.\n"
          ]
        }
      ],
      "source": [
        "total_score = 0\n",
        "score_count = 0\n",
        "a_count = 0\n",
        "score = float(input(\"Enter a test score (negative number to finish): \"))\n",
        "while score >= 0:\n",
        "    total_score += score\n",
        "    score_count += 1\n",
        "if score >= 90:\n",
        "    a_count += 1\n",
        "    score = float(input(\"Enter another test score (negative number to finish): \"))\n",
        "if score_count > 0:\n",
        "    average = total_score / score_count\n",
        "    print(f\"\\nNumber of A's (90 or above): {a_count}\")\n",
        "    print(f\"Average score: {average:.2f}\")\n",
        "else:\n",
        "    print(\"No valid scores were entered.\")\n"
      ]
    },
    {
      "cell_type": "markdown",
      "metadata": {
        "id": "IHIWc5jHAwxY"
      },
      "source": [
        "Ex 4: Write a program that asks the user for a string and a letter. Using a for loop, the\n",
        "program should print the index of the first occurrence of that letter and a message if the\n",
        "string does not contain the letter."
      ]
    },
    {
      "cell_type": "code",
      "execution_count": 27,
      "metadata": {
        "id": "xSe0mtQ8A68M",
        "colab": {
          "base_uri": "https://localhost:8080/"
        },
        "outputId": "bb0f9bd8-32e2-493a-fbc1-47abd8695052"
      },
      "outputs": [
        {
          "output_type": "stream",
          "name": "stdout",
          "text": [
            "Enter a string: I love Python.\n",
            "Enter a letter to search for: o\n",
            "The first occurrence of 'o' is at index 3.\n"
          ]
        }
      ],
      "source": [
        "user_string = input(\"Enter a string: \")\n",
        "letter = input(\"Enter a letter to search for: \")\n",
        "if len(letter) != 1:\n",
        "    print(\"Please enter exactly one letter.\")\n",
        "else:\n",
        "    found = False\n",
        "    for index in range(len(user_string)):\n",
        "        if user_string[index] == letter:\n",
        "            print(f\"The first occurrence of '{letter}' is at index {index}.\")\n",
        "            found = True\n",
        "            break\n",
        "    if not found:\n",
        "       print(f\"The letter '{letter}' was not found in the string.\")"
      ]
    },
    {
      "cell_type": "markdown",
      "metadata": {
        "id": "PfyUq4CnA8vk"
      },
      "source": [
        "Ex 5: Write a program in which you have a list that contains seven integers that can be 0 or 1. Find the first zero entry in the list and change it to a 1. If there are no zero entries, print a message saying so."
      ]
    },
    {
      "cell_type": "code",
      "execution_count": 28,
      "metadata": {
        "colab": {
          "base_uri": "https://localhost:8080/"
        },
        "id": "Pj_vIuxiKV4c",
        "outputId": "a99af9a4-6e15-4cfe-a3cc-fa74f6c6a19d"
      },
      "outputs": [
        {
          "output_type": "stream",
          "name": "stdout",
          "text": [
            "First 0 found at index 2 and changed to 1.\n",
            "Updated list: [1, 1, 1, 1, 0, 1, 1]\n"
          ]
        }
      ],
      "source": [
        "binary_list = [1, 1, 0, 1, 0, 1, 1]\n",
        "zero_found = False\n",
        "for index in range(len(binary_list)):\n",
        "    if binary_list[index] == 0:\n",
        "        binary_list[index] = 1\n",
        "        zero_found = True\n",
        "        print(f\"First 0 found at index {index} and changed to 1.\")\n",
        "        break\n",
        "if not zero_found:\n",
        "    print(\"No zero entries found in the list.\")\n",
        "print(\"Updated list:\", binary_list)\n"
      ]
    },
    {
      "cell_type": "code",
      "source": [],
      "metadata": {
        "id": "zaXrtwEHehvD"
      },
      "execution_count": null,
      "outputs": []
    }
  ],
  "metadata": {
    "colab": {
      "name": "Ex4_Looping.ipynb",
      "provenance": []
    },
    "kernelspec": {
      "display_name": "Python 3",
      "name": "python3"
    },
    "language_info": {
      "codemirror_mode": {
        "name": "ipython",
        "version": 3
      },
      "file_extension": ".py",
      "mimetype": "text/x-python",
      "name": "python",
      "nbconvert_exporter": "python",
      "pygments_lexer": "ipython3",
      "version": "3.12.1"
    }
  },
  "nbformat": 4,
  "nbformat_minor": 0
}