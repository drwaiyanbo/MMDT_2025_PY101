{
  "nbformat": 4,
  "nbformat_minor": 0,
  "metadata": {
    "colab": {
      "provenance": []
    },
    "kernelspec": {
      "name": "python3",
      "display_name": "Python 3"
    },
    "language_info": {
      "name": "python"
    }
  },
  "cells": [
    {
      "cell_type": "code",
      "execution_count": 2,
      "metadata": {
        "colab": {
          "base_uri": "https://localhost:8080/",
          "height": 35
        },
        "id": "Oz-7xHz02fm6",
        "outputId": "52e06253-fd41-4c9c-a25f-dbd9adab4fdc"
      },
      "outputs": [
        {
          "output_type": "execute_result",
          "data": {
            "text/plain": [
              "'3.11.12 (main, Apr  9 2025, 08:55:54) [GCC 11.4.0]'"
            ],
            "application/vnd.google.colaboratory.intrinsic+json": {
              "type": "string"
            }
          },
          "metadata": {},
          "execution_count": 2
        }
      ],
      "source": [
        "import sys\n",
        "sys.version"
      ]
    },
    {
      "cell_type": "code",
      "source": [
        "usd_amount = input (\"Enter the amount in USD:\")\n",
        "bp_amount = int (usd_amount) * 0.82\n",
        "print (\"{} usd is equivalent to {} british pound\". format (usd_amount,bp_amount))"
      ],
      "metadata": {
        "colab": {
          "base_uri": "https://localhost:8080/",
          "height": 0
        },
        "id": "feOYaJxX9RKD",
        "outputId": "d9c39c19-6f2f-449f-c65c-fe3d0e1e6858"
      },
      "execution_count": 5,
      "outputs": [
        {
          "output_type": "stream",
          "name": "stdout",
          "text": [
            "Enter the amount in USD:2000\n",
            "2000 usd is equivalent to 1640.0 british pound\n"
          ]
        }
      ]
    },
    {
      "cell_type": "code",
      "source": [
        "temp_F = input (\" Enter the temperature in Feranhite:\")\n",
        "temp_C = (int ( temp_F) - 32) *5/9\n",
        "print (\"{} Temperature in Feranhite is equivalent to {} Temperature in Celsius.\" . format (temp_F, temp_C))"
      ],
      "metadata": {
        "colab": {
          "base_uri": "https://localhost:8080/",
          "height": 0
        },
        "id": "01578CRO-kP0",
        "outputId": "ba5cde03-2260-48a8-a0b8-c38d68716db5"
      },
      "execution_count": 4,
      "outputs": [
        {
          "output_type": "stream",
          "name": "stdout",
          "text": [
            " Enter the temperature in Feranhite:212\n",
            "212 Temperature in Feranhite is equivalent to 100.0 Temperature in Celsius.\n"
          ]
        }
      ]
    },
    {
      "cell_type": "code",
      "source": [
        "apple_qty = input ( \" Enter number of apples:\")\n",
        "apple_price = input (\"Price per apple:\")\n",
        "orange_qty = input ( \"Enter number of oranges:\")\n",
        "orange_price = input ( \" Price per Orange:\")\n",
        "mango_qty = input ( \" Enter number of mangoes:\")\n",
        "mango_price = input ( \"Price per mango:\")\n",
        "total_cost = int (apple_qty) * int (apple_price) + int (orange_qty) * int (orange_price) +int (mango_qty) * int (mango_price)\n",
        "print (\" Total cost is:\", total_cost)"
      ],
      "metadata": {
        "colab": {
          "base_uri": "https://localhost:8080/",
          "height": 0
        },
        "id": "a9U9HLMoBkQZ",
        "outputId": "ff51ebf9-1432-43d4-971b-42f5f234d8ee"
      },
      "execution_count": 5,
      "outputs": [
        {
          "output_type": "stream",
          "name": "stdout",
          "text": [
            " Enter number of apples:5\n",
            "Price per apple:2\n",
            "Enter number of oranges:10\n",
            " Price per Orange:1\n",
            " Enter number of mangoes:3\n",
            "Price per mango:3\n",
            " Total cost is: 29\n"
          ]
        }
      ]
    },
    {
      "cell_type": "code",
      "source": [
        "name = input (\" Enter your name:\")\n",
        "print ( \" Hello \" + name )"
      ],
      "metadata": {
        "colab": {
          "base_uri": "https://localhost:8080/",
          "height": 0
        },
        "id": "AkJOSlEmeMGP",
        "outputId": "72bffaba-fba7-4302-faa5-d3dbb5f7ea5b"
      },
      "execution_count": 6,
      "outputs": [
        {
          "output_type": "stream",
          "name": "stdout",
          "text": [
            " Enter your name:Clary\n",
            " Hello Clary\n"
          ]
        }
      ]
    },
    {
      "cell_type": "code",
      "source": [
        "from random import randint\n",
        "x = randint (1,50)\n",
        "print ( 'A random number between 1 and 50', x)\n",
        "y = randint (2,5)\n",
        "print ( ' A random number between 2 and 5', y)\n",
        "z = x**y\n",
        "print (\" The result is\", z)"
      ],
      "metadata": {
        "colab": {
          "base_uri": "https://localhost:8080/",
          "height": 0
        },
        "id": "lCcYj5kHk4xK",
        "outputId": "200771ef-16a6-456c-c84a-dabfc520af9e"
      },
      "execution_count": 20,
      "outputs": [
        {
          "output_type": "stream",
          "name": "stdout",
          "text": [
            "A random number between 1 and 50 17\n",
            " A random number between 2 and 5 4\n",
            " The result is 83521\n"
          ]
        }
      ]
    },
    {
      "cell_type": "code",
      "source": [
        "name = input (\" Enter your name:\")\n",
        "from random import randint\n",
        "x = randint (1,10)\n",
        "print (' A random number between 1 and 10', x)\n",
        "Greeting = int (x) * ( \"Hello \" + name,  )\n",
        "print ( Greeting)\n",
        "\n",
        "\n"
      ],
      "metadata": {
        "colab": {
          "base_uri": "https://localhost:8080/",
          "height": 0
        },
        "id": "_Adpzd-EmgeS",
        "outputId": "eb51c625-823d-4020-e537-08be1a459534"
      },
      "execution_count": 38,
      "outputs": [
        {
          "output_type": "stream",
          "name": "stdout",
          "text": [
            " Enter your name:Clary\n",
            " A random number between 1 and 10 8\n",
            "('Hello Clary', 'Hello Clary', 'Hello Clary', 'Hello Clary', 'Hello Clary', 'Hello Clary', 'Hello Clary', 'Hello Clary')\n"
          ]
        }
      ]
    },
    {
      "cell_type": "code",
      "source": [
        "x = input (\" Enter value of x:\")\n",
        "y = input ( \" Enter value of y:\")\n",
        "a = abs (int (x) - int (y))\n",
        "b = int (x) + int (y)\n",
        "z = int (a)/ int (b)\n",
        "print (\" The result is\", z)"
      ],
      "metadata": {
        "colab": {
          "base_uri": "https://localhost:8080/",
          "height": 0
        },
        "id": "CFq3MaX3p2mp",
        "outputId": "d1bc6bdd-3abf-426d-e529-b4632992e64b"
      },
      "execution_count": 61,
      "outputs": [
        {
          "output_type": "stream",
          "name": "stdout",
          "text": [
            " Enter value of x:2\n",
            " Enter value of y:4\n",
            " The result is 0.3333333333333333\n"
          ]
        }
      ]
    },
    {
      "cell_type": "code",
      "source": [
        "from pickle import REDUCE\n",
        "total_seconds = input (\" Enter the number of seconds:\")\n",
        "minutes = int (int (total_seconds) /60 )\n",
        "seconds = int ( total_seconds) - (int (minutes) * 60)\n",
        "print (minutes)\n",
        "print (seconds)\n",
        "print (\"{} seconds is equivalent to {} minutes and {} seconds.\" . format (total_seconds,minutes, seconds))"
      ],
      "metadata": {
        "colab": {
          "base_uri": "https://localhost:8080/",
          "height": 0
        },
        "id": "aJmkm19Rv4Gu",
        "outputId": "74ab3b00-7677-45d1-a5d3-a56374ee8be6"
      },
      "execution_count": 74,
      "outputs": [
        {
          "output_type": "stream",
          "name": "stdout",
          "text": [
            " Enter the number of seconds:130\n",
            "2\n",
            "10\n",
            "130 seconds is equivalent to 2 minutes and 10 seconds.\n"
          ]
        }
      ]
    },
    {
      "cell_type": "code",
      "source": [],
      "metadata": {
        "id": "K9jCdRR_8kjB"
      },
      "execution_count": null,
      "outputs": []
    },
    {
      "cell_type": "code",
      "source": [
        "import math\n",
        "num = float ( input ( \"Enter a number:\"))\n",
        "sine_value = math.sin (num)\n",
        "print (sine_value)\n",
        "cosine_value = math.cos(num)\n",
        "print (cosine_value)\n",
        "tangent_value = math.tan(num)\n",
        "print (tangent_value)"
      ],
      "metadata": {
        "colab": {
          "base_uri": "https://localhost:8080/",
          "height": 0
        },
        "id": "QLAgOU_-4esL",
        "outputId": "df381edf-0f8d-4642-a310-63f213680236"
      },
      "execution_count": 96,
      "outputs": [
        {
          "output_type": "stream",
          "name": "stdout",
          "text": [
            "Enter a number:90\n",
            "0.8939966636005579\n",
            "-0.4480736161291701\n",
            "-1.995200412208242\n"
          ]
        }
      ]
    },
    {
      "cell_type": "code",
      "source": [],
      "metadata": {
        "id": "CMT8IPFT8ZrL"
      },
      "execution_count": 85,
      "outputs": []
    }
  ]
}
