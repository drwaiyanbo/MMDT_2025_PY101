{
  "nbformat": 4,
  "nbformat_minor": 0,
  "metadata": {
    "colab": {
      "name": "Ex3_ConditionEx.ipynb",
      "provenance": [],
      "include_colab_link": true
    },
    "kernelspec": {
      "name": "python3",
      "display_name": "Python 3"
    },
    "language_info": {
      "name": "python"
    }
  },
  "cells": [
    {
      "cell_type": "markdown",
      "metadata": {
        "id": "view-in-github",
        "colab_type": "text"
      },
      "source": [
        "<a href=\"https://colab.research.google.com/github/khinenwehtun/MMDT_2025_PY101/blob/main/khinenwehtun_Ex3_ConditionEx.ipynb\" target=\"_parent\"><img src=\"https://colab.research.google.com/assets/colab-badge.svg\" alt=\"Open In Colab\"/></a>"
      ]
    },
    {
      "cell_type": "markdown",
      "source": [
        "Write a program that asks the user to enter a length in centimeters. If the user enters a negative length, the program should tell the user that the entry is invalid. Otherwise, the program should convert the length to inches and print out the result. There are 2.54 centimeters in an inch.\n"
      ],
      "metadata": {
        "id": "r9njLbxcvG0w"
      }
    },
    {
      "cell_type": "code",
      "source": [
        "temp=input(\"enter a length in centimeters\")\n",
        "temp=int(temp)\n",
        "inches=int(temp)/2.54\n",
        "if(temp<0):\n",
        "  print(\"invalid entry\")\n",
        "else:\n",
        "    print(\"{}temp is equivalent to {} inches\".format(temp,inches))"
      ],
      "metadata": {
        "id": "76EFWr1AvMy4",
        "outputId": "c3f3a06e-26d1-4cf9-a53e-2a5c3938dd98",
        "colab": {
          "base_uri": "https://localhost:8080/"
        }
      },
      "execution_count": null,
      "outputs": [
        {
          "output_type": "stream",
          "name": "stdout",
          "text": [
            "enter a length in centimeters15\n",
            "15temp is equivalent to 5.905511811023622 inches\n"
          ]
        }
      ]
    },
    {
      "cell_type": "markdown",
      "source": [
        "Ask the user to enter a temperature in Celsius. The program should print a message based on the temperature:\n",
        "\n",
        "*   If the temperature is less than -273.15, print that the temperature is invalid because it is below absolute zero.\n",
        "*   If it is exactly -273.15, print that the temperature is absolute 0.\n",
        "*   If the temperature is between -273.15 and 0, print that the temperature is below freezing.\n",
        "*   If it is 0, print that the temperature is at the freezing point.\n",
        "*   If it is between 0 and 100, print that the temperature is in the normal range.\n",
        "*   If it is 100, print that the temperature is at the boiling point.\n",
        "*   If it is above 100, print that the temperature is above the boiling point."
      ],
      "metadata": {
        "id": "zvaDTmuhvNWJ"
      }
    },
    {
      "cell_type": "code",
      "source": [
        "temp=input(\"enter a temperature in Celsius\")\n",
        "temp=int(temp)\n",
        "if(temp<-273.15):\n",
        "  print(\"invalid temp\")\n",
        "elif(temp==-273.15):\n",
        "  print(\"absolute zero\")\n",
        "elif(temp>=-273.15 and temp<=0):\n",
        "  print(\"below freezing\")\n",
        "elif(temp==0):\n",
        "  print(\"freezing point\")\n",
        "elif(temp<=100 and temp>=0):\n",
        "  print(\"normal range\")\n",
        "elif(temp==100):\n",
        "  print(\"boiling point\")\n",
        "else:\n",
        "  print(\"above boiling point\")\n",
        "\n",
        "\n"
      ],
      "metadata": {
        "id": "UiCbUIcwvqxO",
        "outputId": "bdbfcc97-c90f-49b3-aca8-8cf7e63c240a",
        "colab": {
          "base_uri": "https://localhost:8080/"
        }
      },
      "execution_count": null,
      "outputs": [
        {
          "output_type": "stream",
          "name": "stdout",
          "text": [
            "enter a temperature in Celsius90\n",
            "normal range\n"
          ]
        }
      ]
    },
    {
      "cell_type": "markdown",
      "source": [
        "Write a program that asks the user how many credits they have taken. If they have taken 23 or less, print that the student is a freshman. If they have taken between 24 and 53, print that they are a sophomore. The range for juniors is 54 to 83, and for seniors it is 84 and over."
      ],
      "metadata": {
        "id": "hoczytNLvrnd"
      }
    },
    {
      "cell_type": "code",
      "source": [
        "credits=input(\"how may credits taken by\")\n",
        "credits=int(credits)\n",
        "if(credits<=23):\n",
        "  print(\"fresher\")\n",
        "elif(credits>=24 and credits<=53):\n",
        "  print(\"sophomore\")\n",
        "elif(credits>=54 and credits<=83):\n",
        "  print(\"juniors\")\n",
        "else:\n",
        "  print(\"seniors\")"
      ],
      "metadata": {
        "id": "r8_O-_zLvurf",
        "colab": {
          "base_uri": "https://localhost:8080/"
        },
        "outputId": "e9e81da0-8608-4323-a479-1f5a2decb07a"
      },
      "execution_count": 2,
      "outputs": [
        {
          "output_type": "stream",
          "name": "stdout",
          "text": [
            "how may credits taken by85\n",
            "seniors\n"
          ]
        }
      ]
    },
    {
      "cell_type": "code",
      "source": [],
      "metadata": {
        "id": "yWWRkvS5SZUm"
      },
      "execution_count": null,
      "outputs": []
    }
  ]
}