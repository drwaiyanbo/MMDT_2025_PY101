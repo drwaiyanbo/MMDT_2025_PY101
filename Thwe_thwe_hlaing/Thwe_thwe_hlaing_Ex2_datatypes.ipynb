{
 "cells": [
  {
   "cell_type": "markdown",
   "metadata": {
    "colab_type": "text",
    "id": "view-in-github"
   },
   "source": [
    "<a href=\"https://colab.research.google.com/github/myothida/PythonProgramming/blob/main/Ex_2_datatypes.ipynb\" target=\"_parent\"><img src=\"https://colab.research.google.com/assets/colab-badge.svg\" alt=\"Open In Colab\"/></a>"
   ]
  },
  {
   "cell_type": "markdown",
   "metadata": {
    "id": "X_Unw3z9u2-7"
   },
   "source": [
    "Ex 1 : Check the lenght of the string \"My name is python\""
   ]
  },
  {
   "cell_type": "code",
   "execution_count": 6,
   "metadata": {},
   "outputs": [
    {
     "name": "stdout",
     "output_type": "stream",
     "text": [
      "17\n"
     ]
    }
   ],
   "source": [
    "\n",
    "print(len(\"My name is python\"))"
   ]
  },
  {
   "cell_type": "markdown",
   "metadata": {},
   "source": [
    "Ex 2: Check the number of times \"python\" (regardless of cases: PYTHON, python, Python\" appears in the paragraph : \"Floating-point values in Python are always done in double precision; hence, Python float types correspond to doubles in a C-like language.\""
   ]
  },
  {
   "cell_type": "code",
   "execution_count": 9,
   "metadata": {},
   "outputs": [
    {
     "data": {
      "text/plain": [
       "2"
      ]
     },
     "execution_count": 9,
     "metadata": {},
     "output_type": "execute_result"
    }
   ],
   "source": [
    "s = \"Floating-point values in Python are always done in double precision; hence, Python float types correspond to doubles in a C-like language.\"\n",
    "s.lower().count('python')"
   ]
  },
  {
   "cell_type": "markdown",
   "metadata": {},
   "source": [
    "Ex 3: Combine two lists : ls1 = [\"apple\", \"banana\", \"cherry\"] and ls2 = [\"apple\", \"banana\", \"cherry\", \"apple\", \"cherry\"]. Print the number of elements in new list. "
   ]
  },
  {
   "cell_type": "code",
   "execution_count": 14,
   "metadata": {},
   "outputs": [
    {
     "name": "stdout",
     "output_type": "stream",
     "text": [
      "8\n"
     ]
    }
   ],
   "source": [
    "ls1=[\"apple\", \"banana\", \"cherry\"];\n",
    "ls2=[\"apple\", \"banana\", \"cherry\", \"apple\", \"cherry\"];\n",
    "new_list=ls1+ls2;\n",
    "print(len(new_list));"
   ]
  },
  {
   "cell_type": "markdown",
   "metadata": {},
   "source": [
    "Ex 4: Create a dictionary for the following table: "
   ]
  },
  {
   "cell_type": "markdown",
   "metadata": {},
   "source": [
    "| Name | Age | \n",
    "| --- | --- | \n",
    "| Myo | 32 |\n",
    "| Thida | 64 |"
   ]
  },
  {
   "cell_type": "code",
   "execution_count": 15,
   "metadata": {},
   "outputs": [
    {
     "name": "stdout",
     "output_type": "stream",
     "text": [
      "{'Name': ['Myo', 'Thida'], 'Age': [32, 64]}\n"
     ]
    }
   ],
   "source": [
    "dict={\"Name\":[\"Myo\",\"Thida\"],\"Age\":[32,64]};\n",
    "print(dict);"
   ]
  },
  {
   "cell_type": "markdown",
   "metadata": {},
   "source": [
    "Ex 5: Combine two sets and print the combined set and its length. \n",
    "set1 = {\"Name\", \"age\", \"Height\"}\n",
    "set2 = {\"Name\", \"status\", \"Education\"}"
   ]
  },
  {
   "cell_type": "code",
   "execution_count": 17,
   "metadata": {},
   "outputs": [
    {
     "name": "stdout",
     "output_type": "stream",
     "text": [
      "{'status', 'Height', 'Name', 'age', 'Education'}\n",
      "5\n"
     ]
    }
   ],
   "source": [
    "set1 = {\"Name\", \"age\", \"Height\"};\n",
    "set2 = {\"Name\", \"status\", \"Education\"};\n",
    "set3=set1.union(set2);\n",
    "print(set3)\n",
    "print(len(set3))"
   ]
  },
  {
   "cell_type": "markdown",
   "metadata": {},
   "source": [
    "Ex 6: Write a program that asks the user to enter a string. The program should create a new string called new_string from the user's string such that the second character is changed to an asterisk and three exclamation points are attached to the end of the string. Finally, print new_string. "
   ]
  },
  {
   "cell_type": "code",
   "execution_count": 10,
   "metadata": {},
   "outputs": [
    {
     "name": "stdout",
     "output_type": "stream",
     "text": [
      "t*we!!!\n"
     ]
    }
   ],
   "source": [
    "str=input(\"Enter a string\");\n",
    "new_str=str.replace(str[1],'*')+'!!!';\n",
    "print(new_str)"
   ]
  },
  {
   "cell_type": "markdown",
   "metadata": {},
   "source": [
    "Ex 7: Write a program that converts the given string 's' to lowercase, removes all Punctuation marks such as period, hyphen, and commas from 's', and prints the resulting string."
   ]
  },
  {
   "cell_type": "code",
   "execution_count": 15,
   "metadata": {},
   "outputs": [
    {
     "name": "stdout",
     "output_type": "stream",
     "text": [
      "floatingpoint values in python are always done in double precision hence python float types correspond to doubles in a clike language\n"
     ]
    }
   ],
   "source": [
    "s = \"Floating-point values in Python are always done in double precision; hence, Python float types correspond to doubles in a C-like language.\"\n",
    "s=s.lower();\n",
    "new=s.replace(\"-\",\"\").replace(\".\",\"\").replace(\":\",\"\").replace(\";\",\"\").replace(\",\",\"\");  \n",
    "print(new);"
   ]
  },
  {
   "cell_type": "markdown",
   "metadata": {},
   "source": [
    "Ex 8: L1 and L2 should be identical. Write a program that finds the missing number in L2. "
   ]
  },
  {
   "cell_type": "code",
   "execution_count": 20,
   "metadata": {},
   "outputs": [
    {
     "name": "stdout",
     "output_type": "stream",
     "text": [
      "{54}\n"
     ]
    }
   ],
   "source": [
    "from random import randint\n",
    "L1 = list(range(1,101))\n",
    "L2 = L1.copy()\n",
    "L2.remove(randint(1,101))\n",
    "print(set(L1).difference(set(L2)));\n",
    "\n"
   ]
  },
  {
   "cell_type": "markdown",
   "metadata": {},
   "source": [
    "Ex 9: Write a program to copy the ls1 = [\"apple\", \"banana\", \"cherry\"] to a new list. Add the element \"blueberry\" to the new list, but keep the original list the same. "
   ]
  },
  {
   "cell_type": "code",
   "execution_count": 30,
   "metadata": {},
   "outputs": [
    {
     "name": "stdout",
     "output_type": "stream",
     "text": [
      "list1 is : ['apple', 'banana', 'cherry']\n",
      "list2 is : ['apple', 'banana', 'cherry', 'blueberry']\n"
     ]
    }
   ],
   "source": [
    "list1=[\"apple\", \"banana\", \"cherry\"];\n",
    "list2=list1.copy();\n",
    "list2.append(\"blueberry\")\n",
    "print(\"list1 is :\",list1);\n",
    "print(\"list2 is :\" , list2);"
   ]
  }
 ],
 "metadata": {
  "colab": {
   "authorship_tag": "ABX9TyMRiET2AmIIzpj2LeD8ccas",
   "include_colab_link": true,
   "name": "Ex_2_datatypes.ipynb",
   "provenance": []
  },
  "kernelspec": {
   "display_name": "Python 3",
   "language": "python",
   "name": "python3"
  },
  "language_info": {
   "codemirror_mode": {
    "name": "ipython",
    "version": 3
   },
   "file_extension": ".py",
   "mimetype": "text/x-python",
   "name": "python",
   "nbconvert_exporter": "python",
   "pygments_lexer": "ipython3",
   "version": "3.13.3"
  }
 },
 "nbformat": 4,
 "nbformat_minor": 1
}
