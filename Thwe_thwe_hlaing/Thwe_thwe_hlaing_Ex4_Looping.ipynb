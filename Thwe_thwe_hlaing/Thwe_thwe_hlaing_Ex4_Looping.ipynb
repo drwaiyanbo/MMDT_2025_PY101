{
  "cells": [
    {
      "cell_type": "markdown",
      "metadata": {
        "colab_type": "text",
        "id": "view-in-github"
      },
      "source": [
        "<a href=\"https://colab.research.google.com/github/myothida/PythonProgramming/blob/main/Ex4_Looping.ipynb\" target=\"_parent\"><img src=\"https://colab.research.google.com/assets/colab-badge.svg\" alt=\"Open In Colab\"/></a>"
      ]
    },
    {
      "cell_type": "markdown",
      "metadata": {
        "id": "YeTHwB3EASGn"
      },
      "source": [
        "The exercises are extracted from A_Practical_Introduction_to_Python_Programming_Heinold.pdf"
      ]
    },
    {
      "cell_type": "markdown",
      "metadata": {
        "id": "wVOW5QDgAZ_R"
      },
      "source": [
        "Ex 1: Write a program that uses a while loop (not a for loop) to read through a string and print\n",
        "the characters of the string one-by-one on separate lines."
      ]
    },
    {
      "cell_type": "code",
      "execution_count": 2,
      "metadata": {
        "id": "77KGqP-sJJNh"
      },
      "outputs": [
        {
          "name": "stdout",
          "output_type": "stream",
          "text": [
            "T\n",
            "h\n",
            "w\n",
            "e\n"
          ]
        }
      ],
      "source": [
        " str=\"Thwe\";\n",
        " index=0\n",
        " while (index<len(str)):\n",
        "  print(str[index])\n",
        "  index+=1;"
      ]
    },
    {
      "cell_type": "markdown",
      "metadata": {
        "id": "5B-LyYV0AkCK"
      },
      "source": [
        "Ex 2: A good program will make sure that the data its users enter is valid. Write a program that\n",
        "asks the user for a weight and converts it from kilograms to pounds. Whenever the user\n",
        "enters a weight below 0, the program should tell them that their entry is invalid and then ask\n",
        "them again to enter a weight. [Hint: Use a while loop, not an if statement]."
      ]
    },
    {
      "cell_type": "code",
      "execution_count": 22,
      "metadata": {
        "id": "gpRZnsXjArkF"
      },
      "outputs": [
        {
          "name": "stdout",
          "output_type": "stream",
          "text": [
            "90.0 kg equals to 198.42 lb\n"
          ]
        }
      ],
      "source": [
        "\n",
        "while True:\n",
        "    kilo = float(input(\"Enter your weight: \"))\n",
        "    if (kilo < 0):\n",
        "        print(\"Invalid! Try again.\")\n",
        "    else:\n",
        "        break\n",
        "\n",
        "pound = kilo * 2.20462\n",
        "\n",
        "print(\"{} kg equals to {:.2f} lb\".format(kilo, pound))\n",
        "\n",
        "\n"
      ]
    },
    {
      "cell_type": "markdown",
      "metadata": {
        "id": "zQT0pCjRAsIK"
      },
      "source": [
        "Ex 3: Write a program that allows the user to enter any number of test scores. The user indicates\n",
        "they are done by entering in a negative number. Print how many of the scores are A’s (90 or\n",
        "above). Also print out the average"
      ]
    },
    {
      "cell_type": "code",
      "execution_count": 46,
      "metadata": {
        "id": "Gya-rvYUAviK"
      },
      "outputs": [
        {
          "name": "stdout",
          "output_type": "stream",
          "text": [
            "Finished entering scores.\n",
            "Number of A's (90 or above): 2\n",
            "Average score: 85.25\n"
          ]
        }
      ],
      "source": [
        "total = 0\n",
        "count = 0\n",
        "num_scores = 0  \n",
        "\n",
        "while True:\n",
        "    score = float(input(\"Enter your test score (negative number to stop): \"))\n",
        "    \n",
        "    if score < 0:\n",
        "        print(\"Finished entering scores.\")\n",
        "    \n",
        "        break\n",
        "\n",
        "    total += score\n",
        "    num_scores += 1\n",
        "\n",
        "    if score >= 90:\n",
        "        count += 1\n",
        "\n",
        "\n",
        "avg = total / num_scores\n",
        "print(\"Number of A's (90 or above): {}\".format(count))\n",
        "print(\"Average score: {:.2f}\".format(avg))\n",
        "\n",
        "\n",
        "\n"
      ]
    },
    {
      "cell_type": "markdown",
      "metadata": {
        "id": "IHIWc5jHAwxY"
      },
      "source": [
        "Ex 4: Write a program that asks the user for a string and a letter. Using a for loop, the\n",
        "program should print the index of the first occurrence of that letter and a message if the\n",
        "string does not contain the letter."
      ]
    },
    {
      "cell_type": "code",
      "execution_count": null,
      "metadata": {
        "id": "xSe0mtQ8A68M"
      },
      "outputs": [],
      "source": []
    },
    {
      "cell_type": "markdown",
      "metadata": {
        "id": "PfyUq4CnA8vk"
      },
      "source": [
        "Ex 5: Write a program in which you have a list that contains seven integers that can be 0 or 1. Find the first zero entry in the list and change it to a 1. If there are no zero entries, print a message saying so."
      ]
    },
    {
      "cell_type": "code",
      "execution_count": 60,
      "metadata": {},
      "outputs": [
        {
          "name": "stdout",
          "output_type": "stream",
          "text": [
            "There are no zero entries.\n",
            "Updated list: [1, 1, 0, 1, 1, 0, 1]\n"
          ]
        }
      ],
      "source": [
        "numbers = [1, 1, 0, 1, 1, 0, 1]\n",
        "found = False\n",
        "\n",
        "for i in numbers:\n",
        "    if numbers[i] == 0:\n",
        "        numbers[i] = 1\n",
        "        found = True\n",
        "        print(f\"Zero found at index {i}. It has been changed to 1.\")\n",
        "        break\n",
        "\n",
        "if not found:\n",
        "    print(\"There are no zero entries.\")\n",
        "\n",
        "print(\"Updated list:\", numbers)\n",
        "\n",
        "     "
      ]
    }
  ],
  "metadata": {
    "colab": {
      "authorship_tag": "ABX9TyOm3U7ihfZeEceAaZW842Wb",
      "include_colab_link": true,
      "name": "Ex4_Looping.ipynb",
      "provenance": []
    },
    "kernelspec": {
      "display_name": "Python 3",
      "name": "python3"
    },
    "language_info": {
      "codemirror_mode": {
        "name": "ipython",
        "version": 3
      },
      "file_extension": ".py",
      "mimetype": "text/x-python",
      "name": "python",
      "nbconvert_exporter": "python",
      "pygments_lexer": "ipython3",
      "version": "3.13.3"
    }
  },
  "nbformat": 4,
  "nbformat_minor": 0
}
