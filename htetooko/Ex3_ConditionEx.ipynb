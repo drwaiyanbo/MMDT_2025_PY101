{
  "nbformat": 4,
  "nbformat_minor": 0,
  "metadata": {
    "colab": {
      "name": "Ex3_ConditionEx.ipynb",
      "provenance": [],
      "include_colab_link": true
    },
    "kernelspec": {
      "name": "python3",
      "display_name": "Python 3"
    },
    "language_info": {
      "name": "python"
    }
  },
  "cells": [
    {
      "cell_type": "markdown",
      "metadata": {
        "id": "view-in-github",
        "colab_type": "text"
      },
      "source": [
        "<a href=\"https://colab.research.google.com/github/Loriita/MMDT_2025_PY101/blob/htetooko/htetooko/Ex3_ConditionEx.ipynb\" target=\"_parent\"><img src=\"https://colab.research.google.com/assets/colab-badge.svg\" alt=\"Open In Colab\"/></a>"
      ]
    },
    {
      "cell_type": "markdown",
      "source": [
        "Write a program that asks the user to enter a length in centimeters. If the user enters a negative length, the program should tell the user that the entry is invalid. Otherwise, the program should convert the length to inches and print out the result. There are 2.54 centimeters in an inch.\n"
      ],
      "metadata": {
        "id": "r9njLbxcvG0w"
      }
    },
    {
      "cell_type": "code",
      "source": [
        "while True:\n",
        "  cm = int(input(\"Enter length in centimeter: \"))\n",
        "  if cm > 0:\n",
        "    inch = cm * 2.54\n",
        "    print(f\"{cm} is {inch} inches\")\n",
        "    break\n",
        "  else:\n",
        "    print(\"Invalid entry\")"
      ],
      "metadata": {
        "id": "76EFWr1AvMy4",
        "outputId": "19bca7ff-a10f-4324-8889-d2e77162b2a7",
        "colab": {
          "base_uri": "https://localhost:8080/"
        }
      },
      "execution_count": 5,
      "outputs": [
        {
          "output_type": "stream",
          "name": "stdout",
          "text": [
            "Enter length in centimeter: -10\n",
            "Invalid entry\n",
            "Enter length in centimeter: 10\n",
            "10 is 25.4 inches\n"
          ]
        }
      ]
    },
    {
      "cell_type": "markdown",
      "source": [
        "Ask the user to enter a temperature in Celsius. The program should print a message based on the temperature:\n",
        "\n",
        "*   If the temperature is less than -273.15, print that the temperature is invalid because it is below absolute zero.\n",
        "*   If it is exactly -273.15, print that the temperature is absolute 0.\n",
        "*   If the temperature is between -273.15 and 0, print that the temperature is below freezing.\n",
        "*   If it is 0, print that the temperature is at the freezing point.\n",
        "*   If it is between 0 and 100, print that the temperature is in the normal range.\n",
        "*   If it is 100, print that the temperature is at the boiling point.\n",
        "*   If it is above 100, print that the temperature is above the boiling point."
      ],
      "metadata": {
        "id": "zvaDTmuhvNWJ"
      }
    },
    {
      "cell_type": "code",
      "source": [
        "temp = float(input(\"Enter temperature in Celsius: \"))\n",
        "if temp < -273.15:\n",
        "  print(\"Invalid because it is below absolute zero\")\n",
        "elif temp == -273.15:\n",
        "  print(\"Temperature is absolute 0\")\n",
        "elif temp > -273.15 and temp < 0:\n",
        "  print(\"Temperature is below freezing\")\n",
        "elif temp == 0:\n",
        "  print(\"Temperature is at the freezing point\")\n",
        "elif temp > 0 and temp < 100:\n",
        "  print(\"Temperature is in the normal range\")\n",
        "elif temp == 100:\n",
        "  print(\"Temperature is at the boiling point\")\n",
        "else:\n",
        "  print(\"Temperatur is above the boiling point\")\n"
      ],
      "metadata": {
        "id": "UiCbUIcwvqxO",
        "outputId": "770839b1-66bb-41f2-e303-a3609ea72895",
        "colab": {
          "base_uri": "https://localhost:8080/"
        }
      },
      "execution_count": 22,
      "outputs": [
        {
          "output_type": "stream",
          "name": "stdout",
          "text": [
            "Enter temperature in Celsius: 102\n",
            "Temperatur is above the boiling point\n"
          ]
        }
      ]
    },
    {
      "cell_type": "markdown",
      "source": [
        "Write a program that asks the user how many credits they have taken. If they have taken 23 or less, print that the student is a freshman. If they have taken between 24 and 53, print that they are a sophomore. The range for juniors is 54 to 83, and for seniors it is 84 and over."
      ],
      "metadata": {
        "id": "hoczytNLvrnd"
      }
    },
    {
      "cell_type": "code",
      "source": [
        "credit = int(input(\"How many credits have you taken?: \"))\n",
        "if credit <= 23:\n",
        "  print(\"You are a freshman student.\")\n",
        "elif credit >= 24 and credit <= 53:\n",
        "  print(\"You are a sophomore student.\")\n",
        "elif credit >= 54 and credit <= 83:\n",
        "  print(\"You are a junior student\")\n",
        "else:\n",
        "  print(\"You are a senior student\")"
      ],
      "metadata": {
        "id": "r8_O-_zLvurf",
        "outputId": "2692f067-1c76-45fd-9786-c02d532e647f",
        "colab": {
          "base_uri": "https://localhost:8080/"
        }
      },
      "execution_count": 32,
      "outputs": [
        {
          "output_type": "stream",
          "name": "stdout",
          "text": [
            "How many credits have you taken?: 85\n",
            "You are a senior student\n"
          ]
        }
      ]
    }
  ]
}