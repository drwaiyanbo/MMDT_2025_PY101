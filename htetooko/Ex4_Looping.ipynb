{
  "cells": [
    {
      "cell_type": "markdown",
      "metadata": {
        "id": "view-in-github",
        "colab_type": "text"
      },
      "source": [
        "<a href=\"https://colab.research.google.com/github/Loriita/MMDT_2025_PY101/blob/htetooko/htetooko/Ex4_Looping.ipynb\" target=\"_parent\"><img src=\"https://colab.research.google.com/assets/colab-badge.svg\" alt=\"Open In Colab\"/></a>"
      ]
    },
    {
      "cell_type": "markdown",
      "metadata": {
        "id": "YeTHwB3EASGn"
      },
      "source": [
        "The exercises are extracted from A_Practical_Introduction_to_Python_Programming_Heinold.pdf"
      ]
    },
    {
      "cell_type": "markdown",
      "metadata": {
        "id": "wVOW5QDgAZ_R"
      },
      "source": [
        "Ex 1: Write a program that uses a while loop (not a for loop) to read through a string and print\n",
        "the characters of the string one-by-one on separate lines."
      ]
    },
    {
      "cell_type": "code",
      "execution_count": 2,
      "metadata": {
        "id": "77KGqP-sJJNh",
        "outputId": "7950a4f7-9a9d-43ab-fe6a-37058d2b8a89",
        "colab": {
          "base_uri": "https://localhost:8080/"
        }
      },
      "outputs": [
        {
          "output_type": "stream",
          "name": "stdout",
          "text": [
            "Enter a string:hello\n",
            "h\n",
            "e\n",
            "l\n",
            "l\n",
            "o\n"
          ]
        }
      ],
      "source": [
        " string = input(\"Enter a string:\")\n",
        " i = 0\n",
        " while i < len(string):\n",
        "  print(string[i])\n",
        "  i += 1"
      ]
    },
    {
      "cell_type": "markdown",
      "metadata": {
        "id": "5B-LyYV0AkCK"
      },
      "source": [
        "Ex 2: A good program will make sure that the data its users enter is valid. Write a program that\n",
        "asks the user for a weight and converts it from kilograms to pounds. Whenever the user\n",
        "enters a weight below 0, the program should tell them that their entry is invalid and then ask\n",
        "them again to enter a weight. [Hint: Use a while loop, not an if statement]."
      ]
    },
    {
      "cell_type": "code",
      "execution_count": 13,
      "metadata": {
        "id": "gpRZnsXjArkF",
        "outputId": "8d500b86-4d6a-423d-8214-5f48fb7ca038",
        "colab": {
          "base_uri": "https://localhost:8080/"
        }
      },
      "outputs": [
        {
          "output_type": "stream",
          "name": "stdout",
          "text": [
            "Enter your weight: -5\n",
            "Invalid\n",
            "Enter your weight again: -5\n",
            "Invalid\n",
            "Enter your weight again: -5\n",
            "Invalid\n",
            "Enter your weight again: -7\n",
            "Invalid\n",
            "Enter your weight again: 10\n",
            "Your weight is 22.0 lbs\n"
          ]
        }
      ],
      "source": [
        "weight = int(input(\"Enter your weight: \"))\n",
        "while weight < 0:\n",
        "  print(\"Invalid\")\n",
        "  weight = int(input(\"Enter your weight again: \"))\n",
        "\n",
        "weight = weight * 2.2\n",
        "print(f\"Your weight is {weight} lbs\")"
      ]
    },
    {
      "cell_type": "markdown",
      "metadata": {
        "id": "zQT0pCjRAsIK"
      },
      "source": [
        "Ex 3: Write a program that allows the user to enter any number of test scores. The user indicates\n",
        "they are done by entering in a negative number. Print how many of the scores are A’s (90 or\n",
        "above). Also print out the average"
      ]
    },
    {
      "cell_type": "code",
      "execution_count": 25,
      "metadata": {
        "id": "Gya-rvYUAviK",
        "outputId": "5c7fb8db-3bfe-4157-de80-ec73aa3e0167",
        "colab": {
          "base_uri": "https://localhost:8080/"
        }
      },
      "outputs": [
        {
          "output_type": "stream",
          "name": "stdout",
          "text": [
            "Enter your score: 50\n",
            "Enter your score: 90\n",
            "Enter your score: 70\n",
            "Enter your score: 40\n",
            "Enter your score: 95\n",
            "Enter your score: 100\n",
            "Enter your score: -1\n",
            "Your A count is 3\n",
            "Average Score:  74.16666666666667\n"
          ]
        }
      ],
      "source": [
        "a_count = 0\n",
        "score_count = 0\n",
        "total_score = 0\n",
        "while True:\n",
        "  score = int(input(\"Enter your score: \"))\n",
        "  if score < 0:\n",
        "    break\n",
        "  score_count += 1\n",
        "  total_score = total_score + score\n",
        "  if score >= 90:\n",
        "    a_count += 1\n",
        "print(\"Your A count is\", a_count)\n",
        "print(\"Average Score: \", total_score/score_count)"
      ]
    },
    {
      "cell_type": "markdown",
      "metadata": {
        "id": "IHIWc5jHAwxY"
      },
      "source": [
        "Ex 4: Write a program that asks the user for a string and a letter. Using a for loop, the\n",
        "program should print the index of the first occurrence of that letter and a message if the\n",
        "string does not contain the letter."
      ]
    },
    {
      "cell_type": "code",
      "execution_count": 37,
      "metadata": {
        "id": "xSe0mtQ8A68M",
        "outputId": "e6ebba3d-0b57-4241-d3e6-9f12ce13a6a2",
        "colab": {
          "base_uri": "https://localhost:8080/"
        }
      },
      "outputs": [
        {
          "output_type": "stream",
          "name": "stdout",
          "text": [
            "Enter string: hello\n",
            "Enter a letter: p\n",
            "The letter p is not in hello\n"
          ]
        }
      ],
      "source": [
        "string = input(\"Enter string: \")\n",
        "letter = input(\"Enter a letter: \")\n",
        "for i in range(len(string)):\n",
        "  if string[i] == letter:\n",
        "    print(f\"The first occurence of {letter} is at index {i}\")\n",
        "    break\n",
        "else:\n",
        "  print(f\"The letter {letter} is not in {string}\")"
      ]
    },
    {
      "cell_type": "markdown",
      "metadata": {
        "id": "PfyUq4CnA8vk"
      },
      "source": [
        "Ex 5: Write a program in which you have a list that contains seven integers that can be 0 or 1. Find the first zero entry in the list and change it to a 1. If there are no zero entries, print a message saying so."
      ]
    },
    {
      "cell_type": "code",
      "execution_count": 60,
      "metadata": {
        "id": "FyRkQUT-FQtJ",
        "outputId": "a94587ad-f7cc-4fe8-c5ac-a1a411b36f98",
        "colab": {
          "base_uri": "https://localhost:8080/"
        }
      },
      "outputs": [
        {
          "output_type": "stream",
          "name": "stdout",
          "text": [
            "Enter seven integers of 1 or 0 separated by spaces: 1 1 1 1 1 1 1 \n",
            "No zeroes in the list.\n",
            "[1, 1, 1, 1, 1, 1, 1]\n"
          ]
        }
      ],
      "source": [
        "integers = input(\"Enter seven integers of 1 or 0 separated by spaces: \")\n",
        "ls = []\n",
        "for x in integers.strip().split():\n",
        "    ls.append(int(x))\n",
        "\n",
        "for i in range(len(ls)):\n",
        "  if ls[i] == 0:\n",
        "    ls[i] = 1\n",
        "    break\n",
        "else:\n",
        "  print(\"No zeroes in the list.\")\n",
        "print(ls)"
      ]
    }
  ],
  "metadata": {
    "colab": {
      "name": "Ex4_Looping.ipynb",
      "provenance": [],
      "include_colab_link": true
    },
    "kernelspec": {
      "display_name": "Python 3",
      "name": "python3"
    },
    "language_info": {
      "codemirror_mode": {
        "name": "ipython",
        "version": 3
      },
      "file_extension": ".py",
      "mimetype": "text/x-python",
      "name": "python",
      "nbconvert_exporter": "python",
      "pygments_lexer": "ipython3",
      "version": "3.12.1"
    }
  },
  "nbformat": 4,
  "nbformat_minor": 0
}