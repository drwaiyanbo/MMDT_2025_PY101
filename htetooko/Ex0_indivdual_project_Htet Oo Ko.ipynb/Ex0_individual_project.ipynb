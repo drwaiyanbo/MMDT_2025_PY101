{
 "cells": [
  {
   "cell_type": "markdown",
   "metadata": {},
   "source": [
    "1) Write a Python program in the below cell to create a dictionary that count the frequency of words in the string given in Q1.txt. Find the most frequent occured word.\n",
    "\n",
    "Don't remove the comment lines provided. "
   ]
  },
  {
   "cell_type": "code",
   "execution_count": 5,
   "metadata": {},
   "outputs": [
    {
     "name": "stdout",
     "output_type": "stream",
     "text": [
      "Mose frequent word is:  it\n",
      "Frequency:  {'i': 4, 'love': 1, 'this': 1, 'movie!': 1, 'it': 5, 'is': 1, 'sweet': 1, 'but': 1, 'with': 1, 'satirical': 1, 'humor': 1, 'the': 4, 'dialogs': 1, 'are': 2, 'great': 1, 'and': 4, 'adventure': 1, 'scenes': 1, 'fun': 1, 'manages': 1, 'to': 3, 'be': 1, 'romantic': 1, 'whimsical': 1, 'while': 1, 'laughingat': 1, 'conventions': 1, 'of': 1, 'fairy': 1, 'tale': 1, 'genre': 1, 'would': 1, 'recommend': 1, 'just': 1, 'about': 1, 'anyone': 1, 'have': 1, 'seen': 1, 'several': 1, 'times': 1, 'am': 1, 'always': 1, 'happy': 1, 'see': 1, 'again': 2}\n"
     ]
    }
   ],
   "source": [
    "#step 1: read content from Q1.txt \n",
    "with open('Q1.txt', 'r') as file1:\n",
    "    word_string = file1.read()\n",
    "    \n",
    "#step 2.1 - change the case to upper or lower.\n",
    "word_string = word_string.lower()\n",
    "\n",
    "#step 2.2 - remove pun : use replace\n",
    "for i in [\".\", \",\", \":\", \";\"]:\n",
    "    word_string = word_string.replace(i, \"\")\n",
    "#step 2.3 - split using space\n",
    "words = word_string.split()\n",
    "\n",
    "#Step 3: create a dictionary \n",
    "word_freq = {}\n",
    "for word in words:\n",
    "    if word in word_freq:\n",
    "        word_freq[word] += 1\n",
    "    else:\n",
    "        word_freq[word] = 1\n",
    "\n",
    "#Step 4: find the most frequent occured one\n",
    "most_freq_word = max(word_freq, key=word_freq.get)\n",
    "print(\"Mose frequent word is: \",most_freq_word)\n",
    "print(\"Frequency: \",word_freq)\n",
    "\n",
    "    "
   ]
  },
  {
   "cell_type": "markdown",
   "metadata": {},
   "source": [
    "2) Write a Python program to read the name from Q2.txt and create email using domain 'simons-rock.edu' and save the results as dictionary : {'name': 'name@simons-rock.edu'}.\n",
    "Please take note that your email should not include space or any special characters and all charcters should be in lowercase."
   ]
  },
  {
   "cell_type": "code",
   "execution_count": 6,
   "metadata": {},
   "outputs": [
    {
     "name": "stdout",
     "output_type": "stream",
     "text": [
      "{'dechen dorji': 'dechendorji@simons-rock.edu', 'deki tshomo': 'dekitshomo@simons-rock.edu', 'dorji tshering': 'dorjitshering@simons-rock.edu', 'dorji wangmo': 'dorjiwangmo@simons-rock.edu', 'gem tshering lepcha': 'gemtsheringlepcha@simons-rock.edu', 'jigme dorji': 'jigmedorji@simons-rock.edu', 'kinley cheki': 'kinleycheki@simons-rock.edu', 'kinley wangmo': 'kinleywangmo@simons-rock.edu', 'ngawang dema karpo': 'ngawangdemakarpo@simons-rock.edu', 'roshan chhetri': 'roshanchhetri@simons-rock.edu', 'sonam tenzin': 'sonamtenzin@simons-rock.edu', 'sonam tobgay': 'sonamtobgay@simons-rock.edu', 'sonam yangden': 'sonamyangden@simons-rock.edu', 'tandin om': 'tandinom@simons-rock.edu', 'tandin wangchuk': 'tandinwangchuk@simons-rock.edu', 'tashi om': 'tashiom@simons-rock.edu', 'tenday zangmo': 'tendayzangmo@simons-rock.edu', 'tshering pem': 'tsheringpem@simons-rock.edu', 'ugyen phurpa': 'ugyenphurpa@simons-rock.edu', 'marmitt': 'marmitt@simons-rock.edu'}\n"
     ]
    }
   ],
   "source": [
    "#step 1: read Q2. txt into the list\n",
    "with open ('Q2.txt', 'r') as names:\n",
    "    header = names.readline()\n",
    "    namelist = names.readlines()\n",
    "    \n",
    "#step 2: create email for each name in the list and save them in the dictionary\n",
    "# You need to do the necessary data cleaning \n",
    "# For example, removing the space and special characters if there is any, converting them to lower case\n",
    "\n",
    "email_dict = {}\n",
    "for name in namelist:\n",
    "    name = name.lower().strip()\n",
    "    name_clean = \"\"\n",
    "\n",
    "    for char in name:\n",
    "        if char.isalnum():\n",
    "            name_clean += char\n",
    "\n",
    "    email = name_clean + \"@simons-rock.edu\"\n",
    "    email_dict[name] = email        \n",
    "\n",
    "print(email_dict)\n"
   ]
  },
  {
   "cell_type": "markdown",
   "metadata": {},
   "source": [
    "3) Write a Python program for \"Guessing Game: Guess the Number Challenge\"\n",
    "\n",
    "Step 1: Use a random function to generate a number.\n",
    "\n",
    "##### Game starts.......\n",
    "\n",
    "Step 2: Prompt the user to guess an integer number. Provide a range if needed to give the user context for their guess.\n",
    "\n",
    "Step 3: Check the condition of the guessed number compared to the generated number and provide feedback accordingly. For example, if the guess is too high or too low, inform the user.\n",
    "\n",
    "Step 4.1: If the guess is incorrect, allow the user to guess again. Repeat this process for a maximum of 10 guesses.\n",
    "\n",
    "Step 4.2: If the user guesses the number correctly, inform them that they have won. Also, indicate how many guesses were needed before guessing correctly.\n",
    "\n",
    "Step 4.3: If the user exhausts all 10 guesses without guessing the correct number, say \"goodbye.\"\n",
    "\n",
    "##### Game ends ... \n",
    "\n",
    "Step 5: Regardless of winning or losing, ask the user if they want to play again. This ensures the program's continuity and gives the user the option to continue playing if they wish."
   ]
  },
  {
   "cell_type": "code",
   "execution_count": 19,
   "metadata": {},
   "outputs": [
    {
     "name": "stdout",
     "output_type": "stream",
     "text": [
      "New Game! You have 10 attempts to guess the number.\n",
      "Number too small, go up...\n",
      "This is attempt number: 1\n",
      "Number too small, go up...\n",
      "This is attempt number: 2\n",
      "Number too small, go up...\n",
      "This is attempt number: 3\n",
      "Number too small, go up...\n",
      "This is attempt number: 4\n",
      "Number too small, go up...\n",
      "This is attempt number: 5\n",
      "Number too big, go down...\n",
      "This is attempt number: 6\n",
      "Number too big, go down...\n",
      "This is attempt number: 7\n",
      "Number too small, go up...\n",
      "This is attempt number: 8\n",
      "Number too small, go up...\n",
      "This is attempt number: 9\n",
      "Congrats, you have found the correct number!\n",
      "you have used 10 attempts to guess correctly.\n",
      "The correct number is: 84\n",
      "New Game! You have 10 attempts to guess the number.\n",
      "Number too big, go down...\n",
      "This is attempt number: 1\n",
      "Number too big, go down...\n",
      "This is attempt number: 2\n",
      "Number too small, go up...\n",
      "This is attempt number: 3\n",
      "Number too big, go down...\n",
      "This is attempt number: 4\n",
      "Congrats, you have found the correct number!\n",
      "you have used 5 attempts to guess correctly.\n",
      "The correct number is: 30\n",
      "Thank you for playing number guessing game. Goodbye!\n"
     ]
    }
   ],
   "source": [
    "import random\n",
    "\n",
    "while True:\n",
    "    real_num = random.randint(1,100)\n",
    "    count = 0\n",
    "    print(\"New Game! You have 10 attempts to guess the number.\")\n",
    "\n",
    "    while count < 10: \n",
    "        try:\n",
    "            num = int(input(\"Guess a number between 1-100: \"))\n",
    "            count += 1\n",
    "            if num > real_num:\n",
    "                print(\"Number too big, go down...\")\n",
    "                print(\"This is attempt number:\", count)\n",
    "            elif num < real_num:\n",
    "                print(\"Number too small, go up...\")\n",
    "                print(\"This is attempt number:\", count)\n",
    "            else:\n",
    "                print(\"Congrats, you have found the correct number!\")\n",
    "                print(f\"you have used {count} attempts to guess correctly.\")\n",
    "                print(\"The correct number is:\", real_num)\n",
    "                break\n",
    "        except ValueError:\n",
    "            print(\"Invalid input, Please enter a number.\")\n",
    "    else:\n",
    "        print(\"You have used all your attempts! Goodbye.\")\n",
    "\n",
    "    retry = input(\"Do you want to try again? y/n \").strip().lower()\n",
    "    if retry != \"y\":\n",
    "        print(\"Thank you for playing number guessing game. Goodbye!\")\n",
    "        break"
   ]
  }
 ],
 "metadata": {
  "kernelspec": {
   "display_name": "Python 3",
   "language": "python",
   "name": "python3"
  },
  "language_info": {
   "codemirror_mode": {
    "name": "ipython",
    "version": 3
   },
   "file_extension": ".py",
   "mimetype": "text/x-python",
   "name": "python",
   "nbconvert_exporter": "python",
   "pygments_lexer": "ipython3",
   "version": "3.10.11"
  }
 },
 "nbformat": 4,
 "nbformat_minor": 2
}
