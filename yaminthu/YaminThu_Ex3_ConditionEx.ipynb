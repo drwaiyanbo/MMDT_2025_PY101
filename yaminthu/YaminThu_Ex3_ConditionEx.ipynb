{
  "nbformat": 4,
  "nbformat_minor": 0,
  "metadata": {
    "colab": {
      "name": "Ex3_ConditionEx.ipynb",
      "provenance": [],
      "include_colab_link": true
    },
    "kernelspec": {
      "name": "python3",
      "display_name": "Python 3"
    },
    "language_info": {
      "name": "python"
    }
  },
  "cells": [
    {
      "cell_type": "markdown",
      "metadata": {
        "id": "view-in-github",
        "colab_type": "text"
      },
      "source": [
        "<a href=\"https://colab.research.google.com/github/YaminThu9/MMDT_2025_PY101/blob/YaminThu/yaminthu/YaminThu_Ex3_ConditionEx.ipynb\" target=\"_parent\"><img src=\"https://colab.research.google.com/assets/colab-badge.svg\" alt=\"Open In Colab\"/></a>"
      ]
    },
    {
      "cell_type": "code",
      "source": [
        "my_length = input(\"Enter the length in  centimeters:\")\n",
        "my_length = float(my_length)\n",
        "if (my_length < 0):\n",
        "  print(\"The entry is invalid\")\n",
        "else:\n",
        "  my_inches = my_length/2.54\n",
        "  print(\"{} cm is equivalent to {} inches\".format(my_length,my_inches))\n",
        "\n",
        "\n",
        "\n"
      ],
      "metadata": {
        "id": "76EFWr1AvMy4",
        "outputId": "d1239202-c790-4902-c86a-ad080e151318",
        "colab": {
          "base_uri": "https://localhost:8080/"
        }
      },
      "execution_count": null,
      "outputs": [
        {
          "output_type": "stream",
          "name": "stdout",
          "text": [
            "Enter the length in  centimeters:-68\n",
            "The entry is invalid\n"
          ]
        }
      ]
    },
    {
      "cell_type": "markdown",
      "source": [
        "Write a program that asks the user to enter a length in centimeters. If the user enters a negative length, the program should tell the user that the entry is invalid. Otherwise, the program should convert the length to inches and print out the result. There are 2.54 centimeters in an inch.\n"
      ],
      "metadata": {
        "id": "r9njLbxcvG0w"
      }
    },
    {
      "cell_type": "markdown",
      "source": [
        "Ask the user to enter a temperature in Celsius. The program should print a message based on the temperature:\n",
        "\n",
        "*   If the temperature is less than -273.15, print that the temperature is invalid because it is below absolute zero.\n",
        "*   If it is exactly -273.15, print that the temperature is absolute 0.\n",
        "*   If the temperature is between -273.15 and 0, print that the temperature is below freezing.\n",
        "*   If it is 0, print that the temperature is at the freezing point.\n",
        "*   If it is between 0 and 100, print that the temperature is in the normal range.\n",
        "*   If it is 100, print that the temperature is at the boiling point.\n",
        "*   If it is above 100, print that the temperature is above the boiling point."
      ],
      "metadata": {
        "id": "zvaDTmuhvNWJ"
      }
    },
    {
      "cell_type": "code",
      "source": [
        "my_temp = input(\"Enter the temperature in Celsius:  \")\n",
        "my_temp = float(my_temp)\n",
        "if (my_temp < -273.15):\n",
        "  print(\"The temperature is invalid because it is below absolute zero.\")\n",
        "elif(my_temp == -273.15):\n",
        "  print(\"The temperature is absolute 0.\")\n",
        "elif(my_temp < 0 and my_temp > -273.15):\n",
        "  print(\"The temperature is below freezing.\")\n",
        "elif(my_temp == 0):\n",
        "  print(\"The temperature is at the freezing point.\")\n",
        "elif(my_temp < 100 and my_temp > 0):\n",
        "  print(\"The temperature is in the normal range.\")\n",
        "elif(my_temp == 100):\n",
        "  print(\"The temperature is at the boiling point.\")\n",
        "else:\n",
        "  print(\"The temperature is above the boiling point.\")\n"
      ],
      "metadata": {
        "id": "UiCbUIcwvqxO",
        "outputId": "1beeb96c-ba67-4d26-ce82-ee098f626bcb",
        "colab": {
          "base_uri": "https://localhost:8080/"
        }
      },
      "execution_count": null,
      "outputs": [
        {
          "output_type": "stream",
          "name": "stdout",
          "text": [
            "Enter the temperature in Celsius:  200\n",
            "The temperature is above the boiling point.\n"
          ]
        }
      ]
    },
    {
      "cell_type": "markdown",
      "source": [
        "Write a program that asks the user how many credits they have taken. If they have taken 23 or less, print that the student is a freshman. If they have taken between 24 and 53, print that they are a sophomore. The range for juniors is 54 to 83, and for seniors it is 84 and over."
      ],
      "metadata": {
        "id": "hoczytNLvrnd"
      }
    },
    {
      "cell_type": "code",
      "source": [
        "my_credits = input(\"Enter your credits: \")\n",
        "my_credits = int(my_credits)\n",
        "if (my_credits <= 23):\n",
        "  print(\"The student is a freshman\")\n",
        "elif(my_credits <=  53):\n",
        "  print(\"They are a sophomore.\")\n",
        "elif(my_credits <= 83 and my_credits >= 54):\n",
        "  print(\"Juniors\")\n",
        "else:\n",
        "  print(\"Seniors\")"
      ],
      "metadata": {
        "id": "r8_O-_zLvurf",
        "outputId": "aa87ccee-4167-47cc-a4fa-24bb815207c1",
        "colab": {
          "base_uri": "https://localhost:8080/"
        }
      },
      "execution_count": null,
      "outputs": [
        {
          "output_type": "stream",
          "name": "stdout",
          "text": [
            "Enter your credits: 24\n",
            "They are a sophomore.\n"
          ]
        }
      ]
    }
  ]
}