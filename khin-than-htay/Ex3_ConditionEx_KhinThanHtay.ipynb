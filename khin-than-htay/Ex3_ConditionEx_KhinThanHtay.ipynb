{
  "nbformat": 4,
  "nbformat_minor": 0,
  "metadata": {
    "colab": {
      "name": "Ex3_ConditionEx.ipynb",
      "provenance": [],
      "include_colab_link": true
    },
    "kernelspec": {
      "name": "python3",
      "display_name": "Python 3"
    },
    "language_info": {
      "name": "python"
    }
  },
  "cells": [
    {
      "cell_type": "markdown",
      "metadata": {
        "id": "view-in-github",
        "colab_type": "text"
      },
      "source": [
        "<a href=\"https://colab.research.google.com/github/khinthanhtay95/MMDT_2025_PY101/blob/KhinThanHtay/khin-than-htay/Ex3_ConditionEx_KhinThanHtay.ipynb\" target=\"_parent\"><img src=\"https://colab.research.google.com/assets/colab-badge.svg\" alt=\"Open In Colab\"/></a>"
      ]
    },
    {
      "cell_type": "markdown",
      "source": [
        "Write a program that asks the user to enter a length in centimeters. If the user enters a negative length, the program should tell the user that the entry is invalid. Otherwise, the program should convert the length to inches and print out the result. There are 2.54 centimeters in an inch.\n"
      ],
      "metadata": {
        "id": "r9njLbxcvG0w"
      }
    },
    {
      "cell_type": "code",
      "source": [
        "length_in_cm = float(input(\"Enter a length in centimeters: \"))\n",
        "if length_in_cm < 0:\n",
        "  print(\"The entry is invalid.\")\n",
        "else:\n",
        "  length_converted_inches = length_in_cm /2.54\n",
        "  print(length_converted_inches)\n",
        "\n"
      ],
      "metadata": {
        "id": "76EFWr1AvMy4",
        "colab": {
          "base_uri": "https://localhost:8080/"
        },
        "outputId": "c2031af8-5a06-448f-9ebf-049600e94c0c"
      },
      "execution_count": 21,
      "outputs": [
        {
          "output_type": "stream",
          "name": "stdout",
          "text": [
            "Enter a length in centimeters: 2\n",
            "0.7874015748031495\n"
          ]
        }
      ]
    },
    {
      "cell_type": "markdown",
      "source": [
        "Ask the user to enter a temperature in Celsius. The program should print a message based on the temperature:\n",
        "\n",
        "*   If the temperature is less than -273.15, print that the temperature is invalid because it is below absolute zero.\n",
        "*   If it is exactly -273.15, print that the temperature is absolute 0.\n",
        "*   If the temperature is between -273.15 and 0, print that the temperature is below freezing.\n",
        "*   If it is 0, print that the temperature is at the freezing point.\n",
        "*   If it is between 0 and 100, print that the temperature is in the normal range.\n",
        "*   If it is 100, print that the temperature is at the boiling point.\n",
        "*   If it is above 100, print that the temperature is above the boiling point."
      ],
      "metadata": {
        "id": "zvaDTmuhvNWJ"
      }
    },
    {
      "cell_type": "code",
      "source": [
        "temperature = float(input(\"Enter a temperature in Celsius: \"))\n",
        "\n",
        "if (temperature < -273.15):\n",
        "  print(\"The temperature is invalid because it is below absolute zero.\")\n",
        "elif(temperature == -273.15):\n",
        "  print(\"The temperature is absolute zero.\")\n",
        "elif(temperature > -273.15 and temperature <0):\n",
        "  print(\"The temperature is below freezing.\")\n",
        "elif(temperature == 0):\n",
        "  print(\"The temperature is at the freezing point.\")\n",
        "elif(temperature > 0 and temperature < 100):\n",
        "  print(\"The temperature is in the normal range.\")\n",
        "elif(temperature == 100):\n",
        "  print(\"The temperature is at the boiling point.\")\n",
        "else:\n",
        "  print(\"The temperature is above the boiling point.\")"
      ],
      "metadata": {
        "id": "UiCbUIcwvqxO",
        "colab": {
          "base_uri": "https://localhost:8080/"
        },
        "outputId": "c6f85c28-31d2-4a90-9bd7-289c1391e8bb"
      },
      "execution_count": 22,
      "outputs": [
        {
          "output_type": "stream",
          "name": "stdout",
          "text": [
            "Enter a temperature in Celsius: 1\n",
            "The temperature is in the normal range.\n"
          ]
        }
      ]
    },
    {
      "cell_type": "markdown",
      "source": [
        "Write a program that asks the user how many credits they have taken. If they have taken 23 or less, print that the student is a freshman. If they have taken between 24 and 53, print that they are a sophomore. The range for juniors is 54 to 83, and for seniors it is 84 and over."
      ],
      "metadata": {
        "id": "hoczytNLvrnd"
      }
    },
    {
      "cell_type": "code",
      "source": [
        "num_of_credits = int(input(\"Enter number of credits you have taken: \"))\n",
        "if(num_of_credits <= 23):\n",
        "  print(\"You are a freshman.\")\n",
        "elif(num_of_credits >= 24 and num_of_credits <= 53):\n",
        "  print(\"You are a sophomore.\")\n",
        "elif(num_of_credits >= 54 and num_of_credits <= 83):\n",
        "  print(\"You are a junior.\")\n",
        "else:\n",
        "  print(\"You are a senior.\")"
      ],
      "metadata": {
        "id": "r8_O-_zLvurf",
        "colab": {
          "base_uri": "https://localhost:8080/"
        },
        "outputId": "f477c7e5-c3eb-49ed-ae5e-b0de5f36e31b"
      },
      "execution_count": 23,
      "outputs": [
        {
          "output_type": "stream",
          "name": "stdout",
          "text": [
            "Enter number of credits you have taken: 1\n",
            "You are a freshman.\n"
          ]
        }
      ]
    }
  ]
}