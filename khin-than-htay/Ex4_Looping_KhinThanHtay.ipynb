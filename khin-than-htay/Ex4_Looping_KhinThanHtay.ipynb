{
  "cells": [
    {
      "cell_type": "markdown",
      "metadata": {
        "id": "view-in-github",
        "colab_type": "text"
      },
      "source": [
        "<a href=\"https://colab.research.google.com/github/khinthanhtay95/MMDT_2025_PY101/blob/KhinThanHtay/khin-than-htay/Ex4_Looping_KhinThanHtay.ipynb\" target=\"_parent\"><img src=\"https://colab.research.google.com/assets/colab-badge.svg\" alt=\"Open In Colab\"/></a>"
      ]
    },
    {
      "cell_type": "markdown",
      "metadata": {
        "id": "YeTHwB3EASGn"
      },
      "source": [
        "The exercises are extracted from A_Practical_Introduction_to_Python_Programming_Heinold.pdf"
      ]
    },
    {
      "cell_type": "markdown",
      "metadata": {
        "id": "wVOW5QDgAZ_R"
      },
      "source": [
        "Ex 1: Write a program that uses a while loop (not a for loop) to read through a string and print\n",
        "the characters of the string one-by-one on separate lines."
      ]
    },
    {
      "cell_type": "code",
      "execution_count": 11,
      "metadata": {
        "id": "77KGqP-sJJNh",
        "colab": {
          "base_uri": "https://localhost:8080/",
          "height": 343
        },
        "outputId": "4d18897c-b4f1-42c5-8282-7e41e6492e32"
      },
      "outputs": [
        {
          "output_type": "stream",
          "name": "stdout",
          "text": [
            "Enter a string: Krystal\n",
            "K\n",
            "r\n",
            "y\n",
            "s\n",
            "t\n",
            "a\n",
            "l\n"
          ]
        },
        {
          "output_type": "error",
          "ename": "IndexError",
          "evalue": "string index out of range",
          "traceback": [
            "\u001b[0;31m---------------------------------------------------------------------------\u001b[0m",
            "\u001b[0;31mIndexError\u001b[0m                                Traceback (most recent call last)",
            "\u001b[0;32m/tmp/ipython-input-11-3477704813.py\u001b[0m in \u001b[0;36m<cell line: 0>\u001b[0;34m()\u001b[0m\n\u001b[1;32m      5\u001b[0m   \u001b[0mprint\u001b[0m\u001b[0;34m(\u001b[0m\u001b[0mname\u001b[0m\u001b[0;34m)\u001b[0m\u001b[0;34m\u001b[0m\u001b[0;34m\u001b[0m\u001b[0m\n\u001b[1;32m      6\u001b[0m   \u001b[0midx\u001b[0m \u001b[0;34m=\u001b[0m \u001b[0midx\u001b[0m \u001b[0;34m+\u001b[0m \u001b[0;36m1\u001b[0m\u001b[0;34m\u001b[0m\u001b[0;34m\u001b[0m\u001b[0m\n\u001b[0;32m----> 7\u001b[0;31m   \u001b[0mname\u001b[0m \u001b[0;34m=\u001b[0m \u001b[0mname_list\u001b[0m\u001b[0;34m[\u001b[0m\u001b[0midx\u001b[0m\u001b[0;34m]\u001b[0m\u001b[0;34m\u001b[0m\u001b[0;34m\u001b[0m\u001b[0m\n\u001b[0m\u001b[1;32m      8\u001b[0m \u001b[0;34m\u001b[0m\u001b[0m\n\u001b[1;32m      9\u001b[0m \u001b[0;31m#different version as IndexError: string index out of range\u001b[0m\u001b[0;34m\u001b[0m\u001b[0;34m\u001b[0m\u001b[0m\n",
            "\u001b[0;31mIndexError\u001b[0m: string index out of range"
          ]
        }
      ],
      "source": [
        "name_list = input(\"Enter a string: \")\n",
        "name = name_list[0]\n",
        "idx = 0\n",
        "while idx < len(name_list):\n",
        "  print(name)\n",
        "  idx = idx + 1\n",
        "  name = name_list[idx]\n",
        "\n",
        "#below is different version due to IndexError: string index out of range for 1st program\n",
        "\n",
        "name = input(\"Enter a string: \")\n",
        "idx = 0\n",
        "while idx < len(name):\n",
        "  print(name[idx])\n",
        "  idx = idx + 1"
      ]
    },
    {
      "cell_type": "markdown",
      "metadata": {
        "id": "5B-LyYV0AkCK"
      },
      "source": [
        "Ex 2: A good program will make sure that the data its users enter is valid. Write a program that\n",
        "asks the user for a weight and converts it from kilograms to pounds. Whenever the user\n",
        "enters a weight below 0, the program should tell them that their entry is invalid and then ask\n",
        "them again to enter a weight. [Hint: Use a while loop, not an if statement]."
      ]
    },
    {
      "cell_type": "code",
      "execution_count": 54,
      "metadata": {
        "id": "gpRZnsXjArkF",
        "colab": {
          "base_uri": "https://localhost:8080/"
        },
        "outputId": "e99c541d-202a-447d-d20e-e63b5fe9f312"
      },
      "outputs": [
        {
          "output_type": "stream",
          "name": "stdout",
          "text": [
            "Enter your weight in kilograms: 12.3\n",
            "Your weight in pounds is 27.060000000000002 pounds.\n"
          ]
        }
      ],
      "source": [
        "user_weight = float(input(\"Enter your weight in kilograms: \"))\n",
        "while user_weight < 0:\n",
        "  user_weight = input(\"Your entry is invalid. Enter your weight again: \")\n",
        "user_weight = float(user_weight)*2.2\n",
        "print(\"Your weight in pounds is {} pounds.\".format(user_weight))"
      ]
    },
    {
      "cell_type": "markdown",
      "metadata": {
        "id": "zQT0pCjRAsIK"
      },
      "source": [
        "Ex 3: Write a program that allows the user to enter any number of test scores. The user indicates\n",
        "they are done by entering in a negative number. Print how many of the scores are A’s (90 or\n",
        "above). Also print out the average"
      ]
    },
    {
      "cell_type": "code",
      "execution_count": 53,
      "metadata": {
        "id": "Gya-rvYUAviK",
        "colab": {
          "base_uri": "https://localhost:8080/"
        },
        "outputId": "1211d185-c93b-4c30-b7c0-0aecd457a8ca"
      },
      "outputs": [
        {
          "output_type": "stream",
          "name": "stdout",
          "text": [
            "Enter a test score: 100\n",
            "Enter a test score: 100\n",
            "Enter a test score: -10\n",
            "The number of A's score is 2.\n",
            "The average score is 100.0.\n"
          ]
        }
      ],
      "source": [
        "temp = 1\n",
        "count = 0\n",
        "len_count = 0\n",
        "total_score = 0\n",
        "while temp != 0:\n",
        "  test_scores = float(input(\"Enter a test score: \"))\n",
        "  if test_scores > 0:\n",
        "    if test_scores >= 90:\n",
        "      count = count +1\n",
        "    total_score = total_score + test_scores\n",
        "    len_count = len_count + 1\n",
        "  else:\n",
        "      break\n",
        "\n",
        "print(\"The number of A's score is {}.\".format(count))\n",
        "print(\"The average score is {}.\".format(total_score/len_count))\n",
        "\n",
        "\n",
        ""
      ]
    },
    {
      "cell_type": "markdown",
      "metadata": {
        "id": "IHIWc5jHAwxY"
      },
      "source": [
        "Ex 4: Write a program that asks the user for a string and a letter. Using a for loop, the\n",
        "program should print the index of the first occurrence of that letter and a message if the\n",
        "string does not contain the letter."
      ]
    },
    {
      "cell_type": "code",
      "execution_count": 36,
      "metadata": {
        "id": "xSe0mtQ8A68M",
        "colab": {
          "base_uri": "https://localhost:8080/"
        },
        "outputId": "92fcac4b-1483-4f62-a6c0-cbcd795eeb13"
      },
      "outputs": [
        {
          "output_type": "stream",
          "name": "stdout",
          "text": [
            "Enter a string: Wang\n",
            "Enter a letter: K\n",
            "The string does not contain the letter K.\n"
          ]
        }
      ],
      "source": [
        "user_string = input(\"Enter a string: \")\n",
        "user_letter = input(\"Enter a letter: \")\n",
        "for index, letter in enumerate(user_string):\n",
        "  if letter == user_letter:\n",
        "    print(\"The index of the first occurance of {} is index {}.\".format(user_letter, index))\n",
        "    break\n",
        "else:\n",
        "    print(\"The string does not contain the letter {}.\".format(user_letter))"
      ]
    },
    {
      "cell_type": "markdown",
      "metadata": {
        "id": "PfyUq4CnA8vk"
      },
      "source": [
        "Ex 5: Write a program in which you have a list that contains seven integers that can be 0 or 1. Find the first zero entry in the list and change it to a 1. If there are no zero entries, print a message saying so."
      ]
    },
    {
      "cell_type": "code",
      "execution_count": 41,
      "metadata": {
        "colab": {
          "base_uri": "https://localhost:8080/"
        },
        "id": "3Nbx3l3xRphX",
        "outputId": "67d68e4b-ad7e-4e2d-cca4-38b69ff0c10d"
      },
      "outputs": [
        {
          "output_type": "stream",
          "name": "stdout",
          "text": [
            "[1, 1, 1, 1, 1, 1, 1]\n"
          ]
        }
      ],
      "source": [
        "int_list = [1,1,0,1,1,1,1]\n",
        "for index, integer in enumerate(int_list):\n",
        "  if integer == 0:\n",
        "    int_list[index] = 1\n",
        "    break\n",
        "else:\n",
        "  print(\"There are no zero entries in the list.\")\n",
        "print(int_list)\n",
        "\n"
      ]
    }
  ],
  "metadata": {
    "colab": {
      "name": "Ex4_Looping.ipynb",
      "provenance": [],
      "include_colab_link": true
    },
    "kernelspec": {
      "display_name": "Python 3",
      "name": "python3"
    },
    "language_info": {
      "codemirror_mode": {
        "name": "ipython",
        "version": 3
      },
      "file_extension": ".py",
      "mimetype": "text/x-python",
      "name": "python",
      "nbconvert_exporter": "python",
      "pygments_lexer": "ipython3",
      "version": "3.12.1"
    }
  },
  "nbformat": 4,
  "nbformat_minor": 0
}