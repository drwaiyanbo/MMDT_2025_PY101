{
  "cells": [
    {
      "cell_type": "markdown",
      "metadata": {
        "colab_type": "text",
        "id": "view-in-github"
      },
      "source": [
        "<a href=\"https://colab.research.google.com/github/myothida/PythonProgramming/blob/main/Ex3_ConditionEx.ipynb\" target=\"_parent\"><img src=\"https://colab.research.google.com/assets/colab-badge.svg\" alt=\"Open In Colab\"/></a>"
      ]
    },
    {
      "cell_type": "markdown",
      "metadata": {
        "id": "r9njLbxcvG0w"
      },
      "source": [
        "Write a program that asks the user to enter a length in centimeters. If the user enters a negative length, the program should tell the user that the entry is invalid. Otherwise, the program should convert the length to inches and print out the result. There are 2.54 centimeters in an inch.\n"
      ]
    },
    {
      "cell_type": "code",
      "execution_count": 21,
      "metadata": {
        "id": "76EFWr1AvMy4"
      },
      "outputs": [
        {
          "name": "stdout",
          "output_type": "stream",
          "text": [
            "Your input an inches is : 48.43\n"
          ]
        }
      ],
      "source": [
        "while True:\n",
        "    try:\n",
        "        user_input = float(input(\"Please enter a length in centimeters\"))\n",
        "        if(user_input < 0):\n",
        "            print(\"The entry is invalid, plese enter a positive number.\")\n",
        "            break\n",
        "        else:\n",
        "            inches = user_input /2.54\n",
        "            print(f\"Your input an inches is : {round(inches,2)}\")\n",
        "            break\n",
        "    except ValueError:\n",
        "            print(\"Invalid input. Please type a number of centimeters.\")\n"
      ]
    },
    {
      "cell_type": "markdown",
      "metadata": {
        "id": "zvaDTmuhvNWJ"
      },
      "source": [
        "Ask the user to enter a temperature in Celsius. The program should print a message based on the temperature:\n",
        "\n",
        "*   If the temperature is less than -273.15, print that the temperature is invalid because it is below absolute zero.\n",
        "*   If it is exactly -273.15, print that the temperature is absolute 0.\n",
        "*   If the temperature is between -273.15 and 0, print that the temperature is below freezing.\n",
        "*   If it is 0, print that the temperature is at the freezing point.\n",
        "*   If it is between 0 and 100, print that the temperature is in the normal range.\n",
        "*   If it is 100, print that the temperature is at the boiling point.\n",
        "*   If it is above 100, print that the temperature is above the boiling point."
      ]
    },
    {
      "cell_type": "code",
      "execution_count": 8,
      "metadata": {
        "id": "UiCbUIcwvqxO"
      },
      "outputs": [
        {
          "name": "stdout",
          "output_type": "stream",
          "text": [
            "The Temperature is in the normal range.\n"
          ]
        }
      ],
      "source": [
        "while True:\n",
        "    try:\n",
        "        celcious_input = float(input(\"Please enter temperature in Celsius\"))\n",
        "\n",
        "        if(celcious_input < -273.15 ):\n",
        "            print(\"The temperature is invalid because it is below absolute zero.\")\n",
        "        elif(celcious_input == -273.15):\n",
        "            print(\"The temperature is absolute 0.\")\n",
        "        elif(celcious_input > -273.15 and celcious_input < 0):\n",
        "            print(\"The temperature is below freezing.\")\n",
        "        elif(celcious_input == 0):\n",
        "            print(\"The temperature is at the freezing point.\")\n",
        "        elif(celcious_input > 0 and celcious_input < 100):\n",
        "            print(\"The Temperature is in the normal range.\")\n",
        "        elif(celcious_input == 100):\n",
        "            print(\"The temperature is at the boiling point.\")\n",
        "        else:\n",
        "            print(\"The temperature is above the boiling point.\")\n",
        "        break\n",
        "    except ValueError:\n",
        "        print(\"Invalid Input, please enter a number\")"
      ]
    },
    {
      "cell_type": "markdown",
      "metadata": {
        "id": "hoczytNLvrnd"
      },
      "source": [
        "Write a program that asks the user how many credits they have taken. If they have taken 23 or less, print that the student is a freshman. If they have taken between 24 and 53, print that they are a sophomore. The range for juniors is 54 to 83, and for seniors it is 84 and over."
      ]
    },
    {
      "cell_type": "code",
      "execution_count": 1,
      "metadata": {
        "id": "r8_O-_zLvurf"
      },
      "outputs": [
        {
          "name": "stdout",
          "output_type": "stream",
          "text": [
            "This student is a freshman\n"
          ]
        }
      ],
      "source": [
        "while True:\n",
        "    try:\n",
        "        credits_input = int(input(\"Please enter credits amount you have taken.\"))\n",
        "\n",
        "        if(credits_input <= 23):\n",
        "            print(\"This student is a freshman\")\n",
        "        elif(credits_input <= 53):\n",
        "            print(\"This student is a sophomore.\")\n",
        "        elif(credits_input <= 83):\n",
        "            print(\"This student is junior.\")\n",
        "        else:\n",
        "            print(\"This student is senior.\")\n",
        "        break\n",
        "    except ValueError:\n",
        "            print(\"Invalid Input, Please enter a whole number\")"
      ]
    }
  ],
  "metadata": {
    "colab": {
      "authorship_tag": "ABX9TyOI5kOvNmVfHX5Yp+951U6H",
      "include_colab_link": true,
      "name": "Ex3_ConditionEx.ipynb",
      "provenance": []
    },
    "kernelspec": {
      "display_name": "myproject_kernel",
      "language": "python",
      "name": "myproject_kernel"
    },
    "language_info": {
      "codemirror_mode": {
        "name": "ipython",
        "version": 3
      },
      "file_extension": ".py",
      "mimetype": "text/x-python",
      "name": "python",
      "nbconvert_exporter": "python",
      "pygments_lexer": "ipython3",
      "version": "3.13.2"
    }
  },
  "nbformat": 4,
  "nbformat_minor": 0
}
