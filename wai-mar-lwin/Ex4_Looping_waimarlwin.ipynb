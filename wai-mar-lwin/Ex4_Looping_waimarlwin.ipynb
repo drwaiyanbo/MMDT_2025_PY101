{
  "cells": [
    {
      "cell_type": "markdown",
      "metadata": {
        "colab_type": "text",
        "id": "view-in-github"
      },
      "source": [
        "<a href=\"https://colab.research.google.com/github/myothida/PythonProgramming/blob/main/Ex4_Looping.ipynb\" target=\"_parent\"><img src=\"https://colab.research.google.com/assets/colab-badge.svg\" alt=\"Open In Colab\"/></a>"
      ]
    },
    {
      "cell_type": "markdown",
      "metadata": {
        "id": "YeTHwB3EASGn"
      },
      "source": [
        "The exercises are extracted from A_Practical_Introduction_to_Python_Programming_Heinold.pdf"
      ]
    },
    {
      "cell_type": "markdown",
      "metadata": {
        "id": "wVOW5QDgAZ_R"
      },
      "source": [
        "Ex 1: Write a program that uses a while loop (not a for loop) to read through a string and print\n",
        "the characters of the string one-by-one on separate lines."
      ]
    },
    {
      "cell_type": "code",
      "execution_count": 2,
      "metadata": {},
      "outputs": [
        {
          "name": "stdout",
          "output_type": "stream",
          "text": [
            "H\n",
            "e\n",
            "l\n",
            "l\n",
            "o\n",
            "P\n",
            "y\n",
            "t\n",
            "h\n",
            "o\n",
            "n\n"
          ]
        }
      ],
      "source": [
        "newstring ='Hello Python'\n",
        "newstring = newstring.replace(\" \",\"\")\n",
        "string_length = len(newstring)\n",
        "idx = 0\n",
        "\n",
        "while (string_length > 0):\n",
        "    print(newstring[idx])\n",
        "    idx = idx + 1\n",
        "    string_length = string_length-1"
      ]
    },
    {
      "cell_type": "markdown",
      "metadata": {
        "id": "5B-LyYV0AkCK"
      },
      "source": [
        "Ex 2: A good program will make sure that the data its users enter is valid. Write a program that\n",
        "asks the user for a weight and converts it from kilograms to pounds. Whenever the user\n",
        "enters a weight below 0, the program should tell them that their entry is invalid and then ask\n",
        "them again to enter a weight. [Hint: Use a while loop, not an if statement]."
      ]
    },
    {
      "cell_type": "code",
      "execution_count": 3,
      "metadata": {},
      "outputs": [
        {
          "name": "stdout",
          "output_type": "stream",
          "text": [
            "Your weight in pounds :196.21\n"
          ]
        }
      ],
      "source": [
        "while True:\n",
        "    try:\n",
        "        weight = int(input(\"Please Enter Your Weight in Kilograms\"))\n",
        "        while (weight <= 0 ):\n",
        "            print(\"Your input is invalid\")\n",
        "            weight = int(input(\"Please Enter a valid weight\"))\n",
        "\n",
        "        pounds = weight * 2.20462\n",
        "        print(f\"Your weight in pounds :{round(pounds,2)}\")\n",
        "        break\n",
        "    except ValueError:\n",
        "        print(\"Please Enter a valid number\")"
      ]
    },
    {
      "cell_type": "markdown",
      "metadata": {
        "id": "zQT0pCjRAsIK"
      },
      "source": [
        "Ex 3: Write a program that allows the user to enter any number of test scores. The user indicates\n",
        "they are done by entering in a negative number. Print how many of the scores are A’s (90 or\n",
        "above). Also print out the average"
      ]
    },
    {
      "cell_type": "code",
      "execution_count": null,
      "metadata": {},
      "outputs": [
        {
          "name": "stdout",
          "output_type": "stream",
          "text": [
            "Please your score is invalid\n",
            "The number of A's : 5\n",
            "The average of your score : 81\n"
          ]
        }
      ],
      "source": [
        "while True :\n",
        "    try:\n",
        "        test_score = int(input(\"Please enter your test scores\"))\n",
        "        score_count = 0\n",
        "        total_score = 0\n",
        "        score_grade = 0\n",
        "        average_score = 0\n",
        "        while (test_score > 0):\n",
        "            total_score += test_score\n",
        "            score_count += 1\n",
        "            if(test_score >= 90):\n",
        "                score_grade += 1\n",
        "            test_score = int(input(\"Please Enter your test scores--\"))\n",
        "        if(score_count > 0):\n",
        "            print(f\"The number of A's : {score_grade}\")\n",
        "            average_score = total_score / score_count\n",
        "            print(f\"The average of your score : {round(average_score)}\")\n",
        "            break\n",
        "        else:\n",
        "            print(\"Your score is invalid\")\n",
        "    except ValueError:\n",
        "        print(\"Please Enter valid Score\")"
      ]
    },
    {
      "cell_type": "markdown",
      "metadata": {
        "id": "IHIWc5jHAwxY"
      },
      "source": [
        "Ex 4: Write a program that asks the user for a string and a letter. Using a for loop, the\n",
        "program should print the index of the first occurrence of that letter and a message if the\n",
        "string does not contain the letter."
      ]
    },
    {
      "cell_type": "code",
      "execution_count": 44,
      "metadata": {
        "id": "xSe0mtQ8A68M"
      },
      "outputs": [
        {
          "name": "stdout",
          "output_type": "stream",
          "text": [
            "Your letter does not include in the string\n"
          ]
        }
      ],
      "source": [
        "user_string = input(\"Plese enter a string\")\n",
        "user_letter = input(\"Please describe the letter you want to know the index\")\n",
        "\n",
        "for letter in user_string:\n",
        "    if(letter == user_letter):\n",
        "        myletter = user_string.index(letter)\n",
        "        print(f\"The index of the first occurrence of the letter is : {myletter}\")\n",
        "        break\n",
        "else:\n",
        "    print(\"Your letter does not include in the string\")"
      ]
    },
    {
      "cell_type": "markdown",
      "metadata": {
        "id": "PfyUq4CnA8vk"
      },
      "source": [
        "Ex 5: Write a program in which you have a list that contains seven integers that can be 0 or 1. Find the first zero entry in the list and change it to a 1. If there are no zero entries, print a message saying so."
      ]
    },
    {
      "cell_type": "code",
      "execution_count": 42,
      "metadata": {},
      "outputs": [
        {
          "name": "stdout",
          "output_type": "stream",
          "text": [
            "[1, 1, 1, 1, 1, 1, 1]\n"
          ]
        }
      ],
      "source": [
        "mylist = [1,1,1,1,1,0,1]\n",
        "idx = 0 \n",
        "for list in mylist :\n",
        "    if(list == 0):\n",
        "            mylist[idx] = 1\n",
        "            print(mylist)\n",
        "            break\n",
        "    else:\n",
        "          idx += 1\n",
        "else:\n",
        "    print(\"There is no zero entry in the list\")"
      ]
    }
  ],
  "metadata": {
    "colab": {
      "authorship_tag": "ABX9TyOm3U7ihfZeEceAaZW842Wb",
      "include_colab_link": true,
      "name": "Ex4_Looping.ipynb",
      "provenance": []
    },
    "kernelspec": {
      "display_name": "myproject_kernel",
      "language": "python",
      "name": "myproject_kernel"
    },
    "language_info": {
      "codemirror_mode": {
        "name": "ipython",
        "version": 3
      },
      "file_extension": ".py",
      "mimetype": "text/x-python",
      "name": "python",
      "nbconvert_exporter": "python",
      "pygments_lexer": "ipython3",
      "version": "3.13.2"
    }
  },
  "nbformat": 4,
  "nbformat_minor": 0
}
