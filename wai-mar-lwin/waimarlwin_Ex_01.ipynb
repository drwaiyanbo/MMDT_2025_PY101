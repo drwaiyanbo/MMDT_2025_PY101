{
 "cells": [
  {
   "cell_type": "markdown",
   "metadata": {
    "colab_type": "text",
    "id": "view-in-github"
   },
   "source": [
    "<a href=\"https://colab.research.google.com/github/myothida/PythonProgramming/blob/main/Ex1_Python.ipynb\" target=\"_parent\"><img src=\"https://colab.research.google.com/assets/colab-badge.svg\" alt=\"Open In Colab\"/></a>"
   ]
  },
  {
   "cell_type": "markdown",
   "metadata": {
    "id": "thgO68_HZ0Aa"
   },
   "source": [
    "# Introduction"
   ]
  },
  {
   "cell_type": "markdown",
   "metadata": {
    "id": "PIh3i0c_Z_yP"
   },
   "source": [
    "This section introduces the Python Programming uisng Colab. Follow the instructions and complete the exercises."
   ]
  },
  {
   "cell_type": "markdown",
   "metadata": {
    "id": "gCw6SfeFZ78l"
   },
   "source": [
    "# Ex 1 : Check Version"
   ]
  },
  {
   "cell_type": "code",
   "execution_count": 4,
   "metadata": {},
   "outputs": [
    {
     "data": {
      "text/plain": [
       "'3.13.2 (tags/v3.13.2:4f8bb39, Feb  4 2025, 15:23:48) [MSC v.1942 64 bit (AMD64)]'"
      ]
     },
     "execution_count": 4,
     "metadata": {},
     "output_type": "execute_result"
    }
   ],
   "source": [
    "import sys\n",
    "sys.version"
   ]
  },
  {
   "cell_type": "markdown",
   "metadata": {
    "id": "6Vm-27iLabjm"
   },
   "source": [
    "Using the below cell, Import the required library and check the version of the python in your environment. "
   ]
  },
  {
   "cell_type": "markdown",
   "metadata": {
    "id": "5qTEiwGlawf5"
   },
   "source": [
    "# Ex2 : Convert Currency. "
   ]
  },
  {
   "cell_type": "markdown",
   "metadata": {
    "id": "XH8K1p0ypVCg"
   },
   "source": [
    "Write a program that asks the user for the amount in usd and converts it to British pounds. The exchange rate is from usd to BP is given as 0.82"
   ]
  },
  {
   "cell_type": "code",
   "execution_count": 1,
   "metadata": {
    "colab": {
     "base_uri": "https://localhost:8080/"
    },
    "id": "x9xQXOnRa0MS",
    "outputId": "64294c78-0769-4728-f781-9204a1aa51e3"
   },
   "outputs": [
    {
     "name": "stdout",
     "output_type": "stream",
     "text": [
      "45 usd is equivalent to 36.9 british pound\n"
     ]
    }
   ],
   "source": [
    "usd_amount = input (\"Enter the amount in USD: \")\n",
    "bp_amount = int(usd_amount) *0.82\n",
    "print(\"{} usd is equivalent to {} british pound\".format(usd_amount, bp_amount))"
   ]
  },
  {
   "cell_type": "markdown",
   "metadata": {
    "id": "ePfECwUIpli4"
   },
   "source": [
    "# Ex 3: Temperature Converter"
   ]
  },
  {
   "cell_type": "markdown",
   "metadata": {
    "id": "Y60hUWDsp3pK"
   },
   "source": [
    "Write a program that convert temperature in Feranhite to celsius. "
   ]
  },
  {
   "cell_type": "code",
   "execution_count": 2,
   "metadata": {
    "id": "G9PbO6qPoUfn"
   },
   "outputs": [
    {
     "name": "stdout",
     "output_type": "stream",
     "text": [
      "45.5 Feranhite is equivalent to 7.5 celcious\n"
     ]
    }
   ],
   "source": [
    "temp_Feran = float(input (\"Enter Temperature in Feranhite\"))\n",
    "temp_cel = ((temp_Feran)-32) *5 /9\n",
    "print (\"{} Feranhite is equivalent to {} celcious\".format(temp_Feran,round(temp_cel,2)))"
   ]
  },
  {
   "cell_type": "markdown",
   "metadata": {
    "id": "a2kNRO9Vp7Qz"
   },
   "source": [
    "# Ex 4: Daily Maths"
   ]
  },
  {
   "cell_type": "markdown",
   "metadata": {
    "id": "lItKon9qqEUn"
   },
   "source": [
    "You are working in a retail shop. Write a program that computes the total cost for a customer that bought 3 differnt types of fruits : apple, orange, mango. Ask the user to enter the quantity and price for each type. "
   ]
  },
  {
   "cell_type": "code",
   "execution_count": 5,
   "metadata": {
    "id": "mIQFjH6wqDma"
   },
   "outputs": [
    {
     "name": "stdout",
     "output_type": "stream",
     "text": [
      "Your Total Cost is : 80.0\n"
     ]
    }
   ],
   "source": [
    "apple_qty = int (input (\"Enter the quantity of Apple\"))\n",
    "apple_price = float (input (\"Enter the price of Apple\"))\n",
    "\n",
    "orange_qty = int(input (\"Enter the quantity of Orange\"))\n",
    "orange_price = float (input (\"Enter the price of Orange \"))\n",
    "\n",
    "mango_qty = int(input (\"Enter the quantity of Mango\"))\n",
    "mango_price = float (input (\"Enter the price of Mango \"))\n",
    "\n",
    "total_cost = (apple_qty * apple_price) + (orange_qty * orange_price) + (mango_qty * mango_price)\n",
    "print (\"Your Total Cost is :\",total_cost)"
   ]
  },
  {
   "cell_type": "markdown",
   "metadata": {
    "id": "31fXlmEQqgvW"
   },
   "source": [
    "# Ex 5 : Greeting"
   ]
  },
  {
   "cell_type": "markdown",
   "metadata": {
    "id": "zvnmj8MGrJIw"
   },
   "source": [
    "Write a program to greet the customer who provides the user name. Your program should ask the name of the customer and print \"Hello + customer name\""
   ]
  },
  {
   "cell_type": "code",
   "execution_count": null,
   "metadata": {
    "id": "Z6ynxZMarIXh"
   },
   "outputs": [
    {
     "name": "stdout",
     "output_type": "stream",
     "text": [
      "Hello 1 !! Welcome to my Shop & Be Happy Shopping !!\n"
     ]
    }
   ],
   "source": [
    "cust_name = str (input (\"Please Enter Your Name \"))\n",
    "print (\"Hello \" + cust_name + \" !! Welcome to my Shop !!\")"
   ]
  },
  {
   "cell_type": "markdown",
   "metadata": {},
   "source": [
    "# Ex 6: Random Number\n",
    "Write a program that generates a random number, x, between 1 and 50, a random number y between 2 and 5, and computes x^y."
   ]
  },
  {
   "cell_type": "code",
   "execution_count": 7,
   "metadata": {},
   "outputs": [
    {
     "name": "stdout",
     "output_type": "stream",
     "text": [
      "A random number between 1 and 10:  34\n",
      "A random number between 2 and 5: 3\n",
      "The Exponentiation of first random number^second random number: 39304\n"
     ]
    }
   ],
   "source": [
    "from random import randint\n",
    "x = randint(1,50)\n",
    "print('A random number between 1 and 10: ', x)\n",
    "\n",
    "y = randint(2,5)\n",
    "print('A random number between 2 and 5:', y)\n",
    "\n",
    "xy = (x ** y)\n",
    "print('The Exponentiation of first random number^second random number:', xy)"
   ]
  },
  {
   "cell_type": "markdown",
   "metadata": {},
   "source": [
    "# Ex 7: Greet many times.\n",
    "Write a program that generates a random number between 1 and 10 and prints your name that many times."
   ]
  },
  {
   "cell_type": "code",
   "execution_count": 1,
   "metadata": {},
   "outputs": [
    {
     "name": "stdout",
     "output_type": "stream",
     "text": [
      "Hello, Wai Mar Lwin\n",
      "Hello, Wai Mar Lwin\n",
      "Hello, Wai Mar Lwin\n",
      "Hello, Wai Mar Lwin\n",
      "Hello, Wai Mar Lwin\n",
      "Hello, Wai Mar Lwin\n",
      "Hello, Wai Mar Lwin\n",
      "Hello, Wai Mar Lwin\n",
      "Hello, Wai Mar Lwin\n"
     ]
    }
   ],
   "source": [
    "from random import randint\n",
    "x = randint(1,10)\n",
    "\n",
    "for _ in range (x):\n",
    "    print (\"Hello, Wai Mar Lwin\")\n"
   ]
  },
  {
   "cell_type": "markdown",
   "metadata": {},
   "source": [
    "# Ex 8: Computing. \n",
    "Write a program that asks the user to enter two numbers, x and y, and computes |x-y|/(x+y)."
   ]
  },
  {
   "cell_type": "code",
   "execution_count": 12,
   "metadata": {},
   "outputs": [
    {
     "name": "stdout",
     "output_type": "stream",
     "text": [
      "The Value of x is : 30.0\n",
      "The Value of y is : 5.0\n",
      "The Result of the formula |x-y|/(x+y) is : 0.71\n"
     ]
    }
   ],
   "source": [
    "x = float( input (\"Please Enter the value of x\"))\n",
    "print(\"The Value of x is :\", round(x,2))\n",
    "\n",
    "y = float( input (\"Please Enter the value of y\"))\n",
    "print(\"The Value of y is :\", round(y,2))\n",
    "\n",
    "xy = (x-y) / (x+y)\n",
    "print(\"The Result of the formula |x-y|/(x+y) is :\", round(xy,2))"
   ]
  },
  {
   "cell_type": "markdown",
   "metadata": {},
   "source": [
    "# Ex 9: Computing\n",
    "\n",
    "Write a program that asks the user for a number of seconds and prints out how many minutes and seconds that is. For instance, 200 seconds is 3 minutes and 20 seconds."
   ]
  },
  {
   "cell_type": "code",
   "execution_count": 4,
   "metadata": {},
   "outputs": [
    {
     "name": "stdout",
     "output_type": "stream",
     "text": [
      "Invalid input. Please type a whole number of seconds.\n",
      "Invalid input. Please type a whole number of seconds.\n",
      "Invalid input. Please type a whole number of seconds.\n",
      "1212 seconds is equal to 20 minutes and 12 seconds.\n"
     ]
    }
   ],
   "source": [
    "while True:\n",
    "    try:\n",
    "        seconds = int(input(\"Please Enter the number of seconds\"))\n",
    "        if seconds <= 0 :\n",
    "            print(\"please enter the valid number of seconds\")\n",
    "            continue\n",
    "        break\n",
    "    except ValueError:\n",
    "            print(\"Invalid input. Please type a whole number of seconds.\")\n",
    "\n",
    "#Calculate minutes and seconds\n",
    "cal_minutes = seconds // 60\n",
    "cal_seconds = seconds % 60\n",
    "\n",
    "print( f\"{seconds} seconds is equal to {cal_minutes} minutes and {cal_seconds} seconds.\")"
   ]
  },
  {
   "cell_type": "markdown",
   "metadata": {},
   "source": [
    "# Ex 10: Using Math Module\n",
    "\n",
    "Write a program that asks the user for a number and then prints out the sine, cosine, and tangent of that number."
   ]
  },
  {
   "cell_type": "code",
   "execution_count": 2,
   "metadata": {},
   "outputs": [
    {
     "name": "stdout",
     "output_type": "stream",
     "text": [
      "-0.5365729180004349\n"
     ]
    }
   ],
   "source": [
    "import math\n",
    "num = float(input(\"Enter a number:\"))\n",
    "sine_value = math.sin(num)\n",
    "print(sine_value)\n"
   ]
  }
 ],
 "metadata": {
  "colab": {
   "collapsed_sections": [],
   "include_colab_link": true,
   "name": "Ex1_Python.ipynb",
   "provenance": []
  },
  "kernelspec": {
   "display_name": "myproject_kernel",
   "language": "python",
   "name": "myproject_kernel"
  },
  "language_info": {
   "codemirror_mode": {
    "name": "ipython",
    "version": 3
   },
   "file_extension": ".py",
   "mimetype": "text/x-python",
   "name": "python",
   "nbconvert_exporter": "python",
   "pygments_lexer": "ipython3",
   "version": "3.13.2"
  }
 },
 "nbformat": 4,
 "nbformat_minor": 4
}
