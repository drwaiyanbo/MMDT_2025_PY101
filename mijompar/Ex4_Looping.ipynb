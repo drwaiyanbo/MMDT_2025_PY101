{
  "cells": [
    {
      "cell_type": "markdown",
      "metadata": {
        "colab_type": "text",
        "id": "view-in-github"
      },
      "source": [
        "<a href=\"https://colab.research.google.com/github/Zhampar/MMDT_2025_PY101/blob/main/Ex4_Looping.ipynb\" target=\"_parent\"><img src=\"https://colab.research.google.com/assets/colab-badge.svg\" alt=\"Open In Colab\"/></a>"
      ]
    },
    {
      "cell_type": "markdown",
      "metadata": {
        "id": "YeTHwB3EASGn"
      },
      "source": [
        "The exercises are extracted from A_Practical_Introduction_to_Python_Programming_Heinold.pdf"
      ]
    },
    {
      "cell_type": "markdown",
      "metadata": {
        "id": "wVOW5QDgAZ_R"
      },
      "source": [
        "Ex 1: Write a program that uses a while loop (not a for loop) to read through a string and print\n",
        "the characters of the string one-by-one on separate lines."
      ]
    },
    {
      "cell_type": "code",
      "execution_count": null,
      "metadata": {
        "id": "77KGqP-sJJNh"
      },
      "outputs": [],
      "source": [
        " s = input(\"Enter a string: \")\n",
        "\n",
        "i = 0\n",
        "while i < len(s):\n",
        "    print(s[i])\n",
        "    i += 1\n"
      ]
    },
    {
      "cell_type": "markdown",
      "metadata": {
        "id": "5B-LyYV0AkCK"
      },
      "source": [
        "Ex 2: A good program will make sure that the data its users enter is valid. Write a program that\n",
        "asks the user for a weight and converts it from kilograms to pounds. Whenever the user\n",
        "enters a weight below 0, the program should tell them that their entry is invalid and then ask\n",
        "them again to enter a weight. [Hint: Use a while loop, not an if statement]."
      ]
    },
    {
      "cell_type": "code",
      "execution_count": null,
      "metadata": {
        "id": "gpRZnsXjArkF"
      },
      "outputs": [],
      "source": [
        "while True:\n",
        "    weight = float(input(\"Enter a weight in kilograms: \"))\n",
        "    if weight >= 0:\n",
        "        pounds = weight * 2.20462\n",
        "        print(f\"Weight in pounds: {pounds:.2f}\")\n",
        "        break\n",
        "    else:\n",
        "        print(\"Invalid entry. Please enter a non-negative weight.\")\n"
      ]
    },
    {
      "cell_type": "markdown",
      "metadata": {
        "id": "zQT0pCjRAsIK"
      },
      "source": [
        "Ex 3: Write a program that allows the user to enter any number of test scores. The user indicates\n",
        "they are done by entering in a negative number. Print how many of the scores are A’s (90 or\n",
        "above). Also print out the average"
      ]
    },
    {
      "cell_type": "code",
      "execution_count": null,
      "metadata": {
        "id": "Gya-rvYUAviK"
      },
      "outputs": [],
      "source": [
        "count = 0\n",
        "total = 0\n",
        "num_scores = 0\n",
        "num_As = 0\n",
        "\n",
        "while True:\n",
        "    score = float(input(\"Enter a test score (negative to stop): \"))\n",
        "    if score < 0:\n",
        "        break\n",
        "    total += score\n",
        "    num_scores += 1\n",
        "    if score >= 90:\n",
        "        num_As += 1\n",
        "\n",
        "if num_scores > 0:\n",
        "    average = total / num_scores\n",
        "    print(f\"Number of A's (90+): {num_As}\")\n",
        "    print(f\"Average score: {average:.2f}\")\n",
        "else:\n",
        "    print(\"No scores entered.\")\n"
      ]
    },
    {
      "cell_type": "markdown",
      "metadata": {
        "id": "IHIWc5jHAwxY"
      },
      "source": [
        "Ex 4: Write a program that asks the user for a string and a letter. Using a for loop, the\n",
        "program should print the index of the first occurrence of that letter and a message if the\n",
        "string does not contain the letter."
      ]
    },
    {
      "cell_type": "code",
      "execution_count": null,
      "metadata": {
        "id": "xSe0mtQ8A68M"
      },
      "outputs": [],
      "source": [
        "s = input(\"Enter a string: \")\n",
        "letter = input(\"Enter a letter to search for: \")\n",
        "\n",
        "found = False\n",
        "for i in range(len(s)):\n",
        "    if s[i] == letter:\n",
        "        print(f\"First occurrence of '{letter}' is at index {i}\")\n",
        "        found = True\n",
        "        break\n",
        "\n",
        "if not found:\n",
        "    print(f\"The letter '{letter}' is not in the string.\")\n"
      ]
    },
    {
      "cell_type": "markdown",
      "metadata": {
        "id": "PfyUq4CnA8vk"
      },
      "source": [
        "Ex 5: Write a program in which you have a list that contains seven integers that can be 0 or 1. Find the first zero entry in the list and change it to a 1. If there are no zero entries, print a message saying so."
      ]
    },
    {
      "cell_type": "code",
      "execution_count": null,
      "metadata": {
        "id": "KKTP8qiNaDXh"
      },
      "outputs": [],
      "source": [
        "lst = [1, 1, 0, 1, 0, 1, 1]\n",
        "\n",
        "found = False\n",
        "for i in range(len(lst)):\n",
        "    if lst[i] == 0:\n",
        "        lst[i] = 1\n",
        "        found = True\n",
        "        print(f\"First zero found at index {i}. List updated: {lst}\")\n",
        "        break\n",
        "\n",
        "if not found:\n",
        "    print(\"No zeros found in the list.\")\n"
      ]
    }
  ],
  "metadata": {
    "colab": {
      "include_colab_link": true,
      "name": "Ex4_Looping.ipynb",
      "provenance": []
    },
    "kernelspec": {
      "display_name": "deepL",
      "language": "python",
      "name": "python3"
    },
    "language_info": {
      "codemirror_mode": {
        "name": "ipython",
        "version": 3
      },
      "file_extension": ".py",
      "mimetype": "text/x-python",
      "name": "python",
      "nbconvert_exporter": "python",
      "pygments_lexer": "ipython3",
      "version": "3.11.5"
    }
  },
  "nbformat": 4,
  "nbformat_minor": 0
}
