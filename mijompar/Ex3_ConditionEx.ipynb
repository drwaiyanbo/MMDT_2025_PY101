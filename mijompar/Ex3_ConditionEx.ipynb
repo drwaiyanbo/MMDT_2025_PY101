{
  "nbformat": 4,
  "nbformat_minor": 0,
  "metadata": {
    "colab": {
      "name": "Ex3_ConditionEx.ipynb",
      "provenance": [],
      "include_colab_link": true
    },
    "kernelspec": {
      "name": "python3",
      "display_name": "Python 3"
    },
    "language_info": {
      "name": "python"
    }
  },
  "cells": [
    {
      "cell_type": "markdown",
      "metadata": {
        "id": "view-in-github",
        "colab_type": "text"
      },
      "source": [
        "<a href=\"https://colab.research.google.com/github/Zhampar/MMDT_2025_PY101/blob/mijompar/mijompar/Ex3_ConditionEx.ipynb\" target=\"_parent\"><img src=\"https://colab.research.google.com/assets/colab-badge.svg\" alt=\"Open In Colab\"/></a>"
      ]
    },
    {
      "cell_type": "markdown",
      "source": [
        "Write a program that asks the user to enter a length in centimeters. If the user enters a negative length, the program should tell the user that the entry is invalid. Otherwise, the program should convert the length to inches and print out the result. There are 2.54 centimeters in an inch.\n"
      ],
      "metadata": {
        "id": "r9njLbxcvG0w"
      }
    },
    {
      "cell_type": "code",
      "source": [
        "# Ask the user to enter a length in centimeters\n",
        "cm = float(input(\"Enter a length in centimeters: \"))\n",
        "\n",
        "# Check if the input is negative\n",
        "if cm < 0:\n",
        "    print(\"Invalid entry. Length cannot be negative.\")\n",
        "else:\n",
        "    # Convert centimeters to inches\n",
        "    inches = cm / 2.54\n",
        "    print(f\"{cm} centimeters is equal to {inches:.2f} inches.\")\n"
      ],
      "metadata": {
        "id": "76EFWr1AvMy4"
      },
      "execution_count": null,
      "outputs": []
    },
    {
      "cell_type": "markdown",
      "source": [
        "Ask the user to enter a temperature in Celsius. The program should print a message based on the temperature:\n",
        "\n",
        "*   If the temperature is less than -273.15, print that the temperature is invalid because it is below absolute zero.\n",
        "*   If it is exactly -273.15, print that the temperature is absolute 0.\n",
        "*   If the temperature is between -273.15 and 0, print that the temperature is below freezing.\n",
        "*   If it is 0, print that the temperature is at the freezing point.\n",
        "*   If it is between 0 and 100, print that the temperature is in the normal range.\n",
        "*   If it is 100, print that the temperature is at the boiling point.\n",
        "*   If it is above 100, print that the temperature is above the boiling point."
      ],
      "metadata": {
        "id": "zvaDTmuhvNWJ"
      }
    },
    {
      "cell_type": "code",
      "source": [
        "# Ask the user to enter a temperature in Celsius\n",
        "temp = float(input(\"Enter a temperature in Celsius: \"))\n",
        "\n",
        "# Check the temperature and print the appropriate message\n",
        "if temp < -273.15:\n",
        "    print(\"The temperature is invalid because it is below absolute zero.\")\n",
        "elif temp == -273.15:\n",
        "    print(\"The temperature is absolute 0.\")\n",
        "elif -273.15 < temp < 0:\n",
        "    print(\"The temperature is below freezing.\")\n",
        "elif temp == 0:\n",
        "    print(\"The temperature is at the freezing point.\")\n",
        "elif 0 < temp < 100:\n",
        "    print(\"The temperature is in the normal range.\")\n",
        "elif temp == 100:\n",
        "    print(\"The temperature is at the boiling point.\")\n",
        "else:  # temp > 100\n",
        "    print(\"The\n"
      ],
      "metadata": {
        "id": "UiCbUIcwvqxO"
      },
      "execution_count": null,
      "outputs": []
    },
    {
      "cell_type": "markdown",
      "source": [
        "Write a program that asks the user how many credits they have taken. If they have taken 23 or less, print that the student is a freshman. If they have taken between 24 and 53, print that they are a sophomore. The range for juniors is 54 to 83, and for seniors it is 84 and over."
      ],
      "metadata": {
        "id": "hoczytNLvrnd"
      }
    },
    {
      "cell_type": "code",
      "source": [
        "# Ask the user how many credits they have taken\n",
        "credits = int(input(\"Enter the number of credits you have taken: \"))\n",
        "\n",
        "# Determine the student's classification\n",
        "if credits <= 23:\n",
        "    print(\"You are a freshman.\")\n",
        "elif 24 <= credits <= 53:\n",
        "    print(\"You are a sophomore.\")\n",
        "elif 54 <= credits <= 83:\n",
        "    print(\"You are a junior.\")\n",
        "else:  # credits >= 84\n",
        "    print(\"You are a senior.\")\n"
      ],
      "metadata": {
        "id": "r8_O-_zLvurf"
      },
      "execution_count": null,
      "outputs": []
    }
  ]
}