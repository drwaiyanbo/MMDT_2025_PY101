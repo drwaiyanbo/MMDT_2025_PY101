{
  "cells": [
    {
      "cell_type": "markdown",
      "metadata": {
        "colab_type": "text",
        "id": "view-in-github"
      },
      "source": [
        "<a href=\"https://colab.research.google.com/github/Zhampar/MMDT_2025_PY101/blob/mijompar/Ex2_datatypes.ipynb\" target=\"_parent\"><img src=\"https://colab.research.google.com/assets/colab-badge.svg\" alt=\"Open In Colab\"/></a>"
      ]
    },
    {
      "cell_type": "markdown",
      "metadata": {
        "id": "X_Unw3z9u2-7"
      },
      "source": [
        "Ex 1 : Check the lenght of the string \"My name is python\""
      ]
    },
    {
      "cell_type": "code",
      "execution_count": 2,
      "metadata": {
        "id": "IlnM5eDdL6aZ"
      },
      "outputs": [],
      "source": [
        "s = \"My name is python\""
      ]
    },
    {
      "cell_type": "markdown",
      "metadata": {
        "id": "iKVHerniL6ac"
      },
      "source": [
        "Ex 2: Check the number of times \"python\" (regardless of cases: PYTHON, python, Python\" appears in the paragraph : \"Floating-point values in Python are always done in double precision; hence, Python float types correspond to doubles in a C-like language.\""
      ]
    },
    {
      "cell_type": "code",
      "execution_count": 3,
      "metadata": {
        "colab": {
          "base_uri": "https://localhost:8080/"
        },
        "id": "4hs7hbfJL6ad",
        "outputId": "c4ea7e84-48a3-41f6-bf09-2e8ebf21676f"
      },
      "outputs": [
        {
          "name": "stdout",
          "output_type": "stream",
          "text": [
            "Count of 'python': 2\n"
          ]
        }
      ],
      "source": [
        "# Ex 2: Count \"python\" (case-insensitive) in the paragraph\n",
        "s2 = \"Floating-point values in Python are always done in double precision; hence, Python float types correspond to doubles in a C-like language.\"\n",
        "print(\"Count of 'python':\", s2.lower().count(\"python\"))  # Output: 2\n"
      ]
    },
    {
      "cell_type": "markdown",
      "metadata": {
        "id": "26EC7t78L6af"
      },
      "source": [
        "Ex 3: Combine two lists : ls1 = [\"apple\", \"banana\", \"cherry\"] and ls2 = [\"apple\", \"banana\", \"cherry\", \"apple\", \"cherry\"]. Print the number of elements in new list."
      ]
    },
    {
      "cell_type": "code",
      "execution_count": 4,
      "metadata": {
        "colab": {
          "base_uri": "https://localhost:8080/"
        },
        "id": "TSv9F9b9L6ag",
        "outputId": "94880811-baa1-4e24-f83f-5aba7ee756f8"
      },
      "outputs": [
        {
          "name": "stdout",
          "output_type": "stream",
          "text": [
            "Combined List: ['apple', 'banana', 'cherry', 'apple', 'banana', 'cherry', 'apple', 'cherry']\n",
            "Number of elements: 8\n"
          ]
        }
      ],
      "source": [
        "# Ex 3: Combine two lists and print number of elements\n",
        "ls1 = [\"apple\", \"banana\", \"cherry\"]\n",
        "ls2 = [\"apple\", \"banana\", \"cherry\", \"apple\", \"cherry\"]\n",
        "combined_list = ls1 + ls2\n",
        "print(\"Combined List:\", combined_list)\n",
        "print(\"Number of elements:\", len(combined_list))  # Output: 8"
      ]
    },
    {
      "cell_type": "markdown",
      "metadata": {
        "id": "-8o32-HdL6ah"
      },
      "source": [
        "Ex 4: Create a dictionary for the following table:"
      ]
    },
    {
      "cell_type": "markdown",
      "metadata": {
        "id": "50R3jNRtL6ah"
      },
      "source": [
        "| Name | Age |\n",
        "| --- | --- |\n",
        "| Myo | 32 |\n",
        "| Thida | 64 |"
      ]
    },
    {
      "cell_type": "code",
      "execution_count": 5,
      "metadata": {
        "colab": {
          "base_uri": "https://localhost:8080/"
        },
        "id": "HwYEyJLGL6ai",
        "outputId": "803d8d1a-1016-46b0-a1c4-bafa7a5e4850"
      },
      "outputs": [
        {
          "name": "stdout",
          "output_type": "stream",
          "text": [
            "Dictionary: {'Myo': 32, 'Thida': 64}\n"
          ]
        }
      ],
      "source": [
        "# Ex 4: Create a dictionary\n",
        "people = {\"Myo\": 32, \"Thida\": 64}\n",
        "print(\"Dictionary:\", people)"
      ]
    },
    {
      "cell_type": "markdown",
      "metadata": {
        "id": "kxbmJcgVL6aj"
      },
      "source": [
        "Ex 5: Combine two sets and print the combined set and its length.\n",
        "set1 = {\"Name\", \"age\", \"Height\"}\n",
        "set2 = {\"Name\", \"status\", \"Education\"}"
      ]
    },
    {
      "cell_type": "code",
      "execution_count": 2,
      "metadata": {
        "colab": {
          "base_uri": "https://localhost:8080/"
        },
        "id": "9uWV5Z7KL6aj",
        "outputId": "ab672d77-875f-4b49-de4b-9c9982e8be50"
      },
      "outputs": [
        {
          "name": "stdout",
          "output_type": "stream",
          "text": [
            "Combined Set: {'age', 'Height', 'Name', 'Education', 'status'}\n",
            "Length of combined set: 5\n"
          ]
        }
      ],
      "source": [
        "# Ex 5: Combine two sets and print the combined set and its length\n",
        "set1 = {\"Name\", \"age\", \"Height\"}\n",
        "set2 = {\"Name\", \"status\", \"Education\"}\n",
        "combined_set = set1.union(set2)\n",
        "print(\"Combined Set:\", combined_set)\n",
        "print(\"Length of combined set:\", len(combined_set))  # Output: 6"
      ]
    },
    {
      "cell_type": "markdown",
      "metadata": {
        "id": "zBU0BAtkL6ak"
      },
      "source": [
        "Ex 6: Write a program that asks the user to enter a string. The program should create a new string called new_string from the user's string such that the second character is changed to an asterisk and three exclamation points are attached to the end of the string. Finally, print new_string."
      ]
    },
    {
      "cell_type": "code",
      "execution_count": null,
      "metadata": {
        "id": "t2MQhF6RL6ak"
      },
      "outputs": [],
      "source": [
        "# Ex 6: String Processing\n",
        "\n",
        "# Ask for user input\n",
        "user_string = input(\"Enter a string: \")\n",
        "\n",
        "# Check if the string has at least two characters\n",
        "if len(user_string) >= 2:\n",
        "    # Replace second character with '*', keep the rest, and add '!!!'\n",
        "    new_string = user_string[0] + '*' + user_string[2:] + '!!!'\n",
        "else:\n",
        "    # If less than 2 characters, just append '!!!'\n",
        "    new_string = user_string + '!!!'\n",
        "\n",
        "# Output the result\n",
        "print(\"New string:\", new_string)\n"
      ]
    },
    {
      "cell_type": "markdown",
      "metadata": {
        "id": "CfRZBu4VL6al"
      },
      "source": [
        "Ex 7: Write a program that converts the given string 's' to lowercase, removes all Punctuation marks such as period, hyphen, and commas from 's', and prints the resulting string."
      ]
    },
    {
      "cell_type": "code",
      "execution_count": null,
      "metadata": {
        "id": "8A8gZAayL6al"
      },
      "outputs": [],
      "source": [
        "# Ex 7: Convert to lowercase and remove punctuation\n",
        "import string\n",
        "s3 = \"Floating-point values in Python are always done in double precision; hence, Python float types correspond to doubles in a C-like language.\"\n",
        "s3_cleaned = s3.lower()\n",
        "for ch in \"-.,;\":\n",
        "    s3_cleaned = s3_cleaned.replace(ch, \"\")\n",
        "print(\"Cleaned String:\", s3_cleaned)"
      ]
    },
    {
      "cell_type": "markdown",
      "metadata": {
        "id": "wJEWVO3iL6am"
      },
      "source": [
        "Ex 8: L1 and L2 should be identical. Write a program that finds the missing number in L2."
      ]
    },
    {
      "cell_type": "code",
      "execution_count": null,
      "metadata": {
        "id": "Rm2lQc1zL6am"
      },
      "outputs": [],
      "source": [
        "# Ex 8: Find missing number in L2\n",
        "from random import randint\n",
        "L1 = list(range(1, 101))\n",
        "L2 = L1.copy()\n",
        "L2.remove(randint(1, 100))  # Simulate missing number\n",
        "missing = set(L1) - set(L2)\n",
        "print(\"Missing number:\", missing.pop())\n"
      ]
    },
    {
      "cell_type": "markdown",
      "metadata": {
        "id": "iYI-Kge0L6an"
      },
      "source": [
        "Ex 9: Write a program to copy the ls1 = [\"apple\", \"banana\", \"cherry\"] to a new list. Add the element \"blueberry\" to the new list, but keep the original list the same."
      ]
    },
    {
      "cell_type": "code",
      "execution_count": null,
      "metadata": {
        "id": "87_BsyX9L6ao"
      },
      "outputs": [],
      "source": [
        "# Ex 9: Copy list and modify the copy\n",
        "ls1 = [\"apple\", \"banana\", \"cherry\"]\n",
        "new_ls = ls1.copy()\n",
        "new_ls.append(\"blueberry\")\n",
        "print(\"Original List:\", ls1)\n",
        "print(\"New List:\", new_ls)"
      ]
    }
  ],
  "metadata": {
    "colab": {
      "include_colab_link": true,
      "name": "Ex_2_datatypes.ipynb",
      "provenance": []
    },
    "kernelspec": {
      "display_name": "base",
      "language": "python",
      "name": "python3"
    },
    "language_info": {
      "codemirror_mode": {
        "name": "ipython",
        "version": 3
      },
      "file_extension": ".py",
      "mimetype": "text/x-python",
      "name": "python",
      "nbconvert_exporter": "python",
      "pygments_lexer": "ipython3",
      "version": "3.12.7"
    }
  },
  "nbformat": 4,
  "nbformat_minor": 0
}
