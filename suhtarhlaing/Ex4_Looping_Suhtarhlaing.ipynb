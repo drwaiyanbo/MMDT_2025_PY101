{
  "cells": [
    {
      "cell_type": "markdown",
      "metadata": {
        "id": "view-in-github",
        "colab_type": "text"
      },
      "source": [
        "<a href=\"https://colab.research.google.com/github/suhturhlaing/MMDT_2025_PY101/blob/suhturhlaing/suhtarhlaing/Ex4_Looping_Suhtarhlaing.ipynb\" target=\"_parent\"><img src=\"https://colab.research.google.com/assets/colab-badge.svg\" alt=\"Open In Colab\"/></a>"
      ]
    },
    {
      "cell_type": "markdown",
      "metadata": {
        "id": "YeTHwB3EASGn"
      },
      "source": [
        "The exercises are extracted from A_Practical_Introduction_to_Python_Programming_Heinold.pdf"
      ]
    },
    {
      "cell_type": "markdown",
      "metadata": {
        "id": "wVOW5QDgAZ_R"
      },
      "source": [
        "Ex 1: Write a program that uses a while loop (not a for loop) to read through a string and print\n",
        "the characters of the string one-by-one on separate lines."
      ]
    },
    {
      "cell_type": "code",
      "execution_count": null,
      "metadata": {
        "id": "77KGqP-sJJNh",
        "colab": {
          "base_uri": "https://localhost:8080/"
        },
        "outputId": "a841a78c-7c2d-4379-e2df-9246933d65ed"
      },
      "outputs": [
        {
          "output_type": "stream",
          "name": "stdout",
          "text": [
            "Welcome to the class of M\n",
            "Welcome to the class of M\n",
            "Welcome to the class of D\n",
            "Welcome to the class of T\n",
            "Welcome to the class of  \n",
            "Welcome to the class of P\n",
            "Welcome to the class of y\n",
            "Welcome to the class of t\n",
            "Welcome to the class of h\n",
            "Welcome to the class of o\n",
            "Welcome to the class of n\n",
            "Welcome to the class of  \n",
            "Welcome to the class of C\n",
            "Welcome to the class of l\n",
            "Welcome to the class of a\n",
            "Welcome to the class of s\n",
            "Welcome to the class of s\n"
          ]
        }
      ],
      "source": [
        "string = \"MMDT Python Class\"\n",
        "index = 0\n",
        "while(index < len(string)):\n",
        "  print(\"Welcome to the class of {}\".format(string[index]))\n",
        "  index = index + 1\n",
        "\n",
        "  # I knew to run this scritp , but I forget how to use logic . I have already know how to loop with lenght."
      ]
    },
    {
      "cell_type": "markdown",
      "metadata": {
        "id": "5B-LyYV0AkCK"
      },
      "source": [
        "Ex 2: A good program will make sure that the data its users enter is valid. Write a program that\n",
        "asks the user for a weight and converts it from kilograms to pounds. Whenever the user\n",
        "enters a weight below 0, the program should tell them that their entry is invalid and then ask\n",
        "them again to enter a weight. [Hint: Use a while loop, not an if statement]."
      ]
    },
    {
      "cell_type": "code",
      "execution_count": 4,
      "metadata": {
        "id": "gpRZnsXjArkF",
        "colab": {
          "base_uri": "https://localhost:8080/"
        },
        "outputId": "3501de7b-7265-4c07-c11d-179556ccd28b"
      },
      "outputs": [
        {
          "output_type": "stream",
          "name": "stdout",
          "text": [
            "Enter your weight in kg: -45\n",
            "Invalid entry. Please enter again your weight not less than 0\n",
            "Please enter your weight in kg again: 45\n",
            "Your weight is 99.00 pounds.\n"
          ]
        }
      ],
      "source": [
        "weight = float(input(\"Enter your weight in kg: \"))\n",
        "while(weight < 0):\n",
        "  print(\"Invalid entry. Please enter again your weight not less than 0\")\n",
        "  weight = float(input(\"Please enter your weight in kg again: \"))\n",
        "\n",
        "\n",
        "result = weight * 2.2\n",
        "print(\"Your weight is {:.2f} pounds.\".format(result))\n",
        "\n",
        "\n",
        "#I understand and can write very well for this question\n"
      ]
    },
    {
      "cell_type": "markdown",
      "metadata": {
        "id": "zQT0pCjRAsIK"
      },
      "source": [
        "Ex 3: Write a program that allows the user to enter any number of test scores. The user indicates\n",
        "they are done by entering in a negative number. Print how many of the scores are A’s (90 or\n",
        "above). Also print out the average"
      ]
    },
    {
      "cell_type": "code",
      "execution_count": 6,
      "metadata": {
        "id": "Gya-rvYUAviK",
        "colab": {
          "base_uri": "https://localhost:8080/"
        },
        "outputId": "fe787db0-0ab3-41e1-c2a0-71c5cb7fdd6d"
      },
      "outputs": [
        {
          "output_type": "stream",
          "name": "stdout",
          "text": [
            "Enter a test score (negative number will done ): 90\n",
            "Enter another test score (negative number will done): 78\n",
            "Enter another test score (negative number will done): 90\n",
            "Enter another test score (negative number will done): 98\n",
            "Enter another test score (negative number will done): 98\n",
            "Enter another test score (negative number will done): 98\n",
            "Enter another test score (negative number will done): 98\n",
            "Enter another test score (negative number will done): 90\n",
            "Enter another test score (negative number will done): -20\n",
            "\n",
            "Number of A scores (90 or above): 7\n",
            "Average score: 92.50\n"
          ]
        }
      ],
      "source": [
        "\n",
        "# Start input loop\n",
        "score = float(input(\"Enter a test score (negative number will done ): \"))\n",
        "count = 0\n",
        "total = 0\n",
        "a_count = 0\n",
        "\n",
        "while score >= 0:\n",
        "    total = total + score\n",
        "    count = count + 1\n",
        "    if score >= 90:\n",
        "        a_count = a_count + 1\n",
        "    score = float(input(\"Enter another test score (negative number will done): \"))\n",
        "\n",
        "# After loop,\n",
        "if count > 0:\n",
        "    average = total / count\n",
        "    print(\"\\nNumber of A scores (90 or above):\", a_count)\n",
        "    print(\"Average score: {:.2f}\".format(average))\n",
        "else:\n",
        "    print(\"\\nNo valid scores were entered.\")\n",
        "\n",
        "    # Really, I admit to you, I can understan a little difficult the whole question. After using the AI, I understand well.\n"
      ]
    },
    {
      "cell_type": "markdown",
      "metadata": {
        "id": "IHIWc5jHAwxY"
      },
      "source": [
        "Ex 4: Write a program that asks the user for a string and a letter. Using a for loop, the\n",
        "program should print the index of the first occurrence of that letter and a message if the\n",
        "string does not contain the letter."
      ]
    },
    {
      "cell_type": "code",
      "execution_count": 8,
      "metadata": {
        "id": "xSe0mtQ8A68M",
        "colab": {
          "base_uri": "https://localhost:8080/"
        },
        "outputId": "e0c3711e-1495-4173-90ee-515fa66c07ab"
      },
      "outputs": [
        {
          "output_type": "stream",
          "name": "stdout",
          "text": [
            "Enter a string: SuHtar Hlaing\n",
            "Enter a letter : a\n",
            "The first occurrence of 'a' is at index 4.\n"
          ]
        }
      ],
      "source": [
        "string = input(\"Enter a string: \")\n",
        "letter = input(\"Enter a letter : \")\n",
        "\n",
        "\n",
        "# Flag to check if letter is found\n",
        "found = False\n",
        "\n",
        "# Use a for loop to search for the letter\n",
        "for index in range(len(string)):\n",
        "    if string[index] == letter:\n",
        "        print(\"The first occurrence of '{}' is at index {}.\".format(letter, index))\n",
        "        found = True\n",
        "        break\n",
        "\n",
        "# If not found, print a message\n",
        "if not found:\n",
        "    print(\"The letter '{}' is not in the string.\".format(letter))\n",
        "\n",
        "\n",
        "#I can't understand very well, as per AI explained I can understand a litte bit.\n",
        "\n"
      ]
    },
    {
      "cell_type": "markdown",
      "metadata": {
        "id": "PfyUq4CnA8vk"
      },
      "source": [
        "Ex 5: Write a program in which you have a list that contains seven integers that can be 0 or 1. Find the first zero entry in the list and change it to a 1. If there are no zero entries, print a message saying so."
      ]
    },
    {
      "cell_type": "code",
      "execution_count": 4,
      "metadata": {
        "id": "kTiu3kOMXHzJ",
        "colab": {
          "base_uri": "https://localhost:8080/"
        },
        "outputId": "0a353e13-578c-4dca-d304-964f1692afe3"
      },
      "outputs": [
        {
          "output_type": "stream",
          "name": "stdout",
          "text": [
            "First 0 found at index 1, changed to 1.\n",
            "Updated list: [1, 1, 1, 1, 1, 0, 1]\n"
          ]
        }
      ],
      "source": [
        "# List with seven integers (0s and 1s)\n",
        "lists = [1, 0, 1, 1, 1, 0, 1]\n",
        "\n",
        "# Flag to check if zero was found\n",
        "found = False\n",
        "\n",
        "# Loop through the list to find the first 0\n",
        "for i in range(len(lists)):\n",
        "    if lists[i] == 0:\n",
        "        lists[i] = 1\n",
        "        found = True\n",
        "        print(f\"First 0 found at index {i}, changed to 1.\")\n",
        "        break\n",
        "\n",
        "# If no 0 was found\n",
        "if not found:\n",
        "    print(\"No zeroentries found in the  list.\")\n",
        "\n",
        "# Print the updated list\n",
        "print(\"Updated list:\", lists)\n",
        "\n",
        "#I use AI for this questions, but I can't know foun = true or false why should I need to use found\n"
      ]
    }
  ],
  "metadata": {
    "colab": {
      "provenance": [],
      "include_colab_link": true
    },
    "kernelspec": {
      "display_name": "Python 3",
      "name": "python3"
    },
    "language_info": {
      "codemirror_mode": {
        "name": "ipython",
        "version": 3
      },
      "file_extension": ".py",
      "mimetype": "text/x-python",
      "name": "python",
      "nbconvert_exporter": "python",
      "pygments_lexer": "ipython3",
      "version": "3.12.1"
    }
  },
  "nbformat": 4,
  "nbformat_minor": 0
}