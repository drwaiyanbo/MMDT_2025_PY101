{
  "nbformat": 4,
  "nbformat_minor": 0,
  "metadata": {
    "colab": {
      "provenance": [],
      "include_colab_link": true
    },
    "kernelspec": {
      "name": "python3",
      "display_name": "Python 3"
    },
    "language_info": {
      "name": "python"
    }
  },
  "cells": [
    {
      "cell_type": "markdown",
      "metadata": {
        "id": "view-in-github",
        "colab_type": "text"
      },
      "source": [
        "<a href=\"https://colab.research.google.com/github/suhturhlaing/MMDT_2025_PY101/blob/suhturhlaing/suhtarhlaing/ex3_condition_suhtarhlaing.ipynb\" target=\"_parent\"><img src=\"https://colab.research.google.com/assets/colab-badge.svg\" alt=\"Open In Colab\"/></a>"
      ]
    },
    {
      "cell_type": "markdown",
      "source": [
        ":Write a program that asks the user to enter a length in centimeters. If the user enters a negative length, the program should tell the user that the entry is invalid. Otherwise, the program should convert the length to inches and print out the result. There are 2.54 centimeters in an inch.\n"
      ],
      "metadata": {
        "id": "r9njLbxcvG0w"
      }
    },
    {
      "cell_type": "code",
      "source": [
        "number = int(input(\"Enter a number 'a length in centimeters' : \"))\n",
        "print(number)\n",
        "\n",
        "if(number) < 0 :\n",
        "  print(\"Your entry number is invalid\")\n",
        "else:\n",
        "  inch = number / 2.54\n",
        "  print(f\"The length of inches are : {inch:.2f}\")\n"
      ],
      "metadata": {
        "id": "76EFWr1AvMy4",
        "colab": {
          "base_uri": "https://localhost:8080/"
        },
        "outputId": "37aa2d33-ebb5-4e33-e9ac-ba30bf8df833"
      },
      "execution_count": null,
      "outputs": [
        {
          "output_type": "stream",
          "name": "stdout",
          "text": [
            "Enter a number 'a length in centimeters' : 100\n",
            "100\n",
            "The length of inches are : 39.37\n"
          ]
        }
      ]
    },
    {
      "cell_type": "markdown",
      "source": [
        "Ask the user to enter a temperature in Celsius. The program should print a message based on the temperature:\n",
        "\n",
        "*   If the temperature is less than -273.15, print that the temperature is invalid because it is below absolute zero.\n",
        "*   If it is exactly -273.15, print that the temperature is absolute 0.\n",
        "*   If the temperature is between -273.15 and 0, print that the temperature is below freezing.\n",
        "*   If it is 0, print that the temperature is at the freezing point.\n",
        "*   If it is between 0 and 100, print that the temperature is in the normal range.\n",
        "*   If it is 100, print that the temperature is at the boiling point.\n",
        "*   If it is above 100, print that the temperature is above the boiling point."
      ],
      "metadata": {
        "id": "zvaDTmuhvNWJ"
      }
    },
    {
      "cell_type": "code",
      "source": [
        "temperature = float(input(\"Enter a number for temperature : \"))\n",
        "\n",
        "#start of conditions\n",
        "if (temperature < -273.15 ) :\n",
        "  print(\"the temperature is invalid because it is below absolute zero\")\n",
        "elif(temperature == -273.15):\n",
        "  print(\"the temperature is absolute 0\")\n",
        "elif(temperature > -273.15 and temperature < 0 ):\n",
        "  print(\"the temperature is below freezing\")\n",
        "elif(temperature == 0 ):\n",
        "  print(\"the temperature is at the freezing point\")\n",
        "elif(temperature > 0 and temperature < 100 ):\n",
        "  print(\"the temperature is in the normal range\")\n",
        "elif(temperature == 100):\n",
        "  print(\"the temperature is at the boiling point.\")\n",
        "else:\n",
        "    print(\"the temperature is above the boiling point.\")"
      ],
      "metadata": {
        "id": "UiCbUIcwvqxO",
        "colab": {
          "base_uri": "https://localhost:8080/"
        },
        "outputId": "d0bffa1c-2dc4-4524-f8c8-66d9e0fb7fd1"
      },
      "execution_count": null,
      "outputs": [
        {
          "output_type": "stream",
          "name": "stdout",
          "text": [
            "Enter a number for temperature : -273.15\n",
            "the temperature is absolute 0\n"
          ]
        }
      ]
    },
    {
      "cell_type": "markdown",
      "source": [
        "Write a program that asks the user how many credits they have taken. If they have taken 23 or less, print that the student is a freshman. If they have taken between 24 and 53, print that they are a sophomore. The range for juniors is 54 to 83, and for seniors it is 84 and over."
      ],
      "metadata": {
        "id": "hoczytNLvrnd"
      }
    },
    {
      "cell_type": "code",
      "source": [
        "credit = int(input(\"Enter a number for credit : \"))\n",
        "\n",
        "#condition\n",
        "\n",
        "if(credit == 23 or credit < 23 ):\n",
        "  print(\"the student is a freshman.\")\n",
        "elif credit >= 24 and credit <= 53:\n",
        "  print(\"they are a sophomore\")\n",
        "elif(credit >= 54 and credit <= 83 ):\n",
        "  print(\"they are a junior\")\n",
        "elif(credit >= 84 ):\n",
        "  print(\"they are a seniors\")"
      ],
      "metadata": {
        "colab": {
          "base_uri": "https://localhost:8080/"
        },
        "id": "m-bvdFU07r_M",
        "outputId": "cb70b158-15ba-4d59-a9e2-aa3daf4fcdc2"
      },
      "execution_count": null,
      "outputs": [
        {
          "output_type": "stream",
          "name": "stdout",
          "text": [
            "Enter a number for credit : 76\n",
            "they are a junior\n"
          ]
        }
      ]
    },
    {
      "cell_type": "code",
      "source": [],
      "metadata": {
        "id": "r8_O-_zLvurf"
      },
      "execution_count": null,
      "outputs": []
    }
  ]
}