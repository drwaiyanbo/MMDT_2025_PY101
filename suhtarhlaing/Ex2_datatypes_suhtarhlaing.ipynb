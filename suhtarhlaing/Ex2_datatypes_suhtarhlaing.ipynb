{
  "cells": [
    {
      "cell_type": "markdown",
      "metadata": {
        "id": "view-in-github",
        "colab_type": "text"
      },
      "source": [
        "<a href=\"https://colab.research.google.com/github/suhturhlaing/MMDT_2025_PY101/blob/suhturhlaing/Ex2_datatypes_suhtarhlaing.ipynb\" target=\"_parent\"><img src=\"https://colab.research.google.com/assets/colab-badge.svg\" alt=\"Open In Colab\"/></a>"
      ]
    },
    {
      "cell_type": "markdown",
      "metadata": {
        "id": "X_Unw3z9u2-7"
      },
      "source": [
        "Ex 1 : Check the lenght of the string \"My name is python\""
      ]
    },
    {
      "cell_type": "code",
      "execution_count": 9,
      "metadata": {
        "colab": {
          "base_uri": "https://localhost:8080/"
        },
        "id": "xKsdVJEam2MU",
        "outputId": "a147dba0-7632-438d-d762-1ff2726cd73b"
      },
      "outputs": [
        {
          "output_type": "stream",
          "name": "stdout",
          "text": [
            "the lenght of the string is 17\n"
          ]
        }
      ],
      "source": [
        "my_str = \"My name is python\"\n",
        "string_length = len(my_str)\n",
        "print(\"the lenght of the string is\", string_length)"
      ]
    },
    {
      "cell_type": "markdown",
      "metadata": {
        "id": "uO0LMTN_m2MU"
      },
      "source": [
        "Ex 2: Check the number of times \"python\" (regardless of cases: PYTHON, python, Python\" appears in the paragraph : \"Floating-point values in Python are always done in double precision; hence, Python float types correspond to doubles in a C-like language.\""
      ]
    },
    {
      "cell_type": "code",
      "execution_count": 17,
      "metadata": {
        "colab": {
          "base_uri": "https://localhost:8080/"
        },
        "id": "aL8iL9M7m2MV",
        "outputId": "92b36a79-bd06-4e1a-f6d9-a69b18a1522d"
      },
      "outputs": [
        {
          "output_type": "stream",
          "name": "stdout",
          "text": [
            "Given Paragraph :  floating-point values in python are always done in double precision; hence, python float types correspond to doubles in a c-like language.\n",
            "the number of times python are :  2\n"
          ]
        }
      ],
      "source": [
        "s = \"Floating-point values in Python are always done in double precision; hence, Python float types correspond to doubles in a C-like language.\"\n",
        "\n",
        "#to get the lowercase to find lowecase of python\n",
        "my_string = s.lower()\n",
        "print(\"Given Paragraph : \",my_string)\n",
        "\n",
        "#to get the count of \"Python\"\n",
        "number_of_count = my_string.count(\"python\")\n",
        "print(\"the number of times python are : \", number_of_count)"
      ]
    },
    {
      "cell_type": "markdown",
      "metadata": {
        "id": "zET5JxAnm2MW"
      },
      "source": [
        "Ex 3: Combine two lists : ls1 = [\"apple\", \"banana\", \"cherry\"] and ls2 = [\"apple\", \"banana\", \"cherry\", \"apple\", \"cherry\"]. Print the number of elements in new list."
      ]
    },
    {
      "cell_type": "code",
      "execution_count": 5,
      "metadata": {
        "colab": {
          "base_uri": "https://localhost:8080/"
        },
        "id": "prJlxyv9m2MW",
        "outputId": "57636d07-0780-4cec-eebb-d2d2b468a4df"
      },
      "outputs": [
        {
          "output_type": "stream",
          "name": "stdout",
          "text": [
            "['apple', 'banana', 'cherry', 'apple', 'banana', 'cherry', 'apple', 'cherry']\n",
            "the number of elements in new list :  8\n"
          ]
        }
      ],
      "source": [
        "ls1 = [\"apple\", \"banana\", \"cherry\"]\n",
        "ls2 = [\"apple\", \"banana\", \"cherry\", \"apple\", \"cherry\"]\n",
        "\n",
        "#to combile list 1 and list2\n",
        "new_list = ls1 + ls2\n",
        "print(new_list)\n",
        "\n",
        "#to get the number of list\n",
        "number_of_list = len(new_list)\n",
        "print('the number of elements in new list : ',number_of_list)"
      ]
    },
    {
      "cell_type": "markdown",
      "metadata": {
        "id": "AhTfOqIym2MX"
      },
      "source": [
        "Ex 4: Create a dictionary for the following table:"
      ]
    },
    {
      "cell_type": "markdown",
      "metadata": {
        "id": "tlYyiEIkm2MX"
      },
      "source": [
        "| Name | Age |\n",
        "| --- | --- |\n",
        "| Myo | 32 |\n",
        "| Thida | 64 |"
      ]
    },
    {
      "cell_type": "code",
      "execution_count": 20,
      "metadata": {
        "colab": {
          "base_uri": "https://localhost:8080/"
        },
        "id": "xcCmUccim2MY",
        "outputId": "379c2abd-2e46-47d0-cae5-79e01cd3d3d5"
      },
      "outputs": [
        {
          "output_type": "stream",
          "name": "stdout",
          "text": [
            "The dictionary are :  [{'Name': 'Myo', 'Age': 32}, {'Name': 'Thida', 'Age': 64}]\n"
          ]
        }
      ],
      "source": [
        "my_dict = [{ \"Name\": \"Myo\", \"Age\" : 32}, {\"Name\" : \"Thida\", \"Age\" : 64}]\n",
        "print(\"The dictionary are : \", my_dict)"
      ]
    },
    {
      "cell_type": "markdown",
      "metadata": {
        "id": "3EXs2iK5m2MY"
      },
      "source": [
        "Ex 5: Combine two sets and print the combined set and its length.\n",
        "set1 = {\"Name\", \"age\", \"Height\"}\n",
        "set2 = {\"Name\", \"status\", \"Education\"}"
      ]
    },
    {
      "cell_type": "code",
      "execution_count": 27,
      "metadata": {
        "colab": {
          "base_uri": "https://localhost:8080/"
        },
        "id": "VDMKl-YFm2MZ",
        "outputId": "757da7d9-1d33-4a9d-f065-a44b1f775c46"
      },
      "outputs": [
        {
          "output_type": "stream",
          "name": "stdout",
          "text": [
            "The combine Set : {'age', 'status', 'Education', 'Name', 'Height'}\n",
            "new set length : 5\n"
          ]
        }
      ],
      "source": [
        "set1 = {\"Name\", \"age\", \"Height\"}\n",
        "set2 = {\"Name\", \"status\", \"Education\"}\n",
        "#to get combine set\n",
        "new_set = set1.union(set2)\n",
        "print(\"The combine Set :\", new_set)\n",
        "\n",
        "#to get the length of new set\n",
        "new_set_len = len(new_set)\n",
        "print(\"new set length :\" ,new_set_len)"
      ]
    },
    {
      "cell_type": "markdown",
      "metadata": {
        "id": "tRhevzBom2MZ"
      },
      "source": [
        "Ex 6: Write a program that asks the user to enter a string. The program should create a new string called new_string from the user's string such that the second character is changed to an asterisk and three exclamation points are attached to the end of the string. Finally, print new_string."
      ]
    },
    {
      "cell_type": "code",
      "execution_count": 32,
      "metadata": {
        "colab": {
          "base_uri": "https://localhost:8080/"
        },
        "id": "xIAid-Mxm2Ma",
        "outputId": "3bcb394f-ee0b-4e6a-c6c8-cbf75946e477"
      },
      "outputs": [
        {
          "output_type": "stream",
          "name": "stdout",
          "text": [
            "Enter a string:welcome\n",
            "new_string :  w*lcome!!!\n"
          ]
        }
      ],
      "source": [
        "#for this question I used AI because I can't understand the question very well , so I took some of the reference\n",
        "user_input = input(\"Enter a string:\")\n",
        "\n",
        "#start of condition\n",
        "if(len(user_input) >= 2 ):\n",
        "  new_string = user_input[0] + '*' +user_input[2:]\n",
        "else:\n",
        "  new_string = user_input\n",
        "\n",
        "#to add three exclamation points\n",
        "new_string1 = new_string + \"!!!\"\n",
        "\n",
        "print(\"new_string : \" , new_string1)"
      ]
    },
    {
      "cell_type": "markdown",
      "metadata": {
        "id": "S04Djs1Sm2Ma"
      },
      "source": [
        "Ex 7: Write a program that converts the given string 's' to lowercase, removes all Punctuation marks such as period, hyphen, and commas from 's', and prints the resulting string."
      ]
    },
    {
      "cell_type": "code",
      "execution_count": 43,
      "metadata": {
        "colab": {
          "base_uri": "https://localhost:8080/"
        },
        "id": "OwQXmfdDm2Ma",
        "outputId": "a9351d2f-fd12-4409-a5af-60bc83889395"
      },
      "outputs": [
        {
          "output_type": "stream",
          "name": "stdout",
          "text": [
            "floating-point values in python are always done in double precision; hence, python float types correspond to doubles in a c-like language.\n",
            "floatingpoint values in python are always done in double precision hence python float types correspond to doubles in a clike language\n"
          ]
        }
      ],
      "source": [
        "import string\n",
        "s = \"Floating-point values in Python are always done in double precision; hence, Python float types correspond to doubles in a C-like language.\"\n",
        "\n",
        "#to get lowercase\n",
        "s_lower = s.lower()\n",
        "print(s_lower)\n",
        "\n",
        "\n",
        "#to remove Punctuation\n",
        "punctuation_remove = string.punctuation\n",
        "#print(s_remove)\n",
        "resulting_string = ''.join(char for char in s_lower if char not in punctuation_remove)  #I didn't know why this sentence must use?\n",
        "print(resulting_string)\n",
        "\n",
        "#Remark : I didn't know to import string and also , I didn't know how to remove punctuation , for that I use AI to get some of the advice\n"
      ]
    },
    {
      "cell_type": "markdown",
      "metadata": {
        "id": "vCZkxotqm2Ma"
      },
      "source": [
        "Ex 8: L1 and L2 should be identical. Write a program that finds the missing number in L2."
      ]
    },
    {
      "cell_type": "code",
      "execution_count": 49,
      "metadata": {
        "colab": {
          "base_uri": "https://localhost:8080/"
        },
        "id": "F10XKxhim2Ma",
        "outputId": "313757de-5a90-4e67-ce31-6aa2b80e81d1"
      },
      "outputs": [
        {
          "output_type": "stream",
          "name": "stdout",
          "text": [
            "[1, 2, 3, 4, 5, 6, 7, 8, 9, 10, 11, 12, 13, 14, 15, 16, 17, 18, 19, 20, 21, 22, 23, 24, 25, 26, 27, 28, 29, 30, 31, 32, 33, 34, 35, 36, 37, 38, 39, 40, 41, 42, 43, 44, 45, 46, 47, 48, 49, 50, 51, 52, 53, 54, 55, 56, 57, 58, 59, 60, 61, 62, 63, 64, 65, 66, 67, 68, 69, 70, 71, 72, 73, 74, 75, 76, 77, 78, 79, 80, 81, 82, 83, 84, 85, 86, 87, 88, 89, 90, 91, 92, 93, 94, 95, 96, 97, 98, 99, 100]\n",
            "[1, 2, 3, 4, 5, 6, 7, 8, 9, 10, 11, 12, 13, 14, 15, 16, 17, 18, 19, 20, 21, 22, 23, 24, 25, 26, 27, 28, 29, 30, 31, 32, 33, 34, 35, 36, 37, 38, 39, 40, 41, 42, 43, 44, 45, 46, 47, 48, 49, 50, 51, 52, 53, 54, 55, 56, 57, 58, 59, 60, 61, 62, 63, 64, 65, 66, 67, 68, 69, 70, 71, 72, 73, 74, 75, 76, 77, 78, 79, 80, 81, 82, 83, 84, 85, 86, 87, 88, 89, 90, 91, 92, 93, 94, 95, 96, 97, 98, 99, 100]\n",
            "missing_number: [77]\n"
          ]
        }
      ],
      "source": [
        "from random import randint\n",
        "L1 = list(range(1,101))\n",
        "print(L1)\n",
        "L2 = L1.copy()\n",
        "print(L2)\n",
        "L2.remove(randint(1,101))\n",
        "missing_number = list(set(L1) - set(L2))\n",
        "print(\"missing_number:\" , missing_number)\n",
        "\n",
        "\n",
        "#I used AI to know the missing number\n"
      ]
    },
    {
      "cell_type": "markdown",
      "metadata": {
        "id": "SR0eq81Mm2Mb"
      },
      "source": [
        "Ex 9: Write a program to copy the ls1 = [\"apple\", \"banana\", \"cherry\"] to a new list. Add the element \"blueberry\" to the new list, but keep the original list the same."
      ]
    },
    {
      "cell_type": "code",
      "execution_count": 56,
      "metadata": {
        "colab": {
          "base_uri": "https://localhost:8080/"
        },
        "id": "gqC88aoWm2Mb",
        "outputId": "72989d82-4ae4-4bee-f423-a29d0ca0aac5"
      },
      "outputs": [
        {
          "output_type": "stream",
          "name": "stdout",
          "text": [
            "original_list :  ['apple', 'banana', 'cherry']\n",
            "update_list :  ['apple', 'banana', 'cherry', 'blueberry']\n"
          ]
        }
      ],
      "source": [
        "ls1 = [\"apple\", \"banana\", \"cherry\"]\n",
        "new_list = ls1.copy()\n",
        "new_list.append(\"blueberry\")\n",
        "print(\"original_list : \" , ls1)\n",
        "print(\"update_list : \", new_list)"
      ]
    }
  ],
  "metadata": {
    "colab": {
      "provenance": [],
      "include_colab_link": true
    },
    "kernelspec": {
      "display_name": "Python 3",
      "language": "python",
      "name": "python3"
    },
    "language_info": {
      "codemirror_mode": {
        "name": "ipython",
        "version": 3
      },
      "file_extension": ".py",
      "mimetype": "text/x-python",
      "name": "python",
      "nbconvert_exporter": "python",
      "pygments_lexer": "ipython3",
      "version": "3.12.1"
    }
  },
  "nbformat": 4,
  "nbformat_minor": 0
}