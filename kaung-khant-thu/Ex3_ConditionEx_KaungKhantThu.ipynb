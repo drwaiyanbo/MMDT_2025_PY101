{
  "nbformat": 4,
  "nbformat_minor": 0,
  "metadata": {
    "colab": {
      "name": "Ex3_ConditionEx.ipynb",
      "provenance": [],
      "include_colab_link": true
    },
    "kernelspec": {
      "name": "python3",
      "display_name": "Python 3"
    },
    "language_info": {
      "name": "python"
    }
  },
  "cells": [
    {
      "cell_type": "markdown",
      "metadata": {
        "id": "view-in-github",
        "colab_type": "text"
      },
      "source": [
        "<a href=\"https://colab.research.google.com/github/NathanOlsen2KT/MMDT_2025_PY101/blob/Kaung-Khant-Thu/kaung-khant-thu/Ex3_ConditionEx_KaungKhantThu.ipynb\" target=\"_parent\"><img src=\"https://colab.research.google.com/assets/colab-badge.svg\" alt=\"Open In Colab\"/></a>"
      ]
    },
    {
      "cell_type": "markdown",
      "source": [
        "Write a program that asks the user to enter a length in centimeters. If the user enters a negative length, the program should tell the user that the entry is invalid. Otherwise, the program should convert the length to inches and print out the result. There are 2.54 centimeters in an inch.\n"
      ],
      "metadata": {
        "id": "r9njLbxcvG0w"
      }
    },
    {
      "cell_type": "code",
      "source": [
        "length_cm = input (\"Enter the lenth in centimeters: \")\n",
        "length_cm = float (length_cm)\n",
        "lenght_in = length_cm/2.54\n",
        "if (length_cm < 0):\n",
        "  print (\"The entry is invalid. Please enter positive length.\")\n",
        "else:\n",
        "  print (\"The length in inches: \",lenght_in)"
      ],
      "metadata": {
        "id": "76EFWr1AvMy4",
        "colab": {
          "base_uri": "https://localhost:8080/"
        },
        "outputId": "6f7d7f17-fd6a-4617-bc98-27610a599993"
      },
      "execution_count": 2,
      "outputs": [
        {
          "output_type": "stream",
          "name": "stdout",
          "text": [
            "Enter the lenth in centimeters: 20\n",
            "The length in inches:  7.874015748031496\n"
          ]
        }
      ]
    },
    {
      "cell_type": "markdown",
      "source": [
        "Ask the user to enter a temperature in Celsius. The program should print a message based on the temperature:\n",
        "\n",
        "*   If the temperature is less than -273.15, print that the temperature is invalid because it is below absolute zero.\n",
        "*   If it is exactly -273.15, print that the temperature is absolute 0.\n",
        "*   If the temperature is between -273.15 and 0, print that the temperature is below freezing.\n",
        "*   If it is 0, print that the temperature is at the freezing point.\n",
        "*   If it is between 0 and 100, print that the temperature is in the normal range.\n",
        "*   If it is 100, print that the temperature is at the boiling point.\n",
        "*   If it is above 100, print that the temperature is above the boiling point."
      ],
      "metadata": {
        "id": "zvaDTmuhvNWJ"
      }
    },
    {
      "cell_type": "code",
      "source": [
        "temp1 = input (\"Enter the temperature in Celsius: \")\n",
        "temp1 = float (temp1)\n",
        "if (temp1 < -273.15):\n",
        "  print (\"The temperature is invalid because it is below absolute zero.\")\n",
        "elif (temp1 == -273.15):\n",
        "  print (\"The temperature is absolute 0.\")\n",
        "elif (temp1 > -273.15 and temp1 < 0):\n",
        "  print (\"The temperature is below freezing.\")\n",
        "elif (temp1 == 0):\n",
        "  print (\"The temperature is at the freezing point.\")\n",
        "elif (temp1 > 0 and temp1 < 100):\n",
        "  print (\"The temperature is in the normal range.\")\n",
        "elif (temp1 == 100):\n",
        "  print (\"The temperature is at the boiling point.\")\n",
        "else:\n",
        "  print (\"The temperature is above the boiliing point.\")"
      ],
      "metadata": {
        "id": "UiCbUIcwvqxO",
        "colab": {
          "base_uri": "https://localhost:8080/"
        },
        "outputId": "f98d57c2-7d5e-465f-e4d4-596735abd405"
      },
      "execution_count": 27,
      "outputs": [
        {
          "output_type": "stream",
          "name": "stdout",
          "text": [
            "Enter the temperature in Celsius: 101.567\n",
            "The temperature is above the boiliing point.\n"
          ]
        }
      ]
    },
    {
      "cell_type": "markdown",
      "source": [
        "Write a program that asks the user how many credits they have taken. If they have taken 23 or less, print that the student is a freshman. If they have taken between 24 and 53, print that they are a sophomore. The range for juniors is 54 to 83, and for seniors it is 84 and over."
      ],
      "metadata": {
        "id": "hoczytNLvrnd"
      }
    },
    {
      "cell_type": "code",
      "source": [
        "credit_score = input (\"How many credits have you taken? \")\n",
        "credit_score = int (credit_score)\n",
        "if (credit_score < 0):\n",
        "  print (\"The entry is invalid.\")\n",
        "elif (credit_score >= 84):\n",
        "  print (\"You are a senior.\")\n",
        "elif (credit_score >= 54):\n",
        "  print (\"You are a junior\")\n",
        "elif (credit_score >= 24):\n",
        "  print (\"You are a sophomore\")\n",
        "else:\n",
        "  print (\"You are a freshman\")"
      ],
      "metadata": {
        "id": "r8_O-_zLvurf",
        "colab": {
          "base_uri": "https://localhost:8080/"
        },
        "outputId": "ae0dd695-5678-47e0-f8a8-617063b2b05c"
      },
      "execution_count": 15,
      "outputs": [
        {
          "output_type": "stream",
          "name": "stdout",
          "text": [
            "How many credits have you taken? 100\n",
            "You are a senior.\n"
          ]
        }
      ]
    }
  ]
}