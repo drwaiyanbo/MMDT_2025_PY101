{
  "cells": [
    {
      "cell_type": "markdown",
      "metadata": {
        "id": "view-in-github",
        "colab_type": "text"
      },
      "source": [
        "<a href=\"https://colab.research.google.com/github/hnincherrywin/MMDT_2025_PY101/blob/hnincherrywin/hnincherrywin_Ex4_Looping.ipynb\" target=\"_parent\"><img src=\"https://colab.research.google.com/assets/colab-badge.svg\" alt=\"Open In Colab\"/></a>"
      ]
    },
    {
      "cell_type": "markdown",
      "metadata": {
        "id": "YeTHwB3EASGn"
      },
      "source": [
        "The exercises are extracted from A_Practical_Introduction_to_Python_Programming_Heinold.pdf"
      ]
    },
    {
      "cell_type": "markdown",
      "metadata": {
        "id": "wVOW5QDgAZ_R"
      },
      "source": [
        "Ex 1: Write a program that uses a while loop (not a for loop) to read through a string and print\n",
        "the characters of the string one-by-one on separate lines."
      ]
    },
    {
      "cell_type": "code",
      "execution_count": 2,
      "metadata": {
        "id": "77KGqP-sJJNh",
        "colab": {
          "base_uri": "https://localhost:8080/"
        },
        "outputId": "94133a9e-1f3b-41a0-81aa-f159d99392a4"
      },
      "outputs": [
        {
          "output_type": "stream",
          "name": "stdout",
          "text": [
            "H\n",
            "e\n",
            "l\n",
            "l\n",
            "o\n",
            ",\n",
            " \n",
            "M\n",
            "y\n",
            "a\n",
            "n\n",
            "m\n",
            "a\n",
            "r\n",
            "!\n"
          ]
        }
      ],
      "source": [
        " text = \"Hello, Myanmar!\"\n",
        "index = 0\n",
        "\n",
        "while index < len(text):\n",
        "    print(text[index])\n",
        "    index += 1"
      ]
    },
    {
      "cell_type": "markdown",
      "metadata": {
        "id": "5B-LyYV0AkCK"
      },
      "source": [
        "Ex 2: A good program will make sure that the data its users enter is valid. Write a program that\n",
        "asks the user for a weight and converts it from kilograms to pounds. Whenever the user\n",
        "enters a weight below 0, the program should tell them that their entry is invalid and then ask\n",
        "them again to enter a weight. [Hint: Use a while loop, not an if statement]."
      ]
    },
    {
      "cell_type": "code",
      "execution_count": 8,
      "metadata": {
        "id": "gpRZnsXjArkF",
        "colab": {
          "base_uri": "https://localhost:8080/"
        },
        "outputId": "86baf113-34a7-48cf-c947-73bf07901a98"
      },
      "outputs": [
        {
          "output_type": "stream",
          "name": "stdout",
          "text": [
            "Enter a weight in kilograms: 67\n",
            "Weight in pounds is: 147.70953999999998\n"
          ]
        }
      ],
      "source": [
        "weight = float(input(\"Enter a weight in kilograms: \"))\n",
        "while weight < 0:\n",
        "    print(\"Invalid entry. Weight cannot be negative.\")\n",
        "    weight = float(input(\"Please enter a weight in kilograms again: \"))\n",
        "pounds = weight * 2.20462\n",
        "\n",
        "print(\"Weight in pounds is:\", pounds)"
      ]
    },
    {
      "cell_type": "markdown",
      "metadata": {
        "id": "zQT0pCjRAsIK"
      },
      "source": [
        "Ex 3: Write a program that allows the user to enter any number of test scores. The user indicates\n",
        "they are done by entering in a negative number. Print how many of the scores are A’s (90 or\n",
        "above). Also print out the average"
      ]
    },
    {
      "cell_type": "code",
      "execution_count": 9,
      "metadata": {
        "id": "Gya-rvYUAviK",
        "colab": {
          "base_uri": "https://localhost:8080/"
        },
        "outputId": "f80d4b69-9f86-428e-bf76-db0ad6e7534a"
      },
      "outputs": [
        {
          "output_type": "stream",
          "name": "stdout",
          "text": [
            "Enter a test score (negative number to stop): 76\n",
            "Enter another test score (negative number to stop): 55\n",
            "Enter another test score (negative number to stop): 90\n",
            "Enter another test score (negative number to stop): -7\n",
            "Number of A scores (90 or more): 1\n",
            "Average score: 73.66666666666667\n"
          ]
        }
      ],
      "source": [
        "total_scores = 0\n",
        "sum_scores = 0\n",
        "count_As = 0\n",
        "\n",
        "score = float(input(\"Enter a test score (negative number to stop): \"))\n",
        "\n",
        "while score >= 0:\n",
        "    total_scores = total_scores + 1\n",
        "    sum_scores = sum_scores + score\n",
        "    if score >= 90:\n",
        "        count_As = count_As + 1\n",
        "    score = float(input(\"Enter another test score (negative number to stop): \"))\n",
        "if total_scores > 0:\n",
        "    average = sum_scores / total_scores\n",
        "    print(\"Number of A scores (90 or more):\", count_As)\n",
        "    print(\"Average score:\", average)\n",
        "else:\n",
        "    print(\"No scores were entered.\")\n"
      ]
    },
    {
      "cell_type": "markdown",
      "metadata": {
        "id": "IHIWc5jHAwxY"
      },
      "source": [
        "Ex 4: Write a program that asks the user for a string and a letter. Using a for loop, the\n",
        "program should print the index of the first occurrence of that letter and a message if the\n",
        "string does not contain the letter."
      ]
    },
    {
      "cell_type": "code",
      "execution_count": 12,
      "metadata": {
        "id": "xSe0mtQ8A68M",
        "colab": {
          "base_uri": "https://localhost:8080/"
        },
        "outputId": "11e2ca19-185a-4156-bbae-d55045bc4f4c"
      },
      "outputs": [
        {
          "output_type": "stream",
          "name": "stdout",
          "text": [
            "Enter a string: I love Taylor Swift \n",
            "Enter a letter: T\n",
            "First occurrence of T is at index 7\n"
          ]
        }
      ],
      "source": [
        "text = input(\"Enter a string: \")\n",
        "letter = input(\"Enter a letter: \")\n",
        "found = False\n",
        "\n",
        "for index in range(len(text)):\n",
        "    if text[index] == letter:\n",
        "        print(\"First occurrence of\", letter, \"is at index\", index)\n",
        "        found = True\n",
        "        break\n",
        "if not found:\n",
        "    print(\"The letter\", letter, \"is not in the string.\")\n"
      ]
    },
    {
      "cell_type": "markdown",
      "metadata": {
        "id": "PfyUq4CnA8vk"
      },
      "source": [
        "Ex 5: Write a program in which you have a list that contains seven integers that can be 0 or 1. Find the first zero entry in the list and change it to a 1. If there are no zero entries, print a message saying so."
      ]
    },
    {
      "cell_type": "code",
      "execution_count": 27,
      "metadata": {
        "colab": {
          "base_uri": "https://localhost:8080/"
        },
        "id": "veOpEAIHv1qp",
        "outputId": "ca3ea530-c7a6-4331-ef4a-47498f402dcd"
      },
      "outputs": [
        {
          "output_type": "stream",
          "name": "stdout",
          "text": [
            "Updated list: [1, 1, 1, 1, 0, 1, 1]\n"
          ]
        }
      ],
      "source": [
        "num_list = [1, 1, 0, 1, 0, 1, 1]\n",
        "found_zero = False\n",
        "\n",
        "for i in range(len(num_list)):\n",
        "    if num_list[i] == 0:\n",
        "        num_list[i] = 1\n",
        "        found_zero = True\n",
        "        break\n",
        "if found_zero:\n",
        "    print(\"Updated list:\", num_list)\n",
        "else:\n",
        "    print(\"No zero found in the list.\")\n"
      ]
    }
  ],
  "metadata": {
    "colab": {
      "name": "Ex4_Looping.ipynb",
      "provenance": [],
      "include_colab_link": true
    },
    "kernelspec": {
      "display_name": "Python 3",
      "name": "python3"
    },
    "language_info": {
      "codemirror_mode": {
        "name": "ipython",
        "version": 3
      },
      "file_extension": ".py",
      "mimetype": "text/x-python",
      "name": "python",
      "nbconvert_exporter": "python",
      "pygments_lexer": "ipython3",
      "version": "3.12.1"
    }
  },
  "nbformat": 4,
  "nbformat_minor": 0
}
