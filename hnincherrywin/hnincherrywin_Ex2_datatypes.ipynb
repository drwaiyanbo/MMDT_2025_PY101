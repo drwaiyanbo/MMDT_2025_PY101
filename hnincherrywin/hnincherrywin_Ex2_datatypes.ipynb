{
  "cells": [
    {
      "cell_type": "markdown",
      "metadata": {
        "id": "view-in-github",
        "colab_type": "text"
      },
      "source": [
        "<a href=\"https://colab.research.google.com/github/hnincherrywin/MMDT_2025_PY101/blob/hnincherrywin/hnincherrywin_Ex2_datatypes.ipynb\" target=\"_parent\"><img src=\"https://colab.research.google.com/assets/colab-badge.svg\" alt=\"Open In Colab\"/></a>"
      ]
    },
    {
      "cell_type": "markdown",
      "metadata": {
        "id": "X_Unw3z9u2-7"
      },
      "source": [
        "Ex 1 : Check the lenght of the string \"My name is python\""
      ]
    },
    {
      "cell_type": "code",
      "execution_count": 14,
      "metadata": {
        "id": "F1izXf_2S6VR",
        "outputId": "d14becca-dc1d-455a-9c5d-c3ee5c3b7aee",
        "colab": {
          "base_uri": "https://localhost:8080/"
        }
      },
      "outputs": [
        {
          "output_type": "execute_result",
          "data": {
            "text/plain": [
              "17"
            ]
          },
          "metadata": {},
          "execution_count": 14
        }
      ],
      "source": [
        "len(\"My name is python\")"
      ]
    },
    {
      "cell_type": "markdown",
      "metadata": {
        "id": "SPPThmfLS6VS"
      },
      "source": [
        "Ex 2: Check the number of times \"python\" (regardless of cases: PYTHON, python, Python\" appears in the paragraph : \"Floating-point values in Python are always done in double precision; hence, Python float types correspond to doubles in a C-like language.\""
      ]
    },
    {
      "cell_type": "code",
      "execution_count": 15,
      "metadata": {
        "id": "-FkyUAHbS6VT",
        "outputId": "257e2c17-26e1-40f3-e88d-3e3a9998dd40",
        "colab": {
          "base_uri": "https://localhost:8080/"
        }
      },
      "outputs": [
        {
          "output_type": "execute_result",
          "data": {
            "text/plain": [
              "2"
            ]
          },
          "metadata": {},
          "execution_count": 15
        }
      ],
      "source": [
        "s = \"Floating-point values in Python are always done in double precision; hence, Python float types correspond to doubles in a C-like language.\"\n",
        "s.count(\"Python\")"
      ]
    },
    {
      "cell_type": "markdown",
      "metadata": {
        "id": "xUvWH6hSS6VV"
      },
      "source": [
        "Ex 3: Combine two lists : ls1 = [\"apple\", \"banana\", \"cherry\"] and ls2 = [\"apple\", \"banana\", \"cherry\", \"apple\", \"cherry\"]. Print the number of elements in new list."
      ]
    },
    {
      "cell_type": "code",
      "execution_count": 16,
      "metadata": {
        "id": "XpyRgWE8S6VV",
        "outputId": "5de8e7bc-d2a7-43d0-f011-7cb063e3c8d4",
        "colab": {
          "base_uri": "https://localhost:8080/"
        }
      },
      "outputs": [
        {
          "output_type": "stream",
          "name": "stdout",
          "text": [
            "['apple', 'banana', 'cherry', 'apple', 'banana', 'cherry', 'apple', 'cherry']\n"
          ]
        }
      ],
      "source": [
        "ls1= [\"apple\",\"banana\",\"cherry\"]\n",
        "ls2=[\"apple\",\"banana\",\"cherry\",\"apple\",\"cherry\"]\n",
        "new_list= ls1+ls2\n",
        "print(new_list)"
      ]
    },
    {
      "cell_type": "markdown",
      "metadata": {
        "id": "b7-lx4W0S6VW"
      },
      "source": [
        "Ex 4: Create a dictionary for the following table:"
      ]
    },
    {
      "cell_type": "markdown",
      "metadata": {
        "id": "f2bahKb2S6VW"
      },
      "source": [
        "| Name | Age |\n",
        "| --- | --- |\n",
        "| Myo | 32 |\n",
        "| Thida | 64 |"
      ]
    },
    {
      "cell_type": "code",
      "execution_count": 20,
      "metadata": {
        "id": "8gXrenoYS6VX",
        "outputId": "3bbb1220-212c-4923-c705-1791af4a2dd7",
        "colab": {
          "base_uri": "https://localhost:8080/"
        }
      },
      "outputs": [
        {
          "output_type": "stream",
          "name": "stdout",
          "text": [
            "{'Name': ['Myo', 'Thida'], 'Age': [32, 64]}\n"
          ]
        }
      ],
      "source": [
        "info_dict = {\"Name\": [\"Myo\", \"Thida\"], \"Age\": [32, 64]}\n",
        "print(info_dict)"
      ]
    },
    {
      "cell_type": "markdown",
      "metadata": {
        "id": "L7q2VxR7S6VY"
      },
      "source": [
        "Ex 5: Combine two sets and print the combined set and its length.\n",
        "set1 = {\"Name\", \"age\", \"Height\"}\n",
        "set2 = {\"Name\", \"status\", \"Education\"}"
      ]
    },
    {
      "cell_type": "code",
      "execution_count": 22,
      "metadata": {
        "id": "jEnVxHsoS6VZ",
        "outputId": "06bb7b2f-cc98-445d-dcff-a107ab064ff9",
        "colab": {
          "base_uri": "https://localhost:8080/"
        }
      },
      "outputs": [
        {
          "output_type": "stream",
          "name": "stdout",
          "text": [
            "{'Education', 'Height', 'age', 'status', 'Name'}\n",
            "5\n"
          ]
        }
      ],
      "source": [
        "set1 ={\"Name\",\"age\",\"Height\"}\n",
        "set2 ={\"Name\",\"status\",\"Education\"}\n",
        "new_set= set1.union(set2)\n",
        "print(new_set)\n",
        "print(len(new_set))"
      ]
    },
    {
      "cell_type": "markdown",
      "metadata": {
        "id": "0Xn3SHC8S6VZ"
      },
      "source": [
        "Ex 6: Write a program that asks the user to enter a string. The program should create a new string called new_string from the user's string such that the second character is changed to an asterisk and three exclamation points are attached to the end of the string. Finally, print new_string."
      ]
    },
    {
      "cell_type": "code",
      "execution_count": 23,
      "metadata": {
        "id": "nnQTYmdVS6VZ",
        "outputId": "025510d9-7d35-4421-8831-84e0d66bdc9a",
        "colab": {
          "base_uri": "https://localhost:8080/"
        }
      },
      "outputs": [
        {
          "output_type": "stream",
          "name": "stdout",
          "text": [
            "Enter a string: Yellow\n",
            "Y*llow!!!\n"
          ]
        }
      ],
      "source": [
        "user_string = input(\"Enter a string: \")\n",
        "new_string = user_string.replace(user_string[1], '*')\n",
        "new_string = new_string + \"!!!\"\n",
        "print(new_string)"
      ]
    },
    {
      "cell_type": "markdown",
      "metadata": {
        "id": "TMStqYrDS6Va"
      },
      "source": [
        "Ex 7: Write a program that converts the given string 's' to lowercase, removes all Punctuation marks such as period, hyphen, and commas from 's', and prints the resulting string."
      ]
    },
    {
      "cell_type": "code",
      "execution_count": 24,
      "metadata": {
        "id": "VWr38MP6S6Va",
        "outputId": "dd261dcd-2355-4a22-e0f0-ac4d7c3d5a2f",
        "colab": {
          "base_uri": "https://localhost:8080/"
        }
      },
      "outputs": [
        {
          "output_type": "stream",
          "name": "stdout",
          "text": [
            "floatingpoint values in python are always done in double precision hence python float types correspond to doubles in a clike language\n"
          ]
        }
      ],
      "source": [
        "s = \"Floating-point values in Python are always done in double precision; hence, Python float types correspond to doubles in a C-like language.\"\n",
        "new_string = s.lower().replace(\",\",\"\").replace(\";\",\"\").replace(\".\",\"\").replace(\"-\",\"\").replace(\":\",\"\")\n",
        "print(new_string)\n"
      ]
    },
    {
      "cell_type": "markdown",
      "metadata": {
        "id": "Z8O39fbfS6Vb"
      },
      "source": [
        "Ex 8: L1 and L2 should be identical. Write a program that finds the missing number in L2."
      ]
    },
    {
      "cell_type": "code",
      "execution_count": 25,
      "metadata": {
        "id": "cc3VpLRvS6Vb",
        "outputId": "76968dcc-43ec-4e1f-ab42-75d68cc9c110",
        "colab": {
          "base_uri": "https://localhost:8080/"
        }
      },
      "outputs": [
        {
          "output_type": "stream",
          "name": "stdout",
          "text": [
            "{5}\n"
          ]
        }
      ],
      "source": [
        "from random import randint\n",
        "L1 = list(range(1,101))\n",
        "L2 = L1.copy()\n",
        "L2.remove(randint(1,101))\n",
        "print(set(L1).difference(set(L2)))\n"
      ]
    },
    {
      "cell_type": "markdown",
      "metadata": {
        "id": "pqg0hPwVS6Vb"
      },
      "source": [
        "Ex 9: Write a program to copy the ls1 = [\"apple\", \"banana\", \"cherry\"] to a new list. Add the element \"blueberry\" to the new list, but keep the original list the same."
      ]
    },
    {
      "cell_type": "code",
      "execution_count": 26,
      "metadata": {
        "id": "3pJ1I5aZS6Vc",
        "outputId": "17acac33-b17a-46d2-fbba-0ce413c73534",
        "colab": {
          "base_uri": "https://localhost:8080/"
        }
      },
      "outputs": [
        {
          "output_type": "stream",
          "name": "stdout",
          "text": [
            "Original list: ['apple', 'banana', 'cherry']\n",
            "New list: ['apple', 'banana', 'cherry', 'blueberry']\n"
          ]
        }
      ],
      "source": [
        "ls1 = [\"apple\", \"banana\", \"cherry\"]\n",
        "ls2 =  ls1.copy()\n",
        "ls2.append(\"blueberry\")\n",
        "print('Original list:', ls1)\n",
        "print('New list:', ls2)"
      ]
    }
  ],
  "metadata": {
    "colab": {
      "name": "Ex_2_datatypes.ipynb",
      "provenance": [],
      "include_colab_link": true
    },
    "kernelspec": {
      "display_name": "Python 3",
      "language": "python",
      "name": "python3"
    },
    "language_info": {
      "codemirror_mode": {
        "name": "ipython",
        "version": 3
      },
      "file_extension": ".py",
      "mimetype": "text/x-python",
      "name": "python",
      "nbconvert_exporter": "python",
      "pygments_lexer": "ipython3",
      "version": "3.12.1"
    }
  },
  "nbformat": 4,
  "nbformat_minor": 0
}