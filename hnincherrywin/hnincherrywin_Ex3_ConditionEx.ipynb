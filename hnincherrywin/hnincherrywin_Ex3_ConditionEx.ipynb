{
  "nbformat": 4,
  "nbformat_minor": 0,
  "metadata": {
    "colab": {
      "name": "Ex3_ConditionEx.ipynb",
      "provenance": [],
      "include_colab_link": true
    },
    "kernelspec": {
      "name": "python3",
      "display_name": "Python 3"
    },
    "language_info": {
      "name": "python"
    }
  },
  "cells": [
    {
      "cell_type": "markdown",
      "metadata": {
        "id": "view-in-github",
        "colab_type": "text"
      },
      "source": [
        "<a href=\"https://colab.research.google.com/github/hnincherrywin/MMDT_2025_PY101/blob/hnincherrywin/hnincherrywin_Ex3_ConditionEx.ipynb\" target=\"_parent\"><img src=\"https://colab.research.google.com/assets/colab-badge.svg\" alt=\"Open In Colab\"/></a>"
      ]
    },
    {
      "cell_type": "markdown",
      "source": [
        "Write a program that asks the user to enter a length in centimeters. If the user enters a negative length, the program should tell the user that the entry is invalid. Otherwise, the program should convert the length to inches and print out the result. There are 2.54 centimeters in an inch.\n"
      ],
      "metadata": {
        "id": "r9njLbxcvG0w"
      }
    },
    {
      "cell_type": "code",
      "source": [
        "cm = float(input(\"Enter length in cm: \"))\n",
        "if cm < 0:\n",
        "    print(\"Invalid entry\")\n",
        "else:\n",
        "    print(\"Inches:\", cm / 2.54)"
      ],
      "metadata": {
        "id": "76EFWr1AvMy4",
        "colab": {
          "base_uri": "https://localhost:8080/"
        },
        "outputId": "34c85447-5ab1-49cb-d7f2-d03fd98f0c2c"
      },
      "execution_count": 31,
      "outputs": [
        {
          "output_type": "stream",
          "name": "stdout",
          "text": [
            "Enter length in cm: -9\n",
            "Invalid entry\n"
          ]
        }
      ]
    },
    {
      "cell_type": "markdown",
      "source": [
        "Ask the user to enter a temperature in Celsius. The program should print a message based on the temperature:\n",
        "\n",
        "*   If the temperature is less than -273.15, print that the temperature is invalid because it is below absolute zero.\n",
        "*   If it is exactly -273.15, print that the temperature is absolute 0.\n",
        "*   If the temperature is between -273.15 and 0, print that the temperature is below freezing.\n",
        "*   If it is 0, print that the temperature is at the freezing point.\n",
        "*   If it is between 0 and 100, print that the temperature is in the normal range.\n",
        "*   If it is 100, print that the temperature is at the boiling point.\n",
        "*   If it is above 100, print that the temperature is above the boiling point."
      ],
      "metadata": {
        "id": "zvaDTmuhvNWJ"
      }
    },
    {
      "cell_type": "code",
      "source": [
        "temp = float(input(\"Enter temperature in Celsius: \"))\n",
        "\n",
        "if (temp < -273.15):\n",
        "    print(\"Invalid: Temperature is below absolute zero.\")\n",
        "elif (temp == -273.15):\n",
        "    print(\"Temperature is absolute zero.\")\n",
        "elif (temp < 0):\n",
        "    print(\"Temperature is below freezing.\")\n",
        "elif (temp == 0):\n",
        "    print(\"Temperature is at the freezing point.\")\n",
        "elif (temp < 100):\n",
        "    print(\"Temperature is in the normal range.\")\n",
        "elif (temp == 100):\n",
        "    print(\"Temperature is at the boiling point.\")\n",
        "else:\n",
        "    print(\"Temperature is above the boiling point.\")"
      ],
      "metadata": {
        "id": "UiCbUIcwvqxO",
        "colab": {
          "base_uri": "https://localhost:8080/"
        },
        "outputId": "af8784b7-6d0f-4ac7-ca13-5d5e615a6a5f"
      },
      "execution_count": 29,
      "outputs": [
        {
          "output_type": "stream",
          "name": "stdout",
          "text": [
            "Enter temperature in Celsius: -534\n",
            "Invalid: Temperature is below absolute zero.\n"
          ]
        }
      ]
    },
    {
      "cell_type": "markdown",
      "source": [
        "Write a program that asks the user how many credits they have taken. If they have taken 23 or less, print that the student is a freshman. If they have taken between 24 and 53, print that they are a sophomore. The range for juniors is 54 to 83, and for seniors it is 84 and over."
      ],
      "metadata": {
        "id": "hoczytNLvrnd"
      }
    },
    {
      "cell_type": "code",
      "source": [
        "credits = int(input(\"Enter the credits u taken:\"))\n",
        "if(credits<=23):\n",
        "  print(\"The student is a freshman.\")\n",
        "elif(credits>=24 and credits<=53):\n",
        "  print(\"The student is a sophomore.\")\n",
        "elif(credits>=54 and credits<=83):\n",
        "  print(\"The student is a junior.\")\n",
        "else:\n",
        "  print(\"The student is a senior.\")"
      ],
      "metadata": {
        "id": "r8_O-_zLvurf",
        "colab": {
          "base_uri": "https://localhost:8080/"
        },
        "outputId": "84e0f75a-cc02-484e-fa8e-102a7c6de251"
      },
      "execution_count": 26,
      "outputs": [
        {
          "output_type": "stream",
          "name": "stdout",
          "text": [
            "Enter the credits u taken:88\n",
            "The student is a senior.\n"
          ]
        }
      ]
    }
  ]
}
