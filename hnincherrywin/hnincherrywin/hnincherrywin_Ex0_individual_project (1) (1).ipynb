{
 "cells": [
  {
   "cell_type": "markdown",
   "metadata": {},
   "source": [
    "1) Write a Python program in the below cell to create a dictionary that count the frequency of words in the string given in Q1.txt. Find the most frequent occured word.\n",
    "\n",
    "Don't remove the comment lines provided. "
   ]
  },
  {
   "cell_type": "code",
   "execution_count": null,
   "metadata": {},
   "outputs": [],
   "source": [
    "#step 1: read content from Q1.txt \n",
    "with open('./data/Q1.txt', 'r') as file1:\n",
    "    word_string = file1.read()\n",
    "    \n",
    "#step 2.1 - change the case to upper or lower\n",
    "word_string = word_string.lower()     \n",
    "#step 2.2 - remove pun : use replace\n",
    "for char in '.,!?;:\\'\"()[]{}':\n",
    "    word_string = word_string.replace(char, '')\n",
    "\n",
    "#step 2.3 - split using space\n",
    "words = word_string.split()\n",
    "\n",
    "\n",
    "#Step 3: create a dictionary \n",
    "word_count = {}\n",
    "for word in words:\n",
    "    if word in word_count:\n",
    "        word_count[word] += 1\n",
    "    else:\n",
    "        word_count[word] = 1\n",
    "\n",
    "\n",
    "#Step 4: find the most frequent occured one\n",
    "most_common = max(word_count, key=word_count.get)\n",
    "print(f\"Most frequent word: '{most_common}' ({word_count[most_common]} times)\")\n",
    "\n",
    "\n",
    "\n",
    "\n",
    "    "
   ]
  },
  {
   "cell_type": "markdown",
   "metadata": {},
   "source": [
    "2) Write a Python program to read the name from Q2.txt and create email using domain 'simons-rock.edu' and save the results as dictionary : {'name': 'name@simons-rock.edu'}.\n",
    "Please take note that your email should not include space or any special characters and all charcters should be in lowercase."
   ]
  },
  {
   "cell_type": "code",
   "execution_count": null,
   "metadata": {},
   "outputs": [],
   "source": [
    "#step 1: read Q2. txt into the list\n",
    "with open ('./data/Q2.txt', 'r') as names:\n",
    "    header = names.readline()\n",
    "    namelist = names.readlines()\n",
    "    \n",
    "#step 2: create email for each name in the list and save them in the dictionary\n",
    "email_dict = {}\n",
    "# You need to do the necessary data cleaning \n",
    "for name in namelist:\n",
    "    clean_name = \"\"\n",
    "    for char in name:\n",
    "        if char.isalnum():\n",
    "            clean_name += char.lower()\n",
    "    email = clean_name + '@simons-rock.edu'                \n",
    "    email_dict[clean_name] = email                          \n",
    "# For example, removing the space and special characters if there is any, converting them to lower case\n",
    "\n",
    "    "
   ]
  },
  {
   "cell_type": "markdown",
   "metadata": {},
   "source": [
    "3) Write a Python program for \"Guessing Game: Guess the Number Challenge\"\n",
    "\n",
    "Step 1: Use a random function to generate a number.\n",
    "\n",
    "##### Game starts.......\n",
    "\n",
    "Step 2: Prompt the user to guess an integer number. Provide a range if needed to give the user context for their guess.\n",
    "\n",
    "Step 3: Check the condition of the guessed number compared to the generated number and provide feedback accordingly. For example, if the guess is too high or too low, inform the user.\n",
    "\n",
    "Step 4.1: If the guess is incorrect, allow the user to guess again. Repeat this process for a maximum of 10 guesses.\n",
    "\n",
    "Step 4.2: If the user guesses the number correctly, inform them that they have won. Also, indicate how many guesses were needed before guessing correctly.\n",
    "\n",
    "Step 4.3: If the user exhausts all 10 guesses without guessing the correct number, say \"goodbye.\"\n",
    "\n",
    "##### Game ends ... \n",
    "\n",
    "Step 5: Regardless of winning or losing, ask the user if they want to play again. This ensures the program's continuity and gives the user the option to continue playing if they wish."
   ]
  },
  {
   "cell_type": "code",
   "execution_count": null,
   "metadata": {},
   "outputs": [],
   "source": [
    "\n",
    "import random\n",
    "\n",
    "def play_game():\n",
    "    number_to_guess = random.randint(1, 100)\n",
    "    max_attempts = 10\n",
    "    attempt = 0\n",
    "\n",
    "    print(\"Game starts.......\")\n",
    "    print(\"I'm thinking of a number between 1 and 100. Can you guess what it is?\")\n",
    "\n",
    "    while attempt < max_attempts:\n",
    "        try:\n",
    "            guess = int(input(f\"Attempt {attempt + 1}: Enter your guess: \"))\n",
    "        except ValueError:\n",
    "            print(\"Please enter a valid integer.\")\n",
    "            continue\n",
    "\n",
    "        attempt += 1\n",
    "\n",
    "        if guess < number_to_guess:\n",
    "            print(\"Too low! Try again.\")\n",
    "        elif guess > number_to_guess:\n",
    "            print(\"Too high! Try again.\")\n",
    "        else:\n",
    "            print(f\"Congratulations! You guessed the number in {attempt} tries.\")\n",
    "            break\n",
    "    else:\n",
    "        print(f\"Goodbye. The number was {number_to_guess}.\")\n",
    "\n",
    "def main():\n",
    "    while True:\n",
    "        play_game()\n",
    "        play_again = input(\"Do you want to play again? (yes/no): \").strip().lower()\n",
    "        if play_again != 'yes':\n",
    "            print(\"Thanks for playing! Game ends...\")\n",
    "            break\n",
    "\n",
    "if __name__ == \"__main__\":\n",
    "    main()\n",
    "\n",
    "\n",
    "\n"
   ]
  }
 ],
 "metadata": {
  "kernelspec": {
   "display_name": "Python 3",
   "language": "python",
   "name": "python3"
  },
  "language_info": {
   "codemirror_mode": {
    "name": "ipython",
    "version": 3
   },
   "file_extension": ".py",
   "mimetype": "text/x-python",
   "name": "python",
   "nbconvert_exporter": "python",
   "pygments_lexer": "ipython3",
   "version": "3.12.1"
  }
 },
 "nbformat": 4,
 "nbformat_minor": 2
}
