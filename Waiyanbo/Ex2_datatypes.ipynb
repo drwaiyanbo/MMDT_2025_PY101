{
  "cells": [
    {
      "cell_type": "markdown",
      "metadata": {
        "id": "view-in-github",
        "colab_type": "text"
      },
      "source": [
        "<a href=\"https://colab.research.google.com/github/drwaiyanbo/MMDT_2025_PY101/blob/Wai-Yan-Bo/Waiyanbo/Ex2_datatypes.ipynb\" target=\"_parent\"><img src=\"https://colab.research.google.com/assets/colab-badge.svg\" alt=\"Open In Colab\"/></a>"
      ]
    },
    {
      "cell_type": "markdown",
      "metadata": {
        "id": "X_Unw3z9u2-7"
      },
      "source": [
        "Ex 1 : Check the lenght of the string \"My name is python\""
      ]
    },
    {
      "cell_type": "code",
      "execution_count": 34,
      "metadata": {
        "id": "4usQfUFi1b8M",
        "outputId": "18e849f8-3177-4265-8c9b-ae88c0ae1867",
        "colab": {
          "base_uri": "https://localhost:8080/"
        }
      },
      "outputs": [
        {
          "output_type": "stream",
          "name": "stdout",
          "text": [
            "17\n"
          ]
        }
      ],
      "source": [
        "# check the length of the string\n",
        "Str = \"My name is python\"\n",
        "print(len(Str))\n",
        "\n"
      ]
    },
    {
      "cell_type": "markdown",
      "metadata": {
        "id": "korcrehM1b8N"
      },
      "source": [
        "Ex 2: Check the number of times \"python\" (regardless of cases: PYTHON, python, Python\" appears in the paragraph : \"Floating-point values in Python are always done in double precision; hence, Python float types correspond to doubles in a C-like language.\""
      ]
    },
    {
      "cell_type": "code",
      "execution_count": 33,
      "metadata": {
        "id": "8p8yPxvB1b8O",
        "outputId": "80b0fabf-b99e-46c0-d6a4-b127d55a08c4",
        "colab": {
          "base_uri": "https://localhost:8080/"
        }
      },
      "outputs": [
        {
          "output_type": "stream",
          "name": "stdout",
          "text": [
            "The number of word Python in paragraph is 2\n"
          ]
        }
      ],
      "source": [
        "\n",
        "# check the number of times \"python\" in string\n",
        "Str = \"Floating-point values in Python are always done in double precision; hence, Python float types correspond to doubles in a C-like language.\"\n",
        "\n",
        "par = Str.lower().count(\"python\")\n",
        "print(\"The number of word \"\"Python\"\" in paragraph is {}\".format(par))"
      ]
    },
    {
      "cell_type": "markdown",
      "metadata": {
        "id": "MBtfcuns1b8P"
      },
      "source": [
        "Ex 3: Combine two lists : ls1 = [\"apple\", \"banana\", \"cherry\"] and ls2 = [\"apple\", \"banana\", \"cherry\", \"apple\", \"cherry\"]. Print the number of elements in new list."
      ]
    },
    {
      "cell_type": "code",
      "execution_count": 32,
      "metadata": {
        "id": "1r6tBDTV1b8Q",
        "outputId": "3edd60c7-9b7b-4e35-9e3a-8ef94f41815b",
        "colab": {
          "base_uri": "https://localhost:8080/"
        }
      },
      "outputs": [
        {
          "output_type": "stream",
          "name": "stdout",
          "text": [
            "The number of elements in combinations of two lists is 8\n"
          ]
        }
      ],
      "source": [
        "# creating the list first\n",
        "ls1 = [\"apple\", \"banana\", \"cherry\"]\n",
        "ls2 = [\"apple\", \"banana\", \"cherry\", \"apple\", \"cherry\"]\n",
        "new_ls = ls1+ls2\n",
        "print(\"The number of elements in combinations of two lists is\", len(new_ls))"
      ]
    },
    {
      "cell_type": "markdown",
      "metadata": {
        "id": "dTRHjAHC1b8Q"
      },
      "source": [
        "Ex 4: Create a dictionary for the following table:"
      ]
    },
    {
      "cell_type": "markdown",
      "metadata": {
        "id": "ceEJ-QdM1b8R"
      },
      "source": [
        "| Name | Age |\n",
        "| --- | --- |\n",
        "| Myo | 32 |\n",
        "| Thida | 64 |"
      ]
    },
    {
      "cell_type": "code",
      "execution_count": null,
      "metadata": {
        "id": "aS21MK3v1b8S"
      },
      "outputs": [],
      "source": [
        "# creating dictionary\n",
        "my_dict = {'Name': [\"Myo\", \"Thida\"], 'Age': [32, 64]}\n",
        "print(my_dict)"
      ]
    },
    {
      "cell_type": "markdown",
      "metadata": {
        "id": "TiULZpbB1b8T"
      },
      "source": [
        "Ex 5: Combine two sets and print the combined set and its length.\n",
        "set1 = {\"Name\", \"age\", \"Height\"}\n",
        "set2 = {\"Name\", \"status\", \"Education\"}"
      ]
    },
    {
      "cell_type": "code",
      "execution_count": 31,
      "metadata": {
        "id": "VhsVNfWl1b8U",
        "outputId": "cf7d3259-da9a-433c-abb5-256123781181",
        "colab": {
          "base_uri": "https://localhost:8080/"
        }
      },
      "outputs": [
        {
          "output_type": "stream",
          "name": "stdout",
          "text": [
            "{'Height', 'age', 'Name', 'Education', 'status'} The number of elements in new set is 5\n"
          ]
        }
      ],
      "source": [
        "\n",
        "# creating sets first\n",
        "set1 = {\"Name\", \"age\", \"Height\"}\n",
        "set2 = {\"Name\", \"status\", \"Education\"}\n",
        "new_set = set1.union(set2)\n",
        "print(new_set, \"The number of elements in new set is {}\".format(len(new_set)))"
      ]
    },
    {
      "cell_type": "markdown",
      "metadata": {
        "id": "x04aNxvL1b8U"
      },
      "source": [
        "Ex 6: Write a program that asks the user to enter a string. The program should create a new string called new_string from the user's string such that the second character is changed to an asterisk and three exclamation points are attached to the end of the string. Finally, print new_string."
      ]
    },
    {
      "cell_type": "code",
      "execution_count": 36,
      "metadata": {
        "id": "QaFpCEM71b8U",
        "outputId": "42ff53bc-bcce-4e5c-cfee-0c36747a1f1b",
        "colab": {
          "base_uri": "https://localhost:8080/"
        }
      },
      "outputs": [
        {
          "output_type": "stream",
          "name": "stdout",
          "text": [
            "Enter a string: This is test string\n",
            "T*is is test string!!!\n"
          ]
        }
      ],
      "source": [
        "# ask user to enter a string\n",
        "user_string = input(\"Enter a string: \")\n",
        "new_string = user_string[0] + \"*\" + user_string[2:] + \"!!!\"\n",
        "print(new_string)"
      ]
    },
    {
      "cell_type": "markdown",
      "metadata": {
        "id": "fQEIQiQz1b8V"
      },
      "source": [
        "Ex 7: Write a program that converts the given string 's' to lowercase, removes all Punctuation marks such as period, hyphen, and commas from 's', and prints the resulting string."
      ]
    },
    {
      "cell_type": "code",
      "execution_count": 40,
      "metadata": {
        "id": "RbwXGhyl1b8V",
        "outputId": "5d1004f8-9a01-418a-e680-964ca0179b6d",
        "colab": {
          "base_uri": "https://localhost:8080/"
        }
      },
      "outputs": [
        {
          "output_type": "stream",
          "name": "stdout",
          "text": [
            "floatingpoint values in python are always done in double precision hence python float types correspond to doubles in a clike language\n"
          ]
        }
      ],
      "source": [
        "# convert the given string 's' to lower case\n",
        "s = \"Floating-point values in Python are always done in double precision; hence, Python float types correspond to doubles in a C-like language.\"\n",
        "s = s.lower().replace(\"-\",\"\").replace(\".\",\"\").replace(\",\",\"\").replace(\";\",\"\").replace(\":\",\"\")\n",
        "print(s)\n",
        "# remove all punctuation marks\n",
        "\n"
      ]
    },
    {
      "cell_type": "markdown",
      "metadata": {
        "id": "pAw7WIZm1b8W"
      },
      "source": [
        "Ex 8: L1 and L2 should be identical. Write a program that finds the missing number in L2."
      ]
    },
    {
      "cell_type": "code",
      "execution_count": 42,
      "metadata": {
        "id": "3vY-xQXZ1b8W",
        "outputId": "9d39300a-3e4e-4436-ef75-100c5e161e7a",
        "colab": {
          "base_uri": "https://localhost:8080/"
        }
      },
      "outputs": [
        {
          "output_type": "stream",
          "name": "stdout",
          "text": [
            "{51}\n"
          ]
        }
      ],
      "source": [
        "from random import randint\n",
        "L1 = list(range(1,101))\n",
        "L2 = L1.copy()\n",
        "L2.remove(randint(1,101))\n",
        "print(set(L1).difference(set(L2)))\n"
      ]
    },
    {
      "cell_type": "markdown",
      "metadata": {
        "id": "TynRGXjK1b8X"
      },
      "source": [
        "Ex 9: Write a program to copy the ls1 = [\"apple\", \"banana\", \"cherry\"] to a new list. Add the element \"blueberry\" to the new list, but keep the original list the same."
      ]
    },
    {
      "cell_type": "code",
      "execution_count": 41,
      "metadata": {
        "id": "f7nClv4O1b8X",
        "outputId": "3ec59487-8bd4-4e07-93b8-01c84ef1d200",
        "colab": {
          "base_uri": "https://localhost:8080/"
        }
      },
      "outputs": [
        {
          "output_type": "stream",
          "name": "stdout",
          "text": [
            "original: ['apple', 'banana', 'cherry']\n",
            "new list: ['apple', 'banana', 'cherry', 'blueberry']\n"
          ]
        }
      ],
      "source": [
        "ls1 = [\"apple\", \"banana\", \"cherry\"]\n",
        "ls2 =  ls1.copy()\n",
        "ls2.append(\"blueberry\")\n",
        "print('original:', ls1)\n",
        "print('new list:', ls2)"
      ]
    }
  ],
  "metadata": {
    "colab": {
      "name": "Ex_2_datatypes.ipynb",
      "provenance": [],
      "include_colab_link": true
    },
    "kernelspec": {
      "display_name": "Python 3",
      "language": "python",
      "name": "python3"
    },
    "language_info": {
      "codemirror_mode": {
        "name": "ipython",
        "version": 3
      },
      "file_extension": ".py",
      "mimetype": "text/x-python",
      "name": "python",
      "nbconvert_exporter": "python",
      "pygments_lexer": "ipython3",
      "version": "3.12.1"
    }
  },
  "nbformat": 4,
  "nbformat_minor": 0
}