{
  "nbformat": 4,
  "nbformat_minor": 0,
  "metadata": {
    "colab": {
      "name": "Ex3_ConditionEx.ipynb",
      "provenance": [],
      "include_colab_link": true
    },
    "kernelspec": {
      "name": "python3",
      "display_name": "Python 3"
    },
    "language_info": {
      "name": "python"
    }
  },
  "cells": [
    {
      "cell_type": "markdown",
      "metadata": {
        "id": "view-in-github",
        "colab_type": "text"
      },
      "source": [
        "<a href=\"https://colab.research.google.com/github/drwaiyanbo/MMDT_2025_PY101/blob/Wai-Yan-Bo/Waiyanbo/Waiyanbo_Ex3_ConditionEx.ipynb\" target=\"_parent\"><img src=\"https://colab.research.google.com/assets/colab-badge.svg\" alt=\"Open In Colab\"/></a>"
      ]
    },
    {
      "cell_type": "markdown",
      "source": [
        "Write a program that asks the user to enter a length in centimeters. If the user enters a negative length, the program should tell the user that the entry is invalid. Otherwise, the program should convert the length to inches and print out the result. There are 2.54 centimeters in an inch.\n"
      ],
      "metadata": {
        "id": "r9njLbxcvG0w"
      }
    },
    {
      "cell_type": "code",
      "source": [
        "# asks the user to enter a length in centimeter, start defining a variable\n",
        "length = input(\"Enter a length in centimeters: \")\n",
        "length = float(length)\n",
        "\n",
        "# start framing the condition\n",
        "if (length < 0):\n",
        "  print(\"The Entry is Invalid!\")\n",
        "else:\n",
        "  leng_inch = length / 2.54\n",
        "  print(\"The length in inches is: \", leng_inch)\n"
      ],
      "metadata": {
        "id": "76EFWr1AvMy4",
        "outputId": "095095e7-2ed5-489f-9cd1-64e55ea71dcd",
        "colab": {
          "base_uri": "https://localhost:8080/"
        }
      },
      "execution_count": 9,
      "outputs": [
        {
          "output_type": "stream",
          "name": "stdout",
          "text": [
            "Enter a length in centimeters: 30\n",
            "The length in inches is:  11.811023622047244\n"
          ]
        }
      ]
    },
    {
      "cell_type": "markdown",
      "source": [
        "Ask the user to enter a temperature in Celsius. The program should print a message based on the temperature:\n",
        "\n",
        "*   If the temperature is less than -273.15, print that the temperature is invalid because it is below absolute zero.\n",
        "*   If it is exactly -273.15, print that the temperature is absolute 0.\n",
        "*   If the temperature is between -273.15 and 0, print that the temperature is below freezing.\n",
        "*   If it is 0, print that the temperature is at the freezing point.\n",
        "*   If it is between 0 and 100, print that the temperature is in the normal range.\n",
        "*   If it is 100, print that the temperature is at the boiling point.\n",
        "*   If it is above 100, print that the temperature is above the boiling point."
      ],
      "metadata": {
        "id": "zvaDTmuhvNWJ"
      }
    },
    {
      "cell_type": "code",
      "source": [
        "# ask user to enter a temp in Celsius\n",
        "temp = input(\"Enter a temperature in Celsius: \")\n",
        "temp = float(temp)\n",
        "\n",
        "# if temp is < -273.15, print invalid\n",
        "if (temp < -273.15):\n",
        "  print(\"The temperature you enter is invalid because it is below absolute zero\")\n",
        "\n",
        "# if temp is exactly at -273.15, print the temp is at absolute 0\n",
        "elif (temp == -273.15):\n",
        "  print(\"The temperature is at absolute zero\")\n",
        "\n",
        "# if temp is between -273.15 and 0, print \"temp is below freezing\"\n",
        "elif (temp > -273.15 and temp < 0):\n",
        "  print(\"The temperature is below freezing point\")\n",
        "\n",
        "# if 0, print temp is at freezing point\n",
        "elif (temp == 0):\n",
        "  print (\"The temperatur is at freezing point\")\n",
        "\n",
        "# if between 0 and 100, print \"temp is in normal range\"\n",
        "elif (temp > 0 and temp < 100):\n",
        "  print(\"The temperature is in normal range\")\n",
        "\n",
        "# if it is 100, print \"temp is at boiling point\"\n",
        "elif (temp == 100):\n",
        "  print(\"The temperature is at boiling point\")\n",
        "\n",
        "# if it is above 100, print that temp is above boiling point\n",
        "elif (temp > 100):\n",
        "  print(\"The temperature is above boiling point\")"
      ],
      "metadata": {
        "id": "UiCbUIcwvqxO",
        "outputId": "e7bea940-2cb6-4644-f94f-4a8038947cbd",
        "colab": {
          "base_uri": "https://localhost:8080/"
        }
      },
      "execution_count": 19,
      "outputs": [
        {
          "output_type": "stream",
          "name": "stdout",
          "text": [
            "Enter a temperature in Celsius: 100\n",
            "The temperature is at boiling point\n"
          ]
        }
      ]
    },
    {
      "cell_type": "markdown",
      "source": [
        "Write a program that asks the user how many credits they have taken. If they have taken 23 or less, print that the student is a freshman. If they have taken between 24 and 53, print that they are a sophomore. The range for juniors is 54 to 83, and for seniors it is 84 and over."
      ],
      "metadata": {
        "id": "hoczytNLvrnd"
      }
    },
    {
      "cell_type": "code",
      "source": [
        "# ask user how many cridits they have taken\n",
        "credits = input(\"How many credits have you taken? \")\n",
        "credits = int(credits)\n",
        "\n",
        "#if taken 23 or less, print std is freshman\n",
        "if (credits <= 23):\n",
        "  print (\"You are a freshman\")\n",
        "\n",
        "# if taken between 24 and 53, print std are a sophomore\n",
        "elif (credits >= 24 and credits <= 53):\n",
        "  print(\"You are a sophomore\")\n",
        "\n",
        "# if taken between 54 and 83, print \"juniors\"\n",
        "elif (credits >= 54 and credits <= 83):\n",
        "  print(\"You are a Junior\")\n",
        "\n",
        "# if taken 84 and over, print \"seniors\"\n",
        "elif (credits >= 84):\n",
        "  print(\"You are a Senior\")"
      ],
      "metadata": {
        "id": "r8_O-_zLvurf",
        "outputId": "5dd2c5a8-7d6a-4a8f-b6b4-06369f494dd5",
        "colab": {
          "base_uri": "https://localhost:8080/"
        }
      },
      "execution_count": 30,
      "outputs": [
        {
          "output_type": "stream",
          "name": "stdout",
          "text": [
            "How many credits have you taken? 54\n",
            "You are a Junior\n"
          ]
        }
      ]
    },
    {
      "cell_type": "code",
      "source": [],
      "metadata": {
        "id": "o3lnrx0FH3Se"
      },
      "execution_count": 22,
      "outputs": []
    }
  ]
}
